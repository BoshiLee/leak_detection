{
 "cells": [
  {
   "cell_type": "code",
   "source": [
    "from tqdm import tqdm\n",
    "import os\n",
    "import shutil\n",
    "\n",
    "# 定義根目錄\n",
    "root_dir = 'dataset'  # 根據你的情況，調整根目錄的名稱\n",
    "leak_dir = 'training_data/leak'\n",
    "no_leak_dir = 'training_data/no-leak'\n",
    "\n",
    "# 創建目標目錄\n",
    "os.makedirs(leak_dir, exist_ok=True)\n",
    "os.makedirs(no_leak_dir, exist_ok=True)\n",
    "\n",
    "# 遍歷各個區處\n",
    "for area in os.listdir(root_dir):\n",
    "    area_path = os.path.join(root_dir, area)\n",
    "    if os.path.isdir(area_path):  # 確認是資料夾\n",
    "        # 遍歷區處內的資料夾\n",
    "        for folder in os.listdir(area_path):\n",
    "            folder_path = os.path.join(area_path, folder)\n",
    "            if os.path.isdir(folder_path) and folder.isdigit():  # 確認是資料夾且資料夾名稱是數字\n",
    "                # 將資料夾名稱轉為整數\n",
    "                folder_num = int(folder)\n",
    "                if folder_num < 30 or folder_num > 80 or folder_num == 50: # 過濾 < 30, > 80, = 50 的資料夾 ，只處理 30 ~ 80 的資料夾\n",
    "                    continue\n",
    "                # 遍歷該資料夾內的子資料夾\n",
    "                for subfolder in tqdm(os.listdir(folder_path), desc=f'處理 {area_path}-{folder}'):\n",
    "                    subfolder_path = os.path.join(folder_path, subfolder)\n",
    "                    if os.path.isdir(subfolder_path):  # 確認是子資料夾\n",
    "                        # 遍歷子資料夾內的檔案\n",
    "                        for file in os.listdir(subfolder_path):\n",
    "                            # 只處理 .wav 和 .WAV 檔案\n",
    "                            \n",
    "                            if file.endswith(('.wav', '.WAV')):\n",
    "                                file_path = os.path.join(subfolder_path, file)\n",
    "                                # 判斷資料夾名稱來分類\n",
    "                                if folder_num >= 60:\n",
    "                                    target_dir = leak_dir\n",
    "                                if folder_num <= 40:\n",
    "                                    target_dir = no_leak_dir\n",
    "                                \n",
    "                                # 新的檔名格式：裝置名稱 (subfolder) + rate_(folder_num) + 原檔名\n",
    "                                new_file_name = f\"{subfolder}_rate_{folder_num}_{file}\"\n",
    "                                new_file_path = os.path.join(target_dir, new_file_name)\n",
    "                                \n",
    "                                # 複製並重新命名檔案到相應的目標資料夾\n",
    "                                shutil.copy(file_path, new_file_path)\n"
   ],
   "metadata": {
    "collapsed": false,
    "ExecuteTime": {
     "end_time": "2024-11-07T07:11:26.569579Z",
     "start_time": "2024-11-07T07:11:05.923751Z"
    }
   },
   "id": "be5c8eeba7d12362",
   "outputs": [
    {
     "name": "stderr",
     "output_type": "stream",
     "text": [
      "處理 dataset\\三區處-30: 100%|██████████| 4/4 [00:05<00:00,  1.31s/it]\n",
      "處理 dataset\\三區處-40: 100%|██████████| 4/4 [00:04<00:00,  1.02s/it]\n",
      "處理 dataset\\三區處-60: 100%|██████████| 3/3 [00:02<00:00,  1.31it/s]\n",
      "處理 dataset\\三區處-70: 100%|██████████| 3/3 [00:01<00:00,  2.65it/s]\n",
      "處理 dataset\\三區處-80: 100%|██████████| 2/2 [00:00<00:00,  2.64it/s]\n",
      "處理 dataset\\五區處-30: 100%|██████████| 2/2 [00:01<00:00,  1.77it/s]\n",
      "處理 dataset\\五區處-40: 100%|██████████| 2/2 [00:01<00:00,  1.32it/s]\n",
      "處理 dataset\\五區處-60: 100%|██████████| 2/2 [00:00<00:00, 22.98it/s]\n",
      "處理 dataset\\五區處-70: 100%|██████████| 1/1 [00:00<00:00, 54.27it/s]\n",
      "處理 dataset\\五區處-80: 0it [00:00, ?it/s]\n",
      "處理 dataset\\十一區處-30: 100%|██████████| 2/2 [00:01<00:00,  1.95it/s]\n",
      "處理 dataset\\十一區處-40: 100%|██████████| 2/2 [00:00<00:00,  2.26it/s]\n",
      "處理 dataset\\十一區處-60: 100%|██████████| 1/1 [00:00<00:00,  9.02it/s]\n",
      "處理 dataset\\十一區處-70: 100%|██████████| 1/1 [00:00<00:00, 28.53it/s]\n",
      "處理 dataset\\十一區處-80: 0it [00:00, ?it/s]\n",
      "處理 dataset\\四區處-30: 100%|██████████| 3/3 [00:00<00:00,  3.73it/s]\n",
      "處理 dataset\\四區處-40: 100%|██████████| 3/3 [00:01<00:00,  2.68it/s]\n",
      "處理 dataset\\四區處-60: 100%|██████████| 3/3 [00:00<00:00, 12.30it/s]\n",
      "處理 dataset\\四區處-70: 100%|██████████| 3/3 [00:00<00:00, 27.58it/s]\n",
      "處理 dataset\\四區處-80: 100%|██████████| 2/2 [00:00<00:00, 111.29it/s]\n"
     ]
    }
   ],
   "execution_count": 4
  },
  {
   "cell_type": "code",
   "source": [],
   "metadata": {
    "collapsed": false,
    "ExecuteTime": {
     "end_time": "2024-11-07T01:46:15.103504Z",
     "start_time": "2024-11-07T01:46:15.092867Z"
    }
   },
   "id": "b02c86da2d19a17a",
   "outputs": [],
   "execution_count": null
  }
 ],
 "metadata": {
  "kernelspec": {
   "display_name": "Python 3",
   "language": "python",
   "name": "python3"
  },
  "language_info": {
   "codemirror_mode": {
    "name": "ipython",
    "version": 2
   },
   "file_extension": ".py",
   "mimetype": "text/x-python",
   "name": "python",
   "nbconvert_exporter": "python",
   "pygments_lexer": "ipython2",
   "version": "2.7.6"
  }
 },
 "nbformat": 4,
 "nbformat_minor": 5
}
