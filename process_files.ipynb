{
 "cells": [
  {
   "cell_type": "code",
   "source": [
    "from tqdm import tqdm\n",
    "import os\n",
    "import shutil\n",
    "\n",
    "# 定義根目錄\n",
    "root_dir = 'dataset'  # 根據你的情況，調整根目錄的名稱\n",
    "leak_dir = 'training_data/Leak'\n",
    "no_leak_dir = 'training_data/no-leak'\n",
    "\n",
    "# 創建目標目錄\n",
    "os.makedirs(leak_dir, exist_ok=True)\n",
    "os.makedirs(no_leak_dir, exist_ok=True)"
   ],
   "metadata": {
    "collapsed": false,
    "ExecuteTime": {
     "end_time": "2024-11-11T12:13:44.350091Z",
     "start_time": "2024-11-11T12:13:44.331091Z"
    }
   },
   "id": "be5c8eeba7d12362",
   "outputs": [],
   "execution_count": 4
  },
  {
   "cell_type": "code",
   "source": [
    "\n",
    "# 遍歷各個區處\n",
    "for area in os.listdir(root_dir):\n",
    "    area_path = os.path.join(root_dir, area)\n",
    "    if os.path.isdir(area_path):  # 確認是資料夾\n",
    "        # 遍歷區處內的資料夾\n",
    "        for folder in os.listdir(area_path):\n",
    "            folder_path = os.path.join(area_path, folder)\n",
    "            if os.path.isdir(folder_path) and folder.isdigit():  # 確認是資料夾且資料夾名稱是數字\n",
    "                # 將資料夾名稱轉為整數\n",
    "                folder_num = int(folder)\n",
    "                if folder_num < 30 or folder_num > 80 or folder_num == 50: # 過濾 < 30, > 80, = 50 的資料夾 ，只處理 30 ~ 80 的資料夾\n",
    "                    continue\n",
    "                # 遍歷該資料夾內的子資料夾\n",
    "                for subfolder in tqdm(os.listdir(folder_path), desc=f'處理 {area_path}-{folder}'):\n",
    "                    subfolder_path = os.path.join(folder_path, subfolder)\n",
    "                    if os.path.isdir(subfolder_path):  # 確認是子資料夾\n",
    "                        # 遍歷子資料夾內的檔案\n",
    "                        for file in os.listdir(subfolder_path):\n",
    "                            # 只處理 .wav 和 .WAV 檔案\n",
    "                            \n",
    "                            if file.endswith(('.wav', '.WAV')):\n",
    "                                file_path = os.path.join(subfolder_path, file)\n",
    "                                # 判斷資料夾名稱來分類\n",
    "                                if folder_num >= 60:\n",
    "                                    target_dir = leak_dir\n",
    "                                if folder_num <= 40:\n",
    "                                    target_dir = no_leak_dir\n",
    "                                \n",
    "                                # 新的檔名格式：裝置名稱 (subfolder) + rate_(folder_num) + 原檔名\n",
    "                                new_file_name = f\"{subfolder}_rate_{folder_num}_{file}\"\n",
    "                                new_file_path = os.path.join(target_dir, new_file_name)\n",
    "                                \n",
    "                                # print(f'複製 {file_path} 到 {new_file_path}')\n",
    "                                \n",
    "                                # 複製並重新命名檔案到相應的目標資料夾\n",
    "                                shutil.copy(file_path, new_file_path)"
   ],
   "metadata": {
    "collapsed": false,
    "ExecuteTime": {
     "end_time": "2024-11-11T12:13:45.710099Z",
     "start_time": "2024-11-11T12:13:45.317265Z"
    }
   },
   "id": "b02c86da2d19a17a",
   "outputs": [
    {
     "name": "stderr",
     "output_type": "stream",
     "text": [
      "處理 dataset\\ftp-70: 100%|██████████| 20/20 [00:00<00:00, 71.76it/s]\n",
      "處理 dataset\\ftp-80: 100%|██████████| 15/15 [00:00<00:00, 161.08it/s]\n"
     ]
    }
   ],
   "execution_count": 5
  },
  {
   "metadata": {},
   "cell_type": "code",
   "outputs": [],
   "execution_count": null,
   "source": "",
   "id": "e1ff09ab7c434967"
  }
 ],
 "metadata": {
  "kernelspec": {
   "display_name": "Python 3",
   "language": "python",
   "name": "python3"
  },
  "language_info": {
   "codemirror_mode": {
    "name": "ipython",
    "version": 2
   },
   "file_extension": ".py",
   "mimetype": "text/x-python",
   "name": "python",
   "nbconvert_exporter": "python",
   "pygments_lexer": "ipython2",
   "version": "2.7.6"
  }
 },
 "nbformat": 4,
 "nbformat_minor": 5
}
