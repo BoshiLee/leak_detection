{
 "cells": [
  {
   "metadata": {
    "ExecuteTime": {
     "end_time": "2024-11-12T06:51:37.727682Z",
     "start_time": "2024-11-12T06:51:34.158977Z"
    }
   },
   "cell_type": "code",
   "source": [
    "from datetime import datetime\n",
    "import librosa.display\n",
    "import os\n",
    "import librosa\n",
    "import numpy as np\n",
    "from sklearn.model_selection import train_test_split\n",
    "import random\n"
   ],
   "id": "c9272ced716478d7",
   "outputs": [],
   "execution_count": 1
  },
  {
   "metadata": {},
   "cell_type": "markdown",
   "source": "# 1. 資料加載與標記",
   "id": "a6fb182aae4eb89"
  },
  {
   "cell_type": "code",
   "id": "initial_id",
   "metadata": {
    "collapsed": true,
    "ExecuteTime": {
     "end_time": "2024-11-12T06:51:37.758547Z",
     "start_time": "2024-11-12T06:51:37.735666Z"
    }
   },
   "source": [
    "def load_segmented_files(directory, target_sr=4800):\n",
    "    wav_files = []\n",
    "    leak_wav_files = []\n",
    "    print(f\"共有 {len(os.listdir(directory))} 個資料夾\")\n",
    "    for dir in os.listdir(directory):\n",
    "        if not os.path.isdir(os.path.join(directory, dir)):\n",
    "            continue\n",
    "        print(f\"正在處理 {dir} 資料夾，共有 {len(os.listdir(os.path.join(directory, dir)))} 個檔案\")\n",
    "        for file in tqdm(os.listdir(os.path.join(directory, dir))):\n",
    "            if not file.endswith(\".wav\"):\n",
    "                continue\n",
    "            file_path = os.path.join(directory, dir, file)\n",
    "            y, sr = librosa.load(file_path, sr=None, mono=True)\n",
    "            if sr != target_sr:\n",
    "                    y = librosa.resample(y, orig_sr=sr, target_sr=target_sr)\n",
    "            filename = f'{dir}_{file}'\n",
    "            # y_filt = bandpass_filter(y, sr=target_sr, lowcut=10, highcut=1500)\n",
    "            if 'Leak' in dir:\n",
    "                leak_wav_files.append((y, target_sr, filename))\n",
    "            else:\n",
    "                wav_files.append((y, target_sr, filename))\n",
    "    print(f\"共有 {len(wav_files) + len(leak_wav_files)} 個 wav 檔案，其中 {len(leak_wav_files)} 個有泄漏，{len(wav_files)} 個沒有泄漏\")\n",
    "    return wav_files, leak_wav_files \n",
    "\n",
    "\n",
    "# 比較數量，均衡資料\n",
    "def balance_shuffle_data(wav_files, leak_wav_files):\n",
    "    min_count = min(len(wav_files), len(leak_wav_files))\n",
    "    wav_files = random.sample(wav_files, min_count)\n",
    "    leak_wav_files = random.sample(leak_wav_files, min_count)\n",
    "    \n",
    "    print(f\"均衡後的樣本數: {min_count}\")\n",
    "    return wav_files, leak_wav_files\n",
    "\n",
    "\n",
    "def create_dataset(directory):\n",
    "    wav_files, leak_wav_files = load_segmented_files(directory)\n",
    "    wav_files, leak_wav_files = balance_shuffle_data(wav_files, leak_wav_files)\n",
    "    \n",
    "    # 將資料轉為 NumPy 格式\n",
    "    X = []\n",
    "    y = []\n",
    "    \n",
    "    for audio, sr, filename in wav_files:\n",
    "        X.append((audio, sr))\n",
    "        y.append(0)  # wav_files 標記為 0\n",
    "    \n",
    "    for audio, sr, filename in leak_wav_files:\n",
    "        X.append((audio, sr))\n",
    "        y.append(1)  # leak_wav_files 標記為 1\n",
    "    \n",
    "    np.bincount(y)\n",
    "    return np.array(X, dtype=object), np.array(y)\n"
   ],
   "outputs": [],
   "execution_count": 2
  },
  {
   "metadata": {},
   "cell_type": "markdown",
   "source": "# 2. 特徵提取與資料預處理",
   "id": "b7788a5b8d4c0b5d"
  },
  {
   "metadata": {
    "ExecuteTime": {
     "end_time": "2024-11-12T06:51:43.112325Z",
     "start_time": "2024-11-12T06:51:37.900890Z"
    }
   },
   "cell_type": "code",
   "source": [
    "from tqdm import tqdm\n",
    "from data_preprocess import extract_features, extract_stft_features\n",
    "\n",
    "def preprocess_data(X, desired_time=2.0, n_mels=128, n_fft=2048, hop_length=512):\n",
    "    features = []\n",
    "    for audio, sr in tqdm(X):\n",
    "        feature = extract_features(audio, sr, desired_time=desired_time, n_mels=n_mels, n_fft=n_fft, hop_length=hop_length)\n",
    "        features.append(feature)\n",
    "    return np.array(features)\n"
   ],
   "id": "5cb187713d43dd39",
   "outputs": [],
   "execution_count": 3
  },
  {
   "metadata": {
    "ExecuteTime": {
     "end_time": "2024-11-12T06:51:43.143508Z",
     "start_time": "2024-11-12T06:51:43.129829Z"
    }
   },
   "cell_type": "code",
   "source": [
    "def create_training_data(X,y, desired_time=2.0,  n_mels=128, n_fft=2048, hop_length=512):\n",
    "    \n",
    "    print(f\"總樣本數: {len(X)}\")\n",
    "    print(f\"標籤分佈: {np.bincount(y)}\")\n",
    "    \n",
    "    \n",
    "    X_features = preprocess_data(X, desired_time=desired_time, n_mels= n_mels, n_fft=n_fft, hop_length=hop_length)\n",
    "    \n",
    "    print(f\"特徵形狀: {X_features.shape}\")  # 預期形狀: (樣本數, max_len, n_mels)\n",
    "    \n",
    "    # 正規化特徵\n",
    "    X_features = (X_features - np.mean(X_features)) / np.std(X_features)\n",
    "    \n",
    "    # 擴展維度以符合 CNN 輸入 (樣本數, 高, 寬, 通道)\n",
    "    X_features = np.expand_dims(X_features, -1)  # 新形狀: (樣本數, max_len, n_mels, 1)\n",
    "    \n",
    "    # 分割訓練集與測試集\n",
    "    X_train, X_test, y_train, y_test = train_test_split(X_features, y, test_size=0.2)\n",
    "    \n",
    "    print(f\"訓練集形狀: {X_train.shape}\")\n",
    "    print(f\"測試集形狀: {X_test.shape}\")\n",
    "    \n",
    "    return X_train, X_test, y_train, y_test"
   ],
   "id": "52f0af5743941c11",
   "outputs": [],
   "execution_count": 4
  },
  {
   "metadata": {
    "ExecuteTime": {
     "end_time": "2024-11-12T06:56:48.243741Z",
     "start_time": "2024-11-12T06:51:43.163786Z"
    }
   },
   "cell_type": "code",
   "source": "X, y = create_dataset('raw_train')",
   "id": "825424b5a3c3bd79",
   "outputs": [
    {
     "name": "stdout",
     "output_type": "stream",
     "text": [
      "共有 5 個資料夾\n",
      "正在處理 CurrentSound 資料夾，共有 2429 個檔案\n"
     ]
    },
    {
     "name": "stderr",
     "output_type": "stream",
     "text": [
      "100%|██████████| 2429/2429 [01:35<00:00, 25.43it/s]\n"
     ]
    },
    {
     "name": "stdout",
     "output_type": "stream",
     "text": [
      "正在處理 Environment 資料夾，共有 588 個檔案\n"
     ]
    },
    {
     "name": "stderr",
     "output_type": "stream",
     "text": [
      "100%|██████████| 588/588 [00:32<00:00, 18.01it/s]\n"
     ]
    },
    {
     "name": "stdout",
     "output_type": "stream",
     "text": [
      "正在處理 GAS 資料夾，共有 99 個檔案\n"
     ]
    },
    {
     "name": "stderr",
     "output_type": "stream",
     "text": [
      "100%|██████████| 99/99 [00:08<00:00, 11.46it/s]\n"
     ]
    },
    {
     "name": "stdout",
     "output_type": "stream",
     "text": [
      "正在處理 Leak 資料夾，共有 3629 個檔案\n"
     ]
    },
    {
     "name": "stderr",
     "output_type": "stream",
     "text": [
      "100%|██████████| 3629/3629 [02:41<00:00, 22.47it/s]\n"
     ]
    },
    {
     "name": "stdout",
     "output_type": "stream",
     "text": [
      "正在處理 TrafficSound 資料夾，共有 129 個檔案\n"
     ]
    },
    {
     "name": "stderr",
     "output_type": "stream",
     "text": [
      "100%|██████████| 129/129 [00:06<00:00, 19.19it/s]"
     ]
    },
    {
     "name": "stdout",
     "output_type": "stream",
     "text": [
      "共有 6874 個 wav 檔案，其中 3629 個有泄漏，3245 個沒有泄漏\n",
      "均衡後的樣本數: 3245\n"
     ]
    },
    {
     "name": "stderr",
     "output_type": "stream",
     "text": [
      "\n"
     ]
    }
   ],
   "execution_count": 5
  },
  {
   "metadata": {
    "ExecuteTime": {
     "end_time": "2024-11-12T06:57:24.761392Z",
     "start_time": "2024-11-12T06:56:48.454462Z"
    }
   },
   "cell_type": "code",
   "source": "X_train, X_test, y_train, y_test = create_training_data(X, y, desired_time=2.0, n_mels=120, n_fft=2048, hop_length=64)",
   "id": "bd7b7beb007bb659",
   "outputs": [
    {
     "name": "stdout",
     "output_type": "stream",
     "text": [
      "總樣本數: 6490\n",
      "標籤分佈: [3245 3245]\n"
     ]
    },
    {
     "name": "stderr",
     "output_type": "stream",
     "text": [
      "100%|██████████| 6490/6490 [00:35<00:00, 183.10it/s]\n"
     ]
    },
    {
     "name": "stdout",
     "output_type": "stream",
     "text": [
      "特徵形狀: (6490, 152, 120)\n",
      "訓練集形狀: (5192, 152, 120, 1)\n",
      "測試集形狀: (1298, 152, 120, 1)\n"
     ]
    }
   ],
   "execution_count": 6
  },
  {
   "metadata": {},
   "cell_type": "markdown",
   "source": "# 3. 建立 CNN 模型",
   "id": "55e34253937c671f"
  },
  {
   "metadata": {
    "ExecuteTime": {
     "end_time": "2024-11-12T06:57:24.823931Z",
     "start_time": "2024-11-12T06:57:24.810875Z"
    }
   },
   "cell_type": "code",
   "source": [
    "from keras.layers import BatchNormalization\n",
    "import tensorflow as tf\n",
    "from tensorflow.keras.models import Sequential\n",
    "from tensorflow.keras.layers import Conv2D, MaxPooling2D, Flatten, Dense, Dropout\n",
    "\n",
    "def create_cnn_model(input_shape):\n",
    "    \n",
    "    optimizer = tf.keras.optimizers.Adam(learning_rate=0.001)\n",
    "    \n",
    "    input_img = tf.keras.layers.Input(shape=input_shape)\n",
    " \n",
    "    x = Conv2D(32, (3, 3), activation='relu', padding='same')(input_img)\n",
    "    x = MaxPooling2D((2, 2), padding='same')(x)\n",
    "    x = Dropout(0.2)(x)\n",
    "    \n",
    "    x = Conv2D(32, (3, 3), activation='relu', padding='same')(x)\n",
    "    x = MaxPooling2D((2, 2), padding='same')(x)\n",
    "    x = Dropout(0.2)(x)\n",
    "    \n",
    "    x = Conv2D(64, (3, 3), activation='relu', padding='same')(x)\n",
    "    x = MaxPooling2D((2, 2), padding='same')(x)\n",
    "    x = Dropout(0.2)(x)\n",
    "    \n",
    "    x = Conv2D(128, (3, 3), activation='relu', padding='same')(x)\n",
    "    x = MaxPooling2D((2, 2), padding='same')(x)\n",
    "    x = Dropout(0.2)(x)\n",
    "    \n",
    "    x = Conv2D(256, (3, 3), activation='relu', padding='same')(x)\n",
    "    x = MaxPooling2D((2, 2), padding='same')(x)\n",
    "    x = Dropout(0.2)(x)\n",
    "\n",
    "    x = Flatten()(x)\n",
    "    x = Dense(128, activation='relu')(x)\n",
    "    x = Dense(64, activation='relu')(x)\n",
    "    x = Dense(32, activation='relu')(x)\n",
    "    x = Dense(16, activation='relu')(x)\n",
    "    x = Dropout(0.1)(x)\n",
    "    x = Dense(1, activation='sigmoid')(x)\n",
    "    \n",
    "    model = tf.keras.Model(inputs=input_img, outputs=x)\n",
    "    model.compile(optimizer=optimizer, loss='binary_crossentropy', metrics=['accuracy'])\n",
    "\n",
    "    return model\n"
   ],
   "id": "e5d13120a6048b8e",
   "outputs": [],
   "execution_count": 7
  },
  {
   "metadata": {
    "ExecuteTime": {
     "end_time": "2024-11-12T06:57:24.870628Z",
     "start_time": "2024-11-12T06:57:24.856662Z"
    }
   },
   "cell_type": "code",
   "source": [
    "def create_model(mockup_input):    \n",
    "    # 建立模型\n",
    "    input_shape = (mockup_input.shape[1], mockup_input.shape[2], 1)\n",
    "    print(f\"模型輸入形狀: {input_shape}\")\n",
    "    model = create_cnn_model(input_shape)\n",
    "    model.summary()\n",
    "    return model"
   ],
   "id": "a4ffc4a61f8a1c24",
   "outputs": [],
   "execution_count": 8
  },
  {
   "metadata": {},
   "cell_type": "markdown",
   "source": "# 4. 訓練模型",
   "id": "48f4e3f68035b7dc"
  },
  {
   "metadata": {
    "ExecuteTime": {
     "end_time": "2024-11-12T06:57:24.918721Z",
     "start_time": "2024-11-12T06:57:24.903737Z"
    }
   },
   "cell_type": "code",
   "source": [
    "from keras.callbacks import EarlyStopping, ReduceLROnPlateau\n",
    "\n",
    "\n",
    "def train_model(model, X_train, X_test, y_train, y_test, epochs=30, batch_size=32):\n",
    "        # 訓練模型\n",
    "        \n",
    "    early_stopping = EarlyStopping(monitor='val_loss', patience=35, restore_best_weights=True, verbose=1)\n",
    "    reduce_lr = ReduceLROnPlateau(monitor='val_loss', factor=0.1, patience=10, verbose=1)\n",
    "        \n",
    "    history = model.fit(   \n",
    "        X_train, y_train,\n",
    "        epochs=epochs,\n",
    "        batch_size=batch_size,\n",
    "        validation_data=(X_test, y_test),\n",
    "        shuffle=True,\n",
    "        callbacks=[early_stopping, reduce_lr],\n",
    "        verbose=2\n",
    "    )\n",
    "    \n",
    "    # 評估模型\n",
    "    test_loss, test_accuracy = model.evaluate(X_test, y_test)\n",
    "    print(f\"Test loss: {test_loss:.4f}\")\n",
    "    print(f\"Test accuracy: {test_accuracy:.2f}\")\n",
    "    \n",
    "    return model, history"
   ],
   "id": "2658a06f4a9db7e7",
   "outputs": [],
   "execution_count": 9
  },
  {
   "metadata": {
    "ExecuteTime": {
     "end_time": "2024-11-12T06:57:24.965765Z",
     "start_time": "2024-11-12T06:57:24.951758Z"
    }
   },
   "cell_type": "code",
   "source": [
    "def evaluate_model(model, X_test, y_test):\n",
    "    test_loss, test_accuracy = model.evaluate(X_test, y_test)\n",
    "    print(f\"Test loss: {test_loss:.4f}\")\n",
    "    print(f\"Test accuracy: {test_accuracy:.2f}\")"
   ],
   "id": "eb722b82e90ac3d",
   "outputs": [],
   "execution_count": 10
  },
  {
   "metadata": {
    "ExecuteTime": {
     "end_time": "2024-11-12T06:57:25.971307Z",
     "start_time": "2024-11-12T06:57:24.997731Z"
    }
   },
   "cell_type": "code",
   "source": "cnn_model = create_model(X_train)",
   "id": "496ecf15e0c42ddf",
   "outputs": [
    {
     "name": "stdout",
     "output_type": "stream",
     "text": [
      "模型輸入形狀: (152, 120, 1)\n",
      "Model: \"model\"\n",
      "_________________________________________________________________\n",
      " Layer (type)                Output Shape              Param #   \n",
      "=================================================================\n",
      " input_1 (InputLayer)        [(None, 152, 120, 1)]     0         \n",
      "                                                                 \n",
      " conv2d (Conv2D)             (None, 152, 120, 32)      320       \n",
      "                                                                 \n",
      " max_pooling2d (MaxPooling2D  (None, 76, 60, 32)       0         \n",
      " )                                                               \n",
      "                                                                 \n",
      " dropout (Dropout)           (None, 76, 60, 32)        0         \n",
      "                                                                 \n",
      " conv2d_1 (Conv2D)           (None, 76, 60, 32)        9248      \n",
      "                                                                 \n",
      " max_pooling2d_1 (MaxPooling  (None, 38, 30, 32)       0         \n",
      " 2D)                                                             \n",
      "                                                                 \n",
      " dropout_1 (Dropout)         (None, 38, 30, 32)        0         \n",
      "                                                                 \n",
      " conv2d_2 (Conv2D)           (None, 38, 30, 64)        18496     \n",
      "                                                                 \n",
      " max_pooling2d_2 (MaxPooling  (None, 19, 15, 64)       0         \n",
      " 2D)                                                             \n",
      "                                                                 \n",
      " dropout_2 (Dropout)         (None, 19, 15, 64)        0         \n",
      "                                                                 \n",
      " conv2d_3 (Conv2D)           (None, 19, 15, 128)       73856     \n",
      "                                                                 \n",
      " max_pooling2d_3 (MaxPooling  (None, 10, 8, 128)       0         \n",
      " 2D)                                                             \n",
      "                                                                 \n",
      " dropout_3 (Dropout)         (None, 10, 8, 128)        0         \n",
      "                                                                 \n",
      " conv2d_4 (Conv2D)           (None, 10, 8, 256)        295168    \n",
      "                                                                 \n",
      " max_pooling2d_4 (MaxPooling  (None, 5, 4, 256)        0         \n",
      " 2D)                                                             \n",
      "                                                                 \n",
      " dropout_4 (Dropout)         (None, 5, 4, 256)         0         \n",
      "                                                                 \n",
      " flatten (Flatten)           (None, 5120)              0         \n",
      "                                                                 \n",
      " dense (Dense)               (None, 128)               655488    \n",
      "                                                                 \n",
      " dense_1 (Dense)             (None, 64)                8256      \n",
      "                                                                 \n",
      " dense_2 (Dense)             (None, 32)                2080      \n",
      "                                                                 \n",
      " dense_3 (Dense)             (None, 16)                528       \n",
      "                                                                 \n",
      " dropout_5 (Dropout)         (None, 16)                0         \n",
      "                                                                 \n",
      " dense_4 (Dense)             (None, 1)                 17        \n",
      "                                                                 \n",
      "=================================================================\n",
      "Total params: 1,063,457\n",
      "Trainable params: 1,063,457\n",
      "Non-trainable params: 0\n",
      "_________________________________________________________________\n"
     ]
    }
   ],
   "execution_count": 11
  },
  {
   "metadata": {
    "ExecuteTime": {
     "end_time": "2024-11-12T07:01:42.737459Z",
     "start_time": "2024-11-12T07:01:31.518242Z"
    }
   },
   "cell_type": "code",
   "source": "model, history = train_model(cnn_model, X_train, X_test, y_train, y_test, epochs=100, batch_size=64)",
   "id": "4c22f7b3db3499d5",
   "outputs": [
    {
     "name": "stdout",
     "output_type": "stream",
     "text": [
      "Epoch 1/100\n",
      "82/82 - 2s - loss: 0.1304 - accuracy: 0.9495 - val_loss: 0.2434 - val_accuracy: 0.8968 - lr: 1.0000e-06 - 2s/epoch - 28ms/step\n",
      "Epoch 2/100\n",
      "82/82 - 2s - loss: 0.1276 - accuracy: 0.9520 - val_loss: 0.2441 - val_accuracy: 0.8975 - lr: 1.0000e-06 - 2s/epoch - 27ms/step\n",
      "Epoch 3/100\n",
      "82/82 - 2s - loss: 0.1211 - accuracy: 0.9563 - val_loss: 0.2454 - val_accuracy: 0.8998 - lr: 1.0000e-06 - 2s/epoch - 28ms/step\n",
      "Epoch 4/100\n",
      "82/82 - 2s - loss: 0.1242 - accuracy: 0.9576 - val_loss: 0.2472 - val_accuracy: 0.8983 - lr: 1.0000e-06 - 2s/epoch - 27ms/step\n",
      "Epoch 5/100\n"
     ]
    },
    {
     "name": "stderr",
     "output_type": "stream",
     "text": [
      "\n",
      "KeyboardInterrupt\n",
      "\n"
     ]
    }
   ],
   "execution_count": 16
  },
  {
   "metadata": {
    "ExecuteTime": {
     "end_time": "2024-11-12T07:01:56.365651Z",
     "start_time": "2024-11-12T07:01:55.849990Z"
    }
   },
   "cell_type": "code",
   "source": [
    "evaluate_model(cnn_model, X_test, y_test)\n",
    "history.history['val_accuracy'][-1]"
   ],
   "id": "34386cec81d6a2d4",
   "outputs": [
    {
     "name": "stdout",
     "output_type": "stream",
     "text": [
      "41/41 [==============================] - 0s 5ms/step - loss: 0.2490 - accuracy: 0.8998\n",
      "Test loss: 0.2490\n",
      "Test accuracy: 0.90\n"
     ]
    },
    {
     "data": {
      "text/plain": [
       "0.9067796468734741"
      ]
     },
     "execution_count": 17,
     "metadata": {},
     "output_type": "execute_result"
    }
   ],
   "execution_count": 17
  },
  {
   "metadata": {
    "ExecuteTime": {
     "end_time": "2024-11-12T07:04:52.246971Z",
     "start_time": "2024-11-12T07:04:52.173255Z"
    }
   },
   "cell_type": "code",
   "source": [
    "date = datetime.now().strftime('%Y%m%d%H%M')\n",
    "val_acc = history.history['val_accuracy'][-1]\n",
    "model.save(f'model_mel_{date}_acc_{val_acc:.2f}.h5')\n",
    "print(f\"Model saved as model_mel_{date}_acc_{val_acc:.2f}.h5\")"
   ],
   "id": "551ff463bcaf8093",
   "outputs": [
    {
     "name": "stdout",
     "output_type": "stream",
     "text": [
      "Model saved as model_mel_202411121504_acc_0.91.h5\n"
     ]
    }
   ],
   "execution_count": 19
  },
  {
   "metadata": {
    "ExecuteTime": {
     "end_time": "2024-11-12T07:04:54.318076Z",
     "start_time": "2024-11-12T07:04:54.164523Z"
    }
   },
   "cell_type": "code",
   "source": [
    "import matplotlib.pyplot as plt\n",
    "plt.plot(history.history['loss'])\n",
    "plt.plot(history.history['val_loss'])\n",
    "plt.title('Model loss')\n",
    "plt.ylabel('Loss')\n",
    "plt.xlabel('Epoch')\n",
    "plt.legend(['Train', 'Test'], loc='upper right')\n",
    "plt.savefig(f'model_mel_loss_{date}_acc_{val_acc:.2f}.png')\n",
    "plt.show()"
   ],
   "id": "70c5f696df14eef",
   "outputs": [
    {
     "data": {
      "text/plain": [
       "<Figure size 640x480 with 1 Axes>"
      ],
      "image/png": "[encoded data removed]"
     },
     "metadata": {},
     "output_type": "display_data"
    }
   ],
   "execution_count": 20
  },
  {
   "metadata": {
    "ExecuteTime": {
     "end_time": "2024-11-12T06:59:54.032602Z",
     "start_time": "2024-11-12T06:59:54.019235Z"
    }
   },
   "cell_type": "code",
   "source": "",
   "id": "77144cb141ef9e4a",
   "outputs": [],
   "execution_count": null
  }
 ],
 "metadata": {
  "kernelspec": {
   "display_name": "Python 3",
   "language": "python",
   "name": "python3"
  },
  "language_info": {
   "codemirror_mode": {
    "name": "ipython",
    "version": 2
   },
   "file_extension": ".py",
   "mimetype": "text/x-python",
   "name": "python",
   "nbconvert_exporter": "python",
   "pygments_lexer": "ipython2",
   "version": "2.7.6"
  }
 },
 "nbformat": 4,
 "nbformat_minor": 5
}
