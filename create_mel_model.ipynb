{
 "cells": [
  {
   "metadata": {
    "ExecuteTime": {
     "end_time": "2024-11-07T03:03:30.257889Z",
     "start_time": "2024-11-07T03:03:26.206736Z"
    }
   },
   "cell_type": "code",
   "source": [
    "from datetime import datetime\n",
    "\n",
    "import librosa.display\n",
    "import os\n",
    "import librosa\n",
    "import numpy as np\n",
    "from sklearn.model_selection import train_test_split\n",
    "import random\n"
   ],
   "id": "c9272ced716478d7",
   "outputs": [],
   "execution_count": 1
  },
  {
   "metadata": {},
   "cell_type": "markdown",
   "source": "# 1. 資料加載與標記",
   "id": "a6fb182aae4eb89"
  },
  {
   "cell_type": "code",
   "id": "initial_id",
   "metadata": {
    "collapsed": true,
    "ExecuteTime": {
     "end_time": "2024-11-07T03:03:30.276301Z",
     "start_time": "2024-11-07T03:03:30.258036Z"
    }
   },
   "source": [
    "def load_segmented_files(directory, target_sr=48000):\n",
    "    wav_files = []\n",
    "    leak_wav_files = []\n",
    "    for dir in os.listdir(directory):\n",
    "        if not os.path.isdir(os.path.join(directory, dir)):\n",
    "            continue\n",
    "        for file in os.listdir(os.path.join(directory, dir)):\n",
    "            if not file.endswith(\".wav\"):\n",
    "                continue\n",
    "            file_path = os.path.join(directory, dir, file)\n",
    "            y, sr = librosa.load(file_path, sr=None)\n",
    "            if sr != target_sr:\n",
    "                    y = librosa.resample(y, orig_sr=sr, target_sr=target_sr)\n",
    "            filename = f'{dir}_{file}'\n",
    "            if 'no-leak' in dir:\n",
    "                wav_files.append((y, target_sr, filename))\n",
    "            else:\n",
    "                leak_wav_files.append((y, target_sr, filename))\n",
    "    print(f\"共有 {len(wav_files) + len(leak_wav_files)} 個 wav 檔案，其中 {len(leak_wav_files)} 個有泄漏，{len(wav_files)} 個沒有泄漏\")\n",
    "    return wav_files, leak_wav_files \n",
    "\n",
    "\n",
    "# 比較數量，均衡資料\n",
    "def balance_shuffle_data(wav_files, leak_wav_files):\n",
    "    min_count = min(len(wav_files), len(leak_wav_files))\n",
    "    wav_files = random.sample(wav_files, min_count)\n",
    "    leak_wav_files = random.sample(leak_wav_files, min_count)\n",
    "    \n",
    "    print(f\"均衡後的樣本數: {min_count}\")\n",
    "    return wav_files, leak_wav_files\n",
    "\n",
    "\n",
    "def create_dataset(directory):\n",
    "    wav_files, leak_wav_files = load_segmented_files(directory)\n",
    "    wav_files, leak_wav_files = balance_shuffle_data(wav_files, leak_wav_files)\n",
    "    \n",
    "    # 將資料轉為 NumPy 格式\n",
    "    X = []\n",
    "    y = []\n",
    "    \n",
    "    for audio, sr, filename in wav_files:\n",
    "        X.append((audio, sr))\n",
    "        y.append(0)  # wav_files 標記為 0\n",
    "    \n",
    "    for audio, sr, filename in leak_wav_files:\n",
    "        X.append((audio, sr))\n",
    "        y.append(1)  # leak_wav_files 標記為 1\n",
    "    \n",
    "    return np.array(X, dtype=object), np.array(y)\n"
   ],
   "outputs": [],
   "execution_count": 2
  },
  {
   "metadata": {},
   "cell_type": "markdown",
   "source": "# 2. 特徵提取與資料預處理",
   "id": "b7788a5b8d4c0b5d"
  },
  {
   "metadata": {
    "ExecuteTime": {
     "end_time": "2024-11-07T03:03:37.541846Z",
     "start_time": "2024-11-07T03:03:30.446203Z"
    }
   },
   "cell_type": "code",
   "source": [
    "from tqdm import tqdm\n",
    "from data_preprocess import extract_features, extract_stft_features\n",
    "\n",
    "def preprocess_data(X, desired_time=2.0, n_mels=128, n_fft=2048, hop_length=512):\n",
    "    features = []\n",
    "    for audio, sr in tqdm(X):\n",
    "        feature = extract_features(audio, sr, desired_time=desired_time, n_mels=n_mels, n_fft=n_fft, hop_length=hop_length)\n",
    "        features.append(feature)\n",
    "    return np.array(features)\n"
   ],
   "id": "5cb187713d43dd39",
   "outputs": [],
   "execution_count": 3
  },
  {
   "metadata": {
    "ExecuteTime": {
     "end_time": "2024-11-07T03:03:37.575350Z",
     "start_time": "2024-11-07T03:03:37.561409Z"
    }
   },
   "cell_type": "code",
   "source": [
    "def create_training_data(X,y, desired_time=2.0,  n_mels=128, n_fft=2048, hop_length=512):\n",
    "    \n",
    "    print(f\"總樣本數: {len(X)}\")\n",
    "    print(f\"標籤分佈: {np.bincount(y)}\")\n",
    "    \n",
    "    \n",
    "    X_features = preprocess_data(X, desired_time=desired_time, n_mels= n_mels, n_fft=n_fft, hop_length=hop_length)\n",
    "    \n",
    "    print(f\"特徵形狀: {X_features.shape}\")  # 預期形狀: (樣本數, max_len, n_mels)\n",
    "    \n",
    "    # 正規化特徵\n",
    "    X_features = (X_features - np.mean(X_features)) / np.std(X_features)\n",
    "    \n",
    "    # 擴展維度以符合 CNN 輸入 (樣本數, 高, 寬, 通道)\n",
    "    X_features = np.expand_dims(X_features, -1)  # 新形狀: (樣本數, max_len, n_mels, 1)\n",
    "    \n",
    "    # 分割訓練集與測試集\n",
    "    X_train, X_test, y_train, y_test = train_test_split(X_features, y, test_size=0.2)\n",
    "    \n",
    "    print(f\"訓練集形狀: {X_train.shape}\")\n",
    "    print(f\"測試集形狀: {X_test.shape}\")\n",
    "    \n",
    "    return X_train, X_test, y_train, y_test"
   ],
   "id": "52f0af5743941c11",
   "outputs": [],
   "execution_count": 4
  },
  {
   "metadata": {
    "ExecuteTime": {
     "end_time": "2024-11-07T03:04:27.388191Z",
     "start_time": "2024-11-07T03:03:37.592778Z"
    }
   },
   "cell_type": "code",
   "source": "X, y = create_dataset('training_data')",
   "id": "825424b5a3c3bd79",
   "outputs": [
    {
     "name": "stdout",
     "output_type": "stream",
     "text": [
      "共有 13222 個 wav 檔案，其中 912 個有泄漏，12310 個沒有泄漏\n",
      "均衡後的樣本數: 912\n"
     ]
    }
   ],
   "execution_count": 5
  },
  {
   "metadata": {
    "ExecuteTime": {
     "end_time": "2024-11-07T03:04:39.020144Z",
     "start_time": "2024-11-07T03:04:27.461630Z"
    }
   },
   "cell_type": "code",
   "source": "X_train, X_test, y_train, y_test = create_training_data(X, y, desired_time=2.0, n_mels=128, n_fft=2048, hop_length=512)",
   "id": "bd7b7beb007bb659",
   "outputs": [
    {
     "name": "stdout",
     "output_type": "stream",
     "text": [
      "總樣本數: 1824\n",
      "標籤分佈: [912 912]\n"
     ]
    },
    {
     "name": "stderr",
     "output_type": "stream",
     "text": [
      "100%|██████████| 1824/1824 [00:11<00:00, 162.49it/s]\n"
     ]
    },
    {
     "name": "stdout",
     "output_type": "stream",
     "text": [
      "特徵形狀: (1824, 192, 128)\n",
      "訓練集形狀: (1459, 192, 128, 1)\n",
      "測試集形狀: (365, 192, 128, 1)\n"
     ]
    }
   ],
   "execution_count": 6
  },
  {
   "metadata": {},
   "cell_type": "markdown",
   "source": "# 3. 建立 CNN 模型",
   "id": "55e34253937c671f"
  },
  {
   "metadata": {
    "ExecuteTime": {
     "end_time": "2024-11-07T03:42:22.312169Z",
     "start_time": "2024-11-07T03:42:22.288801Z"
    }
   },
   "cell_type": "code",
   "source": [
    "from keras.layers import BatchNormalization\n",
    "import tensorflow as tf\n",
    "from tensorflow.keras.models import Sequential\n",
    "from tensorflow.keras.layers import Conv2D, MaxPooling2D, Flatten, Dense, Dropout\n",
    "\n",
    "def create_cnn_model(input_shape):\n",
    "    \n",
    "    optimizer = tf.keras.optimizers.Adam(learning_rate=0.001)\n",
    "    \n",
    "    input_img = tf.keras.layers.Input(shape=input_shape)\n",
    " \n",
    "    x = Conv2D(32, (3, 3), activation='relu', padding='same')(input_img)\n",
    "    x = MaxPooling2D((2, 2), padding='same')(x)\n",
    "    x = Dropout(0.3)(x)\n",
    "    \n",
    "    x = Conv2D(64, (3, 3), activation='relu', padding='same')(x)\n",
    "    x = MaxPooling2D((2, 2), padding='same')(x)\n",
    "    x = Dropout(0.3)(x)\n",
    "    \n",
    "    x = Conv2D(64, (3, 3), activation='relu', padding='same')(x)\n",
    "    x = MaxPooling2D((2, 2), padding='same')(x)\n",
    "    x = Dropout(0.3)(x)\n",
    "\n",
    "    x = Flatten()(x)\n",
    "    x = Dense(64, activation='relu')(x)\n",
    "    x = Dense(32, activation='relu')(x)\n",
    "    x = Dense(16, activation='relu')(x)\n",
    "    x = Dropout(0.1)(x)\n",
    "    x = Dense(1, activation='sigmoid')(x)\n",
    "    \n",
    "    model = tf.keras.Model(inputs=input_img, outputs=x)\n",
    "    model.compile(optimizer=optimizer, loss='binary_crossentropy', metrics=['accuracy'])\n",
    "\n",
    "    return model\n"
   ],
   "id": "e5d13120a6048b8e",
   "outputs": [],
   "execution_count": 46
  },
  {
   "metadata": {
    "ExecuteTime": {
     "end_time": "2024-11-07T03:25:18.375819Z",
     "start_time": "2024-11-07T03:25:18.358453Z"
    }
   },
   "cell_type": "code",
   "source": [
    "def create_model(mockup_input):    \n",
    "    # 建立模型\n",
    "    input_shape = (mockup_input.shape[1], mockup_input.shape[2], 1)\n",
    "    print(f\"模型輸入形狀: {input_shape}\")\n",
    "    model = create_cnn_model(input_shape)\n",
    "    model.summary()\n",
    "    return model"
   ],
   "id": "a4ffc4a61f8a1c24",
   "outputs": [],
   "execution_count": 37
  },
  {
   "metadata": {},
   "cell_type": "markdown",
   "source": "# 4. 訓練模型",
   "id": "48f4e3f68035b7dc"
  },
  {
   "metadata": {
    "ExecuteTime": {
     "end_time": "2024-11-07T03:25:19.594889Z",
     "start_time": "2024-11-07T03:25:19.577414Z"
    }
   },
   "cell_type": "code",
   "source": [
    "from keras.callbacks import EarlyStopping, ReduceLROnPlateau\n",
    "\n",
    "\n",
    "def train_model(model, X_train, X_test, y_train, y_test, epochs=30, batch_size=32):\n",
    "        # 訓練模型\n",
    "        \n",
    "    early_stopping = EarlyStopping(monitor='val_loss', patience=15, restore_best_weights=True)\n",
    "    reduce_lr = ReduceLROnPlateau(monitor='val_loss', factor=0.1, patience=10, verbose=1)\n",
    "        \n",
    "    history = model.fit(   \n",
    "        X_train, y_train,\n",
    "        epochs=epochs,\n",
    "        batch_size=batch_size,\n",
    "        validation_data=(X_test, y_test),\n",
    "        shuffle=True,\n",
    "        callbacks=[early_stopping, reduce_lr],\n",
    "        verbose=2\n",
    "    )\n",
    "    \n",
    "    # 評估模型\n",
    "    test_loss, test_accuracy = model.evaluate(X_test, y_test)\n",
    "    print(f\"Test loss: {test_loss:.4f}\")\n",
    "    print(f\"Test accuracy: {test_accuracy:.2f}\")\n",
    "    \n",
    "    return model, history"
   ],
   "id": "2658a06f4a9db7e7",
   "outputs": [],
   "execution_count": 38
  },
  {
   "metadata": {
    "ExecuteTime": {
     "end_time": "2024-11-07T03:25:20.505802Z",
     "start_time": "2024-11-07T03:25:20.499215Z"
    }
   },
   "cell_type": "code",
   "source": [
    "def evaluate_model(model, X_test, y_test):\n",
    "    test_loss, test_accuracy = model.evaluate(X_test, y_test)\n",
    "    print(f\"Test loss: {test_loss:.4f}\")\n",
    "    print(f\"Test accuracy: {test_accuracy:.2f}\")"
   ],
   "id": "eb722b82e90ac3d",
   "outputs": [],
   "execution_count": 39
  },
  {
   "metadata": {
    "ExecuteTime": {
     "end_time": "2024-11-07T03:42:30.232705Z",
     "start_time": "2024-11-07T03:42:29.414923Z"
    }
   },
   "cell_type": "code",
   "source": "cnn_model = create_model(X_train)",
   "id": "496ecf15e0c42ddf",
   "outputs": [
    {
     "name": "stdout",
     "output_type": "stream",
     "text": [
      "模型輸入形狀: (192, 128, 1)\n",
      "Model: \"model_6\"\n",
      "_________________________________________________________________\n",
      " Layer (type)                Output Shape              Param #   \n",
      "=================================================================\n",
      " input_7 (InputLayer)        [(None, 192, 128, 1)]     0         \n",
      "                                                                 \n",
      " conv2d_24 (Conv2D)          (None, 192, 128, 32)      320       \n",
      "                                                                 \n",
      " max_pooling2d_24 (MaxPoolin  (None, 96, 64, 32)       0         \n",
      " g2D)                                                            \n",
      "                                                                 \n",
      " dropout_30 (Dropout)        (None, 96, 64, 32)        0         \n",
      "                                                                 \n",
      " conv2d_25 (Conv2D)          (None, 96, 64, 64)        18496     \n",
      "                                                                 \n",
      " max_pooling2d_25 (MaxPoolin  (None, 48, 32, 64)       0         \n",
      " g2D)                                                            \n",
      "                                                                 \n",
      " dropout_31 (Dropout)        (None, 48, 32, 64)        0         \n",
      "                                                                 \n",
      " conv2d_26 (Conv2D)          (None, 48, 32, 64)        36928     \n",
      "                                                                 \n",
      " max_pooling2d_26 (MaxPoolin  (None, 24, 16, 64)       0         \n",
      " g2D)                                                            \n",
      "                                                                 \n",
      " dropout_32 (Dropout)        (None, 24, 16, 64)        0         \n",
      "                                                                 \n",
      " flatten_6 (Flatten)         (None, 24576)             0         \n",
      "                                                                 \n",
      " dense_24 (Dense)            (None, 64)                1572928   \n",
      "                                                                 \n",
      " dense_25 (Dense)            (None, 32)                2080      \n",
      "                                                                 \n",
      " dense_26 (Dense)            (None, 16)                528       \n",
      "                                                                 \n",
      " dropout_33 (Dropout)        (None, 16)                0         \n",
      "                                                                 \n",
      " dense_27 (Dense)            (None, 1)                 17        \n",
      "                                                                 \n",
      "=================================================================\n",
      "Total params: 1,631,297\n",
      "Trainable params: 1,631,297\n",
      "Non-trainable params: 0\n",
      "_________________________________________________________________\n"
     ]
    }
   ],
   "execution_count": 47
  },
  {
   "metadata": {
    "ExecuteTime": {
     "end_time": "2024-11-07T03:43:06.075599Z",
     "start_time": "2024-11-07T03:42:31.858489Z"
    }
   },
   "cell_type": "code",
   "source": "model, history = train_model(cnn_model, X_train, X_test, y_train, y_test, epochs=120)",
   "id": "4c22f7b3db3499d5",
   "outputs": [
    {
     "name": "stdout",
     "output_type": "stream",
     "text": [
      "Epoch 1/120\n",
      "46/46 - 2s - loss: 0.6800 - accuracy: 0.5833 - val_loss: 0.5712 - val_accuracy: 0.6740 - lr: 0.0010 - 2s/epoch - 40ms/step\n",
      "Epoch 2/120\n",
      "46/46 - 1s - loss: 0.5370 - accuracy: 0.7183 - val_loss: 0.5278 - val_accuracy: 0.7370 - lr: 0.0010 - 1s/epoch - 23ms/step\n",
      "Epoch 3/120\n",
      "46/46 - 1s - loss: 0.4285 - accuracy: 0.8012 - val_loss: 0.4625 - val_accuracy: 0.8082 - lr: 0.0010 - 1s/epoch - 23ms/step\n",
      "Epoch 4/120\n",
      "46/46 - 1s - loss: 0.4069 - accuracy: 0.8225 - val_loss: 0.4015 - val_accuracy: 0.8384 - lr: 0.0010 - 1s/epoch - 23ms/step\n",
      "Epoch 5/120\n",
      "46/46 - 1s - loss: 0.3422 - accuracy: 0.8561 - val_loss: 0.3756 - val_accuracy: 0.8356 - lr: 0.0010 - 1s/epoch - 23ms/step\n",
      "Epoch 6/120\n",
      "46/46 - 1s - loss: 0.3455 - accuracy: 0.8581 - val_loss: 0.4487 - val_accuracy: 0.7644 - lr: 0.0010 - 1s/epoch - 23ms/step\n",
      "Epoch 7/120\n",
      "46/46 - 1s - loss: 0.3331 - accuracy: 0.8643 - val_loss: 0.3535 - val_accuracy: 0.8603 - lr: 0.0010 - 1s/epoch - 23ms/step\n",
      "Epoch 8/120\n",
      "46/46 - 1s - loss: 0.3107 - accuracy: 0.8684 - val_loss: 0.3572 - val_accuracy: 0.8411 - lr: 0.0010 - 1s/epoch - 23ms/step\n",
      "Epoch 9/120\n",
      "46/46 - 1s - loss: 0.3187 - accuracy: 0.8801 - val_loss: 0.4785 - val_accuracy: 0.7781 - lr: 0.0010 - 1s/epoch - 23ms/step\n",
      "Epoch 10/120\n",
      "46/46 - 1s - loss: 0.2674 - accuracy: 0.8897 - val_loss: 0.3394 - val_accuracy: 0.8521 - lr: 0.0010 - 1s/epoch - 23ms/step\n",
      "Epoch 11/120\n",
      "46/46 - 1s - loss: 0.2905 - accuracy: 0.8780 - val_loss: 0.3283 - val_accuracy: 0.8630 - lr: 0.0010 - 1s/epoch - 23ms/step\n",
      "Epoch 12/120\n",
      "46/46 - 1s - loss: 0.2748 - accuracy: 0.8951 - val_loss: 0.3679 - val_accuracy: 0.8384 - lr: 0.0010 - 1s/epoch - 23ms/step\n",
      "Epoch 13/120\n",
      "46/46 - 1s - loss: 0.2686 - accuracy: 0.8931 - val_loss: 0.3042 - val_accuracy: 0.8658 - lr: 0.0010 - 1s/epoch - 23ms/step\n",
      "Epoch 14/120\n",
      "46/46 - 1s - loss: 0.2668 - accuracy: 0.8842 - val_loss: 0.3395 - val_accuracy: 0.8438 - lr: 0.0010 - 1s/epoch - 23ms/step\n",
      "Epoch 15/120\n",
      "46/46 - 1s - loss: 0.2751 - accuracy: 0.8862 - val_loss: 0.3047 - val_accuracy: 0.8740 - lr: 0.0010 - 1s/epoch - 23ms/step\n",
      "Epoch 16/120\n",
      "46/46 - 1s - loss: 0.2438 - accuracy: 0.8944 - val_loss: 0.2893 - val_accuracy: 0.8822 - lr: 0.0010 - 1s/epoch - 23ms/step\n",
      "Epoch 17/120\n",
      "46/46 - 1s - loss: 0.2511 - accuracy: 0.8931 - val_loss: 0.3038 - val_accuracy: 0.8904 - lr: 0.0010 - 1s/epoch - 23ms/step\n",
      "Epoch 18/120\n",
      "46/46 - 1s - loss: 0.2172 - accuracy: 0.9102 - val_loss: 0.2972 - val_accuracy: 0.8767 - lr: 0.0010 - 1s/epoch - 23ms/step\n",
      "Epoch 19/120\n",
      "46/46 - 1s - loss: 0.1971 - accuracy: 0.9294 - val_loss: 0.3840 - val_accuracy: 0.8301 - lr: 0.0010 - 1s/epoch - 23ms/step\n",
      "Epoch 20/120\n",
      "46/46 - 1s - loss: 0.1806 - accuracy: 0.9301 - val_loss: 0.3441 - val_accuracy: 0.8712 - lr: 0.0010 - 1s/epoch - 23ms/step\n",
      "Epoch 21/120\n",
      "46/46 - 1s - loss: 0.1913 - accuracy: 0.9150 - val_loss: 0.2930 - val_accuracy: 0.8767 - lr: 0.0010 - 1s/epoch - 23ms/step\n",
      "Epoch 22/120\n",
      "46/46 - 1s - loss: 0.1678 - accuracy: 0.9301 - val_loss: 0.3173 - val_accuracy: 0.8795 - lr: 0.0010 - 1s/epoch - 23ms/step\n",
      "Epoch 23/120\n",
      "46/46 - 1s - loss: 0.1661 - accuracy: 0.9328 - val_loss: 0.3124 - val_accuracy: 0.8658 - lr: 0.0010 - 1s/epoch - 23ms/step\n",
      "Epoch 24/120\n",
      "46/46 - 1s - loss: 0.1749 - accuracy: 0.9280 - val_loss: 0.3206 - val_accuracy: 0.8658 - lr: 0.0010 - 1s/epoch - 23ms/step\n",
      "Epoch 25/120\n",
      "46/46 - 1s - loss: 0.1397 - accuracy: 0.9452 - val_loss: 0.3646 - val_accuracy: 0.8521 - lr: 0.0010 - 1s/epoch - 23ms/step\n",
      "Epoch 26/120\n",
      "\n",
      "Epoch 26: ReduceLROnPlateau reducing learning rate to 0.00010000000474974513.\n",
      "46/46 - 1s - loss: 0.1392 - accuracy: 0.9445 - val_loss: 0.3329 - val_accuracy: 0.8630 - lr: 0.0010 - 1s/epoch - 23ms/step\n",
      "Epoch 27/120\n",
      "46/46 - 1s - loss: 0.1020 - accuracy: 0.9616 - val_loss: 0.3393 - val_accuracy: 0.8685 - lr: 1.0000e-04 - 1s/epoch - 23ms/step\n",
      "Epoch 28/120\n",
      "46/46 - 1s - loss: 0.0896 - accuracy: 0.9609 - val_loss: 0.3527 - val_accuracy: 0.8712 - lr: 1.0000e-04 - 1s/epoch - 23ms/step\n",
      "Epoch 29/120\n",
      "46/46 - 1s - loss: 0.0941 - accuracy: 0.9589 - val_loss: 0.3496 - val_accuracy: 0.8712 - lr: 1.0000e-04 - 1s/epoch - 23ms/step\n",
      "Epoch 30/120\n",
      "46/46 - 1s - loss: 0.0871 - accuracy: 0.9657 - val_loss: 0.3550 - val_accuracy: 0.8712 - lr: 1.0000e-04 - 1s/epoch - 23ms/step\n",
      "Epoch 31/120\n",
      "46/46 - 1s - loss: 0.0870 - accuracy: 0.9616 - val_loss: 0.3622 - val_accuracy: 0.8767 - lr: 1.0000e-04 - 1s/epoch - 23ms/step\n",
      "12/12 [==============================] - 0s 7ms/step - loss: 0.2893 - accuracy: 0.8822\n",
      "Test loss: 0.2893\n",
      "Test accuracy: 0.88\n"
     ]
    }
   ],
   "execution_count": 48
  },
  {
   "metadata": {
    "ExecuteTime": {
     "end_time": "2024-11-07T03:43:14.218523Z",
     "start_time": "2024-11-07T03:43:14.032547Z"
    }
   },
   "cell_type": "code",
   "source": "evaluate_model(cnn_model, X_test, y_test)",
   "id": "34386cec81d6a2d4",
   "outputs": [
    {
     "name": "stdout",
     "output_type": "stream",
     "text": [
      "12/12 [==============================] - 0s 8ms/step - loss: 0.2893 - accuracy: 0.8822\n",
      "Test loss: 0.2893\n",
      "Test accuracy: 0.88\n"
     ]
    }
   ],
   "execution_count": 49
  },
  {
   "metadata": {
    "ExecuteTime": {
     "end_time": "2024-11-07T03:43:15.103955Z",
     "start_time": "2024-11-07T03:43:15.039184Z"
    }
   },
   "cell_type": "code",
   "source": [
    "date = datetime.now().strftime('%Y%m%d%H%M')\n",
    "model.save(f'model_mel_{date}.h5')\n",
    "print(f\"Model saved as model_mel_{date}.h5\")"
   ],
   "id": "551ff463bcaf8093",
   "outputs": [
    {
     "name": "stdout",
     "output_type": "stream",
     "text": [
      "Model saved as model_mel_202411071143.h5\n"
     ]
    }
   ],
   "execution_count": 50
  },
  {
   "metadata": {
    "ExecuteTime": {
     "end_time": "2024-11-07T03:43:16.062142Z",
     "start_time": "2024-11-07T03:43:15.888511Z"
    }
   },
   "cell_type": "code",
   "source": [
    "import matplotlib.pyplot as plt\n",
    "plt.plot(history.history['loss'])\n",
    "plt.plot(history.history['val_loss'])\n",
    "plt.title('Model loss')\n",
    "plt.ylabel('Loss')\n",
    "plt.xlabel('Epoch')\n",
    "plt.legend(['Train', 'Test'], loc='upper right')\n",
    "plt.savefig(f'model_mel_loss_{date}.png')\n",
    "plt.show()"
   ],
   "id": "70c5f696df14eef",
   "outputs": [
    {
     "data": {
      "text/plain": [
       "<Figure size 640x480 with 1 Axes>"
      ],
      "image/png": "[encoded data removed]"
     },
     "metadata": {},
     "output_type": "display_data"
    }
   ],
   "execution_count": 51
  },
  {
   "metadata": {
    "ExecuteTime": {
     "end_time": "2024-11-07T03:05:05.711270Z",
     "start_time": "2024-11-07T03:05:05.692719Z"
    }
   },
   "cell_type": "code",
   "source": "",
   "id": "77144cb141ef9e4a",
   "outputs": [],
   "execution_count": null
  }
 ],
 "metadata": {
  "kernelspec": {
   "display_name": "Python 3",
   "language": "python",
   "name": "python3"
  },
  "language_info": {
   "codemirror_mode": {
    "name": "ipython",
    "version": 2
   },
   "file_extension": ".py",
   "mimetype": "text/x-python",
   "name": "python",
   "nbconvert_exporter": "python",
   "pygments_lexer": "ipython2",
   "version": "2.7.6"
  }
 },
 "nbformat": 4,
 "nbformat_minor": 5
}
