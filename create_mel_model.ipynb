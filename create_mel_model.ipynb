{
 "cells": [
  {
   "metadata": {
    "ExecuteTime": {
     "end_time": "2024-11-11T02:56:17.928540Z",
     "start_time": "2024-11-11T02:56:15.774119Z"
    }
   },
   "cell_type": "code",
   "source": [
    "from datetime import datetime\n",
    "\n",
    "import librosa.display\n",
    "import os\n",
    "import librosa\n",
    "import numpy as np\n",
    "from sklearn.model_selection import train_test_split\n",
    "import random\n"
   ],
   "id": "c9272ced716478d7",
   "outputs": [],
   "execution_count": 1
  },
  {
   "metadata": {},
   "cell_type": "markdown",
   "source": "# 1. 資料加載與標記",
   "id": "a6fb182aae4eb89"
  },
  {
   "cell_type": "code",
   "id": "initial_id",
   "metadata": {
    "collapsed": true,
    "ExecuteTime": {
     "end_time": "2024-11-11T02:56:17.943269Z",
     "start_time": "2024-11-11T02:56:17.931522Z"
    }
   },
   "source": [
    "def load_segmented_files(directory, target_sr=4800):\n",
    "    wav_files = []\n",
    "    leak_wav_files = []\n",
    "    for dir in os.listdir(directory):\n",
    "        if not os.path.isdir(os.path.join(directory, dir)):\n",
    "            continue\n",
    "        for file in os.listdir(os.path.join(directory, dir)):\n",
    "            if not file.endswith(\".wav\"):\n",
    "                continue\n",
    "            file_path = os.path.join(directory, dir, file)\n",
    "            y, sr = librosa.load(file_path, sr=None)\n",
    "            if sr != target_sr:\n",
    "                    y = librosa.resample(y, orig_sr=sr, target_sr=target_sr)\n",
    "            filename = f'{dir}_{file}'\n",
    "            if 'Leak' in dir:\n",
    "                leak_wav_files.append((y, target_sr, filename))\n",
    "            else:\n",
    "                wav_files.append((y, target_sr, filename))\n",
    "    print(f\"共有 {len(wav_files) + len(leak_wav_files)} 個 wav 檔案，其中 {len(leak_wav_files)} 個有泄漏，{len(wav_files)} 個沒有泄漏\")\n",
    "    return wav_files, leak_wav_files \n",
    "\n",
    "\n",
    "# 比較數量，均衡資料\n",
    "def balance_shuffle_data(wav_files, leak_wav_files):\n",
    "    min_count = min(len(wav_files), len(leak_wav_files))\n",
    "    wav_files = random.sample(wav_files, min_count)\n",
    "    leak_wav_files = random.sample(leak_wav_files, min_count)\n",
    "    \n",
    "    print(f\"均衡後的樣本數: {min_count}\")\n",
    "    return wav_files, leak_wav_files\n",
    "\n",
    "\n",
    "def create_dataset(directory):\n",
    "    wav_files, leak_wav_files = load_segmented_files(directory)\n",
    "    wav_files, leak_wav_files = balance_shuffle_data(wav_files, leak_wav_files)\n",
    "    \n",
    "    # 將資料轉為 NumPy 格式\n",
    "    X = []\n",
    "    y = []\n",
    "    \n",
    "    for audio, sr, filename in wav_files:\n",
    "        X.append((audio, sr))\n",
    "        y.append(0)  # wav_files 標記為 0\n",
    "    \n",
    "    for audio, sr, filename in leak_wav_files:\n",
    "        X.append((audio, sr))\n",
    "        y.append(1)  # leak_wav_files 標記為 1\n",
    "    \n",
    "    return np.array(X, dtype=object), np.array(y)\n"
   ],
   "outputs": [],
   "execution_count": 2
  },
  {
   "metadata": {},
   "cell_type": "markdown",
   "source": "# 2. 特徵提取與資料預處理",
   "id": "b7788a5b8d4c0b5d"
  },
  {
   "metadata": {
    "ExecuteTime": {
     "end_time": "2024-11-11T02:56:23.438249Z",
     "start_time": "2024-11-11T02:56:18.102749Z"
    }
   },
   "cell_type": "code",
   "source": [
    "from tqdm import tqdm\n",
    "from data_preprocess import extract_features, extract_stft_features\n",
    "\n",
    "def preprocess_data(X, desired_time=2.0, n_mels=128, n_fft=2048, hop_length=512):\n",
    "    features = []\n",
    "    for audio, sr in tqdm(X):\n",
    "        feature = extract_features(audio, sr, desired_time=desired_time, n_mels=n_mels, n_fft=n_fft, hop_length=hop_length)\n",
    "        features.append(feature)\n",
    "    return np.array(features)\n"
   ],
   "id": "5cb187713d43dd39",
   "outputs": [],
   "execution_count": 3
  },
  {
   "metadata": {
    "ExecuteTime": {
     "end_time": "2024-11-11T02:56:23.469753Z",
     "start_time": "2024-11-11T02:56:23.455731Z"
    }
   },
   "cell_type": "code",
   "source": [
    "def create_training_data(X,y, desired_time=2.0,  n_mels=128, n_fft=2048, hop_length=512):\n",
    "    \n",
    "    print(f\"總樣本數: {len(X)}\")\n",
    "    print(f\"標籤分佈: {np.bincount(y)}\")\n",
    "    \n",
    "    \n",
    "    X_features = preprocess_data(X, desired_time=desired_time, n_mels= n_mels, n_fft=n_fft, hop_length=hop_length)\n",
    "    \n",
    "    print(f\"特徵形狀: {X_features.shape}\")  # 預期形狀: (樣本數, max_len, n_mels)\n",
    "    \n",
    "    # 正規化特徵\n",
    "    X_features = (X_features - np.mean(X_features)) / np.std(X_features)\n",
    "    \n",
    "    # 擴展維度以符合 CNN 輸入 (樣本數, 高, 寬, 通道)\n",
    "    X_features = np.expand_dims(X_features, -1)  # 新形狀: (樣本數, max_len, n_mels, 1)\n",
    "    \n",
    "    # 分割訓練集與測試集\n",
    "    X_train, X_test, y_train, y_test = train_test_split(X_features, y, test_size=0.2)\n",
    "    \n",
    "    print(f\"訓練集形狀: {X_train.shape}\")\n",
    "    print(f\"測試集形狀: {X_test.shape}\")\n",
    "    \n",
    "    return X_train, X_test, y_train, y_test"
   ],
   "id": "52f0af5743941c11",
   "outputs": [],
   "execution_count": 4
  },
  {
   "metadata": {
    "ExecuteTime": {
     "end_time": "2024-11-11T02:59:38.485595Z",
     "start_time": "2024-11-11T02:56:23.510309Z"
    }
   },
   "cell_type": "code",
   "source": "X, y = create_dataset('raw_train')",
   "id": "825424b5a3c3bd79",
   "outputs": [
    {
     "name": "stdout",
     "output_type": "stream",
     "text": [
      "共有 4396 個 wav 檔案，其中 1151 個有泄漏，3245 個沒有泄漏\n",
      "均衡後的樣本數: 1151\n"
     ]
    }
   ],
   "execution_count": 5
  },
  {
   "metadata": {},
   "cell_type": "markdown",
   "source": "",
   "id": "d647579fccaba964"
  },
  {
   "metadata": {
    "ExecuteTime": {
     "end_time": "2024-11-11T02:59:45.116869Z",
     "start_time": "2024-11-11T02:59:38.564887Z"
    }
   },
   "cell_type": "code",
   "source": "X_train, X_test, y_train, y_test = create_training_data(X, y, desired_time=2.0, n_mels=80, n_fft=2048, hop_length=128)",
   "id": "bd7b7beb007bb659",
   "outputs": [
    {
     "name": "stdout",
     "output_type": "stream",
     "text": [
      "總樣本數: 2302\n",
      "標籤分佈: [1151 1151]\n"
     ]
    },
    {
     "name": "stderr",
     "output_type": "stream",
     "text": [
      "100%|██████████| 2302/2302 [00:06<00:00, 357.11it/s]\n"
     ]
    },
    {
     "name": "stdout",
     "output_type": "stream",
     "text": [
      "特徵形狀: (2302, 80, 80)\n",
      "訓練集形狀: (1841, 80, 80, 1)\n",
      "測試集形狀: (461, 80, 80, 1)\n"
     ]
    }
   ],
   "execution_count": 6
  },
  {
   "metadata": {},
   "cell_type": "markdown",
   "source": "# 3. 建立 CNN 模型",
   "id": "55e34253937c671f"
  },
  {
   "metadata": {
    "ExecuteTime": {
     "end_time": "2024-11-11T02:59:45.210846Z",
     "start_time": "2024-11-11T02:59:45.191717Z"
    }
   },
   "cell_type": "code",
   "source": [
    "from keras.layers import BatchNormalization\n",
    "import tensorflow as tf\n",
    "from tensorflow.keras.models import Sequential\n",
    "from tensorflow.keras.layers import Conv2D, MaxPooling2D, Flatten, Dense, Dropout\n",
    "\n",
    "def create_cnn_model(input_shape):\n",
    "    \n",
    "    optimizer = tf.keras.optimizers.Adam(learning_rate=0.001)\n",
    "    \n",
    "    input_img = tf.keras.layers.Input(shape=input_shape)\n",
    " \n",
    "    x = Conv2D(32, (3, 3), activation='relu', padding='same')(input_img)\n",
    "    x = MaxPooling2D((2, 2), padding='same')(x)\n",
    "    x = Dropout(0.2)(x)\n",
    "    \n",
    "    x = Conv2D(32, (3, 3), activation='relu', padding='same')(x)\n",
    "    x = MaxPooling2D((2, 2), padding='same')(x)\n",
    "    x = Dropout(0.2)(x)\n",
    "    \n",
    "    x = Conv2D(64, (3, 3), activation='relu', padding='same')(x)\n",
    "    x = MaxPooling2D((2, 2), padding='same')(x)\n",
    "    x = Dropout(0.2)(x)\n",
    "    \n",
    "    x = Conv2D(64, (3, 3), activation='relu', padding='same')(x)\n",
    "    x = MaxPooling2D((2, 2), padding='same')(x)\n",
    "    x = Dropout(0.2)(x)\n",
    "\n",
    "    x = Flatten()(x)\n",
    "    x = Dense(64, activation='relu')(x)\n",
    "    x = Dense(32, activation='relu')(x)\n",
    "    x = Dense(16, activation='relu')(x)\n",
    "    x = Dropout(0.1)(x)\n",
    "    x = Dense(1, activation='sigmoid')(x)\n",
    "    \n",
    "    model = tf.keras.Model(inputs=input_img, outputs=x)\n",
    "    model.compile(optimizer=optimizer, loss='binary_crossentropy', metrics=['accuracy'])\n",
    "\n",
    "    return model\n"
   ],
   "id": "e5d13120a6048b8e",
   "outputs": [],
   "execution_count": 7
  },
  {
   "metadata": {
    "ExecuteTime": {
     "end_time": "2024-11-11T02:59:45.257472Z",
     "start_time": "2024-11-11T02:59:45.242533Z"
    }
   },
   "cell_type": "code",
   "source": [
    "def create_model(mockup_input):    \n",
    "    # 建立模型\n",
    "    input_shape = (mockup_input.shape[1], mockup_input.shape[2], 1)\n",
    "    print(f\"模型輸入形狀: {input_shape}\")\n",
    "    model = create_cnn_model(input_shape)\n",
    "    model.summary()\n",
    "    return model"
   ],
   "id": "a4ffc4a61f8a1c24",
   "outputs": [],
   "execution_count": 8
  },
  {
   "metadata": {},
   "cell_type": "markdown",
   "source": "# 4. 訓練模型",
   "id": "48f4e3f68035b7dc"
  },
  {
   "metadata": {
    "ExecuteTime": {
     "end_time": "2024-11-11T02:59:45.303090Z",
     "start_time": "2024-11-11T02:59:45.289921Z"
    }
   },
   "cell_type": "code",
   "source": [
    "from keras.callbacks import EarlyStopping, ReduceLROnPlateau\n",
    "\n",
    "\n",
    "def train_model(model, X_train, X_test, y_train, y_test, epochs=30, batch_size=32):\n",
    "        # 訓練模型\n",
    "        \n",
    "    early_stopping = EarlyStopping(monitor='val_loss', patience=35, restore_best_weights=True, verbose=1)\n",
    "    reduce_lr = ReduceLROnPlateau(monitor='val_loss', factor=0.1, patience=10, verbose=1)\n",
    "        \n",
    "    history = model.fit(   \n",
    "        X_train, y_train,\n",
    "        epochs=epochs,\n",
    "        batch_size=batch_size,\n",
    "        validation_data=(X_test, y_test),\n",
    "        shuffle=True,\n",
    "        callbacks=[early_stopping, reduce_lr],\n",
    "        verbose=2\n",
    "    )\n",
    "    \n",
    "    # 評估模型\n",
    "    test_loss, test_accuracy = model.evaluate(X_test, y_test)\n",
    "    print(f\"Test loss: {test_loss:.4f}\")\n",
    "    print(f\"Test accuracy: {test_accuracy:.2f}\")\n",
    "    \n",
    "    return model, history"
   ],
   "id": "2658a06f4a9db7e7",
   "outputs": [],
   "execution_count": 9
  },
  {
   "metadata": {
    "ExecuteTime": {
     "end_time": "2024-11-11T02:59:45.350754Z",
     "start_time": "2024-11-11T02:59:45.335788Z"
    }
   },
   "cell_type": "code",
   "source": [
    "def evaluate_model(model, X_test, y_test):\n",
    "    test_loss, test_accuracy = model.evaluate(X_test, y_test)\n",
    "    print(f\"Test loss: {test_loss:.4f}\")\n",
    "    print(f\"Test accuracy: {test_accuracy:.2f}\")"
   ],
   "id": "eb722b82e90ac3d",
   "outputs": [],
   "execution_count": 10
  },
  {
   "metadata": {
    "ExecuteTime": {
     "end_time": "2024-11-11T02:59:46.225663Z",
     "start_time": "2024-11-11T02:59:45.382840Z"
    }
   },
   "cell_type": "code",
   "source": "cnn_model = create_model(X_train)",
   "id": "496ecf15e0c42ddf",
   "outputs": [
    {
     "name": "stdout",
     "output_type": "stream",
     "text": [
      "模型輸入形狀: (80, 80, 1)\n",
      "Model: \"model\"\n",
      "_________________________________________________________________\n",
      " Layer (type)                Output Shape              Param #   \n",
      "=================================================================\n",
      " input_1 (InputLayer)        [(None, 80, 80, 1)]       0         \n",
      "                                                                 \n",
      " conv2d (Conv2D)             (None, 80, 80, 32)        320       \n",
      "                                                                 \n",
      " max_pooling2d (MaxPooling2D  (None, 40, 40, 32)       0         \n",
      " )                                                               \n",
      "                                                                 \n",
      " dropout (Dropout)           (None, 40, 40, 32)        0         \n",
      "                                                                 \n",
      " conv2d_1 (Conv2D)           (None, 40, 40, 32)        9248      \n",
      "                                                                 \n",
      " max_pooling2d_1 (MaxPooling  (None, 20, 20, 32)       0         \n",
      " 2D)                                                             \n",
      "                                                                 \n",
      " dropout_1 (Dropout)         (None, 20, 20, 32)        0         \n",
      "                                                                 \n",
      " conv2d_2 (Conv2D)           (None, 20, 20, 64)        18496     \n",
      "                                                                 \n",
      " max_pooling2d_2 (MaxPooling  (None, 10, 10, 64)       0         \n",
      " 2D)                                                             \n",
      "                                                                 \n",
      " dropout_2 (Dropout)         (None, 10, 10, 64)        0         \n",
      "                                                                 \n",
      " conv2d_3 (Conv2D)           (None, 10, 10, 64)        36928     \n",
      "                                                                 \n",
      " max_pooling2d_3 (MaxPooling  (None, 5, 5, 64)         0         \n",
      " 2D)                                                             \n",
      "                                                                 \n",
      " dropout_3 (Dropout)         (None, 5, 5, 64)          0         \n",
      "                                                                 \n",
      " flatten (Flatten)           (None, 1600)              0         \n",
      "                                                                 \n",
      " dense (Dense)               (None, 64)                102464    \n",
      "                                                                 \n",
      " dense_1 (Dense)             (None, 32)                2080      \n",
      "                                                                 \n",
      " dense_2 (Dense)             (None, 16)                528       \n",
      "                                                                 \n",
      " dropout_4 (Dropout)         (None, 16)                0         \n",
      "                                                                 \n",
      " dense_3 (Dense)             (None, 1)                 17        \n",
      "                                                                 \n",
      "=================================================================\n",
      "Total params: 170,081\n",
      "Trainable params: 170,081\n",
      "Non-trainable params: 0\n",
      "_________________________________________________________________\n"
     ]
    }
   ],
   "execution_count": 11
  },
  {
   "metadata": {
    "ExecuteTime": {
     "end_time": "2024-11-11T03:00:16.003005Z",
     "start_time": "2024-11-11T02:59:46.257094Z"
    }
   },
   "cell_type": "code",
   "source": "model, history = train_model(cnn_model, X_train, X_test, y_train, y_test, epochs=120)",
   "id": "4c22f7b3db3499d5",
   "outputs": [
    {
     "name": "stdout",
     "output_type": "stream",
     "text": [
      "Epoch 1/120\n",
      "58/58 - 5s - loss: 0.6881 - accuracy: 0.5128 - val_loss: 0.6179 - val_accuracy: 0.6811 - lr: 0.0010 - 5s/epoch - 88ms/step\n",
      "Epoch 2/120\n",
      "58/58 - 0s - loss: 0.5886 - accuracy: 0.6893 - val_loss: 0.5632 - val_accuracy: 0.7115 - lr: 0.0010 - 364ms/epoch - 6ms/step\n",
      "Epoch 3/120\n",
      "58/58 - 0s - loss: 0.5570 - accuracy: 0.6947 - val_loss: 0.5247 - val_accuracy: 0.7484 - lr: 0.0010 - 362ms/epoch - 6ms/step\n",
      "Epoch 4/120\n",
      "58/58 - 0s - loss: 0.5373 - accuracy: 0.7376 - val_loss: 0.5887 - val_accuracy: 0.6855 - lr: 0.0010 - 359ms/epoch - 6ms/step\n",
      "Epoch 5/120\n",
      "58/58 - 0s - loss: 0.5159 - accuracy: 0.7567 - val_loss: 0.4899 - val_accuracy: 0.7722 - lr: 0.0010 - 351ms/epoch - 6ms/step\n",
      "Epoch 6/120\n",
      "58/58 - 0s - loss: 0.5121 - accuracy: 0.7643 - val_loss: 0.4804 - val_accuracy: 0.7722 - lr: 0.0010 - 357ms/epoch - 6ms/step\n",
      "Epoch 7/120\n",
      "58/58 - 0s - loss: 0.5060 - accuracy: 0.7637 - val_loss: 0.4945 - val_accuracy: 0.7744 - lr: 0.0010 - 360ms/epoch - 6ms/step\n",
      "Epoch 8/120\n",
      "58/58 - 0s - loss: 0.4921 - accuracy: 0.7583 - val_loss: 0.4823 - val_accuracy: 0.7744 - lr: 0.0010 - 362ms/epoch - 6ms/step\n",
      "Epoch 9/120\n",
      "58/58 - 0s - loss: 0.4975 - accuracy: 0.7675 - val_loss: 0.4651 - val_accuracy: 0.7852 - lr: 0.0010 - 357ms/epoch - 6ms/step\n",
      "Epoch 10/120\n",
      "58/58 - 0s - loss: 0.4755 - accuracy: 0.7822 - val_loss: 0.4773 - val_accuracy: 0.7766 - lr: 0.0010 - 359ms/epoch - 6ms/step\n",
      "Epoch 11/120\n",
      "58/58 - 0s - loss: 0.4627 - accuracy: 0.7844 - val_loss: 0.4974 - val_accuracy: 0.7744 - lr: 0.0010 - 361ms/epoch - 6ms/step\n",
      "Epoch 12/120\n",
      "58/58 - 0s - loss: 0.4613 - accuracy: 0.7822 - val_loss: 0.4664 - val_accuracy: 0.7614 - lr: 0.0010 - 362ms/epoch - 6ms/step\n",
      "Epoch 13/120\n",
      "58/58 - 0s - loss: 0.4409 - accuracy: 0.7871 - val_loss: 0.4206 - val_accuracy: 0.8069 - lr: 0.0010 - 356ms/epoch - 6ms/step\n",
      "Epoch 14/120\n",
      "58/58 - 0s - loss: 0.4138 - accuracy: 0.8110 - val_loss: 0.4336 - val_accuracy: 0.8069 - lr: 0.0010 - 350ms/epoch - 6ms/step\n",
      "Epoch 15/120\n",
      "58/58 - 0s - loss: 0.4387 - accuracy: 0.7903 - val_loss: 0.4327 - val_accuracy: 0.7983 - lr: 0.0010 - 347ms/epoch - 6ms/step\n",
      "Epoch 16/120\n",
      "58/58 - 0s - loss: 0.4160 - accuracy: 0.8153 - val_loss: 0.4203 - val_accuracy: 0.8178 - lr: 0.0010 - 357ms/epoch - 6ms/step\n",
      "Epoch 17/120\n",
      "58/58 - 0s - loss: 0.4009 - accuracy: 0.8197 - val_loss: 0.3928 - val_accuracy: 0.8069 - lr: 0.0010 - 362ms/epoch - 6ms/step\n",
      "Epoch 18/120\n",
      "58/58 - 0s - loss: 0.3964 - accuracy: 0.8224 - val_loss: 0.4012 - val_accuracy: 0.8351 - lr: 0.0010 - 360ms/epoch - 6ms/step\n",
      "Epoch 19/120\n",
      "58/58 - 0s - loss: 0.3758 - accuracy: 0.8207 - val_loss: 0.3980 - val_accuracy: 0.8113 - lr: 0.0010 - 356ms/epoch - 6ms/step\n",
      "Epoch 20/120\n",
      "58/58 - 0s - loss: 0.3781 - accuracy: 0.8256 - val_loss: 0.3747 - val_accuracy: 0.8178 - lr: 0.0010 - 358ms/epoch - 6ms/step\n",
      "Epoch 21/120\n",
      "58/58 - 0s - loss: 0.3553 - accuracy: 0.8381 - val_loss: 0.3754 - val_accuracy: 0.8308 - lr: 0.0010 - 354ms/epoch - 6ms/step\n",
      "Epoch 22/120\n",
      "58/58 - 0s - loss: 0.3404 - accuracy: 0.8403 - val_loss: 0.3768 - val_accuracy: 0.8004 - lr: 0.0010 - 363ms/epoch - 6ms/step\n",
      "Epoch 23/120\n",
      "58/58 - 0s - loss: 0.3437 - accuracy: 0.8354 - val_loss: 0.3561 - val_accuracy: 0.8351 - lr: 0.0010 - 370ms/epoch - 6ms/step\n",
      "Epoch 24/120\n",
      "58/58 - 0s - loss: 0.3207 - accuracy: 0.8468 - val_loss: 0.3585 - val_accuracy: 0.8048 - lr: 0.0010 - 351ms/epoch - 6ms/step\n",
      "Epoch 25/120\n",
      "58/58 - 0s - loss: 0.3178 - accuracy: 0.8501 - val_loss: 0.3475 - val_accuracy: 0.8351 - lr: 0.0010 - 368ms/epoch - 6ms/step\n",
      "Epoch 26/120\n",
      "58/58 - 0s - loss: 0.2984 - accuracy: 0.8680 - val_loss: 0.3336 - val_accuracy: 0.8243 - lr: 0.0010 - 347ms/epoch - 6ms/step\n",
      "Epoch 27/120\n",
      "58/58 - 0s - loss: 0.2967 - accuracy: 0.8751 - val_loss: 0.3365 - val_accuracy: 0.8568 - lr: 0.0010 - 361ms/epoch - 6ms/step\n",
      "Epoch 28/120\n",
      "58/58 - 0s - loss: 0.3285 - accuracy: 0.8523 - val_loss: 0.3400 - val_accuracy: 0.8612 - lr: 0.0010 - 352ms/epoch - 6ms/step\n",
      "Epoch 29/120\n",
      "58/58 - 0s - loss: 0.2933 - accuracy: 0.8631 - val_loss: 0.3577 - val_accuracy: 0.8243 - lr: 0.0010 - 362ms/epoch - 6ms/step\n",
      "Epoch 30/120\n",
      "58/58 - 0s - loss: 0.2633 - accuracy: 0.8865 - val_loss: 0.3394 - val_accuracy: 0.8503 - lr: 0.0010 - 361ms/epoch - 6ms/step\n",
      "Epoch 31/120\n",
      "58/58 - 0s - loss: 0.2767 - accuracy: 0.8816 - val_loss: 0.3264 - val_accuracy: 0.8395 - lr: 0.0010 - 364ms/epoch - 6ms/step\n",
      "Epoch 32/120\n",
      "58/58 - 0s - loss: 0.2580 - accuracy: 0.8908 - val_loss: 0.3459 - val_accuracy: 0.8482 - lr: 0.0010 - 354ms/epoch - 6ms/step\n",
      "Epoch 33/120\n",
      "58/58 - 0s - loss: 0.2820 - accuracy: 0.8838 - val_loss: 0.5631 - val_accuracy: 0.7180 - lr: 0.0010 - 353ms/epoch - 6ms/step\n",
      "Epoch 34/120\n",
      "58/58 - 0s - loss: 0.2734 - accuracy: 0.8832 - val_loss: 0.3205 - val_accuracy: 0.8525 - lr: 0.0010 - 355ms/epoch - 6ms/step\n",
      "Epoch 35/120\n",
      "58/58 - 0s - loss: 0.2382 - accuracy: 0.8973 - val_loss: 0.3346 - val_accuracy: 0.8547 - lr: 0.0010 - 362ms/epoch - 6ms/step\n",
      "Epoch 36/120\n",
      "58/58 - 0s - loss: 0.2363 - accuracy: 0.9055 - val_loss: 0.3331 - val_accuracy: 0.8395 - lr: 0.0010 - 360ms/epoch - 6ms/step\n",
      "Epoch 37/120\n",
      "58/58 - 0s - loss: 0.2237 - accuracy: 0.9087 - val_loss: 0.3792 - val_accuracy: 0.8395 - lr: 0.0010 - 354ms/epoch - 6ms/step\n",
      "Epoch 38/120\n",
      "58/58 - 0s - loss: 0.2064 - accuracy: 0.9153 - val_loss: 0.4462 - val_accuracy: 0.8243 - lr: 0.0010 - 357ms/epoch - 6ms/step\n",
      "Epoch 39/120\n",
      "58/58 - 0s - loss: 0.2044 - accuracy: 0.9147 - val_loss: 0.3495 - val_accuracy: 0.8503 - lr: 0.0010 - 348ms/epoch - 6ms/step\n",
      "Epoch 40/120\n",
      "58/58 - 0s - loss: 0.1954 - accuracy: 0.9136 - val_loss: 0.3803 - val_accuracy: 0.8373 - lr: 0.0010 - 367ms/epoch - 6ms/step\n",
      "Epoch 41/120\n",
      "58/58 - 0s - loss: 0.2008 - accuracy: 0.9147 - val_loss: 0.3676 - val_accuracy: 0.8373 - lr: 0.0010 - 357ms/epoch - 6ms/step\n",
      "Epoch 42/120\n",
      "58/58 - 0s - loss: 0.1913 - accuracy: 0.9191 - val_loss: 0.3545 - val_accuracy: 0.8503 - lr: 0.0010 - 351ms/epoch - 6ms/step\n",
      "Epoch 43/120\n",
      "58/58 - 0s - loss: 0.1708 - accuracy: 0.9294 - val_loss: 0.3690 - val_accuracy: 0.8525 - lr: 0.0010 - 355ms/epoch - 6ms/step\n",
      "Epoch 44/120\n",
      "\n",
      "Epoch 44: ReduceLROnPlateau reducing learning rate to 0.00010000000474974513.\n",
      "58/58 - 0s - loss: 0.1581 - accuracy: 0.9370 - val_loss: 0.3706 - val_accuracy: 0.8590 - lr: 0.0010 - 353ms/epoch - 6ms/step\n",
      "Epoch 45/120\n",
      "58/58 - 0s - loss: 0.1392 - accuracy: 0.9446 - val_loss: 0.3619 - val_accuracy: 0.8482 - lr: 1.0000e-04 - 349ms/epoch - 6ms/step\n",
      "Epoch 46/120\n",
      "58/58 - 0s - loss: 0.1279 - accuracy: 0.9484 - val_loss: 0.3558 - val_accuracy: 0.8547 - lr: 1.0000e-04 - 356ms/epoch - 6ms/step\n",
      "Epoch 47/120\n",
      "58/58 - 0s - loss: 0.1040 - accuracy: 0.9614 - val_loss: 0.3660 - val_accuracy: 0.8503 - lr: 1.0000e-04 - 359ms/epoch - 6ms/step\n",
      "Epoch 48/120\n",
      "58/58 - 0s - loss: 0.1028 - accuracy: 0.9620 - val_loss: 0.3756 - val_accuracy: 0.8503 - lr: 1.0000e-04 - 351ms/epoch - 6ms/step\n",
      "Epoch 49/120\n",
      "58/58 - 0s - loss: 0.0995 - accuracy: 0.9652 - val_loss: 0.3821 - val_accuracy: 0.8460 - lr: 1.0000e-04 - 358ms/epoch - 6ms/step\n",
      "Epoch 50/120\n",
      "58/58 - 0s - loss: 0.1083 - accuracy: 0.9598 - val_loss: 0.3772 - val_accuracy: 0.8503 - lr: 1.0000e-04 - 360ms/epoch - 6ms/step\n",
      "Epoch 51/120\n",
      "58/58 - 0s - loss: 0.0985 - accuracy: 0.9598 - val_loss: 0.3858 - val_accuracy: 0.8482 - lr: 1.0000e-04 - 355ms/epoch - 6ms/step\n",
      "Epoch 52/120\n",
      "58/58 - 0s - loss: 0.0924 - accuracy: 0.9647 - val_loss: 0.3918 - val_accuracy: 0.8460 - lr: 1.0000e-04 - 356ms/epoch - 6ms/step\n",
      "Epoch 53/120\n",
      "58/58 - 0s - loss: 0.1011 - accuracy: 0.9647 - val_loss: 0.3902 - val_accuracy: 0.8525 - lr: 1.0000e-04 - 353ms/epoch - 6ms/step\n",
      "Epoch 54/120\n",
      "\n",
      "Epoch 54: ReduceLROnPlateau reducing learning rate to 1.0000000474974514e-05.\n",
      "58/58 - 0s - loss: 0.1011 - accuracy: 0.9598 - val_loss: 0.4029 - val_accuracy: 0.8525 - lr: 1.0000e-04 - 353ms/epoch - 6ms/step\n",
      "Epoch 55/120\n",
      "58/58 - 0s - loss: 0.0989 - accuracy: 0.9625 - val_loss: 0.4039 - val_accuracy: 0.8547 - lr: 1.0000e-05 - 366ms/epoch - 6ms/step\n",
      "Epoch 56/120\n",
      "58/58 - 0s - loss: 0.0928 - accuracy: 0.9641 - val_loss: 0.4036 - val_accuracy: 0.8547 - lr: 1.0000e-05 - 364ms/epoch - 6ms/step\n",
      "Epoch 57/120\n",
      "58/58 - 0s - loss: 0.0933 - accuracy: 0.9647 - val_loss: 0.4020 - val_accuracy: 0.8525 - lr: 1.0000e-05 - 371ms/epoch - 6ms/step\n",
      "Epoch 58/120\n",
      "58/58 - 0s - loss: 0.0915 - accuracy: 0.9636 - val_loss: 0.4023 - val_accuracy: 0.8525 - lr: 1.0000e-05 - 366ms/epoch - 6ms/step\n",
      "Epoch 59/120\n",
      "58/58 - 0s - loss: 0.0995 - accuracy: 0.9614 - val_loss: 0.4025 - val_accuracy: 0.8525 - lr: 1.0000e-05 - 359ms/epoch - 6ms/step\n",
      "Epoch 60/120\n",
      "58/58 - 0s - loss: 0.0935 - accuracy: 0.9620 - val_loss: 0.4022 - val_accuracy: 0.8525 - lr: 1.0000e-05 - 355ms/epoch - 6ms/step\n",
      "Epoch 61/120\n",
      "58/58 - 0s - loss: 0.0845 - accuracy: 0.9696 - val_loss: 0.4014 - val_accuracy: 0.8525 - lr: 1.0000e-05 - 354ms/epoch - 6ms/step\n",
      "Epoch 62/120\n",
      "58/58 - 0s - loss: 0.0899 - accuracy: 0.9652 - val_loss: 0.4020 - val_accuracy: 0.8525 - lr: 1.0000e-05 - 362ms/epoch - 6ms/step\n",
      "Epoch 63/120\n",
      "58/58 - 0s - loss: 0.0844 - accuracy: 0.9641 - val_loss: 0.4024 - val_accuracy: 0.8482 - lr: 1.0000e-05 - 357ms/epoch - 6ms/step\n",
      "Epoch 64/120\n",
      "\n",
      "Epoch 64: ReduceLROnPlateau reducing learning rate to 1.0000000656873453e-06.\n",
      "58/58 - 0s - loss: 0.0956 - accuracy: 0.9614 - val_loss: 0.4026 - val_accuracy: 0.8503 - lr: 1.0000e-05 - 361ms/epoch - 6ms/step\n",
      "Epoch 65/120\n",
      "58/58 - 0s - loss: 0.0938 - accuracy: 0.9674 - val_loss: 0.4028 - val_accuracy: 0.8503 - lr: 1.0000e-06 - 372ms/epoch - 6ms/step\n",
      "Epoch 66/120\n",
      "58/58 - 0s - loss: 0.0858 - accuracy: 0.9625 - val_loss: 0.4027 - val_accuracy: 0.8503 - lr: 1.0000e-06 - 359ms/epoch - 6ms/step\n",
      "Epoch 67/120\n",
      "58/58 - 0s - loss: 0.0876 - accuracy: 0.9685 - val_loss: 0.4026 - val_accuracy: 0.8503 - lr: 1.0000e-06 - 370ms/epoch - 6ms/step\n",
      "Epoch 68/120\n",
      "58/58 - 0s - loss: 0.0799 - accuracy: 0.9712 - val_loss: 0.4026 - val_accuracy: 0.8503 - lr: 1.0000e-06 - 357ms/epoch - 6ms/step\n",
      "Epoch 69/120\n",
      "Restoring model weights from the end of the best epoch: 34.\n",
      "58/58 - 0s - loss: 0.0819 - accuracy: 0.9701 - val_loss: 0.4028 - val_accuracy: 0.8503 - lr: 1.0000e-06 - 379ms/epoch - 7ms/step\n",
      "Epoch 69: early stopping\n",
      "15/15 [==============================] - 0s 2ms/step - loss: 0.3205 - accuracy: 0.8525\n",
      "Test loss: 0.3205\n",
      "Test accuracy: 0.85\n"
     ]
    }
   ],
   "execution_count": 12
  },
  {
   "metadata": {
    "ExecuteTime": {
     "end_time": "2024-11-11T03:00:16.128444Z",
     "start_time": "2024-11-11T03:00:16.034981Z"
    }
   },
   "cell_type": "code",
   "source": "evaluate_model(cnn_model, X_test, y_test)",
   "id": "34386cec81d6a2d4",
   "outputs": [
    {
     "name": "stdout",
     "output_type": "stream",
     "text": [
      "15/15 [==============================] - 0s 2ms/step - loss: 0.3205 - accuracy: 0.8525\n",
      "Test loss: 0.3205\n",
      "Test accuracy: 0.85\n"
     ]
    }
   ],
   "execution_count": 13
  },
  {
   "metadata": {
    "ExecuteTime": {
     "end_time": "2024-11-11T03:00:16.206576Z",
     "start_time": "2024-11-11T03:00:16.160881Z"
    }
   },
   "cell_type": "code",
   "source": [
    "date = datetime.now().strftime('%Y%m%d%H%M')\n",
    "model.save(f'model_mel_{date}.h5')\n",
    "print(f\"Model saved as model_mel_{date}.h5\")"
   ],
   "id": "551ff463bcaf8093",
   "outputs": [
    {
     "name": "stdout",
     "output_type": "stream",
     "text": [
      "Model saved as model_mel_202411111100.h5\n"
     ]
    }
   ],
   "execution_count": 14
  },
  {
   "metadata": {
    "ExecuteTime": {
     "end_time": "2024-11-11T03:00:16.583835Z",
     "start_time": "2024-11-11T03:00:16.240788Z"
    }
   },
   "cell_type": "code",
   "source": [
    "import matplotlib.pyplot as plt\n",
    "plt.plot(history.history['loss'])\n",
    "plt.plot(history.history['val_loss'])\n",
    "plt.title('Model loss')\n",
    "plt.ylabel('Loss')\n",
    "plt.xlabel('Epoch')\n",
    "plt.legend(['Train', 'Test'], loc='upper right')\n",
    "plt.savefig(f'model_mel_loss_{date}.png')\n",
    "plt.show()"
   ],
   "id": "70c5f696df14eef",
   "outputs": [
    {
     "data": {
      "text/plain": [
       "<Figure size 640x480 with 1 Axes>"
      ],
      "image/png": "[encoded data removed]"
     },
     "metadata": {},
     "output_type": "display_data"
    }
   ],
   "execution_count": 15
  },
  {
   "metadata": {
    "ExecuteTime": {
     "end_time": "2024-11-11T03:00:16.630376Z",
     "start_time": "2024-11-11T03:00:16.615393Z"
    }
   },
   "cell_type": "code",
   "source": "",
   "id": "77144cb141ef9e4a",
   "outputs": [],
   "execution_count": null
  }
 ],
 "metadata": {
  "kernelspec": {
   "display_name": "Python 3",
   "language": "python",
   "name": "python3"
  },
  "language_info": {
   "codemirror_mode": {
    "name": "ipython",
    "version": 2
   },
   "file_extension": ".py",
   "mimetype": "text/x-python",
   "name": "python",
   "nbconvert_exporter": "python",
   "pygments_lexer": "ipython2",
   "version": "2.7.6"
  }
 },
 "nbformat": 4,
 "nbformat_minor": 5
}
