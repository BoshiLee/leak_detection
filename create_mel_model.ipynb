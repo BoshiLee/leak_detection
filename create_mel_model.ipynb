{
 "cells": [
  {
   "metadata": {
    "ExecuteTime": {
     "end_time": "2024-11-12T12:35:23.678843Z",
     "start_time": "2024-11-12T12:35:22.057835Z"
    }
   },
   "cell_type": "code",
   "source": [
    "from datetime import datetime\n",
    "import librosa.display\n",
    "import os\n",
    "import librosa\n",
    "import numpy as np\n",
    "from sklearn.model_selection import train_test_split\n",
    "import random\n"
   ],
   "id": "c9272ced716478d7",
   "outputs": [],
   "execution_count": 1
  },
  {
   "metadata": {},
   "cell_type": "markdown",
   "source": "# 1. 資料加載與標記",
   "id": "a6fb182aae4eb89"
  },
  {
   "cell_type": "code",
   "id": "initial_id",
   "metadata": {
    "collapsed": true,
    "ExecuteTime": {
     "end_time": "2024-11-12T12:35:23.694851Z",
     "start_time": "2024-11-12T12:35:23.682846Z"
    }
   },
   "source": [
    "def load_segmented_files(directory, target_sr=32000):\n",
    "    wav_files = []\n",
    "    leak_wav_files = []\n",
    "    print(f\"共有 {len(os.listdir(directory))} 個資料夾\")\n",
    "    for dir in os.listdir(directory):\n",
    "        if not os.path.isdir(os.path.join(directory, dir)):\n",
    "            continue\n",
    "        print(f\"正在處理 {dir} 資料夾，共有 {len(os.listdir(os.path.join(directory, dir)))} 個檔案\")\n",
    "        for file in tqdm(os.listdir(os.path.join(directory, dir))):\n",
    "            if not file.endswith(\".wav\"):\n",
    "                continue\n",
    "            file_path = os.path.join(directory, dir, file)\n",
    "            y, sr = librosa.load(file_path, sr=None, mono=True)\n",
    "            if sr != target_sr:\n",
    "                    y = librosa.resample(y, orig_sr=sr, target_sr=target_sr)\n",
    "            filename = f'{dir}_{file}'\n",
    "            # y_filt = bandpass_filter(y, sr=target_sr, lowcut=10, highcut=1500)\n",
    "            if 'Leak' in dir:\n",
    "                leak_wav_files.append((y, target_sr, filename))\n",
    "            else:\n",
    "                wav_files.append((y, target_sr, filename))\n",
    "    print(f\"共有 {len(wav_files) + len(leak_wav_files)} 個 wav 檔案，其中 {len(leak_wav_files)} 個有泄漏，{len(wav_files)} 個沒有泄漏\")\n",
    "    return wav_files, leak_wav_files \n",
    "\n",
    "\n",
    "# 比較數量，均衡資料\n",
    "def balance_shuffle_data(wav_files, leak_wav_files):\n",
    "    min_count = min(len(wav_files), len(leak_wav_files))\n",
    "    wav_files = random.sample(wav_files, min_count)\n",
    "    leak_wav_files = random.sample(leak_wav_files, min_count)\n",
    "    \n",
    "    print(f\"均衡後的樣本數: {min_count}\")\n",
    "    return wav_files, leak_wav_files\n",
    "\n",
    "\n",
    "def create_dataset(directory):\n",
    "    wav_files, leak_wav_files = load_segmented_files(directory)\n",
    "    wav_files, leak_wav_files = balance_shuffle_data(wav_files, leak_wav_files)\n",
    "    \n",
    "    # 將資料轉為 NumPy 格式\n",
    "    X = []\n",
    "    y = []\n",
    "    \n",
    "    for audio, sr, filename in wav_files:\n",
    "        X.append((audio, sr))\n",
    "        y.append(0)  # wav_files 標記為 0\n",
    "    \n",
    "    for audio, sr, filename in leak_wav_files:\n",
    "        X.append((audio, sr))\n",
    "        y.append(1)  # leak_wav_files 標記為 1\n",
    "    \n",
    "    np.bincount(y)\n",
    "    return np.array(X, dtype=object), np.array(y)\n"
   ],
   "outputs": [],
   "execution_count": 2
  },
  {
   "metadata": {},
   "cell_type": "markdown",
   "source": "# 2. 特徵提取與資料預處理",
   "id": "b7788a5b8d4c0b5d"
  },
  {
   "metadata": {
    "ExecuteTime": {
     "end_time": "2024-11-12T12:35:25.879158Z",
     "start_time": "2024-11-12T12:35:23.758130Z"
    }
   },
   "cell_type": "code",
   "source": [
    "from tqdm import tqdm\n",
    "from data_preprocess import extract_features, extract_stft_features\n",
    "\n",
    "def preprocess_data(X, desired_time=2.0, n_mels=128, n_fft=2048, hop_length=512):\n",
    "    features = []\n",
    "    for audio, sr in tqdm(X):\n",
    "        feature = extract_features(audio, sr, desired_time=desired_time, n_mels=n_mels, n_fft=n_fft, hop_length=hop_length)\n",
    "        features.append(feature)\n",
    "    return np.array(features)\n"
   ],
   "id": "5cb187713d43dd39",
   "outputs": [],
   "execution_count": 3
  },
  {
   "metadata": {
    "ExecuteTime": {
     "end_time": "2024-11-12T12:35:25.910615Z",
     "start_time": "2024-11-12T12:35:25.895793Z"
    }
   },
   "cell_type": "code",
   "source": [
    "def create_training_data(X,y, desired_time=2.0,  n_mels=128, n_fft=2048, hop_length=512):\n",
    "    \n",
    "    print(f\"總樣本數: {len(X)}\")\n",
    "    print(f\"標籤分佈: {np.bincount(y)}\")\n",
    "    \n",
    "    \n",
    "    X_features = preprocess_data(X, desired_time=desired_time, n_mels= n_mels, n_fft=n_fft, hop_length=hop_length)\n",
    "    \n",
    "    print(f\"特徵形狀: {X_features.shape}\")  # 預期形狀: (樣本數, max_len, n_mels)\n",
    "    \n",
    "    # 正規化特徵\n",
    "    X_features = (X_features - np.mean(X_features)) / np.std(X_features)\n",
    "    \n",
    "    # 擴展維度以符合 CNN 輸入 (樣本數, 高, 寬, 通道)\n",
    "    X_features = np.expand_dims(X_features, -1)  # 新形狀: (樣本數, max_len, n_mels, 1)\n",
    "    \n",
    "    # 分割訓練集與測試集\n",
    "    X_train, X_test, y_train, y_test = train_test_split(X_features, y, test_size=0.2)\n",
    "    \n",
    "    print(f\"訓練集形狀: {X_train.shape}\")\n",
    "    print(f\"測試集形狀: {X_test.shape}\")\n",
    "    \n",
    "    return X_train, X_test, y_train, y_test"
   ],
   "id": "52f0af5743941c11",
   "outputs": [],
   "execution_count": 4
  },
  {
   "metadata": {
    "ExecuteTime": {
     "end_time": "2024-11-12T12:36:45.320710Z",
     "start_time": "2024-11-12T12:35:25.927709Z"
    }
   },
   "cell_type": "code",
   "source": "X, y = create_dataset('training_data')",
   "id": "825424b5a3c3bd79",
   "outputs": [
    {
     "name": "stdout",
     "output_type": "stream",
     "text": [
      "共有 2 個資料夾\n",
      "正在處理 Leak 資料夾，共有 1080 個檔案\n"
     ]
    },
    {
     "name": "stderr",
     "output_type": "stream",
     "text": [
      "100%|██████████| 1080/1080 [00:43<00:00, 25.03it/s]\n"
     ]
    },
    {
     "name": "stdout",
     "output_type": "stream",
     "text": [
      "正在處理 no-leak 資料夾，共有 967 個檔案\n"
     ]
    },
    {
     "name": "stderr",
     "output_type": "stream",
     "text": [
      "100%|██████████| 967/967 [00:36<00:00, 26.70it/s]"
     ]
    },
    {
     "name": "stdout",
     "output_type": "stream",
     "text": [
      "共有 2047 個 wav 檔案，其中 1080 個有泄漏，967 個沒有泄漏\n",
      "均衡後的樣本數: 967\n"
     ]
    },
    {
     "name": "stderr",
     "output_type": "stream",
     "text": [
      "\n"
     ]
    }
   ],
   "execution_count": 5
  },
  {
   "metadata": {
    "ExecuteTime": {
     "end_time": "2024-11-12T12:36:52.297487Z",
     "start_time": "2024-11-12T12:36:45.369175Z"
    }
   },
   "cell_type": "code",
   "source": [
    "from dotenv import load_dotenv\n",
    "load_dotenv()\n",
    "desired_time = float(os.getenv('DESIRED_TIME'))\n",
    "n_mels = int(os.getenv('N_MELS'))\n",
    "n_fft = int(os.getenv('N_FFT'))\n",
    "hop_length = int(os.getenv('HOP_LENGTH'))\n",
    "\n",
    "X_train, X_test, y_train, y_test = create_training_data(X, y, desired_time=2.0, n_mels=128, n_fft=1024, hop_length=256)"
   ],
   "id": "bd7b7beb007bb659",
   "outputs": [
    {
     "name": "stdout",
     "output_type": "stream",
     "text": [
      "總樣本數: 1934\n",
      "標籤分佈: [967 967]\n"
     ]
    },
    {
     "name": "stderr",
     "output_type": "stream",
     "text": [
      "  0%|          | 0/1934 [00:00<?, ?it/s]C:\\Users\\snick\\miniconda3\\envs\\leak_detection\\lib\\site-packages\\librosa\\util\\decorators.py:88: UserWarning: Empty filters detected in mel frequency basis. Some channels will produce empty responses. Try increasing your sampling rate (and fmax) or reducing n_mels.\n",
      "  return f(*args, **kwargs)\n",
      "100%|██████████| 1934/1934 [00:06<00:00, 298.66it/s]\n"
     ]
    },
    {
     "name": "stdout",
     "output_type": "stream",
     "text": [
      "特徵形狀: (1934, 256, 128)\n",
      "訓練集形狀: (1547, 256, 128, 1)\n",
      "測試集形狀: (387, 256, 128, 1)\n"
     ]
    }
   ],
   "execution_count": 6
  },
  {
   "metadata": {},
   "cell_type": "markdown",
   "source": "# 3. 建立 CNN 模型",
   "id": "55e34253937c671f"
  },
  {
   "metadata": {
    "ExecuteTime": {
     "end_time": "2024-11-12T12:36:52.343268Z",
     "start_time": "2024-11-12T12:36:52.328627Z"
    }
   },
   "cell_type": "code",
   "source": [
    "from keras.layers import BatchNormalization\n",
    "import tensorflow as tf\n",
    "from tensorflow.keras.models import Sequential\n",
    "from tensorflow.keras.layers import Conv2D, MaxPooling2D, Flatten, Dense, Dropout\n",
    "\n",
    "def create_cnn_model(input_shape):\n",
    "    \n",
    "    optimizer = tf.keras.optimizers.Adam(learning_rate=0.001)\n",
    "    \n",
    "    input_img = tf.keras.layers.Input(shape=input_shape)\n",
    " \n",
    "    x = Conv2D(32, (3, 3), activation='relu', padding='same')(input_img)\n",
    "    x = MaxPooling2D((2, 2), padding='same')(x)\n",
    "    x = Dropout(0.2)(x)\n",
    "    \n",
    "    x = Conv2D(32, (3, 3), activation='relu', padding='same')(x)\n",
    "    x = MaxPooling2D((2, 2), padding='same')(x)\n",
    "    x = Dropout(0.2)(x)\n",
    "    \n",
    "    x = Conv2D(64, (3, 3), activation='relu', padding='same')(x)\n",
    "    x = MaxPooling2D((2, 2), padding='same')(x)\n",
    "    x = Dropout(0.2)(x)\n",
    "    \n",
    "    x = Conv2D(128, (3, 3), activation='relu', padding='same')(x)\n",
    "    x = MaxPooling2D((2, 2), padding='same')(x)\n",
    "    x = Dropout(0.2)(x)\n",
    "    \n",
    "    x = Conv2D(256, (3, 3), activation='relu', padding='same')(x)\n",
    "    x = MaxPooling2D((2, 2), padding='same')(x)\n",
    "    x = Dropout(0.2)(x)\n",
    "\n",
    "    x = Flatten()(x)\n",
    "    x = Dense(128, activation='relu')(x)\n",
    "    x = Dense(64, activation='relu')(x)\n",
    "    x = Dense(32, activation='relu')(x)\n",
    "    x = Dense(16, activation='relu')(x)\n",
    "    x = Dropout(0.1)(x)\n",
    "    x = Dense(1, activation='sigmoid')(x)\n",
    "    \n",
    "    model = tf.keras.Model(inputs=input_img, outputs=x)\n",
    "    model.compile(optimizer=optimizer, loss='binary_crossentropy', metrics=['accuracy'])\n",
    "\n",
    "    return model\n"
   ],
   "id": "e5d13120a6048b8e",
   "outputs": [],
   "execution_count": 7
  },
  {
   "metadata": {
    "ExecuteTime": {
     "end_time": "2024-11-12T12:36:52.389953Z",
     "start_time": "2024-11-12T12:36:52.375262Z"
    }
   },
   "cell_type": "code",
   "source": [
    "def create_model(mockup_input):    \n",
    "    # 建立模型\n",
    "    input_shape = (mockup_input.shape[1], mockup_input.shape[2], 1)\n",
    "    print(f\"模型輸入形狀: {input_shape}\")\n",
    "    model = create_cnn_model(input_shape)\n",
    "    model.summary()\n",
    "    return model"
   ],
   "id": "a4ffc4a61f8a1c24",
   "outputs": [],
   "execution_count": 8
  },
  {
   "metadata": {},
   "cell_type": "markdown",
   "source": "# 4. 訓練模型",
   "id": "48f4e3f68035b7dc"
  },
  {
   "metadata": {
    "ExecuteTime": {
     "end_time": "2024-11-12T12:36:52.438040Z",
     "start_time": "2024-11-12T12:36:52.422976Z"
    }
   },
   "cell_type": "code",
   "source": [
    "from keras.callbacks import EarlyStopping, ReduceLROnPlateau\n",
    "\n",
    "\n",
    "def train_model(model, X_train, X_test, y_train, y_test, epochs=30, batch_size=32):\n",
    "        # 訓練模型\n",
    "        \n",
    "    early_stopping = EarlyStopping(monitor='val_loss', patience=35, restore_best_weights=True, verbose=1)\n",
    "    reduce_lr = ReduceLROnPlateau(monitor='val_loss', factor=0.1, patience=10, verbose=1)\n",
    "        \n",
    "    history = model.fit(   \n",
    "        X_train, y_train,\n",
    "        epochs=epochs,\n",
    "        batch_size=batch_size,\n",
    "        validation_data=(X_test, y_test),\n",
    "        shuffle=True,\n",
    "        callbacks=[early_stopping, reduce_lr],\n",
    "        verbose=2\n",
    "    )\n",
    "    \n",
    "    # 評估模型\n",
    "    test_loss, test_accuracy = model.evaluate(X_test, y_test)\n",
    "    print(f\"Test loss: {test_loss:.4f}\")\n",
    "    print(f\"Test accuracy: {test_accuracy:.2f}\")\n",
    "    \n",
    "    return model, history"
   ],
   "id": "2658a06f4a9db7e7",
   "outputs": [],
   "execution_count": 9
  },
  {
   "metadata": {
    "ExecuteTime": {
     "end_time": "2024-11-12T12:36:52.484276Z",
     "start_time": "2024-11-12T12:36:52.469746Z"
    }
   },
   "cell_type": "code",
   "source": [
    "def evaluate_model(model, X_test, y_test):\n",
    "    test_loss, test_accuracy = model.evaluate(X_test, y_test)\n",
    "    print(f\"Test loss: {test_loss:.4f}\")\n",
    "    print(f\"Test accuracy: {test_accuracy:.2f}\")"
   ],
   "id": "eb722b82e90ac3d",
   "outputs": [],
   "execution_count": 10
  },
  {
   "metadata": {
    "ExecuteTime": {
     "end_time": "2024-11-12T12:36:53.377870Z",
     "start_time": "2024-11-12T12:36:52.516028Z"
    }
   },
   "cell_type": "code",
   "source": "cnn_model = create_model(X_train)",
   "id": "496ecf15e0c42ddf",
   "outputs": [
    {
     "name": "stdout",
     "output_type": "stream",
     "text": [
      "模型輸入形狀: (256, 128, 1)\n",
      "Model: \"model\"\n",
      "_________________________________________________________________\n",
      " Layer (type)                Output Shape              Param #   \n",
      "=================================================================\n",
      " input_1 (InputLayer)        [(None, 256, 128, 1)]     0         \n",
      "                                                                 \n",
      " conv2d (Conv2D)             (None, 256, 128, 32)      320       \n",
      "                                                                 \n",
      " max_pooling2d (MaxPooling2D  (None, 128, 64, 32)      0         \n",
      " )                                                               \n",
      "                                                                 \n",
      " dropout (Dropout)           (None, 128, 64, 32)       0         \n",
      "                                                                 \n",
      " conv2d_1 (Conv2D)           (None, 128, 64, 32)       9248      \n",
      "                                                                 \n",
      " max_pooling2d_1 (MaxPooling  (None, 64, 32, 32)       0         \n",
      " 2D)                                                             \n",
      "                                                                 \n",
      " dropout_1 (Dropout)         (None, 64, 32, 32)        0         \n",
      "                                                                 \n",
      " conv2d_2 (Conv2D)           (None, 64, 32, 64)        18496     \n",
      "                                                                 \n",
      " max_pooling2d_2 (MaxPooling  (None, 32, 16, 64)       0         \n",
      " 2D)                                                             \n",
      "                                                                 \n",
      " dropout_2 (Dropout)         (None, 32, 16, 64)        0         \n",
      "                                                                 \n",
      " conv2d_3 (Conv2D)           (None, 32, 16, 128)       73856     \n",
      "                                                                 \n",
      " max_pooling2d_3 (MaxPooling  (None, 16, 8, 128)       0         \n",
      " 2D)                                                             \n",
      "                                                                 \n",
      " dropout_3 (Dropout)         (None, 16, 8, 128)        0         \n",
      "                                                                 \n",
      " conv2d_4 (Conv2D)           (None, 16, 8, 256)        295168    \n",
      "                                                                 \n",
      " max_pooling2d_4 (MaxPooling  (None, 8, 4, 256)        0         \n",
      " 2D)                                                             \n",
      "                                                                 \n",
      " dropout_4 (Dropout)         (None, 8, 4, 256)         0         \n",
      "                                                                 \n",
      " flatten (Flatten)           (None, 8192)              0         \n",
      "                                                                 \n",
      " dense (Dense)               (None, 128)               1048704   \n",
      "                                                                 \n",
      " dense_1 (Dense)             (None, 64)                8256      \n",
      "                                                                 \n",
      " dense_2 (Dense)             (None, 32)                2080      \n",
      "                                                                 \n",
      " dense_3 (Dense)             (None, 16)                528       \n",
      "                                                                 \n",
      " dropout_5 (Dropout)         (None, 16)                0         \n",
      "                                                                 \n",
      " dense_4 (Dense)             (None, 1)                 17        \n",
      "                                                                 \n",
      "=================================================================\n",
      "Total params: 1,456,673\n",
      "Trainable params: 1,456,673\n",
      "Non-trainable params: 0\n",
      "_________________________________________________________________\n"
     ]
    }
   ],
   "execution_count": 11
  },
  {
   "metadata": {
    "ExecuteTime": {
     "end_time": "2024-11-12T12:37:44.272841Z",
     "start_time": "2024-11-12T12:36:53.410554Z"
    }
   },
   "cell_type": "code",
   "source": "model, history = train_model(cnn_model, X_train, X_test, y_train, y_test, epochs=100, batch_size=64)",
   "id": "4c22f7b3db3499d5",
   "outputs": [
    {
     "name": "stdout",
     "output_type": "stream",
     "text": [
      "Epoch 1/100\n",
      "25/25 - 4s - loss: 0.6957 - accuracy: 0.4919 - val_loss: 0.6908 - val_accuracy: 0.4729 - lr: 0.0010 - 4s/epoch - 159ms/step\n",
      "Epoch 2/100\n",
      "25/25 - 1s - loss: 0.6706 - accuracy: 0.6341 - val_loss: 0.6619 - val_accuracy: 0.6718 - lr: 0.0010 - 690ms/epoch - 28ms/step\n",
      "Epoch 3/100\n",
      "25/25 - 1s - loss: 0.5526 - accuracy: 0.7227 - val_loss: 0.4960 - val_accuracy: 0.7649 - lr: 0.0010 - 683ms/epoch - 27ms/step\n",
      "Epoch 4/100\n",
      "25/25 - 1s - loss: 0.5062 - accuracy: 0.7492 - val_loss: 0.5412 - val_accuracy: 0.7855 - lr: 0.0010 - 677ms/epoch - 27ms/step\n",
      "Epoch 5/100\n",
      "25/25 - 1s - loss: 0.4836 - accuracy: 0.7770 - val_loss: 0.5158 - val_accuracy: 0.7855 - lr: 0.0010 - 678ms/epoch - 27ms/step\n",
      "Epoch 6/100\n",
      "25/25 - 1s - loss: 0.4565 - accuracy: 0.7931 - val_loss: 0.5552 - val_accuracy: 0.7907 - lr: 0.0010 - 677ms/epoch - 27ms/step\n",
      "Epoch 7/100\n",
      "25/25 - 1s - loss: 0.4615 - accuracy: 0.7983 - val_loss: 0.5041 - val_accuracy: 0.7804 - lr: 0.0010 - 677ms/epoch - 27ms/step\n",
      "Epoch 8/100\n",
      "25/25 - 1s - loss: 0.4539 - accuracy: 0.7880 - val_loss: 0.5195 - val_accuracy: 0.7700 - lr: 0.0010 - 676ms/epoch - 27ms/step\n",
      "Epoch 9/100\n",
      "25/25 - 1s - loss: 0.4347 - accuracy: 0.8216 - val_loss: 0.4484 - val_accuracy: 0.8372 - lr: 0.0010 - 691ms/epoch - 28ms/step\n",
      "Epoch 10/100\n",
      "25/25 - 1s - loss: 0.3998 - accuracy: 0.8268 - val_loss: 0.4385 - val_accuracy: 0.7933 - lr: 0.0010 - 693ms/epoch - 28ms/step\n",
      "Epoch 11/100\n",
      "25/25 - 1s - loss: 0.3597 - accuracy: 0.8474 - val_loss: 0.4319 - val_accuracy: 0.8295 - lr: 0.0010 - 690ms/epoch - 28ms/step\n",
      "Epoch 12/100\n",
      "25/25 - 1s - loss: 0.3990 - accuracy: 0.8171 - val_loss: 0.4248 - val_accuracy: 0.7984 - lr: 0.0010 - 680ms/epoch - 27ms/step\n",
      "Epoch 13/100\n",
      "25/25 - 1s - loss: 0.3499 - accuracy: 0.8481 - val_loss: 0.3900 - val_accuracy: 0.8682 - lr: 0.0010 - 682ms/epoch - 27ms/step\n",
      "Epoch 14/100\n",
      "25/25 - 1s - loss: 0.3367 - accuracy: 0.8442 - val_loss: 0.4001 - val_accuracy: 0.8346 - lr: 0.0010 - 674ms/epoch - 27ms/step\n",
      "Epoch 15/100\n",
      "25/25 - 1s - loss: 0.3316 - accuracy: 0.8481 - val_loss: 0.4231 - val_accuracy: 0.7959 - lr: 0.0010 - 684ms/epoch - 27ms/step\n",
      "Epoch 16/100\n",
      "25/25 - 1s - loss: 0.3154 - accuracy: 0.8513 - val_loss: 0.3537 - val_accuracy: 0.8501 - lr: 0.0010 - 697ms/epoch - 28ms/step\n",
      "Epoch 17/100\n",
      "25/25 - 1s - loss: 0.2867 - accuracy: 0.8733 - val_loss: 0.3143 - val_accuracy: 0.8760 - lr: 0.0010 - 697ms/epoch - 28ms/step\n",
      "Epoch 18/100\n",
      "25/25 - 1s - loss: 0.3238 - accuracy: 0.8584 - val_loss: 0.3696 - val_accuracy: 0.8424 - lr: 0.0010 - 678ms/epoch - 27ms/step\n",
      "Epoch 19/100\n",
      "25/25 - 1s - loss: 0.3075 - accuracy: 0.8701 - val_loss: 0.3345 - val_accuracy: 0.8579 - lr: 0.0010 - 679ms/epoch - 27ms/step\n",
      "Epoch 20/100\n",
      "25/25 - 1s - loss: 0.2707 - accuracy: 0.8817 - val_loss: 0.3254 - val_accuracy: 0.8605 - lr: 0.0010 - 683ms/epoch - 27ms/step\n",
      "Epoch 21/100\n",
      "25/25 - 1s - loss: 0.2613 - accuracy: 0.8940 - val_loss: 0.3998 - val_accuracy: 0.8269 - lr: 0.0010 - 688ms/epoch - 28ms/step\n",
      "Epoch 22/100\n",
      "25/25 - 1s - loss: 0.2647 - accuracy: 0.8888 - val_loss: 0.4029 - val_accuracy: 0.8217 - lr: 0.0010 - 687ms/epoch - 27ms/step\n",
      "Epoch 23/100\n",
      "25/25 - 1s - loss: 0.2918 - accuracy: 0.8701 - val_loss: 0.3614 - val_accuracy: 0.8475 - lr: 0.0010 - 684ms/epoch - 27ms/step\n",
      "Epoch 24/100\n",
      "25/25 - 1s - loss: 0.2333 - accuracy: 0.8933 - val_loss: 0.3446 - val_accuracy: 0.8656 - lr: 0.0010 - 681ms/epoch - 27ms/step\n",
      "Epoch 25/100\n",
      "25/25 - 1s - loss: 0.2517 - accuracy: 0.8992 - val_loss: 0.3342 - val_accuracy: 0.8527 - lr: 0.0010 - 695ms/epoch - 28ms/step\n",
      "Epoch 26/100\n",
      "25/25 - 1s - loss: 0.2145 - accuracy: 0.9056 - val_loss: 0.3036 - val_accuracy: 0.8734 - lr: 0.0010 - 682ms/epoch - 27ms/step\n",
      "Epoch 27/100\n",
      "25/25 - 1s - loss: 0.1968 - accuracy: 0.9179 - val_loss: 0.3024 - val_accuracy: 0.8708 - lr: 0.0010 - 680ms/epoch - 27ms/step\n",
      "Epoch 28/100\n",
      "25/25 - 1s - loss: 0.2127 - accuracy: 0.9076 - val_loss: 0.3110 - val_accuracy: 0.8786 - lr: 0.0010 - 679ms/epoch - 27ms/step\n",
      "Epoch 29/100\n",
      "25/25 - 1s - loss: 0.2228 - accuracy: 0.9082 - val_loss: 0.3750 - val_accuracy: 0.8682 - lr: 0.0010 - 680ms/epoch - 27ms/step\n",
      "Epoch 30/100\n",
      "25/25 - 1s - loss: 0.2057 - accuracy: 0.9095 - val_loss: 0.3189 - val_accuracy: 0.8553 - lr: 0.0010 - 669ms/epoch - 27ms/step\n",
      "Epoch 31/100\n",
      "25/25 - 1s - loss: 0.1896 - accuracy: 0.9205 - val_loss: 0.3909 - val_accuracy: 0.8217 - lr: 0.0010 - 678ms/epoch - 27ms/step\n",
      "Epoch 32/100\n",
      "25/25 - 1s - loss: 0.2592 - accuracy: 0.8843 - val_loss: 0.3182 - val_accuracy: 0.8630 - lr: 0.0010 - 675ms/epoch - 27ms/step\n",
      "Epoch 33/100\n",
      "25/25 - 1s - loss: 0.1874 - accuracy: 0.9166 - val_loss: 0.3262 - val_accuracy: 0.8527 - lr: 0.0010 - 678ms/epoch - 27ms/step\n",
      "Epoch 34/100\n",
      "25/25 - 1s - loss: 0.1718 - accuracy: 0.9205 - val_loss: 0.2966 - val_accuracy: 0.8811 - lr: 0.0010 - 680ms/epoch - 27ms/step\n",
      "Epoch 35/100\n",
      "25/25 - 1s - loss: 0.1785 - accuracy: 0.9231 - val_loss: 0.4276 - val_accuracy: 0.8165 - lr: 0.0010 - 671ms/epoch - 27ms/step\n",
      "Epoch 36/100\n",
      "25/25 - 1s - loss: 0.2172 - accuracy: 0.9050 - val_loss: 0.3511 - val_accuracy: 0.8424 - lr: 0.0010 - 676ms/epoch - 27ms/step\n",
      "Epoch 37/100\n",
      "25/25 - 1s - loss: 0.1912 - accuracy: 0.9186 - val_loss: 0.3520 - val_accuracy: 0.8553 - lr: 0.0010 - 681ms/epoch - 27ms/step\n",
      "Epoch 38/100\n",
      "25/25 - 1s - loss: 0.1522 - accuracy: 0.9354 - val_loss: 0.2992 - val_accuracy: 0.8811 - lr: 0.0010 - 681ms/epoch - 27ms/step\n",
      "Epoch 39/100\n",
      "25/25 - 1s - loss: 0.1643 - accuracy: 0.9308 - val_loss: 0.3272 - val_accuracy: 0.8553 - lr: 0.0010 - 673ms/epoch - 27ms/step\n",
      "Epoch 40/100\n",
      "25/25 - 1s - loss: 0.1361 - accuracy: 0.9418 - val_loss: 0.3385 - val_accuracy: 0.8682 - lr: 0.0010 - 680ms/epoch - 27ms/step\n",
      "Epoch 41/100\n",
      "25/25 - 1s - loss: 0.1565 - accuracy: 0.9379 - val_loss: 0.3266 - val_accuracy: 0.8630 - lr: 0.0010 - 689ms/epoch - 28ms/step\n",
      "Epoch 42/100\n",
      "25/25 - 1s - loss: 0.1518 - accuracy: 0.9295 - val_loss: 0.3997 - val_accuracy: 0.8501 - lr: 0.0010 - 677ms/epoch - 27ms/step\n",
      "Epoch 43/100\n",
      "25/25 - 1s - loss: 0.1322 - accuracy: 0.9431 - val_loss: 0.3552 - val_accuracy: 0.8708 - lr: 0.0010 - 673ms/epoch - 27ms/step\n",
      "Epoch 44/100\n",
      "\n",
      "Epoch 44: ReduceLROnPlateau reducing learning rate to 0.00010000000474974513.\n",
      "25/25 - 1s - loss: 0.1171 - accuracy: 0.9509 - val_loss: 0.3453 - val_accuracy: 0.8915 - lr: 0.0010 - 685ms/epoch - 27ms/step\n",
      "Epoch 45/100\n",
      "25/25 - 1s - loss: 0.0865 - accuracy: 0.9612 - val_loss: 0.3427 - val_accuracy: 0.8837 - lr: 1.0000e-04 - 685ms/epoch - 27ms/step\n",
      "Epoch 46/100\n",
      "25/25 - 1s - loss: 0.0789 - accuracy: 0.9690 - val_loss: 0.3396 - val_accuracy: 0.8889 - lr: 1.0000e-04 - 679ms/epoch - 27ms/step\n",
      "Epoch 47/100\n",
      "25/25 - 1s - loss: 0.0843 - accuracy: 0.9599 - val_loss: 0.3380 - val_accuracy: 0.8915 - lr: 1.0000e-04 - 685ms/epoch - 27ms/step\n",
      "Epoch 48/100\n",
      "25/25 - 1s - loss: 0.0755 - accuracy: 0.9683 - val_loss: 0.3356 - val_accuracy: 0.8966 - lr: 1.0000e-04 - 686ms/epoch - 27ms/step\n",
      "Epoch 49/100\n",
      "25/25 - 1s - loss: 0.0719 - accuracy: 0.9709 - val_loss: 0.3378 - val_accuracy: 0.8941 - lr: 1.0000e-04 - 686ms/epoch - 27ms/step\n",
      "Epoch 50/100\n",
      "25/25 - 1s - loss: 0.0669 - accuracy: 0.9683 - val_loss: 0.3405 - val_accuracy: 0.8889 - lr: 1.0000e-04 - 681ms/epoch - 27ms/step\n",
      "Epoch 51/100\n",
      "25/25 - 1s - loss: 0.0645 - accuracy: 0.9729 - val_loss: 0.3486 - val_accuracy: 0.8915 - lr: 1.0000e-04 - 684ms/epoch - 27ms/step\n",
      "Epoch 52/100\n",
      "25/25 - 1s - loss: 0.0649 - accuracy: 0.9729 - val_loss: 0.3618 - val_accuracy: 0.8915 - lr: 1.0000e-04 - 676ms/epoch - 27ms/step\n",
      "Epoch 53/100\n",
      "25/25 - 1s - loss: 0.0712 - accuracy: 0.9716 - val_loss: 0.3523 - val_accuracy: 0.8915 - lr: 1.0000e-04 - 675ms/epoch - 27ms/step\n",
      "Epoch 54/100\n",
      "\n",
      "Epoch 54: ReduceLROnPlateau reducing learning rate to 1.0000000474974514e-05.\n",
      "25/25 - 1s - loss: 0.0669 - accuracy: 0.9716 - val_loss: 0.3684 - val_accuracy: 0.8837 - lr: 1.0000e-04 - 680ms/epoch - 27ms/step\n",
      "Epoch 55/100\n",
      "25/25 - 1s - loss: 0.0683 - accuracy: 0.9709 - val_loss: 0.3679 - val_accuracy: 0.8837 - lr: 1.0000e-05 - 674ms/epoch - 27ms/step\n",
      "Epoch 56/100\n",
      "25/25 - 1s - loss: 0.0597 - accuracy: 0.9761 - val_loss: 0.3686 - val_accuracy: 0.8811 - lr: 1.0000e-05 - 683ms/epoch - 27ms/step\n",
      "Epoch 57/100\n",
      "25/25 - 1s - loss: 0.0571 - accuracy: 0.9735 - val_loss: 0.3693 - val_accuracy: 0.8811 - lr: 1.0000e-05 - 682ms/epoch - 27ms/step\n",
      "Epoch 58/100\n",
      "25/25 - 1s - loss: 0.0581 - accuracy: 0.9735 - val_loss: 0.3688 - val_accuracy: 0.8811 - lr: 1.0000e-05 - 680ms/epoch - 27ms/step\n",
      "Epoch 59/100\n",
      "25/25 - 1s - loss: 0.0558 - accuracy: 0.9767 - val_loss: 0.3678 - val_accuracy: 0.8863 - lr: 1.0000e-05 - 680ms/epoch - 27ms/step\n",
      "Epoch 60/100\n",
      "25/25 - 1s - loss: 0.0564 - accuracy: 0.9761 - val_loss: 0.3696 - val_accuracy: 0.8863 - lr: 1.0000e-05 - 675ms/epoch - 27ms/step\n",
      "Epoch 61/100\n",
      "25/25 - 1s - loss: 0.0615 - accuracy: 0.9741 - val_loss: 0.3698 - val_accuracy: 0.8863 - lr: 1.0000e-05 - 678ms/epoch - 27ms/step\n",
      "Epoch 62/100\n",
      "25/25 - 1s - loss: 0.0595 - accuracy: 0.9774 - val_loss: 0.3703 - val_accuracy: 0.8863 - lr: 1.0000e-05 - 669ms/epoch - 27ms/step\n",
      "Epoch 63/100\n",
      "25/25 - 1s - loss: 0.0496 - accuracy: 0.9825 - val_loss: 0.3700 - val_accuracy: 0.8863 - lr: 1.0000e-05 - 672ms/epoch - 27ms/step\n",
      "Epoch 64/100\n",
      "\n",
      "Epoch 64: ReduceLROnPlateau reducing learning rate to 1.0000000656873453e-06.\n",
      "25/25 - 1s - loss: 0.0553 - accuracy: 0.9793 - val_loss: 0.3712 - val_accuracy: 0.8863 - lr: 1.0000e-05 - 675ms/epoch - 27ms/step\n",
      "Epoch 65/100\n",
      "25/25 - 1s - loss: 0.0530 - accuracy: 0.9806 - val_loss: 0.3714 - val_accuracy: 0.8863 - lr: 1.0000e-06 - 669ms/epoch - 27ms/step\n",
      "Epoch 66/100\n",
      "25/25 - 1s - loss: 0.0550 - accuracy: 0.9800 - val_loss: 0.3714 - val_accuracy: 0.8863 - lr: 1.0000e-06 - 672ms/epoch - 27ms/step\n",
      "Epoch 67/100\n",
      "25/25 - 1s - loss: 0.0559 - accuracy: 0.9729 - val_loss: 0.3712 - val_accuracy: 0.8863 - lr: 1.0000e-06 - 676ms/epoch - 27ms/step\n",
      "Epoch 68/100\n",
      "25/25 - 1s - loss: 0.0533 - accuracy: 0.9800 - val_loss: 0.3713 - val_accuracy: 0.8863 - lr: 1.0000e-06 - 679ms/epoch - 27ms/step\n",
      "Epoch 69/100\n",
      "Restoring model weights from the end of the best epoch: 34.\n",
      "25/25 - 1s - loss: 0.0597 - accuracy: 0.9780 - val_loss: 0.3715 - val_accuracy: 0.8863 - lr: 1.0000e-06 - 705ms/epoch - 28ms/step\n",
      "Epoch 69: early stopping\n",
      "13/13 [==============================] - 0s 4ms/step - loss: 0.2966 - accuracy: 0.8811\n",
      "Test loss: 0.2966\n",
      "Test accuracy: 0.88\n"
     ]
    }
   ],
   "execution_count": 12
  },
  {
   "metadata": {
    "ExecuteTime": {
     "end_time": "2024-11-12T12:37:44.427412Z",
     "start_time": "2024-11-12T12:37:44.304042Z"
    }
   },
   "cell_type": "code",
   "source": [
    "evaluate_model(cnn_model, X_test, y_test)\n",
    "history.history['val_accuracy'][-1]"
   ],
   "id": "34386cec81d6a2d4",
   "outputs": [
    {
     "name": "stdout",
     "output_type": "stream",
     "text": [
      "13/13 [==============================] - 0s 5ms/step - loss: 0.2966 - accuracy: 0.8811\n",
      "Test loss: 0.2966\n",
      "Test accuracy: 0.88\n"
     ]
    },
    {
     "data": {
      "text/plain": [
       "0.8863049149513245"
      ]
     },
     "execution_count": 13,
     "metadata": {},
     "output_type": "execute_result"
    }
   ],
   "execution_count": 13
  },
  {
   "metadata": {
    "ExecuteTime": {
     "end_time": "2024-11-12T12:37:44.536614Z",
     "start_time": "2024-11-12T12:37:44.460700Z"
    }
   },
   "cell_type": "code",
   "source": [
    "date = datetime.now().strftime('%Y%m%d%H%M')\n",
    "val_acc = history.history['val_accuracy'][-1]\n",
    "model.save(f'model_mel_{date}_acc_{val_acc:.2f}.h5')\n",
    "print(f\"Model saved as model_mel_{date}_acc_{val_acc:.2f}.h5\")"
   ],
   "id": "551ff463bcaf8093",
   "outputs": [
    {
     "name": "stdout",
     "output_type": "stream",
     "text": [
      "Model saved as model_mel_202411122037_acc_0.89.h5\n"
     ]
    }
   ],
   "execution_count": 14
  },
  {
   "metadata": {
    "ExecuteTime": {
     "end_time": "2024-11-12T12:37:44.812900Z",
     "start_time": "2024-11-12T12:37:44.568773Z"
    }
   },
   "cell_type": "code",
   "source": [
    "import matplotlib.pyplot as plt\n",
    "plt.plot(history.history['loss'])\n",
    "plt.plot(history.history['val_loss'])\n",
    "plt.title('Model loss')\n",
    "plt.ylabel('Loss')\n",
    "plt.xlabel('Epoch')\n",
    "plt.legend(['Train', 'Test'], loc='upper right')\n",
    "plt.savefig(f'model_mel_loss_{date}_acc_{val_acc:.2f}.png')\n",
    "plt.show()"
   ],
   "id": "70c5f696df14eef",
   "outputs": [
    {
     "data": {
      "text/plain": [
       "<Figure size 640x480 with 1 Axes>"
      ],
      "image/png": "[encoded data removed]"
     },
     "metadata": {},
     "output_type": "display_data"
    }
   ],
   "execution_count": 15
  },
  {
   "metadata": {
    "ExecuteTime": {
     "end_time": "2024-11-12T12:37:44.858783Z",
     "start_time": "2024-11-12T12:37:44.845144Z"
    }
   },
   "cell_type": "code",
   "source": "",
   "id": "77144cb141ef9e4a",
   "outputs": [],
   "execution_count": null
  }
 ],
 "metadata": {
  "kernelspec": {
   "display_name": "Python 3",
   "language": "python",
   "name": "python3"
  },
  "language_info": {
   "codemirror_mode": {
    "name": "ipython",
    "version": 2
   },
   "file_extension": ".py",
   "mimetype": "text/x-python",
   "name": "python",
   "nbconvert_exporter": "python",
   "pygments_lexer": "ipython2",
   "version": "2.7.6"
  }
 },
 "nbformat": 4,
 "nbformat_minor": 5
}
