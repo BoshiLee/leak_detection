{
 "cells": [
  {
   "metadata": {
    "ExecuteTime": {
     "end_time": "2024-11-11T12:23:29.389413Z",
     "start_time": "2024-11-11T12:23:25.914012Z"
    }
   },
   "cell_type": "code",
   "source": [
    "from datetime import datetime\n",
    "from data_preprocess import bandpass_filter\n",
    "import librosa.display\n",
    "import os\n",
    "import librosa\n",
    "import numpy as np\n",
    "from sklearn.model_selection import train_test_split\n",
    "import random\n"
   ],
   "id": "c9272ced716478d7",
   "outputs": [],
   "execution_count": 1
  },
  {
   "metadata": {},
   "cell_type": "markdown",
   "source": "# 1. 資料加載與標記",
   "id": "a6fb182aae4eb89"
  },
  {
   "cell_type": "code",
   "id": "initial_id",
   "metadata": {
    "collapsed": true,
    "ExecuteTime": {
     "end_time": "2024-11-11T12:23:35.102987Z",
     "start_time": "2024-11-11T12:23:35.083391Z"
    }
   },
   "source": [
    "def load_segmented_files(directory, target_sr=4800):\n",
    "    wav_files = []\n",
    "    leak_wav_files = []\n",
    "    print(f\"共有 {len(os.listdir(directory))} 個資料夾\")\n",
    "    for dir in os.listdir(directory):\n",
    "        if not os.path.isdir(os.path.join(directory, dir)):\n",
    "            continue\n",
    "        print(f\"正在處理 {dir} 資料夾，共有 {len(os.listdir(os.path.join(directory, dir)))} 個檔案\")\n",
    "        for file in tqdm(os.listdir(os.path.join(directory, dir))):\n",
    "            if not file.endswith(\".wav\"):\n",
    "                continue\n",
    "            file_path = os.path.join(directory, dir, file)\n",
    "            y, sr = librosa.load(file_path, sr=None, mono=True)\n",
    "            if sr != target_sr:\n",
    "                    y = librosa.resample(y, orig_sr=sr, target_sr=target_sr)\n",
    "            filename = f'{dir}_{file}'\n",
    "            # y_filt = bandpass_filter(y, sr=target_sr, lowcut=10, highcut=1500)\n",
    "            if 'Leak' in dir:\n",
    "                leak_wav_files.append((y, target_sr, filename))\n",
    "            else:\n",
    "                wav_files.append((y, target_sr, filename))\n",
    "    print(f\"共有 {len(wav_files) + len(leak_wav_files)} 個 wav 檔案，其中 {len(leak_wav_files)} 個有泄漏，{len(wav_files)} 個沒有泄漏\")\n",
    "    return wav_files, leak_wav_files \n",
    "\n",
    "\n",
    "# 比較數量，均衡資料\n",
    "def balance_shuffle_data(wav_files, leak_wav_files):\n",
    "    min_count = min(len(wav_files), len(leak_wav_files))\n",
    "    wav_files = random.sample(wav_files, min_count)\n",
    "    leak_wav_files = random.sample(leak_wav_files, min_count)\n",
    "    \n",
    "    print(f\"均衡後的樣本數: {min_count}\")\n",
    "    return wav_files, leak_wav_files\n",
    "\n",
    "\n",
    "def create_dataset(directory):\n",
    "    wav_files, leak_wav_files = load_segmented_files(directory)\n",
    "    wav_files, leak_wav_files = balance_shuffle_data(wav_files, leak_wav_files)\n",
    "    \n",
    "    # 將資料轉為 NumPy 格式\n",
    "    X = []\n",
    "    y = []\n",
    "    \n",
    "    for audio, sr, filename in wav_files:\n",
    "        X.append((audio, sr))\n",
    "        y.append(0)  # wav_files 標記為 0\n",
    "    \n",
    "    for audio, sr, filename in leak_wav_files:\n",
    "        X.append((audio, sr))\n",
    "        y.append(1)  # leak_wav_files 標記為 1\n",
    "    \n",
    "    return np.array(X, dtype=object), np.array(y)\n"
   ],
   "outputs": [],
   "execution_count": 2
  },
  {
   "metadata": {},
   "cell_type": "markdown",
   "source": "# 2. 特徵提取與資料預處理",
   "id": "b7788a5b8d4c0b5d"
  },
  {
   "metadata": {
    "ExecuteTime": {
     "end_time": "2024-11-11T12:23:44.583504Z",
     "start_time": "2024-11-11T12:23:44.570419Z"
    }
   },
   "cell_type": "code",
   "source": [
    "from tqdm import tqdm\n",
    "from data_preprocess import extract_features, extract_stft_features\n",
    "\n",
    "def preprocess_data(X, desired_time=2.0, n_mels=128, n_fft=2048, hop_length=512):\n",
    "    features = []\n",
    "    for audio, sr in tqdm(X):\n",
    "        feature = extract_features(audio, sr, desired_time=desired_time, n_mels=n_mels, n_fft=n_fft, hop_length=hop_length)\n",
    "        features.append(feature)\n",
    "    return np.array(features)\n"
   ],
   "id": "5cb187713d43dd39",
   "outputs": [],
   "execution_count": 3
  },
  {
   "metadata": {
    "ExecuteTime": {
     "end_time": "2024-11-11T12:23:45.675216Z",
     "start_time": "2024-11-11T12:23:45.667165Z"
    }
   },
   "cell_type": "code",
   "source": [
    "def create_training_data(X,y, desired_time=2.0,  n_mels=128, n_fft=2048, hop_length=512):\n",
    "    \n",
    "    print(f\"總樣本數: {len(X)}\")\n",
    "    print(f\"標籤分佈: {np.bincount(y)}\")\n",
    "    \n",
    "    \n",
    "    X_features = preprocess_data(X, desired_time=desired_time, n_mels= n_mels, n_fft=n_fft, hop_length=hop_length)\n",
    "    \n",
    "    print(f\"特徵形狀: {X_features.shape}\")  # 預期形狀: (樣本數, max_len, n_mels)\n",
    "    \n",
    "    # 正規化特徵\n",
    "    X_features = (X_features - np.mean(X_features)) / np.std(X_features)\n",
    "    \n",
    "    # 擴展維度以符合 CNN 輸入 (樣本數, 高, 寬, 通道)\n",
    "    X_features = np.expand_dims(X_features, -1)  # 新形狀: (樣本數, max_len, n_mels, 1)\n",
    "    \n",
    "    # 分割訓練集與測試集\n",
    "    X_train, X_test, y_train, y_test = train_test_split(X_features, y, test_size=0.2)\n",
    "    \n",
    "    print(f\"訓練集形狀: {X_train.shape}\")\n",
    "    print(f\"測試集形狀: {X_test.shape}\")\n",
    "    \n",
    "    return X_train, X_test, y_train, y_test"
   ],
   "id": "52f0af5743941c11",
   "outputs": [],
   "execution_count": 4
  },
  {
   "metadata": {
    "ExecuteTime": {
     "end_time": "2024-11-11T12:29:34.876058Z",
     "start_time": "2024-11-11T12:23:55.658419Z"
    }
   },
   "cell_type": "code",
   "source": "X, y = create_dataset('training_data')",
   "id": "825424b5a3c3bd79",
   "outputs": [
    {
     "name": "stdout",
     "output_type": "stream",
     "text": [
      "共有 2 個資料夾\n",
      "正在處理 Leak 資料夾，共有 1080 個檔案\n"
     ]
    },
    {
     "name": "stderr",
     "output_type": "stream",
     "text": [
      "100%|██████████| 1080/1080 [00:44<00:00, 24.22it/s]\n"
     ]
    },
    {
     "name": "stdout",
     "output_type": "stream",
     "text": [
      "正在處理 no-leak 資料夾，共有 8342 個檔案\n"
     ]
    },
    {
     "name": "stderr",
     "output_type": "stream",
     "text": [
      "100%|██████████| 8342/8342 [04:54<00:00, 28.32it/s]\n"
     ]
    },
    {
     "name": "stdout",
     "output_type": "stream",
     "text": [
      "共有 9422 個 wav 檔案，其中 1080 個有泄漏，8342 個沒有泄漏\n",
      "均衡後的樣本數: 1080\n"
     ]
    }
   ],
   "execution_count": 5
  },
  {
   "metadata": {
    "ExecuteTime": {
     "end_time": "2024-11-11T12:30:00.975855Z",
     "start_time": "2024-11-11T12:29:51.623072Z"
    }
   },
   "cell_type": "code",
   "source": "X_train, X_test, y_train, y_test = create_training_data(X, y, desired_time=2.0, n_mels=120, n_fft=2048, hop_length=64)",
   "id": "bd7b7beb007bb659",
   "outputs": [
    {
     "name": "stdout",
     "output_type": "stream",
     "text": [
      "總樣本數: 2160\n",
      "標籤分佈: [1080 1080]\n"
     ]
    },
    {
     "name": "stderr",
     "output_type": "stream",
     "text": [
      "100%|██████████| 2160/2160 [00:09<00:00, 238.22it/s]\n"
     ]
    },
    {
     "name": "stdout",
     "output_type": "stream",
     "text": [
      "特徵形狀: (2160, 152, 120)\n",
      "訓練集形狀: (1728, 152, 120, 1)\n",
      "測試集形狀: (432, 152, 120, 1)\n"
     ]
    }
   ],
   "execution_count": 6
  },
  {
   "metadata": {},
   "cell_type": "markdown",
   "source": "# 3. 建立 CNN 模型",
   "id": "55e34253937c671f"
  },
  {
   "metadata": {
    "ExecuteTime": {
     "end_time": "2024-11-11T12:30:03.941276Z",
     "start_time": "2024-11-11T12:30:03.916086Z"
    }
   },
   "cell_type": "code",
   "source": [
    "from keras.layers import BatchNormalization\n",
    "import tensorflow as tf\n",
    "from tensorflow.keras.models import Sequential\n",
    "from tensorflow.keras.layers import Conv2D, MaxPooling2D, Flatten, Dense, Dropout\n",
    "\n",
    "def create_cnn_model(input_shape):\n",
    "    \n",
    "    optimizer = tf.keras.optimizers.Adam(learning_rate=0.001)\n",
    "    \n",
    "    input_img = tf.keras.layers.Input(shape=input_shape)\n",
    " \n",
    "    x = Conv2D(32, (3, 3), activation='relu', padding='same')(input_img)\n",
    "    x = MaxPooling2D((2, 2), padding='same')(x)\n",
    "    x = Dropout(0.2)(x)\n",
    "    \n",
    "    x = Conv2D(32, (3, 3), activation='relu', padding='same')(x)\n",
    "    x = MaxPooling2D((2, 2), padding='same')(x)\n",
    "    x = Dropout(0.2)(x)\n",
    "    \n",
    "    x = Conv2D(64, (3, 3), activation='relu', padding='same')(x)\n",
    "    x = MaxPooling2D((2, 2), padding='same')(x)\n",
    "    x = Dropout(0.2)(x)\n",
    "    \n",
    "    x = Conv2D(64, (3, 3), activation='relu', padding='same')(x)\n",
    "    x = MaxPooling2D((2, 2), padding='same')(x)\n",
    "    x = Dropout(0.2)(x)\n",
    "\n",
    "    x = Flatten()(x)\n",
    "    x = Dense(64, activation='relu')(x)\n",
    "    x = Dense(32, activation='relu')(x)\n",
    "    x = Dense(16, activation='relu')(x)\n",
    "    x = Dropout(0.1)(x)\n",
    "    x = Dense(1, activation='sigmoid')(x)\n",
    "    \n",
    "    model = tf.keras.Model(inputs=input_img, outputs=x)\n",
    "    model.compile(optimizer=optimizer, loss='binary_crossentropy', metrics=['accuracy'])\n",
    "\n",
    "    return model\n"
   ],
   "id": "e5d13120a6048b8e",
   "outputs": [],
   "execution_count": 7
  },
  {
   "metadata": {
    "ExecuteTime": {
     "end_time": "2024-11-11T12:30:04.626402Z",
     "start_time": "2024-11-11T12:30:04.618403Z"
    }
   },
   "cell_type": "code",
   "source": [
    "def create_model(mockup_input):    \n",
    "    # 建立模型\n",
    "    input_shape = (mockup_input.shape[1], mockup_input.shape[2], 1)\n",
    "    print(f\"模型輸入形狀: {input_shape}\")\n",
    "    model = create_cnn_model(input_shape)\n",
    "    model.summary()\n",
    "    return model"
   ],
   "id": "a4ffc4a61f8a1c24",
   "outputs": [],
   "execution_count": 8
  },
  {
   "metadata": {},
   "cell_type": "markdown",
   "source": "# 4. 訓練模型",
   "id": "48f4e3f68035b7dc"
  },
  {
   "metadata": {
    "ExecuteTime": {
     "end_time": "2024-11-11T12:30:06.069328Z",
     "start_time": "2024-11-11T12:30:06.061303Z"
    }
   },
   "cell_type": "code",
   "source": [
    "from keras.callbacks import EarlyStopping, ReduceLROnPlateau\n",
    "\n",
    "\n",
    "def train_model(model, X_train, X_test, y_train, y_test, epochs=30, batch_size=32):\n",
    "        # 訓練模型\n",
    "        \n",
    "    early_stopping = EarlyStopping(monitor='val_loss', patience=35, restore_best_weights=True, verbose=1)\n",
    "    reduce_lr = ReduceLROnPlateau(monitor='val_loss', factor=0.1, patience=10, verbose=1)\n",
    "        \n",
    "    history = model.fit(   \n",
    "        X_train, y_train,\n",
    "        epochs=epochs,\n",
    "        batch_size=batch_size,\n",
    "        validation_data=(X_test, y_test),\n",
    "        shuffle=True,\n",
    "        callbacks=[early_stopping, reduce_lr],\n",
    "        verbose=2\n",
    "    )\n",
    "    \n",
    "    # 評估模型\n",
    "    test_loss, test_accuracy = model.evaluate(X_test, y_test)\n",
    "    print(f\"Test loss: {test_loss:.4f}\")\n",
    "    print(f\"Test accuracy: {test_accuracy:.2f}\")\n",
    "    \n",
    "    return model, history"
   ],
   "id": "2658a06f4a9db7e7",
   "outputs": [],
   "execution_count": 9
  },
  {
   "metadata": {
    "ExecuteTime": {
     "end_time": "2024-11-11T12:30:06.861454Z",
     "start_time": "2024-11-11T12:30:06.849159Z"
    }
   },
   "cell_type": "code",
   "source": [
    "def evaluate_model(model, X_test, y_test):\n",
    "    test_loss, test_accuracy = model.evaluate(X_test, y_test)\n",
    "    print(f\"Test loss: {test_loss:.4f}\")\n",
    "    print(f\"Test accuracy: {test_accuracy:.2f}\")"
   ],
   "id": "eb722b82e90ac3d",
   "outputs": [],
   "execution_count": 10
  },
  {
   "metadata": {
    "ExecuteTime": {
     "end_time": "2024-11-11T12:30:09.136732Z",
     "start_time": "2024-11-11T12:30:07.396472Z"
    }
   },
   "cell_type": "code",
   "source": "cnn_model = create_model(X_train)",
   "id": "496ecf15e0c42ddf",
   "outputs": [
    {
     "name": "stdout",
     "output_type": "stream",
     "text": [
      "模型輸入形狀: (152, 120, 1)\n",
      "Model: \"model\"\n",
      "_________________________________________________________________\n",
      " Layer (type)                Output Shape              Param #   \n",
      "=================================================================\n",
      " input_1 (InputLayer)        [(None, 152, 120, 1)]     0         \n",
      "                                                                 \n",
      " conv2d (Conv2D)             (None, 152, 120, 32)      320       \n",
      "                                                                 \n",
      " max_pooling2d (MaxPooling2D  (None, 76, 60, 32)       0         \n",
      " )                                                               \n",
      "                                                                 \n",
      " dropout (Dropout)           (None, 76, 60, 32)        0         \n",
      "                                                                 \n",
      " conv2d_1 (Conv2D)           (None, 76, 60, 32)        9248      \n",
      "                                                                 \n",
      " max_pooling2d_1 (MaxPooling  (None, 38, 30, 32)       0         \n",
      " 2D)                                                             \n",
      "                                                                 \n",
      " dropout_1 (Dropout)         (None, 38, 30, 32)        0         \n",
      "                                                                 \n",
      " conv2d_2 (Conv2D)           (None, 38, 30, 64)        18496     \n",
      "                                                                 \n",
      " max_pooling2d_2 (MaxPooling  (None, 19, 15, 64)       0         \n",
      " 2D)                                                             \n",
      "                                                                 \n",
      " dropout_2 (Dropout)         (None, 19, 15, 64)        0         \n",
      "                                                                 \n",
      " conv2d_3 (Conv2D)           (None, 19, 15, 64)        36928     \n",
      "                                                                 \n",
      " max_pooling2d_3 (MaxPooling  (None, 10, 8, 64)        0         \n",
      " 2D)                                                             \n",
      "                                                                 \n",
      " dropout_3 (Dropout)         (None, 10, 8, 64)         0         \n",
      "                                                                 \n",
      " flatten (Flatten)           (None, 5120)              0         \n",
      "                                                                 \n",
      " dense (Dense)               (None, 64)                327744    \n",
      "                                                                 \n",
      " dense_1 (Dense)             (None, 32)                2080      \n",
      "                                                                 \n",
      " dense_2 (Dense)             (None, 16)                528       \n",
      "                                                                 \n",
      " dropout_4 (Dropout)         (None, 16)                0         \n",
      "                                                                 \n",
      " dense_3 (Dense)             (None, 1)                 17        \n",
      "                                                                 \n",
      "=================================================================\n",
      "Total params: 395,361\n",
      "Trainable params: 395,361\n",
      "Non-trainable params: 0\n",
      "_________________________________________________________________\n"
     ]
    }
   ],
   "execution_count": 11
  },
  {
   "metadata": {
    "ExecuteTime": {
     "end_time": "2024-11-11T12:30:39.102819Z",
     "start_time": "2024-11-11T12:30:10.248354Z"
    }
   },
   "cell_type": "code",
   "source": "model, history = train_model(cnn_model, X_train, X_test, y_train, y_test, epochs=120)",
   "id": "4c22f7b3db3499d5",
   "outputs": [
    {
     "name": "stdout",
     "output_type": "stream",
     "text": [
      "Epoch 1/120\n",
      "54/54 - 6s - loss: 0.4300 - accuracy: 0.7992 - val_loss: 0.2924 - val_accuracy: 0.9028 - lr: 0.0010 - 6s/epoch - 111ms/step\n",
      "Epoch 2/120\n",
      "54/54 - 0s - loss: 0.2477 - accuracy: 0.9074 - val_loss: 0.2973 - val_accuracy: 0.9213 - lr: 0.0010 - 408ms/epoch - 8ms/step\n",
      "Epoch 3/120\n",
      "54/54 - 0s - loss: 0.2232 - accuracy: 0.9248 - val_loss: 0.1841 - val_accuracy: 0.9329 - lr: 0.0010 - 409ms/epoch - 8ms/step\n",
      "Epoch 4/120\n",
      "54/54 - 0s - loss: 0.1907 - accuracy: 0.9317 - val_loss: 0.1739 - val_accuracy: 0.9306 - lr: 0.0010 - 412ms/epoch - 8ms/step\n",
      "Epoch 5/120\n",
      "54/54 - 0s - loss: 0.1906 - accuracy: 0.9271 - val_loss: 0.1621 - val_accuracy: 0.9375 - lr: 0.0010 - 400ms/epoch - 7ms/step\n",
      "Epoch 6/120\n",
      "54/54 - 0s - loss: 0.1704 - accuracy: 0.9392 - val_loss: 0.1993 - val_accuracy: 0.9190 - lr: 0.0010 - 390ms/epoch - 7ms/step\n",
      "Epoch 7/120\n",
      "54/54 - 0s - loss: 0.1674 - accuracy: 0.9416 - val_loss: 0.2171 - val_accuracy: 0.9074 - lr: 0.0010 - 395ms/epoch - 7ms/step\n",
      "Epoch 8/120\n",
      "54/54 - 0s - loss: 0.1484 - accuracy: 0.9479 - val_loss: 0.2303 - val_accuracy: 0.9097 - lr: 0.0010 - 392ms/epoch - 7ms/step\n",
      "Epoch 9/120\n",
      "54/54 - 0s - loss: 0.1536 - accuracy: 0.9473 - val_loss: 0.1942 - val_accuracy: 0.9144 - lr: 0.0010 - 407ms/epoch - 8ms/step\n",
      "Epoch 10/120\n",
      "54/54 - 0s - loss: 0.1517 - accuracy: 0.9479 - val_loss: 0.1478 - val_accuracy: 0.9491 - lr: 0.0010 - 398ms/epoch - 7ms/step\n",
      "Epoch 11/120\n",
      "54/54 - 0s - loss: 0.1313 - accuracy: 0.9583 - val_loss: 0.1541 - val_accuracy: 0.9421 - lr: 0.0010 - 392ms/epoch - 7ms/step\n",
      "Epoch 12/120\n",
      "54/54 - 0s - loss: 0.1246 - accuracy: 0.9595 - val_loss: 0.1682 - val_accuracy: 0.9306 - lr: 0.0010 - 395ms/epoch - 7ms/step\n",
      "Epoch 13/120\n",
      "54/54 - 0s - loss: 0.1154 - accuracy: 0.9618 - val_loss: 0.1286 - val_accuracy: 0.9491 - lr: 0.0010 - 405ms/epoch - 8ms/step\n",
      "Epoch 14/120\n",
      "54/54 - 0s - loss: 0.1122 - accuracy: 0.9635 - val_loss: 0.1165 - val_accuracy: 0.9491 - lr: 0.0010 - 394ms/epoch - 7ms/step\n",
      "Epoch 15/120\n",
      "54/54 - 0s - loss: 0.1073 - accuracy: 0.9676 - val_loss: 0.2050 - val_accuracy: 0.9167 - lr: 0.0010 - 390ms/epoch - 7ms/step\n",
      "Epoch 16/120\n",
      "54/54 - 0s - loss: 0.1038 - accuracy: 0.9641 - val_loss: 0.1363 - val_accuracy: 0.9444 - lr: 0.0010 - 402ms/epoch - 7ms/step\n",
      "Epoch 17/120\n",
      "54/54 - 0s - loss: 0.0893 - accuracy: 0.9722 - val_loss: 0.1534 - val_accuracy: 0.9375 - lr: 0.0010 - 398ms/epoch - 7ms/step\n",
      "Epoch 18/120\n",
      "54/54 - 0s - loss: 0.0803 - accuracy: 0.9774 - val_loss: 0.1164 - val_accuracy: 0.9560 - lr: 0.0010 - 397ms/epoch - 7ms/step\n",
      "Epoch 19/120\n",
      "54/54 - 0s - loss: 0.0787 - accuracy: 0.9734 - val_loss: 0.1598 - val_accuracy: 0.9421 - lr: 0.0010 - 394ms/epoch - 7ms/step\n",
      "Epoch 20/120\n",
      "54/54 - 0s - loss: 0.0653 - accuracy: 0.9786 - val_loss: 0.1785 - val_accuracy: 0.9398 - lr: 0.0010 - 399ms/epoch - 7ms/step\n",
      "Epoch 21/120\n",
      "54/54 - 0s - loss: 0.0724 - accuracy: 0.9774 - val_loss: 0.1371 - val_accuracy: 0.9560 - lr: 0.0010 - 395ms/epoch - 7ms/step\n",
      "Epoch 22/120\n",
      "54/54 - 0s - loss: 0.0786 - accuracy: 0.9728 - val_loss: 0.1204 - val_accuracy: 0.9537 - lr: 0.0010 - 388ms/epoch - 7ms/step\n",
      "Epoch 23/120\n",
      "54/54 - 0s - loss: 0.0846 - accuracy: 0.9670 - val_loss: 0.1116 - val_accuracy: 0.9606 - lr: 0.0010 - 401ms/epoch - 7ms/step\n",
      "Epoch 24/120\n",
      "54/54 - 0s - loss: 0.0494 - accuracy: 0.9878 - val_loss: 0.1812 - val_accuracy: 0.9421 - lr: 0.0010 - 388ms/epoch - 7ms/step\n",
      "Epoch 25/120\n",
      "54/54 - 0s - loss: 0.0664 - accuracy: 0.9757 - val_loss: 0.1407 - val_accuracy: 0.9560 - lr: 0.0010 - 391ms/epoch - 7ms/step\n",
      "Epoch 26/120\n",
      "54/54 - 0s - loss: 0.0515 - accuracy: 0.9838 - val_loss: 0.1318 - val_accuracy: 0.9606 - lr: 0.0010 - 395ms/epoch - 7ms/step\n",
      "Epoch 27/120\n",
      "54/54 - 0s - loss: 0.0389 - accuracy: 0.9873 - val_loss: 0.1140 - val_accuracy: 0.9699 - lr: 0.0010 - 391ms/epoch - 7ms/step\n",
      "Epoch 28/120\n",
      "54/54 - 0s - loss: 0.0352 - accuracy: 0.9896 - val_loss: 0.1642 - val_accuracy: 0.9583 - lr: 0.0010 - 392ms/epoch - 7ms/step\n",
      "Epoch 29/120\n",
      "54/54 - 0s - loss: 0.0575 - accuracy: 0.9792 - val_loss: 0.1191 - val_accuracy: 0.9676 - lr: 0.0010 - 403ms/epoch - 7ms/step\n",
      "Epoch 30/120\n",
      "54/54 - 0s - loss: 0.0330 - accuracy: 0.9896 - val_loss: 0.1421 - val_accuracy: 0.9676 - lr: 0.0010 - 398ms/epoch - 7ms/step\n",
      "Epoch 31/120\n",
      "54/54 - 0s - loss: 0.0356 - accuracy: 0.9884 - val_loss: 0.1484 - val_accuracy: 0.9653 - lr: 0.0010 - 395ms/epoch - 7ms/step\n",
      "Epoch 32/120\n",
      "54/54 - 0s - loss: 0.0507 - accuracy: 0.9803 - val_loss: 0.1766 - val_accuracy: 0.9560 - lr: 0.0010 - 393ms/epoch - 7ms/step\n",
      "Epoch 33/120\n",
      "\n",
      "Epoch 33: ReduceLROnPlateau reducing learning rate to 0.00010000000474974513.\n",
      "54/54 - 0s - loss: 0.0534 - accuracy: 0.9815 - val_loss: 0.2003 - val_accuracy: 0.9444 - lr: 0.0010 - 388ms/epoch - 7ms/step\n",
      "Epoch 34/120\n",
      "54/54 - 0s - loss: 0.0440 - accuracy: 0.9861 - val_loss: 0.1350 - val_accuracy: 0.9676 - lr: 1.0000e-04 - 398ms/epoch - 7ms/step\n",
      "Epoch 35/120\n",
      "54/54 - 0s - loss: 0.0278 - accuracy: 0.9931 - val_loss: 0.1343 - val_accuracy: 0.9699 - lr: 1.0000e-04 - 394ms/epoch - 7ms/step\n",
      "Epoch 36/120\n",
      "54/54 - 0s - loss: 0.0251 - accuracy: 0.9942 - val_loss: 0.1380 - val_accuracy: 0.9676 - lr: 1.0000e-04 - 392ms/epoch - 7ms/step\n",
      "Epoch 37/120\n",
      "54/54 - 0s - loss: 0.0205 - accuracy: 0.9954 - val_loss: 0.1413 - val_accuracy: 0.9676 - lr: 1.0000e-04 - 390ms/epoch - 7ms/step\n",
      "Epoch 38/120\n",
      "54/54 - 0s - loss: 0.0213 - accuracy: 0.9954 - val_loss: 0.1442 - val_accuracy: 0.9653 - lr: 1.0000e-04 - 392ms/epoch - 7ms/step\n",
      "Epoch 39/120\n",
      "54/54 - 0s - loss: 0.0216 - accuracy: 0.9959 - val_loss: 0.1423 - val_accuracy: 0.9676 - lr: 1.0000e-04 - 394ms/epoch - 7ms/step\n",
      "Epoch 40/120\n",
      "54/54 - 0s - loss: 0.0188 - accuracy: 0.9948 - val_loss: 0.1535 - val_accuracy: 0.9630 - lr: 1.0000e-04 - 391ms/epoch - 7ms/step\n",
      "Epoch 41/120\n",
      "54/54 - 0s - loss: 0.0159 - accuracy: 0.9971 - val_loss: 0.1522 - val_accuracy: 0.9653 - lr: 1.0000e-04 - 404ms/epoch - 7ms/step\n",
      "Epoch 42/120\n",
      "54/54 - 0s - loss: 0.0154 - accuracy: 0.9965 - val_loss: 0.1535 - val_accuracy: 0.9653 - lr: 1.0000e-04 - 392ms/epoch - 7ms/step\n",
      "Epoch 43/120\n",
      "\n",
      "Epoch 43: ReduceLROnPlateau reducing learning rate to 1.0000000474974514e-05.\n",
      "54/54 - 0s - loss: 0.0162 - accuracy: 0.9959 - val_loss: 0.1544 - val_accuracy: 0.9606 - lr: 1.0000e-04 - 391ms/epoch - 7ms/step\n",
      "Epoch 44/120\n",
      "54/54 - 0s - loss: 0.0232 - accuracy: 0.9936 - val_loss: 0.1532 - val_accuracy: 0.9606 - lr: 1.0000e-05 - 388ms/epoch - 7ms/step\n",
      "Epoch 45/120\n",
      "54/54 - 0s - loss: 0.0156 - accuracy: 0.9954 - val_loss: 0.1520 - val_accuracy: 0.9653 - lr: 1.0000e-05 - 387ms/epoch - 7ms/step\n",
      "Epoch 46/120\n",
      "54/54 - 0s - loss: 0.0148 - accuracy: 0.9965 - val_loss: 0.1525 - val_accuracy: 0.9630 - lr: 1.0000e-05 - 388ms/epoch - 7ms/step\n",
      "Epoch 47/120\n",
      "54/54 - 0s - loss: 0.0154 - accuracy: 0.9965 - val_loss: 0.1528 - val_accuracy: 0.9606 - lr: 1.0000e-05 - 388ms/epoch - 7ms/step\n",
      "Epoch 48/120\n",
      "54/54 - 0s - loss: 0.0152 - accuracy: 0.9965 - val_loss: 0.1535 - val_accuracy: 0.9630 - lr: 1.0000e-05 - 392ms/epoch - 7ms/step\n",
      "Epoch 49/120\n",
      "54/54 - 0s - loss: 0.0160 - accuracy: 0.9942 - val_loss: 0.1536 - val_accuracy: 0.9630 - lr: 1.0000e-05 - 387ms/epoch - 7ms/step\n",
      "Epoch 50/120\n",
      "54/54 - 0s - loss: 0.0147 - accuracy: 0.9965 - val_loss: 0.1541 - val_accuracy: 0.9630 - lr: 1.0000e-05 - 386ms/epoch - 7ms/step\n",
      "Epoch 51/120\n",
      "54/54 - 0s - loss: 0.0129 - accuracy: 0.9954 - val_loss: 0.1546 - val_accuracy: 0.9630 - lr: 1.0000e-05 - 389ms/epoch - 7ms/step\n",
      "Epoch 52/120\n",
      "54/54 - 0s - loss: 0.0136 - accuracy: 0.9977 - val_loss: 0.1549 - val_accuracy: 0.9630 - lr: 1.0000e-05 - 392ms/epoch - 7ms/step\n",
      "Epoch 53/120\n",
      "\n",
      "Epoch 53: ReduceLROnPlateau reducing learning rate to 1.0000000656873453e-06.\n",
      "54/54 - 0s - loss: 0.0165 - accuracy: 0.9965 - val_loss: 0.1549 - val_accuracy: 0.9653 - lr: 1.0000e-05 - 396ms/epoch - 7ms/step\n",
      "Epoch 54/120\n",
      "54/54 - 0s - loss: 0.0133 - accuracy: 0.9959 - val_loss: 0.1550 - val_accuracy: 0.9653 - lr: 1.0000e-06 - 397ms/epoch - 7ms/step\n",
      "Epoch 55/120\n",
      "54/54 - 0s - loss: 0.0158 - accuracy: 0.9959 - val_loss: 0.1548 - val_accuracy: 0.9653 - lr: 1.0000e-06 - 394ms/epoch - 7ms/step\n",
      "Epoch 56/120\n",
      "54/54 - 0s - loss: 0.0122 - accuracy: 0.9977 - val_loss: 0.1551 - val_accuracy: 0.9653 - lr: 1.0000e-06 - 393ms/epoch - 7ms/step\n",
      "Epoch 57/120\n",
      "54/54 - 0s - loss: 0.0160 - accuracy: 0.9971 - val_loss: 0.1551 - val_accuracy: 0.9653 - lr: 1.0000e-06 - 388ms/epoch - 7ms/step\n",
      "Epoch 58/120\n",
      "Restoring model weights from the end of the best epoch: 23.\n",
      "54/54 - 0s - loss: 0.0144 - accuracy: 0.9959 - val_loss: 0.1552 - val_accuracy: 0.9653 - lr: 1.0000e-06 - 401ms/epoch - 7ms/step\n",
      "Epoch 58: early stopping\n",
      "14/14 [==============================] - 0s 3ms/step - loss: 0.1116 - accuracy: 0.9606\n",
      "Test loss: 0.1116\n",
      "Test accuracy: 0.96\n"
     ]
    }
   ],
   "execution_count": 12
  },
  {
   "metadata": {
    "ExecuteTime": {
     "end_time": "2024-11-11T12:30:41.935675Z",
     "start_time": "2024-11-11T12:30:41.777494Z"
    }
   },
   "cell_type": "code",
   "source": "evaluate_model(cnn_model, X_test, y_test)",
   "id": "34386cec81d6a2d4",
   "outputs": [
    {
     "name": "stdout",
     "output_type": "stream",
     "text": [
      "14/14 [==============================] - 0s 6ms/step - loss: 0.1116 - accuracy: 0.9606\n",
      "Test loss: 0.1116\n",
      "Test accuracy: 0.96\n"
     ]
    }
   ],
   "execution_count": 13
  },
  {
   "metadata": {
    "ExecuteTime": {
     "end_time": "2024-11-11T12:30:42.775535Z",
     "start_time": "2024-11-11T12:30:42.725162Z"
    }
   },
   "cell_type": "code",
   "source": [
    "date = datetime.now().strftime('%Y%m%d%H%M')\n",
    "model.save(f'model_mel_{date}.h5')\n",
    "print(f\"Model saved as model_mel_{date}.h5\")"
   ],
   "id": "551ff463bcaf8093",
   "outputs": [
    {
     "name": "stdout",
     "output_type": "stream",
     "text": [
      "Model saved as model_mel_202411112030.h5\n"
     ]
    }
   ],
   "execution_count": 14
  },
  {
   "metadata": {
    "ExecuteTime": {
     "end_time": "2024-11-11T12:30:43.720975Z",
     "start_time": "2024-11-11T12:30:43.469150Z"
    }
   },
   "cell_type": "code",
   "source": [
    "import matplotlib.pyplot as plt\n",
    "plt.plot(history.history['loss'])\n",
    "plt.plot(history.history['val_loss'])\n",
    "plt.title('Model loss')\n",
    "plt.ylabel('Loss')\n",
    "plt.xlabel('Epoch')\n",
    "plt.legend(['Train', 'Test'], loc='upper right')\n",
    "plt.savefig(f'model_mel_loss_{date}.png')\n",
    "plt.show()"
   ],
   "id": "70c5f696df14eef",
   "outputs": [
    {
     "data": {
      "text/plain": [
       "<Figure size 640x480 with 1 Axes>"
      ],
      "image/png": "[encoded data removed]"
     },
     "metadata": {},
     "output_type": "display_data"
    }
   ],
   "execution_count": 15
  },
  {
   "metadata": {},
   "cell_type": "code",
   "source": "",
   "id": "77144cb141ef9e4a",
   "outputs": [],
   "execution_count": null
  }
 ],
 "metadata": {
  "kernelspec": {
   "display_name": "Python 3",
   "language": "python",
   "name": "python3"
  },
  "language_info": {
   "codemirror_mode": {
    "name": "ipython",
    "version": 2
   },
   "file_extension": ".py",
   "mimetype": "text/x-python",
   "name": "python",
   "nbconvert_exporter": "python",
   "pygments_lexer": "ipython2",
   "version": "2.7.6"
  }
 },
 "nbformat": 4,
 "nbformat_minor": 5
}
