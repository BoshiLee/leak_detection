{
 "cells": [
  {
   "metadata": {
    "ExecuteTime": {
     "end_time": "2024-11-07T07:17:41.897874Z",
     "start_time": "2024-11-07T07:17:33.207451Z"
    }
   },
   "cell_type": "code",
   "source": [
    "from datetime import datetime\n",
    "\n",
    "import librosa.display\n",
    "import os\n",
    "import librosa\n",
    "import numpy as np\n",
    "from sklearn.model_selection import train_test_split\n",
    "import random\n"
   ],
   "id": "c9272ced716478d7",
   "outputs": [],
   "execution_count": 1
  },
  {
   "metadata": {},
   "cell_type": "markdown",
   "source": "# 1. 資料加載與標記",
   "id": "a6fb182aae4eb89"
  },
  {
   "cell_type": "code",
   "id": "initial_id",
   "metadata": {
    "collapsed": true,
    "ExecuteTime": {
     "end_time": "2024-11-07T07:17:41.928348Z",
     "start_time": "2024-11-07T07:17:41.905811Z"
    }
   },
   "source": [
    "def load_segmented_files(directory, target_sr=48000):\n",
    "    wav_files = []\n",
    "    leak_wav_files = []\n",
    "    for dir in os.listdir(directory):\n",
    "        if not os.path.isdir(os.path.join(directory, dir)):\n",
    "            continue\n",
    "        for file in os.listdir(os.path.join(directory, dir)):\n",
    "            if not file.endswith(\".wav\"):\n",
    "                continue\n",
    "            file_path = os.path.join(directory, dir, file)\n",
    "            y, sr = librosa.load(file_path, sr=None)\n",
    "            if sr != target_sr:\n",
    "                    y = librosa.resample(y, orig_sr=sr, target_sr=target_sr)\n",
    "            filename = f'{dir}_{file}'\n",
    "            if 'Leak' in dir:\n",
    "                leak_wav_files.append((y, target_sr, filename))\n",
    "            else:\n",
    "                wav_files.append((y, target_sr, filename))\n",
    "    print(f\"共有 {len(wav_files) + len(leak_wav_files)} 個 wav 檔案，其中 {len(leak_wav_files)} 個有泄漏，{len(wav_files)} 個沒有泄漏\")\n",
    "    return wav_files, leak_wav_files \n",
    "\n",
    "\n",
    "# 比較數量，均衡資料\n",
    "def balance_shuffle_data(wav_files, leak_wav_files):\n",
    "    min_count = min(len(wav_files), len(leak_wav_files))\n",
    "    wav_files = random.sample(wav_files, min_count)\n",
    "    leak_wav_files = random.sample(leak_wav_files, min_count)\n",
    "    \n",
    "    print(f\"均衡後的樣本數: {min_count}\")\n",
    "    return wav_files, leak_wav_files\n",
    "\n",
    "\n",
    "def create_dataset(directory):\n",
    "    wav_files, leak_wav_files = load_segmented_files(directory)\n",
    "    wav_files, leak_wav_files = balance_shuffle_data(wav_files, leak_wav_files)\n",
    "    \n",
    "    # 將資料轉為 NumPy 格式\n",
    "    X = []\n",
    "    y = []\n",
    "    \n",
    "    for audio, sr, filename in wav_files:\n",
    "        X.append((audio, sr))\n",
    "        y.append(0)  # wav_files 標記為 0\n",
    "    \n",
    "    for audio, sr, filename in leak_wav_files:\n",
    "        X.append((audio, sr))\n",
    "        y.append(1)  # leak_wav_files 標記為 1\n",
    "    \n",
    "    return np.array(X, dtype=object), np.array(y)\n"
   ],
   "outputs": [],
   "execution_count": 2
  },
  {
   "metadata": {},
   "cell_type": "markdown",
   "source": "# 2. 特徵提取與資料預處理",
   "id": "b7788a5b8d4c0b5d"
  },
  {
   "metadata": {
    "ExecuteTime": {
     "end_time": "2024-11-07T07:17:50.161213Z",
     "start_time": "2024-11-07T07:17:42.118954Z"
    }
   },
   "cell_type": "code",
   "source": [
    "from tqdm import tqdm\n",
    "from data_preprocess import extract_features, extract_stft_features\n",
    "\n",
    "def preprocess_data(X, desired_time=2.0, n_mels=128, n_fft=2048, hop_length=512):\n",
    "    features = []\n",
    "    for audio, sr in tqdm(X):\n",
    "        feature = extract_features(audio, sr, desired_time=desired_time, n_mels=n_mels, n_fft=n_fft, hop_length=hop_length)\n",
    "        features.append(feature)\n",
    "    return np.array(features)\n"
   ],
   "id": "5cb187713d43dd39",
   "outputs": [],
   "execution_count": 3
  },
  {
   "metadata": {
    "ExecuteTime": {
     "end_time": "2024-11-07T07:17:50.192405Z",
     "start_time": "2024-11-07T07:17:50.178844Z"
    }
   },
   "cell_type": "code",
   "source": [
    "def create_training_data(X,y, desired_time=2.0,  n_mels=128, n_fft=2048, hop_length=512):\n",
    "    \n",
    "    print(f\"總樣本數: {len(X)}\")\n",
    "    print(f\"標籤分佈: {np.bincount(y)}\")\n",
    "    \n",
    "    \n",
    "    X_features = preprocess_data(X, desired_time=desired_time, n_mels= n_mels, n_fft=n_fft, hop_length=hop_length)\n",
    "    \n",
    "    print(f\"特徵形狀: {X_features.shape}\")  # 預期形狀: (樣本數, max_len, n_mels)\n",
    "    \n",
    "    # 正規化特徵\n",
    "    X_features = (X_features - np.mean(X_features)) / np.std(X_features)\n",
    "    \n",
    "    # 擴展維度以符合 CNN 輸入 (樣本數, 高, 寬, 通道)\n",
    "    X_features = np.expand_dims(X_features, -1)  # 新形狀: (樣本數, max_len, n_mels, 1)\n",
    "    \n",
    "    # 分割訓練集與測試集\n",
    "    X_train, X_test, y_train, y_test = train_test_split(X_features, y, test_size=0.2)\n",
    "    \n",
    "    print(f\"訓練集形狀: {X_train.shape}\")\n",
    "    print(f\"測試集形狀: {X_test.shape}\")\n",
    "    \n",
    "    return X_train, X_test, y_train, y_test"
   ],
   "id": "52f0af5743941c11",
   "outputs": [],
   "execution_count": 4
  },
  {
   "metadata": {
    "ExecuteTime": {
     "end_time": "2024-11-07T07:18:07.245492Z",
     "start_time": "2024-11-07T07:17:50.210525Z"
    }
   },
   "cell_type": "code",
   "source": "X, y = create_dataset('raw_train')",
   "id": "825424b5a3c3bd79",
   "outputs": [
    {
     "name": "stdout",
     "output_type": "stream",
     "text": [
      "共有 4396 個 wav 檔案，其中 1151 個有泄漏，3245 個沒有泄漏\n",
      "均衡後的樣本數: 1151\n"
     ]
    }
   ],
   "execution_count": 5
  },
  {
   "metadata": {
    "ExecuteTime": {
     "end_time": "2024-11-07T07:34:40.746893Z",
     "start_time": "2024-11-07T07:34:26.830665Z"
    }
   },
   "cell_type": "code",
   "source": "X_train, X_test, y_train, y_test = create_training_data(X, y, desired_time=2.0, n_mels=128, n_fft=2048, hop_length=512)",
   "id": "bd7b7beb007bb659",
   "outputs": [
    {
     "name": "stdout",
     "output_type": "stream",
     "text": [
      "總樣本數: 2302\n",
      "標籤分佈: [1151 1151]\n"
     ]
    },
    {
     "name": "stderr",
     "output_type": "stream",
     "text": [
      "100%|██████████| 2302/2302 [00:13<00:00, 171.78it/s]\n"
     ]
    },
    {
     "name": "stdout",
     "output_type": "stream",
     "text": [
      "特徵形狀: (2302, 192, 128)\n",
      "訓練集形狀: (1841, 192, 128, 1)\n",
      "測試集形狀: (461, 192, 128, 1)\n"
     ]
    }
   ],
   "execution_count": 42
  },
  {
   "metadata": {},
   "cell_type": "markdown",
   "source": "# 3. 建立 CNN 模型",
   "id": "55e34253937c671f"
  },
  {
   "metadata": {
    "ExecuteTime": {
     "end_time": "2024-11-07T07:41:59.604847Z",
     "start_time": "2024-11-07T07:41:59.583760Z"
    }
   },
   "cell_type": "code",
   "source": [
    "from keras.layers import BatchNormalization\n",
    "import tensorflow as tf\n",
    "from tensorflow.keras.models import Sequential\n",
    "from tensorflow.keras.layers import Conv2D, MaxPooling2D, Flatten, Dense, Dropout\n",
    "\n",
    "def create_cnn_model(input_shape):\n",
    "    \n",
    "    optimizer = tf.keras.optimizers.Adam(learning_rate=0.0001)\n",
    "    \n",
    "    input_img = tf.keras.layers.Input(shape=input_shape)\n",
    " \n",
    "    x = Conv2D(32, (3, 3), activation='relu', padding='same')(input_img)\n",
    "    x = MaxPooling2D((2, 2), padding='same')(x)\n",
    "    x = Dropout(0.3)(x)\n",
    "    \n",
    "    x = Conv2D(64, (3, 3), activation='relu', padding='same')(x)\n",
    "    x = MaxPooling2D((2, 2), padding='same')(x)\n",
    "    x = Dropout(0.3)(x)\n",
    "    \n",
    "    x = Conv2D(64, (3, 3), activation='relu', padding='same')(x)\n",
    "    x = MaxPooling2D((2, 2), padding='same')(x)\n",
    "    x = Dropout(0.3)(x)\n",
    "    \n",
    "    x = Conv2D(64, (3, 3), activation='relu', padding='same')(x)\n",
    "    x = MaxPooling2D((2, 2), padding='same')(x)\n",
    "    x = Dropout(0.3)(x)\n",
    "\n",
    "    x = Flatten()(x)\n",
    "    x = Dense(64, activation='relu')(x)\n",
    "    x = Dense(32, activation='relu')(x)\n",
    "    x = Dense(16, activation='relu')(x)\n",
    "    x = Dropout(0.1)(x)\n",
    "    x = Dense(1, activation='sigmoid')(x)\n",
    "    \n",
    "    model = tf.keras.Model(inputs=input_img, outputs=x)\n",
    "    model.compile(optimizer=optimizer, loss='binary_crossentropy', metrics=['accuracy'])\n",
    "\n",
    "    return model\n"
   ],
   "id": "e5d13120a6048b8e",
   "outputs": [],
   "execution_count": 53
  },
  {
   "metadata": {
    "ExecuteTime": {
     "end_time": "2024-11-07T07:42:00.069959Z",
     "start_time": "2024-11-07T07:42:00.061780Z"
    }
   },
   "cell_type": "code",
   "source": [
    "def create_model(mockup_input):    \n",
    "    # 建立模型\n",
    "    input_shape = (mockup_input.shape[1], mockup_input.shape[2], 1)\n",
    "    print(f\"模型輸入形狀: {input_shape}\")\n",
    "    model = create_cnn_model(input_shape)\n",
    "    model.summary()\n",
    "    return model"
   ],
   "id": "a4ffc4a61f8a1c24",
   "outputs": [],
   "execution_count": 54
  },
  {
   "metadata": {},
   "cell_type": "markdown",
   "source": "# 4. 訓練模型",
   "id": "48f4e3f68035b7dc"
  },
  {
   "metadata": {
    "ExecuteTime": {
     "end_time": "2024-11-07T07:42:01.404969Z",
     "start_time": "2024-11-07T07:42:01.395966Z"
    }
   },
   "cell_type": "code",
   "source": [
    "from keras.callbacks import EarlyStopping, ReduceLROnPlateau\n",
    "\n",
    "\n",
    "def train_model(model, X_train, X_test, y_train, y_test, epochs=30, batch_size=32):\n",
    "        # 訓練模型\n",
    "        \n",
    "    early_stopping = EarlyStopping(monitor='val_loss', patience=25, verbose=1)\n",
    "    reduce_lr = ReduceLROnPlateau(monitor='val_loss', factor=0.1, patience=10, verbose=1)\n",
    "        \n",
    "    history = model.fit(   \n",
    "        X_train, y_train,\n",
    "        epochs=epochs,\n",
    "        batch_size=batch_size,\n",
    "        validation_data=(X_test, y_test),\n",
    "        shuffle=True,\n",
    "        callbacks=[early_stopping, reduce_lr],\n",
    "        verbose=2\n",
    "    )\n",
    "    \n",
    "    # 評估模型\n",
    "    test_loss, test_accuracy = model.evaluate(X_test, y_test)\n",
    "    print(f\"Test loss: {test_loss:.4f}\")\n",
    "    print(f\"Test accuracy: {test_accuracy:.2f}\")\n",
    "    \n",
    "    return model, history"
   ],
   "id": "2658a06f4a9db7e7",
   "outputs": [],
   "execution_count": 55
  },
  {
   "metadata": {
    "ExecuteTime": {
     "end_time": "2024-11-07T07:42:02.168243Z",
     "start_time": "2024-11-07T07:42:02.162245Z"
    }
   },
   "cell_type": "code",
   "source": [
    "def evaluate_model(model, X_test, y_test):\n",
    "    test_loss, test_accuracy = model.evaluate(X_test, y_test)\n",
    "    print(f\"Test loss: {test_loss:.4f}\")\n",
    "    print(f\"Test accuracy: {test_accuracy:.2f}\")"
   ],
   "id": "eb722b82e90ac3d",
   "outputs": [],
   "execution_count": 56
  },
  {
   "metadata": {
    "ExecuteTime": {
     "end_time": "2024-11-07T07:42:03.072974Z",
     "start_time": "2024-11-07T07:42:02.969244Z"
    }
   },
   "cell_type": "code",
   "source": "cnn_model = create_model(X_train)",
   "id": "496ecf15e0c42ddf",
   "outputs": [
    {
     "name": "stdout",
     "output_type": "stream",
     "text": [
      "模型輸入形狀: (192, 128, 1)\n",
      "Model: \"model_8\"\n",
      "_________________________________________________________________\n",
      " Layer (type)                Output Shape              Param #   \n",
      "=================================================================\n",
      " input_9 (InputLayer)        [(None, 192, 128, 1)]     0         \n",
      "                                                                 \n",
      " conv2d_31 (Conv2D)          (None, 192, 128, 32)      320       \n",
      "                                                                 \n",
      " max_pooling2d_31 (MaxPoolin  (None, 96, 64, 32)       0         \n",
      " g2D)                                                            \n",
      "                                                                 \n",
      " dropout_39 (Dropout)        (None, 96, 64, 32)        0         \n",
      "                                                                 \n",
      " conv2d_32 (Conv2D)          (None, 96, 64, 64)        18496     \n",
      "                                                                 \n",
      " max_pooling2d_32 (MaxPoolin  (None, 48, 32, 64)       0         \n",
      " g2D)                                                            \n",
      "                                                                 \n",
      " dropout_40 (Dropout)        (None, 48, 32, 64)        0         \n",
      "                                                                 \n",
      " conv2d_33 (Conv2D)          (None, 48, 32, 64)        36928     \n",
      "                                                                 \n",
      " max_pooling2d_33 (MaxPoolin  (None, 24, 16, 64)       0         \n",
      " g2D)                                                            \n",
      "                                                                 \n",
      " dropout_41 (Dropout)        (None, 24, 16, 64)        0         \n",
      "                                                                 \n",
      " conv2d_34 (Conv2D)          (None, 24, 16, 64)        36928     \n",
      "                                                                 \n",
      " max_pooling2d_34 (MaxPoolin  (None, 12, 8, 64)        0         \n",
      " g2D)                                                            \n",
      "                                                                 \n",
      " dropout_42 (Dropout)        (None, 12, 8, 64)         0         \n",
      "                                                                 \n",
      " flatten_8 (Flatten)         (None, 6144)              0         \n",
      "                                                                 \n",
      " dense_32 (Dense)            (None, 64)                393280    \n",
      "                                                                 \n",
      " dense_33 (Dense)            (None, 32)                2080      \n",
      "                                                                 \n",
      " dense_34 (Dense)            (None, 16)                528       \n",
      "                                                                 \n",
      " dropout_43 (Dropout)        (None, 16)                0         \n",
      "                                                                 \n",
      " dense_35 (Dense)            (None, 1)                 17        \n",
      "                                                                 \n",
      "=================================================================\n",
      "Total params: 488,577\n",
      "Trainable params: 488,577\n",
      "Non-trainable params: 0\n",
      "_________________________________________________________________\n"
     ]
    }
   ],
   "execution_count": 57
  },
  {
   "metadata": {
    "ExecuteTime": {
     "end_time": "2024-11-07T07:44:25.055464Z",
     "start_time": "2024-11-07T07:42:04.157303Z"
    }
   },
   "cell_type": "code",
   "source": "model, history = train_model(cnn_model, X_train, X_test, y_train, y_test, epochs=120)",
   "id": "4c22f7b3db3499d5",
   "outputs": [
    {
     "name": "stdout",
     "output_type": "stream",
     "text": [
      "Epoch 1/120\n",
      "58/58 - 2s - loss: 0.6900 - accuracy: 0.5432 - val_loss: 0.6872 - val_accuracy: 0.6659 - lr: 1.0000e-04 - 2s/epoch - 41ms/step\n",
      "Epoch 2/120\n",
      "58/58 - 1s - loss: 0.6644 - accuracy: 0.5899 - val_loss: 0.6735 - val_accuracy: 0.5727 - lr: 1.0000e-04 - 1s/epoch - 22ms/step\n",
      "Epoch 3/120\n",
      "58/58 - 1s - loss: 0.6252 - accuracy: 0.6507 - val_loss: 0.6509 - val_accuracy: 0.6269 - lr: 1.0000e-04 - 1s/epoch - 22ms/step\n",
      "Epoch 4/120\n",
      "58/58 - 1s - loss: 0.5915 - accuracy: 0.6980 - val_loss: 0.6298 - val_accuracy: 0.6746 - lr: 1.0000e-04 - 1s/epoch - 22ms/step\n",
      "Epoch 5/120\n",
      "58/58 - 1s - loss: 0.5580 - accuracy: 0.7105 - val_loss: 0.5908 - val_accuracy: 0.6941 - lr: 1.0000e-04 - 1s/epoch - 21ms/step\n",
      "Epoch 6/120\n",
      "58/58 - 1s - loss: 0.5374 - accuracy: 0.7148 - val_loss: 0.5831 - val_accuracy: 0.6898 - lr: 1.0000e-04 - 1s/epoch - 21ms/step\n",
      "Epoch 7/120\n",
      "58/58 - 1s - loss: 0.5335 - accuracy: 0.7284 - val_loss: 0.5632 - val_accuracy: 0.7375 - lr: 1.0000e-04 - 1s/epoch - 21ms/step\n",
      "Epoch 8/120\n",
      "58/58 - 1s - loss: 0.5245 - accuracy: 0.7420 - val_loss: 0.5591 - val_accuracy: 0.7375 - lr: 1.0000e-04 - 1s/epoch - 22ms/step\n",
      "Epoch 9/120\n",
      "58/58 - 1s - loss: 0.5106 - accuracy: 0.7469 - val_loss: 0.5522 - val_accuracy: 0.7462 - lr: 1.0000e-04 - 1s/epoch - 21ms/step\n",
      "Epoch 10/120\n",
      "58/58 - 1s - loss: 0.5129 - accuracy: 0.7507 - val_loss: 0.5602 - val_accuracy: 0.7223 - lr: 1.0000e-04 - 1s/epoch - 22ms/step\n",
      "Epoch 11/120\n",
      "58/58 - 1s - loss: 0.5041 - accuracy: 0.7463 - val_loss: 0.5597 - val_accuracy: 0.7310 - lr: 1.0000e-04 - 1s/epoch - 22ms/step\n",
      "Epoch 12/120\n",
      "58/58 - 1s - loss: 0.5122 - accuracy: 0.7518 - val_loss: 0.5582 - val_accuracy: 0.7180 - lr: 1.0000e-04 - 1s/epoch - 21ms/step\n",
      "Epoch 13/120\n",
      "58/58 - 1s - loss: 0.4973 - accuracy: 0.7512 - val_loss: 0.5402 - val_accuracy: 0.7397 - lr: 1.0000e-04 - 1s/epoch - 22ms/step\n",
      "Epoch 14/120\n",
      "58/58 - 1s - loss: 0.4920 - accuracy: 0.7480 - val_loss: 0.5468 - val_accuracy: 0.7093 - lr: 1.0000e-04 - 1s/epoch - 21ms/step\n",
      "Epoch 15/120\n",
      "58/58 - 1s - loss: 0.4856 - accuracy: 0.7681 - val_loss: 0.5343 - val_accuracy: 0.7636 - lr: 1.0000e-04 - 1s/epoch - 22ms/step\n",
      "Epoch 16/120\n",
      "58/58 - 1s - loss: 0.4847 - accuracy: 0.7664 - val_loss: 0.5363 - val_accuracy: 0.7223 - lr: 1.0000e-04 - 1s/epoch - 22ms/step\n",
      "Epoch 17/120\n",
      "58/58 - 1s - loss: 0.4754 - accuracy: 0.7691 - val_loss: 0.5331 - val_accuracy: 0.7267 - lr: 1.0000e-04 - 1s/epoch - 21ms/step\n",
      "Epoch 18/120\n",
      "58/58 - 1s - loss: 0.4744 - accuracy: 0.7534 - val_loss: 0.5247 - val_accuracy: 0.7636 - lr: 1.0000e-04 - 1s/epoch - 22ms/step\n",
      "Epoch 19/120\n",
      "58/58 - 1s - loss: 0.4689 - accuracy: 0.7708 - val_loss: 0.5214 - val_accuracy: 0.7440 - lr: 1.0000e-04 - 1s/epoch - 21ms/step\n",
      "Epoch 20/120\n",
      "58/58 - 1s - loss: 0.4530 - accuracy: 0.7854 - val_loss: 0.5380 - val_accuracy: 0.6985 - lr: 1.0000e-04 - 1s/epoch - 22ms/step\n",
      "Epoch 21/120\n",
      "58/58 - 1s - loss: 0.4743 - accuracy: 0.7637 - val_loss: 0.5343 - val_accuracy: 0.7614 - lr: 1.0000e-04 - 1s/epoch - 22ms/step\n",
      "Epoch 22/120\n",
      "58/58 - 1s - loss: 0.4567 - accuracy: 0.7691 - val_loss: 0.5162 - val_accuracy: 0.7354 - lr: 1.0000e-04 - 1s/epoch - 22ms/step\n",
      "Epoch 23/120\n",
      "58/58 - 1s - loss: 0.4705 - accuracy: 0.7648 - val_loss: 0.5205 - val_accuracy: 0.7701 - lr: 1.0000e-04 - 1s/epoch - 22ms/step\n",
      "Epoch 24/120\n",
      "58/58 - 1s - loss: 0.4557 - accuracy: 0.7740 - val_loss: 0.5036 - val_accuracy: 0.7809 - lr: 1.0000e-04 - 1s/epoch - 22ms/step\n",
      "Epoch 25/120\n",
      "58/58 - 1s - loss: 0.4432 - accuracy: 0.7876 - val_loss: 0.5081 - val_accuracy: 0.7462 - lr: 1.0000e-04 - 1s/epoch - 22ms/step\n",
      "Epoch 26/120\n",
      "58/58 - 1s - loss: 0.4487 - accuracy: 0.7691 - val_loss: 0.5033 - val_accuracy: 0.7657 - lr: 1.0000e-04 - 1s/epoch - 22ms/step\n",
      "Epoch 27/120\n",
      "58/58 - 1s - loss: 0.4543 - accuracy: 0.7762 - val_loss: 0.5189 - val_accuracy: 0.7267 - lr: 1.0000e-04 - 1s/epoch - 21ms/step\n",
      "Epoch 28/120\n",
      "58/58 - 1s - loss: 0.4358 - accuracy: 0.7903 - val_loss: 0.4869 - val_accuracy: 0.7722 - lr: 1.0000e-04 - 1s/epoch - 22ms/step\n",
      "Epoch 29/120\n",
      "58/58 - 1s - loss: 0.4461 - accuracy: 0.7833 - val_loss: 0.5059 - val_accuracy: 0.7505 - lr: 1.0000e-04 - 1s/epoch - 21ms/step\n",
      "Epoch 30/120\n",
      "58/58 - 1s - loss: 0.4216 - accuracy: 0.7958 - val_loss: 0.5086 - val_accuracy: 0.7267 - lr: 1.0000e-04 - 1s/epoch - 21ms/step\n",
      "Epoch 31/120\n",
      "58/58 - 1s - loss: 0.4316 - accuracy: 0.7871 - val_loss: 0.4931 - val_accuracy: 0.7809 - lr: 1.0000e-04 - 1s/epoch - 21ms/step\n",
      "Epoch 32/120\n",
      "58/58 - 1s - loss: 0.4240 - accuracy: 0.7952 - val_loss: 0.4982 - val_accuracy: 0.7527 - lr: 1.0000e-04 - 1s/epoch - 21ms/step\n",
      "Epoch 33/120\n",
      "58/58 - 1s - loss: 0.4117 - accuracy: 0.8050 - val_loss: 0.4808 - val_accuracy: 0.8026 - lr: 1.0000e-04 - 1s/epoch - 22ms/step\n",
      "Epoch 34/120\n",
      "58/58 - 1s - loss: 0.4322 - accuracy: 0.7947 - val_loss: 0.4832 - val_accuracy: 0.7852 - lr: 1.0000e-04 - 1s/epoch - 22ms/step\n",
      "Epoch 35/120\n",
      "58/58 - 1s - loss: 0.4227 - accuracy: 0.8045 - val_loss: 0.4923 - val_accuracy: 0.8048 - lr: 1.0000e-04 - 1s/epoch - 22ms/step\n",
      "Epoch 36/120\n",
      "58/58 - 1s - loss: 0.4147 - accuracy: 0.8017 - val_loss: 0.5003 - val_accuracy: 0.7657 - lr: 1.0000e-04 - 1s/epoch - 21ms/step\n",
      "Epoch 37/120\n",
      "58/58 - 1s - loss: 0.4156 - accuracy: 0.8017 - val_loss: 0.5004 - val_accuracy: 0.7809 - lr: 1.0000e-04 - 1s/epoch - 21ms/step\n",
      "Epoch 38/120\n",
      "58/58 - 1s - loss: 0.4252 - accuracy: 0.7925 - val_loss: 0.4996 - val_accuracy: 0.7679 - lr: 1.0000e-04 - 1s/epoch - 22ms/step\n",
      "Epoch 39/120\n",
      "58/58 - 1s - loss: 0.3984 - accuracy: 0.8115 - val_loss: 0.4968 - val_accuracy: 0.7744 - lr: 1.0000e-04 - 1s/epoch - 22ms/step\n",
      "Epoch 40/120\n",
      "58/58 - 1s - loss: 0.4108 - accuracy: 0.8066 - val_loss: 0.4628 - val_accuracy: 0.8004 - lr: 1.0000e-04 - 1s/epoch - 21ms/step\n",
      "Epoch 41/120\n",
      "58/58 - 1s - loss: 0.3971 - accuracy: 0.8202 - val_loss: 0.4609 - val_accuracy: 0.8048 - lr: 1.0000e-04 - 1s/epoch - 21ms/step\n",
      "Epoch 42/120\n",
      "58/58 - 1s - loss: 0.3854 - accuracy: 0.8159 - val_loss: 0.5016 - val_accuracy: 0.7657 - lr: 1.0000e-04 - 1s/epoch - 21ms/step\n",
      "Epoch 43/120\n",
      "58/58 - 1s - loss: 0.3858 - accuracy: 0.8169 - val_loss: 0.4761 - val_accuracy: 0.7852 - lr: 1.0000e-04 - 1s/epoch - 21ms/step\n",
      "Epoch 44/120\n",
      "58/58 - 1s - loss: 0.3897 - accuracy: 0.8148 - val_loss: 0.4368 - val_accuracy: 0.8048 - lr: 1.0000e-04 - 1s/epoch - 21ms/step\n",
      "Epoch 45/120\n",
      "58/58 - 1s - loss: 0.3945 - accuracy: 0.8207 - val_loss: 0.4555 - val_accuracy: 0.8134 - lr: 1.0000e-04 - 1s/epoch - 21ms/step\n",
      "Epoch 46/120\n",
      "58/58 - 1s - loss: 0.3842 - accuracy: 0.8305 - val_loss: 0.4446 - val_accuracy: 0.8265 - lr: 1.0000e-04 - 1s/epoch - 21ms/step\n",
      "Epoch 47/120\n",
      "58/58 - 1s - loss: 0.3855 - accuracy: 0.8142 - val_loss: 0.4429 - val_accuracy: 0.8156 - lr: 1.0000e-04 - 1s/epoch - 21ms/step\n",
      "Epoch 48/120\n",
      "58/58 - 1s - loss: 0.3771 - accuracy: 0.8153 - val_loss: 0.4383 - val_accuracy: 0.8069 - lr: 1.0000e-04 - 1s/epoch - 22ms/step\n",
      "Epoch 49/120\n",
      "58/58 - 1s - loss: 0.3825 - accuracy: 0.8207 - val_loss: 0.4352 - val_accuracy: 0.8178 - lr: 1.0000e-04 - 1s/epoch - 21ms/step\n",
      "Epoch 50/120\n",
      "58/58 - 1s - loss: 0.3702 - accuracy: 0.8229 - val_loss: 0.4444 - val_accuracy: 0.8221 - lr: 1.0000e-04 - 1s/epoch - 21ms/step\n",
      "Epoch 51/120\n",
      "58/58 - 1s - loss: 0.3649 - accuracy: 0.8311 - val_loss: 0.4254 - val_accuracy: 0.8221 - lr: 1.0000e-04 - 1s/epoch - 21ms/step\n",
      "Epoch 52/120\n",
      "58/58 - 1s - loss: 0.3623 - accuracy: 0.8365 - val_loss: 0.4588 - val_accuracy: 0.7961 - lr: 1.0000e-04 - 1s/epoch - 21ms/step\n",
      "Epoch 53/120\n",
      "58/58 - 1s - loss: 0.3761 - accuracy: 0.8235 - val_loss: 0.4421 - val_accuracy: 0.7961 - lr: 1.0000e-04 - 1s/epoch - 22ms/step\n",
      "Epoch 54/120\n",
      "58/58 - 1s - loss: 0.3720 - accuracy: 0.8305 - val_loss: 0.4242 - val_accuracy: 0.8265 - lr: 1.0000e-04 - 1s/epoch - 21ms/step\n",
      "Epoch 55/120\n",
      "58/58 - 1s - loss: 0.3576 - accuracy: 0.8256 - val_loss: 0.4394 - val_accuracy: 0.8178 - lr: 1.0000e-04 - 1s/epoch - 21ms/step\n",
      "Epoch 56/120\n",
      "58/58 - 1s - loss: 0.3503 - accuracy: 0.8370 - val_loss: 0.4421 - val_accuracy: 0.8091 - lr: 1.0000e-04 - 1s/epoch - 21ms/step\n",
      "Epoch 57/120\n",
      "58/58 - 1s - loss: 0.3442 - accuracy: 0.8425 - val_loss: 0.4268 - val_accuracy: 0.8156 - lr: 1.0000e-04 - 1s/epoch - 21ms/step\n",
      "Epoch 58/120\n",
      "58/58 - 1s - loss: 0.3444 - accuracy: 0.8327 - val_loss: 0.4394 - val_accuracy: 0.8134 - lr: 1.0000e-04 - 1s/epoch - 21ms/step\n",
      "Epoch 59/120\n",
      "58/58 - 1s - loss: 0.3458 - accuracy: 0.8414 - val_loss: 0.4331 - val_accuracy: 0.8113 - lr: 1.0000e-04 - 1s/epoch - 21ms/step\n",
      "Epoch 60/120\n",
      "58/58 - 1s - loss: 0.3451 - accuracy: 0.8392 - val_loss: 0.4164 - val_accuracy: 0.8026 - lr: 1.0000e-04 - 1s/epoch - 21ms/step\n",
      "Epoch 61/120\n",
      "58/58 - 1s - loss: 0.3457 - accuracy: 0.8294 - val_loss: 0.4192 - val_accuracy: 0.8200 - lr: 1.0000e-04 - 1s/epoch - 21ms/step\n",
      "Epoch 62/120\n",
      "58/58 - 1s - loss: 0.3471 - accuracy: 0.8376 - val_loss: 0.4545 - val_accuracy: 0.7896 - lr: 1.0000e-04 - 1s/epoch - 22ms/step\n",
      "Epoch 63/120\n",
      "58/58 - 1s - loss: 0.3513 - accuracy: 0.8360 - val_loss: 0.4353 - val_accuracy: 0.8243 - lr: 1.0000e-04 - 1s/epoch - 21ms/step\n",
      "Epoch 64/120\n",
      "58/58 - 1s - loss: 0.3613 - accuracy: 0.8316 - val_loss: 0.4157 - val_accuracy: 0.8134 - lr: 1.0000e-04 - 1s/epoch - 21ms/step\n",
      "Epoch 65/120\n",
      "58/58 - 1s - loss: 0.3336 - accuracy: 0.8495 - val_loss: 0.4325 - val_accuracy: 0.8134 - lr: 1.0000e-04 - 1s/epoch - 21ms/step\n",
      "Epoch 66/120\n",
      "58/58 - 1s - loss: 0.3337 - accuracy: 0.8479 - val_loss: 0.4334 - val_accuracy: 0.8200 - lr: 1.0000e-04 - 1s/epoch - 21ms/step\n",
      "Epoch 67/120\n",
      "58/58 - 1s - loss: 0.3403 - accuracy: 0.8506 - val_loss: 0.4216 - val_accuracy: 0.8134 - lr: 1.0000e-04 - 1s/epoch - 21ms/step\n",
      "Epoch 68/120\n",
      "58/58 - 1s - loss: 0.3287 - accuracy: 0.8474 - val_loss: 0.4203 - val_accuracy: 0.8134 - lr: 1.0000e-04 - 1s/epoch - 21ms/step\n",
      "Epoch 69/120\n",
      "58/58 - 1s - loss: 0.3327 - accuracy: 0.8446 - val_loss: 0.4136 - val_accuracy: 0.8091 - lr: 1.0000e-04 - 1s/epoch - 21ms/step\n",
      "Epoch 70/120\n",
      "58/58 - 1s - loss: 0.3158 - accuracy: 0.8626 - val_loss: 0.4010 - val_accuracy: 0.7983 - lr: 1.0000e-04 - 1s/epoch - 21ms/step\n",
      "Epoch 71/120\n",
      "58/58 - 1s - loss: 0.3236 - accuracy: 0.8463 - val_loss: 0.4143 - val_accuracy: 0.8221 - lr: 1.0000e-04 - 1s/epoch - 21ms/step\n",
      "Epoch 72/120\n",
      "58/58 - 1s - loss: 0.3298 - accuracy: 0.8398 - val_loss: 0.4006 - val_accuracy: 0.8265 - lr: 1.0000e-04 - 1s/epoch - 21ms/step\n",
      "Epoch 73/120\n",
      "58/58 - 1s - loss: 0.3317 - accuracy: 0.8485 - val_loss: 0.4077 - val_accuracy: 0.8113 - lr: 1.0000e-04 - 1s/epoch - 21ms/step\n",
      "Epoch 74/120\n",
      "58/58 - 1s - loss: 0.3305 - accuracy: 0.8446 - val_loss: 0.4069 - val_accuracy: 0.8156 - lr: 1.0000e-04 - 1s/epoch - 21ms/step\n",
      "Epoch 75/120\n",
      "58/58 - 1s - loss: 0.3106 - accuracy: 0.8544 - val_loss: 0.3945 - val_accuracy: 0.8200 - lr: 1.0000e-04 - 1s/epoch - 21ms/step\n",
      "Epoch 76/120\n",
      "58/58 - 1s - loss: 0.3133 - accuracy: 0.8533 - val_loss: 0.3968 - val_accuracy: 0.8091 - lr: 1.0000e-04 - 1s/epoch - 21ms/step\n",
      "Epoch 77/120\n",
      "58/58 - 1s - loss: 0.3126 - accuracy: 0.8566 - val_loss: 0.4237 - val_accuracy: 0.8265 - lr: 1.0000e-04 - 1s/epoch - 21ms/step\n",
      "Epoch 78/120\n",
      "58/58 - 1s - loss: 0.3228 - accuracy: 0.8512 - val_loss: 0.3981 - val_accuracy: 0.8200 - lr: 1.0000e-04 - 1s/epoch - 21ms/step\n",
      "Epoch 79/120\n",
      "58/58 - 1s - loss: 0.3112 - accuracy: 0.8523 - val_loss: 0.4390 - val_accuracy: 0.8069 - lr: 1.0000e-04 - 1s/epoch - 21ms/step\n",
      "Epoch 80/120\n",
      "58/58 - 1s - loss: 0.3100 - accuracy: 0.8539 - val_loss: 0.4563 - val_accuracy: 0.7874 - lr: 1.0000e-04 - 1s/epoch - 21ms/step\n",
      "Epoch 81/120\n",
      "58/58 - 1s - loss: 0.3088 - accuracy: 0.8528 - val_loss: 0.3982 - val_accuracy: 0.8200 - lr: 1.0000e-04 - 1s/epoch - 21ms/step\n",
      "Epoch 82/120\n",
      "58/58 - 1s - loss: 0.3005 - accuracy: 0.8675 - val_loss: 0.3951 - val_accuracy: 0.8200 - lr: 1.0000e-04 - 1s/epoch - 21ms/step\n",
      "Epoch 83/120\n",
      "58/58 - 1s - loss: 0.2979 - accuracy: 0.8653 - val_loss: 0.3950 - val_accuracy: 0.8221 - lr: 1.0000e-04 - 1s/epoch - 21ms/step\n",
      "Epoch 84/120\n",
      "58/58 - 1s - loss: 0.2986 - accuracy: 0.8669 - val_loss: 0.4094 - val_accuracy: 0.8286 - lr: 1.0000e-04 - 1s/epoch - 21ms/step\n",
      "Epoch 85/120\n",
      "58/58 - 1s - loss: 0.2991 - accuracy: 0.8593 - val_loss: 0.3909 - val_accuracy: 0.8308 - lr: 1.0000e-04 - 1s/epoch - 21ms/step\n",
      "Epoch 86/120\n",
      "58/58 - 1s - loss: 0.2866 - accuracy: 0.8718 - val_loss: 0.3946 - val_accuracy: 0.8265 - lr: 1.0000e-04 - 1s/epoch - 21ms/step\n",
      "Epoch 87/120\n",
      "58/58 - 1s - loss: 0.2901 - accuracy: 0.8685 - val_loss: 0.3902 - val_accuracy: 0.8308 - lr: 1.0000e-04 - 1s/epoch - 21ms/step\n",
      "Epoch 88/120\n",
      "58/58 - 1s - loss: 0.2880 - accuracy: 0.8691 - val_loss: 0.3965 - val_accuracy: 0.8308 - lr: 1.0000e-04 - 1s/epoch - 21ms/step\n",
      "Epoch 89/120\n",
      "58/58 - 1s - loss: 0.2947 - accuracy: 0.8653 - val_loss: 0.4056 - val_accuracy: 0.8330 - lr: 1.0000e-04 - 1s/epoch - 21ms/step\n",
      "Epoch 90/120\n",
      "58/58 - 1s - loss: 0.2984 - accuracy: 0.8675 - val_loss: 0.4106 - val_accuracy: 0.8243 - lr: 1.0000e-04 - 1s/epoch - 21ms/step\n",
      "Epoch 91/120\n",
      "58/58 - 1s - loss: 0.2956 - accuracy: 0.8620 - val_loss: 0.3948 - val_accuracy: 0.8156 - lr: 1.0000e-04 - 1s/epoch - 21ms/step\n",
      "Epoch 92/120\n",
      "58/58 - 1s - loss: 0.2821 - accuracy: 0.8713 - val_loss: 0.4280 - val_accuracy: 0.8243 - lr: 1.0000e-04 - 1s/epoch - 21ms/step\n",
      "Epoch 93/120\n",
      "58/58 - 1s - loss: 0.2926 - accuracy: 0.8751 - val_loss: 0.3936 - val_accuracy: 0.8134 - lr: 1.0000e-04 - 1s/epoch - 21ms/step\n",
      "Epoch 94/120\n",
      "58/58 - 1s - loss: 0.2955 - accuracy: 0.8653 - val_loss: 0.3987 - val_accuracy: 0.8265 - lr: 1.0000e-04 - 1s/epoch - 21ms/step\n",
      "Epoch 95/120\n",
      "58/58 - 1s - loss: 0.2823 - accuracy: 0.8680 - val_loss: 0.4029 - val_accuracy: 0.8265 - lr: 1.0000e-04 - 1s/epoch - 21ms/step\n",
      "Epoch 96/120\n",
      "58/58 - 1s - loss: 0.2867 - accuracy: 0.8685 - val_loss: 0.4040 - val_accuracy: 0.8330 - lr: 1.0000e-04 - 1s/epoch - 21ms/step\n",
      "Epoch 97/120\n",
      "\n",
      "Epoch 97: ReduceLROnPlateau reducing learning rate to 9.999999747378752e-06.\n",
      "58/58 - 1s - loss: 0.2736 - accuracy: 0.8724 - val_loss: 0.3947 - val_accuracy: 0.8265 - lr: 1.0000e-04 - 1s/epoch - 21ms/step\n",
      "Epoch 98/120\n",
      "58/58 - 1s - loss: 0.2671 - accuracy: 0.8816 - val_loss: 0.3912 - val_accuracy: 0.8265 - lr: 1.0000e-05 - 1s/epoch - 21ms/step\n",
      "Epoch 99/120\n",
      "58/58 - 1s - loss: 0.2607 - accuracy: 0.8876 - val_loss: 0.3913 - val_accuracy: 0.8243 - lr: 1.0000e-05 - 1s/epoch - 21ms/step\n",
      "Epoch 100/120\n",
      "58/58 - 1s - loss: 0.2553 - accuracy: 0.8924 - val_loss: 0.3933 - val_accuracy: 0.8243 - lr: 1.0000e-05 - 1s/epoch - 21ms/step\n",
      "Epoch 101/120\n",
      "58/58 - 1s - loss: 0.2484 - accuracy: 0.8859 - val_loss: 0.3949 - val_accuracy: 0.8265 - lr: 1.0000e-05 - 1s/epoch - 21ms/step\n",
      "Epoch 102/120\n",
      "58/58 - 1s - loss: 0.2523 - accuracy: 0.8854 - val_loss: 0.4010 - val_accuracy: 0.8286 - lr: 1.0000e-05 - 1s/epoch - 21ms/step\n",
      "Epoch 103/120\n",
      "58/58 - 1s - loss: 0.2518 - accuracy: 0.8897 - val_loss: 0.3932 - val_accuracy: 0.8265 - lr: 1.0000e-05 - 1s/epoch - 21ms/step\n",
      "Epoch 104/120\n",
      "58/58 - 1s - loss: 0.2622 - accuracy: 0.8762 - val_loss: 0.3908 - val_accuracy: 0.8200 - lr: 1.0000e-05 - 1s/epoch - 21ms/step\n",
      "Epoch 105/120\n",
      "58/58 - 1s - loss: 0.2554 - accuracy: 0.8892 - val_loss: 0.3961 - val_accuracy: 0.8286 - lr: 1.0000e-05 - 1s/epoch - 21ms/step\n",
      "Epoch 106/120\n",
      "58/58 - 1s - loss: 0.2506 - accuracy: 0.8876 - val_loss: 0.3907 - val_accuracy: 0.8221 - lr: 1.0000e-05 - 1s/epoch - 21ms/step\n",
      "Epoch 107/120\n",
      "\n",
      "Epoch 107: ReduceLROnPlateau reducing learning rate to 9.999999747378752e-07.\n",
      "58/58 - 1s - loss: 0.2573 - accuracy: 0.8810 - val_loss: 0.3933 - val_accuracy: 0.8243 - lr: 1.0000e-05 - 1s/epoch - 21ms/step\n",
      "Epoch 108/120\n",
      "58/58 - 1s - loss: 0.2499 - accuracy: 0.8865 - val_loss: 0.3924 - val_accuracy: 0.8243 - lr: 1.0000e-06 - 1s/epoch - 21ms/step\n",
      "Epoch 109/120\n",
      "58/58 - 1s - loss: 0.2472 - accuracy: 0.8935 - val_loss: 0.3926 - val_accuracy: 0.8243 - lr: 1.0000e-06 - 1s/epoch - 21ms/step\n",
      "Epoch 110/120\n",
      "58/58 - 1s - loss: 0.2444 - accuracy: 0.8968 - val_loss: 0.3931 - val_accuracy: 0.8221 - lr: 1.0000e-06 - 1s/epoch - 21ms/step\n",
      "Epoch 111/120\n",
      "58/58 - 1s - loss: 0.2435 - accuracy: 0.8876 - val_loss: 0.3948 - val_accuracy: 0.8243 - lr: 1.0000e-06 - 1s/epoch - 21ms/step\n",
      "Epoch 112/120\n",
      "58/58 - 1s - loss: 0.2472 - accuracy: 0.8919 - val_loss: 0.3947 - val_accuracy: 0.8243 - lr: 1.0000e-06 - 1s/epoch - 21ms/step\n",
      "Epoch 112: early stopping\n",
      "15/15 [==============================] - 0s 7ms/step - loss: 0.3947 - accuracy: 0.8243\n",
      "Test loss: 0.3947\n",
      "Test accuracy: 0.82\n"
     ]
    }
   ],
   "execution_count": 58
  },
  {
   "metadata": {
    "ExecuteTime": {
     "end_time": "2024-11-07T07:53:02.790148Z",
     "start_time": "2024-11-07T07:53:02.286937Z"
    }
   },
   "cell_type": "code",
   "source": "evaluate_model(cnn_model, X_test, y_test)",
   "id": "34386cec81d6a2d4",
   "outputs": [
    {
     "name": "stdout",
     "output_type": "stream",
     "text": [
      "15/15 [==============================] - 0s 17ms/step - loss: 0.3947 - accuracy: 0.8243\n",
      "Test loss: 0.3947\n",
      "Test accuracy: 0.82\n"
     ]
    }
   ],
   "execution_count": 59
  },
  {
   "metadata": {
    "ExecuteTime": {
     "end_time": "2024-11-07T07:53:04.141374Z",
     "start_time": "2024-11-07T07:53:04.090911Z"
    }
   },
   "cell_type": "code",
   "source": [
    "date = datetime.now().strftime('%Y%m%d%H%M')\n",
    "model.save(f'model_mel_{date}.h5')\n",
    "print(f\"Model saved as model_mel_{date}.h5\")"
   ],
   "id": "551ff463bcaf8093",
   "outputs": [
    {
     "name": "stdout",
     "output_type": "stream",
     "text": [
      "Model saved as model_mel_202411071553.h5\n"
     ]
    }
   ],
   "execution_count": 60
  },
  {
   "metadata": {
    "ExecuteTime": {
     "end_time": "2024-11-07T07:53:08.430865Z",
     "start_time": "2024-11-07T07:53:08.261323Z"
    }
   },
   "cell_type": "code",
   "source": [
    "import matplotlib.pyplot as plt\n",
    "plt.plot(history.history['loss'])\n",
    "plt.plot(history.history['val_loss'])\n",
    "plt.title('Model loss')\n",
    "plt.ylabel('Loss')\n",
    "plt.xlabel('Epoch')\n",
    "plt.legend(['Train', 'Test'], loc='upper right')\n",
    "plt.savefig(f'model_mel_loss_{date}.png')\n",
    "plt.show()"
   ],
   "id": "70c5f696df14eef",
   "outputs": [
    {
     "data": {
      "text/plain": [
       "<Figure size 640x480 with 1 Axes>"
      ],
      "image/png": "[encoded data removed]"
     },
     "metadata": {},
     "output_type": "display_data"
    }
   ],
   "execution_count": 61
  },
  {
   "metadata": {
    "ExecuteTime": {
     "end_time": "2024-11-07T07:19:29.264438Z",
     "start_time": "2024-11-07T07:19:29.249942Z"
    }
   },
   "cell_type": "code",
   "source": "",
   "id": "77144cb141ef9e4a",
   "outputs": [],
   "execution_count": null
  }
 ],
 "metadata": {
  "kernelspec": {
   "display_name": "Python 3",
   "language": "python",
   "name": "python3"
  },
  "language_info": {
   "codemirror_mode": {
    "name": "ipython",
    "version": 2
   },
   "file_extension": ".py",
   "mimetype": "text/x-python",
   "name": "python",
   "nbconvert_exporter": "python",
   "pygments_lexer": "ipython2",
   "version": "2.7.6"
  }
 },
 "nbformat": 4,
 "nbformat_minor": 5
}
