{
 "cells": [
  {
   "metadata": {
    "ExecuteTime": {
     "end_time": "2024-11-12T09:10:22.148057Z",
     "start_time": "2024-11-12T09:10:19.259995Z"
    }
   },
   "cell_type": "code",
   "source": [
    "from datetime import datetime\n",
    "import librosa.display\n",
    "import os\n",
    "import librosa\n",
    "import numpy as np\n",
    "from sklearn.model_selection import train_test_split\n",
    "import random\n"
   ],
   "id": "c9272ced716478d7",
   "outputs": [],
   "execution_count": 1
  },
  {
   "metadata": {},
   "cell_type": "markdown",
   "source": "# 1. 資料加載與標記",
   "id": "a6fb182aae4eb89"
  },
  {
   "cell_type": "code",
   "id": "initial_id",
   "metadata": {
    "collapsed": true,
    "ExecuteTime": {
     "end_time": "2024-11-12T09:10:22.164055Z",
     "start_time": "2024-11-12T09:10:22.152057Z"
    }
   },
   "source": [
    "def load_segmented_files(directory, target_sr=32000):\n",
    "    wav_files = []\n",
    "    leak_wav_files = []\n",
    "    print(f\"共有 {len(os.listdir(directory))} 個資料夾\")\n",
    "    for dir in os.listdir(directory):\n",
    "        if not os.path.isdir(os.path.join(directory, dir)):\n",
    "            continue\n",
    "        print(f\"正在處理 {dir} 資料夾，共有 {len(os.listdir(os.path.join(directory, dir)))} 個檔案\")\n",
    "        for file in tqdm(os.listdir(os.path.join(directory, dir))):\n",
    "            if not file.endswith(\".wav\"):\n",
    "                continue\n",
    "            file_path = os.path.join(directory, dir, file)\n",
    "            y, sr = librosa.load(file_path, sr=None, mono=True)\n",
    "            if sr != target_sr:\n",
    "                    y = librosa.resample(y, orig_sr=sr, target_sr=target_sr)\n",
    "            filename = f'{dir}_{file}'\n",
    "            # y_filt = bandpass_filter(y, sr=target_sr, lowcut=10, highcut=1500)\n",
    "            if 'Leak' in dir:\n",
    "                leak_wav_files.append((y, target_sr, filename))\n",
    "            else:\n",
    "                wav_files.append((y, target_sr, filename))\n",
    "    print(f\"共有 {len(wav_files) + len(leak_wav_files)} 個 wav 檔案，其中 {len(leak_wav_files)} 個有泄漏，{len(wav_files)} 個沒有泄漏\")\n",
    "    return wav_files, leak_wav_files \n",
    "\n",
    "\n",
    "# 比較數量，均衡資料\n",
    "def balance_shuffle_data(wav_files, leak_wav_files):\n",
    "    min_count = min(len(wav_files), len(leak_wav_files))\n",
    "    wav_files = random.sample(wav_files, min_count)\n",
    "    leak_wav_files = random.sample(leak_wav_files, min_count)\n",
    "    \n",
    "    print(f\"均衡後的樣本數: {min_count}\")\n",
    "    return wav_files, leak_wav_files\n",
    "\n",
    "\n",
    "def create_dataset(directory):\n",
    "    wav_files, leak_wav_files = load_segmented_files(directory)\n",
    "    wav_files, leak_wav_files = balance_shuffle_data(wav_files, leak_wav_files)\n",
    "    \n",
    "    # 將資料轉為 NumPy 格式\n",
    "    X = []\n",
    "    y = []\n",
    "    \n",
    "    for audio, sr, filename in wav_files:\n",
    "        X.append((audio, sr))\n",
    "        y.append(0)  # wav_files 標記為 0\n",
    "    \n",
    "    for audio, sr, filename in leak_wav_files:\n",
    "        X.append((audio, sr))\n",
    "        y.append(1)  # leak_wav_files 標記為 1\n",
    "    \n",
    "    np.bincount(y)\n",
    "    return np.array(X, dtype=object), np.array(y)\n"
   ],
   "outputs": [],
   "execution_count": 2
  },
  {
   "metadata": {},
   "cell_type": "markdown",
   "source": "# 2. 特徵提取與資料預處理",
   "id": "b7788a5b8d4c0b5d"
  },
  {
   "metadata": {
    "ExecuteTime": {
     "end_time": "2024-11-12T09:10:32.710039Z",
     "start_time": "2024-11-12T09:10:22.272615Z"
    }
   },
   "cell_type": "code",
   "source": [
    "from tqdm import tqdm\n",
    "from data_preprocess import extract_features, extract_stft_features\n",
    "\n",
    "def preprocess_data(X, desired_time=2.0, n_mels=128, n_fft=2048, hop_length=512):\n",
    "    features = []\n",
    "    for audio, sr in tqdm(X):\n",
    "        feature = extract_features(audio, sr, desired_time=desired_time, n_mels=n_mels, n_fft=n_fft, hop_length=hop_length)\n",
    "        features.append(feature)\n",
    "    return np.array(features)\n"
   ],
   "id": "5cb187713d43dd39",
   "outputs": [],
   "execution_count": 3
  },
  {
   "metadata": {
    "ExecuteTime": {
     "end_time": "2024-11-12T09:10:32.740958Z",
     "start_time": "2024-11-12T09:10:32.726570Z"
    }
   },
   "cell_type": "code",
   "source": [
    "def create_training_data(X,y, desired_time=2.0,  n_mels=128, n_fft=2048, hop_length=512):\n",
    "    \n",
    "    print(f\"總樣本數: {len(X)}\")\n",
    "    print(f\"標籤分佈: {np.bincount(y)}\")\n",
    "    \n",
    "    \n",
    "    X_features = preprocess_data(X, desired_time=desired_time, n_mels= n_mels, n_fft=n_fft, hop_length=hop_length)\n",
    "    \n",
    "    print(f\"特徵形狀: {X_features.shape}\")  # 預期形狀: (樣本數, max_len, n_mels)\n",
    "    \n",
    "    # 正規化特徵\n",
    "    X_features = (X_features - np.mean(X_features)) / np.std(X_features)\n",
    "    \n",
    "    # 擴展維度以符合 CNN 輸入 (樣本數, 高, 寬, 通道)\n",
    "    X_features = np.expand_dims(X_features, -1)  # 新形狀: (樣本數, max_len, n_mels, 1)\n",
    "    \n",
    "    # 分割訓練集與測試集\n",
    "    X_train, X_test, y_train, y_test = train_test_split(X_features, y, test_size=0.2)\n",
    "    \n",
    "    print(f\"訓練集形狀: {X_train.shape}\")\n",
    "    print(f\"測試集形狀: {X_test.shape}\")\n",
    "    \n",
    "    return X_train, X_test, y_train, y_test"
   ],
   "id": "52f0af5743941c11",
   "outputs": [],
   "execution_count": 4
  },
  {
   "metadata": {
    "ExecuteTime": {
     "end_time": "2024-11-12T09:16:32.333050Z",
     "start_time": "2024-11-12T09:10:32.756957Z"
    }
   },
   "cell_type": "code",
   "source": "X, y = create_dataset('raw_train')",
   "id": "825424b5a3c3bd79",
   "outputs": [
    {
     "name": "stdout",
     "output_type": "stream",
     "text": [
      "共有 5 個資料夾\n",
      "正在處理 CurrentSound 資料夾，共有 2429 個檔案\n"
     ]
    },
    {
     "name": "stderr",
     "output_type": "stream",
     "text": [
      "100%|██████████| 2429/2429 [01:50<00:00, 21.88it/s]\n"
     ]
    },
    {
     "name": "stdout",
     "output_type": "stream",
     "text": [
      "正在處理 Environment 資料夾，共有 588 個檔案\n"
     ]
    },
    {
     "name": "stderr",
     "output_type": "stream",
     "text": [
      "100%|██████████| 588/588 [00:38<00:00, 15.10it/s]\n"
     ]
    },
    {
     "name": "stdout",
     "output_type": "stream",
     "text": [
      "正在處理 GAS 資料夾，共有 99 個檔案\n"
     ]
    },
    {
     "name": "stderr",
     "output_type": "stream",
     "text": [
      "100%|██████████| 99/99 [00:09<00:00, 10.48it/s]\n"
     ]
    },
    {
     "name": "stdout",
     "output_type": "stream",
     "text": [
      "正在處理 Leak 資料夾，共有 3629 個檔案\n"
     ]
    },
    {
     "name": "stderr",
     "output_type": "stream",
     "text": [
      "100%|██████████| 3629/3629 [03:12<00:00, 18.90it/s]\n"
     ]
    },
    {
     "name": "stdout",
     "output_type": "stream",
     "text": [
      "正在處理 TrafficSound 資料夾，共有 129 個檔案\n"
     ]
    },
    {
     "name": "stderr",
     "output_type": "stream",
     "text": [
      "100%|██████████| 129/129 [00:08<00:00, 15.91it/s]"
     ]
    },
    {
     "name": "stdout",
     "output_type": "stream",
     "text": [
      "共有 6874 個 wav 檔案，其中 3629 個有泄漏，3245 個沒有泄漏\n",
      "均衡後的樣本數: 3245\n"
     ]
    },
    {
     "name": "stderr",
     "output_type": "stream",
     "text": [
      "\n"
     ]
    }
   ],
   "execution_count": 5
  },
  {
   "metadata": {
    "ExecuteTime": {
     "end_time": "2024-11-12T09:17:24.818782Z",
     "start_time": "2024-11-12T09:16:32.397611Z"
    }
   },
   "cell_type": "code",
   "source": [
    "from dotenv import load_dotenv\n",
    "load_dotenv()\n",
    "desired_time = float(os.getenv('DESIRED_TIME'))\n",
    "n_mels = int(os.getenv('N_MELS'))\n",
    "n_fft = int(os.getenv('N_FFT'))\n",
    "hop_length = int(os.getenv('HOP_LENGTH'))\n",
    "\n",
    "X_train, X_test, y_train, y_test = create_training_data(X, y, desired_time=2.0, n_mels=128, n_fft=1024, hop_length=256)"
   ],
   "id": "bd7b7beb007bb659",
   "outputs": [
    {
     "name": "stdout",
     "output_type": "stream",
     "text": [
      "總樣本數: 6490\n",
      "標籤分佈: [3245 3245]\n"
     ]
    },
    {
     "name": "stderr",
     "output_type": "stream",
     "text": [
      "  0%|          | 0/6490 [00:00<?, ?it/s]C:\\Users\\User\\miniconda3\\envs\\leak_detection\\lib\\site-packages\\librosa\\util\\decorators.py:88: UserWarning: Empty filters detected in mel frequency basis. Some channels will produce empty responses. Try increasing your sampling rate (and fmax) or reducing n_mels.\n",
      "  return f(*args, **kwargs)\n",
      "100%|██████████| 6490/6490 [00:48<00:00, 134.98it/s]\n"
     ]
    },
    {
     "name": "stdout",
     "output_type": "stream",
     "text": [
      "特徵形狀: (6490, 256, 128)\n",
      "訓練集形狀: (5192, 256, 128, 1)\n",
      "測試集形狀: (1298, 256, 128, 1)\n"
     ]
    }
   ],
   "execution_count": 6
  },
  {
   "metadata": {},
   "cell_type": "markdown",
   "source": "# 3. 建立 CNN 模型",
   "id": "55e34253937c671f"
  },
  {
   "metadata": {
    "ExecuteTime": {
     "end_time": "2024-11-12T09:17:24.880780Z",
     "start_time": "2024-11-12T09:17:24.866778Z"
    }
   },
   "cell_type": "code",
   "source": [
    "from keras.layers import BatchNormalization\n",
    "import tensorflow as tf\n",
    "from tensorflow.keras.models import Sequential\n",
    "from tensorflow.keras.layers import Conv2D, MaxPooling2D, Flatten, Dense, Dropout\n",
    "\n",
    "def create_cnn_model(input_shape):\n",
    "    \n",
    "    optimizer = tf.keras.optimizers.Adam(learning_rate=0.001)\n",
    "    \n",
    "    input_img = tf.keras.layers.Input(shape=input_shape)\n",
    " \n",
    "    x = Conv2D(32, (3, 3), activation='relu', padding='same')(input_img)\n",
    "    x = MaxPooling2D((2, 2), padding='same')(x)\n",
    "    x = Dropout(0.2)(x)\n",
    "    \n",
    "    x = Conv2D(32, (3, 3), activation='relu', padding='same')(x)\n",
    "    x = MaxPooling2D((2, 2), padding='same')(x)\n",
    "    x = Dropout(0.2)(x)\n",
    "    \n",
    "    x = Conv2D(64, (3, 3), activation='relu', padding='same')(x)\n",
    "    x = MaxPooling2D((2, 2), padding='same')(x)\n",
    "    x = Dropout(0.2)(x)\n",
    "    \n",
    "    x = Conv2D(128, (3, 3), activation='relu', padding='same')(x)\n",
    "    x = MaxPooling2D((2, 2), padding='same')(x)\n",
    "    x = Dropout(0.2)(x)\n",
    "    \n",
    "    x = Conv2D(256, (3, 3), activation='relu', padding='same')(x)\n",
    "    x = MaxPooling2D((2, 2), padding='same')(x)\n",
    "    x = Dropout(0.2)(x)\n",
    "\n",
    "    x = Flatten()(x)\n",
    "    x = Dense(128, activation='relu')(x)\n",
    "    x = Dense(64, activation='relu')(x)\n",
    "    x = Dense(32, activation='relu')(x)\n",
    "    x = Dense(16, activation='relu')(x)\n",
    "    x = Dropout(0.1)(x)\n",
    "    x = Dense(1, activation='sigmoid')(x)\n",
    "    \n",
    "    model = tf.keras.Model(inputs=input_img, outputs=x)\n",
    "    model.compile(optimizer=optimizer, loss='binary_crossentropy', metrics=['accuracy'])\n",
    "\n",
    "    return model\n"
   ],
   "id": "e5d13120a6048b8e",
   "outputs": [],
   "execution_count": 7
  },
  {
   "metadata": {
    "ExecuteTime": {
     "end_time": "2024-11-12T09:17:24.956901Z",
     "start_time": "2024-11-12T09:17:24.943934Z"
    }
   },
   "cell_type": "code",
   "source": [
    "def create_model(mockup_input):    \n",
    "    # 建立模型\n",
    "    input_shape = (mockup_input.shape[1], mockup_input.shape[2], 1)\n",
    "    print(f\"模型輸入形狀: {input_shape}\")\n",
    "    model = create_cnn_model(input_shape)\n",
    "    model.summary()\n",
    "    return model"
   ],
   "id": "a4ffc4a61f8a1c24",
   "outputs": [],
   "execution_count": 8
  },
  {
   "metadata": {},
   "cell_type": "markdown",
   "source": "# 4. 訓練模型",
   "id": "48f4e3f68035b7dc"
  },
  {
   "metadata": {
    "ExecuteTime": {
     "end_time": "2024-11-12T09:17:25.018454Z",
     "start_time": "2024-11-12T09:17:25.004453Z"
    }
   },
   "cell_type": "code",
   "source": [
    "from keras.callbacks import EarlyStopping, ReduceLROnPlateau\n",
    "\n",
    "\n",
    "def train_model(model, X_train, X_test, y_train, y_test, epochs=30, batch_size=32):\n",
    "        # 訓練模型\n",
    "        \n",
    "    early_stopping = EarlyStopping(monitor='val_loss', patience=35, restore_best_weights=True, verbose=1)\n",
    "    reduce_lr = ReduceLROnPlateau(monitor='val_loss', factor=0.1, patience=10, verbose=1)\n",
    "        \n",
    "    history = model.fit(   \n",
    "        X_train, y_train,\n",
    "        epochs=epochs,\n",
    "        batch_size=batch_size,\n",
    "        validation_data=(X_test, y_test),\n",
    "        shuffle=True,\n",
    "        callbacks=[early_stopping, reduce_lr],\n",
    "        verbose=2\n",
    "    )\n",
    "    \n",
    "    # 評估模型\n",
    "    test_loss, test_accuracy = model.evaluate(X_test, y_test)\n",
    "    print(f\"Test loss: {test_loss:.4f}\")\n",
    "    print(f\"Test accuracy: {test_accuracy:.2f}\")\n",
    "    \n",
    "    return model, history"
   ],
   "id": "2658a06f4a9db7e7",
   "outputs": [],
   "execution_count": 9
  },
  {
   "metadata": {
    "ExecuteTime": {
     "end_time": "2024-11-12T09:17:25.081453Z",
     "start_time": "2024-11-12T09:17:25.067456Z"
    }
   },
   "cell_type": "code",
   "source": [
    "def evaluate_model(model, X_test, y_test):\n",
    "    test_loss, test_accuracy = model.evaluate(X_test, y_test)\n",
    "    print(f\"Test loss: {test_loss:.4f}\")\n",
    "    print(f\"Test accuracy: {test_accuracy:.2f}\")"
   ],
   "id": "eb722b82e90ac3d",
   "outputs": [],
   "execution_count": 10
  },
  {
   "metadata": {
    "ExecuteTime": {
     "end_time": "2024-11-12T09:17:26.766496Z",
     "start_time": "2024-11-12T09:17:25.129983Z"
    }
   },
   "cell_type": "code",
   "source": "cnn_model = create_model(X_train)",
   "id": "496ecf15e0c42ddf",
   "outputs": [
    {
     "name": "stdout",
     "output_type": "stream",
     "text": [
      "模型輸入形狀: (256, 128, 1)\n",
      "Model: \"model\"\n",
      "_________________________________________________________________\n",
      " Layer (type)                Output Shape              Param #   \n",
      "=================================================================\n",
      " input_1 (InputLayer)        [(None, 256, 128, 1)]     0         \n",
      "                                                                 \n",
      " conv2d (Conv2D)             (None, 256, 128, 32)      320       \n",
      "                                                                 \n",
      " max_pooling2d (MaxPooling2D  (None, 128, 64, 32)      0         \n",
      " )                                                               \n",
      "                                                                 \n",
      " dropout (Dropout)           (None, 128, 64, 32)       0         \n",
      "                                                                 \n",
      " conv2d_1 (Conv2D)           (None, 128, 64, 32)       9248      \n",
      "                                                                 \n",
      " max_pooling2d_1 (MaxPooling  (None, 64, 32, 32)       0         \n",
      " 2D)                                                             \n",
      "                                                                 \n",
      " dropout_1 (Dropout)         (None, 64, 32, 32)        0         \n",
      "                                                                 \n",
      " conv2d_2 (Conv2D)           (None, 64, 32, 64)        18496     \n",
      "                                                                 \n",
      " max_pooling2d_2 (MaxPooling  (None, 32, 16, 64)       0         \n",
      " 2D)                                                             \n",
      "                                                                 \n",
      " dropout_2 (Dropout)         (None, 32, 16, 64)        0         \n",
      "                                                                 \n",
      " conv2d_3 (Conv2D)           (None, 32, 16, 128)       73856     \n",
      "                                                                 \n",
      " max_pooling2d_3 (MaxPooling  (None, 16, 8, 128)       0         \n",
      " 2D)                                                             \n",
      "                                                                 \n",
      " dropout_3 (Dropout)         (None, 16, 8, 128)        0         \n",
      "                                                                 \n",
      " conv2d_4 (Conv2D)           (None, 16, 8, 256)        295168    \n",
      "                                                                 \n",
      " max_pooling2d_4 (MaxPooling  (None, 8, 4, 256)        0         \n",
      " 2D)                                                             \n",
      "                                                                 \n",
      " dropout_4 (Dropout)         (None, 8, 4, 256)         0         \n",
      "                                                                 \n",
      " flatten (Flatten)           (None, 8192)              0         \n",
      "                                                                 \n",
      " dense (Dense)               (None, 128)               1048704   \n",
      "                                                                 \n",
      " dense_1 (Dense)             (None, 64)                8256      \n",
      "                                                                 \n",
      " dense_2 (Dense)             (None, 32)                2080      \n",
      "                                                                 \n",
      " dense_3 (Dense)             (None, 16)                528       \n",
      "                                                                 \n",
      " dropout_5 (Dropout)         (None, 16)                0         \n",
      "                                                                 \n",
      " dense_4 (Dense)             (None, 1)                 17        \n",
      "                                                                 \n",
      "=================================================================\n",
      "Total params: 1,456,673\n",
      "Trainable params: 1,456,673\n",
      "Non-trainable params: 0\n",
      "_________________________________________________________________\n"
     ]
    }
   ],
   "execution_count": 11
  },
  {
   "metadata": {
    "ExecuteTime": {
     "end_time": "2024-11-12T09:21:46.184312Z",
     "start_time": "2024-11-12T09:17:26.799755Z"
    }
   },
   "cell_type": "code",
   "source": "model, history = train_model(cnn_model, X_train, X_test, y_train, y_test, epochs=100, batch_size=64)",
   "id": "4c22f7b3db3499d5",
   "outputs": [
    {
     "name": "stdout",
     "output_type": "stream",
     "text": [
      "Epoch 1/100\n",
      "82/82 - 16s - loss: 0.6133 - accuracy: 0.6312 - val_loss: 0.5603 - val_accuracy: 0.7673 - lr: 0.0010 - 16s/epoch - 189ms/step\n",
      "Epoch 2/100\n",
      "82/82 - 4s - loss: 0.4539 - accuracy: 0.7980 - val_loss: 0.3910 - val_accuracy: 0.8151 - lr: 0.0010 - 4s/epoch - 54ms/step\n",
      "Epoch 3/100\n",
      "82/82 - 5s - loss: 0.4144 - accuracy: 0.8228 - val_loss: 0.4560 - val_accuracy: 0.7935 - lr: 0.0010 - 5s/epoch - 56ms/step\n",
      "Epoch 4/100\n",
      "82/82 - 4s - loss: 0.3949 - accuracy: 0.8247 - val_loss: 0.4017 - val_accuracy: 0.8228 - lr: 0.0010 - 4s/epoch - 54ms/step\n",
      "Epoch 5/100\n",
      "82/82 - 4s - loss: 0.3930 - accuracy: 0.8234 - val_loss: 0.3786 - val_accuracy: 0.8351 - lr: 0.0010 - 4s/epoch - 53ms/step\n",
      "Epoch 6/100\n",
      "82/82 - 4s - loss: 0.3726 - accuracy: 0.8372 - val_loss: 0.3628 - val_accuracy: 0.8305 - lr: 0.0010 - 4s/epoch - 54ms/step\n",
      "Epoch 7/100\n",
      "82/82 - 4s - loss: 0.3628 - accuracy: 0.8444 - val_loss: 0.3692 - val_accuracy: 0.8220 - lr: 0.0010 - 4s/epoch - 54ms/step\n",
      "Epoch 8/100\n",
      "82/82 - 4s - loss: 0.3539 - accuracy: 0.8430 - val_loss: 0.3551 - val_accuracy: 0.8413 - lr: 0.0010 - 4s/epoch - 52ms/step\n",
      "Epoch 9/100\n",
      "82/82 - 5s - loss: 0.3384 - accuracy: 0.8502 - val_loss: 0.3787 - val_accuracy: 0.8267 - lr: 0.0010 - 5s/epoch - 55ms/step\n",
      "Epoch 10/100\n",
      "82/82 - 4s - loss: 0.3272 - accuracy: 0.8581 - val_loss: 0.3527 - val_accuracy: 0.8567 - lr: 0.0010 - 4s/epoch - 54ms/step\n",
      "Epoch 11/100\n",
      "82/82 - 4s - loss: 0.3214 - accuracy: 0.8611 - val_loss: 0.3393 - val_accuracy: 0.8529 - lr: 0.0010 - 4s/epoch - 54ms/step\n",
      "Epoch 12/100\n",
      "82/82 - 4s - loss: 0.3132 - accuracy: 0.8586 - val_loss: 0.3007 - val_accuracy: 0.8536 - lr: 0.0010 - 4s/epoch - 53ms/step\n",
      "Epoch 13/100\n",
      "82/82 - 4s - loss: 0.3019 - accuracy: 0.8685 - val_loss: 0.3259 - val_accuracy: 0.8613 - lr: 0.0010 - 4s/epoch - 52ms/step\n",
      "Epoch 14/100\n",
      "82/82 - 4s - loss: 0.2731 - accuracy: 0.8781 - val_loss: 0.3078 - val_accuracy: 0.8636 - lr: 0.0010 - 4s/epoch - 53ms/step\n",
      "Epoch 15/100\n",
      "82/82 - 4s - loss: 0.2673 - accuracy: 0.8827 - val_loss: 0.3082 - val_accuracy: 0.8606 - lr: 0.0010 - 4s/epoch - 52ms/step\n",
      "Epoch 16/100\n",
      "82/82 - 4s - loss: 0.2660 - accuracy: 0.8860 - val_loss: 0.2931 - val_accuracy: 0.8706 - lr: 0.0010 - 4s/epoch - 53ms/step\n",
      "Epoch 17/100\n",
      "82/82 - 4s - loss: 0.2518 - accuracy: 0.8941 - val_loss: 0.2938 - val_accuracy: 0.8644 - lr: 0.0010 - 4s/epoch - 54ms/step\n",
      "Epoch 18/100\n",
      "82/82 - 4s - loss: 0.2330 - accuracy: 0.9004 - val_loss: 0.3000 - val_accuracy: 0.8760 - lr: 0.0010 - 4s/epoch - 53ms/step\n",
      "Epoch 19/100\n",
      "82/82 - 4s - loss: 0.2273 - accuracy: 0.9062 - val_loss: 0.3303 - val_accuracy: 0.8606 - lr: 0.0010 - 4s/epoch - 52ms/step\n",
      "Epoch 20/100\n",
      "82/82 - 4s - loss: 0.2239 - accuracy: 0.9081 - val_loss: 0.2957 - val_accuracy: 0.8683 - lr: 0.0010 - 4s/epoch - 54ms/step\n",
      "Epoch 21/100\n",
      "82/82 - 4s - loss: 0.2077 - accuracy: 0.9164 - val_loss: 0.3267 - val_accuracy: 0.8713 - lr: 0.0010 - 4s/epoch - 54ms/step\n",
      "Epoch 22/100\n",
      "82/82 - 4s - loss: 0.2039 - accuracy: 0.9174 - val_loss: 0.2858 - val_accuracy: 0.8867 - lr: 0.0010 - 4s/epoch - 54ms/step\n",
      "Epoch 23/100\n",
      "82/82 - 4s - loss: 0.2034 - accuracy: 0.9164 - val_loss: 0.3237 - val_accuracy: 0.8529 - lr: 0.0010 - 4s/epoch - 53ms/step\n",
      "Epoch 24/100\n",
      "82/82 - 4s - loss: 0.1889 - accuracy: 0.9191 - val_loss: 0.3179 - val_accuracy: 0.8667 - lr: 0.0010 - 4s/epoch - 53ms/step\n",
      "Epoch 25/100\n",
      "82/82 - 4s - loss: 0.1759 - accuracy: 0.9287 - val_loss: 0.3089 - val_accuracy: 0.8821 - lr: 0.0010 - 4s/epoch - 53ms/step\n",
      "Epoch 26/100\n",
      "82/82 - 4s - loss: 0.1655 - accuracy: 0.9337 - val_loss: 0.3512 - val_accuracy: 0.8806 - lr: 0.0010 - 4s/epoch - 53ms/step\n",
      "Epoch 27/100\n",
      "82/82 - 4s - loss: 0.1685 - accuracy: 0.9312 - val_loss: 0.2951 - val_accuracy: 0.8790 - lr: 0.0010 - 4s/epoch - 53ms/step\n",
      "Epoch 28/100\n",
      "82/82 - 4s - loss: 0.1515 - accuracy: 0.9399 - val_loss: 0.3335 - val_accuracy: 0.8729 - lr: 0.0010 - 4s/epoch - 54ms/step\n",
      "Epoch 29/100\n",
      "82/82 - 4s - loss: 0.1514 - accuracy: 0.9359 - val_loss: 0.3171 - val_accuracy: 0.8914 - lr: 0.0010 - 4s/epoch - 53ms/step\n",
      "Epoch 30/100\n",
      "82/82 - 4s - loss: 0.1525 - accuracy: 0.9388 - val_loss: 0.3150 - val_accuracy: 0.8775 - lr: 0.0010 - 4s/epoch - 52ms/step\n",
      "Epoch 31/100\n",
      "82/82 - 4s - loss: 0.1695 - accuracy: 0.9337 - val_loss: 0.3487 - val_accuracy: 0.8698 - lr: 0.0010 - 4s/epoch - 52ms/step\n",
      "Epoch 32/100\n",
      "\n",
      "Epoch 32: ReduceLROnPlateau reducing learning rate to 0.00010000000474974513.\n",
      "82/82 - 4s - loss: 0.1345 - accuracy: 0.9478 - val_loss: 0.3480 - val_accuracy: 0.8613 - lr: 0.0010 - 4s/epoch - 52ms/step\n",
      "Epoch 33/100\n",
      "82/82 - 4s - loss: 0.1075 - accuracy: 0.9588 - val_loss: 0.3298 - val_accuracy: 0.8844 - lr: 1.0000e-04 - 4s/epoch - 53ms/step\n",
      "Epoch 34/100\n",
      "82/82 - 4s - loss: 0.0943 - accuracy: 0.9626 - val_loss: 0.3472 - val_accuracy: 0.8837 - lr: 1.0000e-04 - 4s/epoch - 54ms/step\n",
      "Epoch 35/100\n",
      "82/82 - 4s - loss: 0.0869 - accuracy: 0.9651 - val_loss: 0.3484 - val_accuracy: 0.8837 - lr: 1.0000e-04 - 4s/epoch - 53ms/step\n",
      "Epoch 36/100\n",
      "82/82 - 4s - loss: 0.0786 - accuracy: 0.9705 - val_loss: 0.3615 - val_accuracy: 0.8898 - lr: 1.0000e-04 - 4s/epoch - 52ms/step\n",
      "Epoch 37/100\n",
      "82/82 - 4s - loss: 0.0838 - accuracy: 0.9673 - val_loss: 0.3633 - val_accuracy: 0.8875 - lr: 1.0000e-04 - 4s/epoch - 52ms/step\n",
      "Epoch 38/100\n",
      "82/82 - 4s - loss: 0.0791 - accuracy: 0.9682 - val_loss: 0.3726 - val_accuracy: 0.8883 - lr: 1.0000e-04 - 4s/epoch - 53ms/step\n",
      "Epoch 39/100\n",
      "82/82 - 4s - loss: 0.0781 - accuracy: 0.9686 - val_loss: 0.3919 - val_accuracy: 0.8852 - lr: 1.0000e-04 - 4s/epoch - 53ms/step\n",
      "Epoch 40/100\n",
      "82/82 - 4s - loss: 0.0756 - accuracy: 0.9707 - val_loss: 0.3988 - val_accuracy: 0.8852 - lr: 1.0000e-04 - 4s/epoch - 52ms/step\n",
      "Epoch 41/100\n",
      "82/82 - 4s - loss: 0.0703 - accuracy: 0.9719 - val_loss: 0.3953 - val_accuracy: 0.8829 - lr: 1.0000e-04 - 4s/epoch - 52ms/step\n",
      "Epoch 42/100\n",
      "\n",
      "Epoch 42: ReduceLROnPlateau reducing learning rate to 1.0000000474974514e-05.\n",
      "82/82 - 4s - loss: 0.0743 - accuracy: 0.9692 - val_loss: 0.3977 - val_accuracy: 0.8867 - lr: 1.0000e-04 - 4s/epoch - 52ms/step\n",
      "Epoch 43/100\n",
      "82/82 - 4s - loss: 0.0679 - accuracy: 0.9753 - val_loss: 0.3992 - val_accuracy: 0.8852 - lr: 1.0000e-05 - 4s/epoch - 52ms/step\n",
      "Epoch 44/100\n",
      "82/82 - 4s - loss: 0.0628 - accuracy: 0.9748 - val_loss: 0.4025 - val_accuracy: 0.8844 - lr: 1.0000e-05 - 4s/epoch - 52ms/step\n",
      "Epoch 45/100\n",
      "82/82 - 4s - loss: 0.0643 - accuracy: 0.9740 - val_loss: 0.4053 - val_accuracy: 0.8860 - lr: 1.0000e-05 - 4s/epoch - 52ms/step\n",
      "Epoch 46/100\n",
      "82/82 - 4s - loss: 0.0708 - accuracy: 0.9719 - val_loss: 0.4039 - val_accuracy: 0.8867 - lr: 1.0000e-05 - 4s/epoch - 52ms/step\n",
      "Epoch 47/100\n",
      "82/82 - 4s - loss: 0.0666 - accuracy: 0.9730 - val_loss: 0.4091 - val_accuracy: 0.8867 - lr: 1.0000e-05 - 4s/epoch - 52ms/step\n",
      "Epoch 48/100\n",
      "82/82 - 4s - loss: 0.0683 - accuracy: 0.9734 - val_loss: 0.4097 - val_accuracy: 0.8875 - lr: 1.0000e-05 - 4s/epoch - 52ms/step\n",
      "Epoch 49/100\n",
      "82/82 - 4s - loss: 0.0636 - accuracy: 0.9765 - val_loss: 0.4105 - val_accuracy: 0.8837 - lr: 1.0000e-05 - 4s/epoch - 52ms/step\n",
      "Epoch 50/100\n",
      "82/82 - 4s - loss: 0.0651 - accuracy: 0.9763 - val_loss: 0.4102 - val_accuracy: 0.8844 - lr: 1.0000e-05 - 4s/epoch - 53ms/step\n",
      "Epoch 51/100\n",
      "82/82 - 4s - loss: 0.0648 - accuracy: 0.9728 - val_loss: 0.4128 - val_accuracy: 0.8837 - lr: 1.0000e-05 - 4s/epoch - 52ms/step\n",
      "Epoch 52/100\n",
      "\n",
      "Epoch 52: ReduceLROnPlateau reducing learning rate to 1.0000000656873453e-06.\n",
      "82/82 - 4s - loss: 0.0646 - accuracy: 0.9757 - val_loss: 0.4127 - val_accuracy: 0.8837 - lr: 1.0000e-05 - 4s/epoch - 52ms/step\n",
      "Epoch 53/100\n",
      "82/82 - 4s - loss: 0.0666 - accuracy: 0.9752 - val_loss: 0.4124 - val_accuracy: 0.8837 - lr: 1.0000e-06 - 4s/epoch - 52ms/step\n",
      "Epoch 54/100\n",
      "82/82 - 4s - loss: 0.0613 - accuracy: 0.9761 - val_loss: 0.4126 - val_accuracy: 0.8837 - lr: 1.0000e-06 - 4s/epoch - 52ms/step\n",
      "Epoch 55/100\n",
      "82/82 - 4s - loss: 0.0621 - accuracy: 0.9784 - val_loss: 0.4131 - val_accuracy: 0.8837 - lr: 1.0000e-06 - 4s/epoch - 52ms/step\n",
      "Epoch 56/100\n",
      "82/82 - 4s - loss: 0.0652 - accuracy: 0.9757 - val_loss: 0.4131 - val_accuracy: 0.8837 - lr: 1.0000e-06 - 4s/epoch - 53ms/step\n",
      "Epoch 57/100\n",
      "Restoring model weights from the end of the best epoch: 22.\n",
      "82/82 - 4s - loss: 0.0640 - accuracy: 0.9755 - val_loss: 0.4134 - val_accuracy: 0.8837 - lr: 1.0000e-06 - 4s/epoch - 52ms/step\n",
      "Epoch 57: early stopping\n",
      "41/41 [==============================] - 1s 9ms/step - loss: 0.2858 - accuracy: 0.8867\n",
      "Test loss: 0.2858\n",
      "Test accuracy: 0.89\n"
     ]
    }
   ],
   "execution_count": 12
  },
  {
   "metadata": {
    "ExecuteTime": {
     "end_time": "2024-11-12T09:21:46.684460Z",
     "start_time": "2024-11-12T09:21:46.217697Z"
    }
   },
   "cell_type": "code",
   "source": [
    "evaluate_model(cnn_model, X_test, y_test)\n",
    "history.history['val_accuracy'][-1]"
   ],
   "id": "34386cec81d6a2d4",
   "outputs": [
    {
     "name": "stdout",
     "output_type": "stream",
     "text": [
      "41/41 [==============================] - 0s 8ms/step - loss: 0.2858 - accuracy: 0.8867\n",
      "Test loss: 0.2858\n",
      "Test accuracy: 0.89\n"
     ]
    },
    {
     "data": {
      "text/plain": [
       "0.8836671710014343"
      ]
     },
     "execution_count": 13,
     "metadata": {},
     "output_type": "execute_result"
    }
   ],
   "execution_count": 13
  },
  {
   "metadata": {
    "ExecuteTime": {
     "end_time": "2024-11-12T09:22:26.889585Z",
     "start_time": "2024-11-12T09:22:26.804042Z"
    }
   },
   "cell_type": "code",
   "source": [
    "date = datetime.now().strftime('%Y%m%d%H%M')\n",
    "val_acc = history.history['val_accuracy'][-1]\n",
    "model.save(f'model_mel_{date}_acc_{val_acc:.2f}.h5')\n",
    "print(f\"Model saved as model_mel_{date}_acc_{val_acc:.2f}.h5\")"
   ],
   "id": "551ff463bcaf8093",
   "outputs": [
    {
     "name": "stdout",
     "output_type": "stream",
     "text": [
      "Model saved as model_mel_202411121722_acc_0.88.h5\n"
     ]
    }
   ],
   "execution_count": 16
  },
  {
   "metadata": {
    "ExecuteTime": {
     "end_time": "2024-11-12T09:22:28.133975Z",
     "start_time": "2024-11-12T09:22:27.974936Z"
    }
   },
   "cell_type": "code",
   "source": [
    "import matplotlib.pyplot as plt\n",
    "plt.plot(history.history['loss'])\n",
    "plt.plot(history.history['val_loss'])\n",
    "plt.title('Model loss')\n",
    "plt.ylabel('Loss')\n",
    "plt.xlabel('Epoch')\n",
    "plt.legend(['Train', 'Test'], loc='upper right')\n",
    "plt.savefig(f'model_mel_loss_{date}_acc_{val_acc:.2f}.png')\n",
    "plt.show()"
   ],
   "id": "70c5f696df14eef",
   "outputs": [
    {
     "data": {
      "text/plain": [
       "<Figure size 640x480 with 1 Axes>"
      ],
      "image/png": "[encoded data removed]"
     },
     "metadata": {},
     "output_type": "display_data"
    }
   ],
   "execution_count": 17
  },
  {
   "metadata": {
    "ExecuteTime": {
     "end_time": "2024-11-12T09:21:47.255916Z",
     "start_time": "2024-11-12T09:21:47.241433Z"
    }
   },
   "cell_type": "code",
   "source": "",
   "id": "77144cb141ef9e4a",
   "outputs": [],
   "execution_count": null
  }
 ],
 "metadata": {
  "kernelspec": {
   "display_name": "Python 3",
   "language": "python",
   "name": "python3"
  },
  "language_info": {
   "codemirror_mode": {
    "name": "ipython",
    "version": 2
   },
   "file_extension": ".py",
   "mimetype": "text/x-python",
   "name": "python",
   "nbconvert_exporter": "python",
   "pygments_lexer": "ipython2",
   "version": "2.7.6"
  }
 },
 "nbformat": 4,
 "nbformat_minor": 5
}
