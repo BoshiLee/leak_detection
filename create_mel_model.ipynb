{
 "cells": [
  {
   "metadata": {
    "ExecuteTime": {
     "end_time": "2024-11-11T07:32:51.460603Z",
     "start_time": "2024-11-11T07:32:43.128943Z"
    }
   },
   "cell_type": "code",
   "source": [
    "from datetime import datetime\n",
    "from data_preprocess import bandpass_filter\n",
    "import librosa.display\n",
    "import os\n",
    "import librosa\n",
    "import numpy as np\n",
    "from sklearn.model_selection import train_test_split\n",
    "import random\n"
   ],
   "id": "c9272ced716478d7",
   "outputs": [],
   "execution_count": 1
  },
  {
   "metadata": {},
   "cell_type": "markdown",
   "source": "# 1. 資料加載與標記",
   "id": "a6fb182aae4eb89"
  },
  {
   "cell_type": "code",
   "id": "initial_id",
   "metadata": {
    "collapsed": true,
    "ExecuteTime": {
     "end_time": "2024-11-11T07:34:05.110578Z",
     "start_time": "2024-11-11T07:34:05.098081Z"
    }
   },
   "source": [
    "def load_segmented_files(directory, target_sr=4800):\n",
    "    wav_files = []\n",
    "    leak_wav_files = []\n",
    "    print(f\"共有 {len(os.listdir(directory))} 個資料夾\")\n",
    "    for dir in os.listdir(directory):\n",
    "        if not os.path.isdir(os.path.join(directory, dir)):\n",
    "            continue\n",
    "        print(f\"正在處理 {dir} 資料夾，共有 {len(os.listdir(os.path.join(directory, dir)))} 個檔案\")\n",
    "        for file in tqdm(os.listdir(os.path.join(directory, dir))):\n",
    "            if not file.endswith(\".wav\"):\n",
    "                continue\n",
    "            file_path = os.path.join(directory, dir, file)\n",
    "            y, sr = librosa.load(file_path, sr=None, mono=True)\n",
    "            if sr != target_sr:\n",
    "                    y = librosa.resample(y, orig_sr=sr, target_sr=target_sr)\n",
    "            filename = f'{dir}_{file}'\n",
    "            # y_filt = bandpass_filter(y, sr=target_sr, lowcut=10, highcut=1500)\n",
    "            if 'Leak' in dir:\n",
    "                leak_wav_files.append((y, target_sr, filename))\n",
    "            else:\n",
    "                wav_files.append((y, target_sr, filename))\n",
    "    print(f\"共有 {len(wav_files) + len(leak_wav_files)} 個 wav 檔案，其中 {len(leak_wav_files)} 個有泄漏，{len(wav_files)} 個沒有泄漏\")\n",
    "    return wav_files, leak_wav_files \n",
    "\n",
    "\n",
    "# 比較數量，均衡資料\n",
    "def balance_shuffle_data(wav_files, leak_wav_files):\n",
    "    min_count = min(len(wav_files), len(leak_wav_files))\n",
    "    wav_files = random.sample(wav_files, min_count)\n",
    "    leak_wav_files = random.sample(leak_wav_files, min_count)\n",
    "    \n",
    "    print(f\"均衡後的樣本數: {min_count}\")\n",
    "    return wav_files, leak_wav_files\n",
    "\n",
    "\n",
    "def create_dataset(directory):\n",
    "    wav_files, leak_wav_files = load_segmented_files(directory)\n",
    "    wav_files, leak_wav_files = balance_shuffle_data(wav_files, leak_wav_files)\n",
    "    \n",
    "    # 將資料轉為 NumPy 格式\n",
    "    X = []\n",
    "    y = []\n",
    "    \n",
    "    for audio, sr, filename in wav_files:\n",
    "        X.append((audio, sr))\n",
    "        y.append(0)  # wav_files 標記為 0\n",
    "    \n",
    "    for audio, sr, filename in leak_wav_files:\n",
    "        X.append((audio, sr))\n",
    "        y.append(1)  # leak_wav_files 標記為 1\n",
    "    \n",
    "    return np.array(X, dtype=object), np.array(y)\n"
   ],
   "outputs": [],
   "execution_count": 6
  },
  {
   "metadata": {},
   "cell_type": "markdown",
   "source": "# 2. 特徵提取與資料預處理",
   "id": "b7788a5b8d4c0b5d"
  },
  {
   "metadata": {
    "ExecuteTime": {
     "end_time": "2024-11-11T07:32:51.666740Z",
     "start_time": "2024-11-11T07:32:51.652419Z"
    }
   },
   "cell_type": "code",
   "source": [
    "from tqdm import tqdm\n",
    "from data_preprocess import extract_features, extract_stft_features\n",
    "\n",
    "def preprocess_data(X, desired_time=2.0, n_mels=128, n_fft=2048, hop_length=512):\n",
    "    features = []\n",
    "    for audio, sr in tqdm(X):\n",
    "        feature = extract_features(audio, sr, desired_time=desired_time, n_mels=n_mels, n_fft=n_fft, hop_length=hop_length)\n",
    "        features.append(feature)\n",
    "    return np.array(features)\n"
   ],
   "id": "5cb187713d43dd39",
   "outputs": [],
   "execution_count": 3
  },
  {
   "metadata": {
    "ExecuteTime": {
     "end_time": "2024-11-11T07:32:51.713192Z",
     "start_time": "2024-11-11T07:32:51.697361Z"
    }
   },
   "cell_type": "code",
   "source": [
    "def create_training_data(X,y, desired_time=2.0,  n_mels=128, n_fft=2048, hop_length=512):\n",
    "    \n",
    "    print(f\"總樣本數: {len(X)}\")\n",
    "    print(f\"標籤分佈: {np.bincount(y)}\")\n",
    "    \n",
    "    \n",
    "    X_features = preprocess_data(X, desired_time=desired_time, n_mels= n_mels, n_fft=n_fft, hop_length=hop_length)\n",
    "    \n",
    "    print(f\"特徵形狀: {X_features.shape}\")  # 預期形狀: (樣本數, max_len, n_mels)\n",
    "    \n",
    "    # 正規化特徵\n",
    "    X_features = (X_features - np.mean(X_features)) / np.std(X_features)\n",
    "    \n",
    "    # 擴展維度以符合 CNN 輸入 (樣本數, 高, 寬, 通道)\n",
    "    X_features = np.expand_dims(X_features, -1)  # 新形狀: (樣本數, max_len, n_mels, 1)\n",
    "    \n",
    "    # 分割訓練集與測試集\n",
    "    X_train, X_test, y_train, y_test = train_test_split(X_features, y, test_size=0.2)\n",
    "    \n",
    "    print(f\"訓練集形狀: {X_train.shape}\")\n",
    "    print(f\"測試集形狀: {X_test.shape}\")\n",
    "    \n",
    "    return X_train, X_test, y_train, y_test"
   ],
   "id": "52f0af5743941c11",
   "outputs": [],
   "execution_count": 4
  },
  {
   "metadata": {
    "ExecuteTime": {
     "end_time": "2024-11-11T07:37:32.301596Z",
     "start_time": "2024-11-11T07:34:11.434881Z"
    }
   },
   "cell_type": "code",
   "source": "X, y = create_dataset('raw_train')",
   "id": "825424b5a3c3bd79",
   "outputs": [
    {
     "name": "stdout",
     "output_type": "stream",
     "text": [
      "共有 5 個資料夾\n",
      "正在處理 CurrentSound 資料夾，共有 2429 個檔案\n"
     ]
    },
    {
     "name": "stderr",
     "output_type": "stream",
     "text": [
      "100%|██████████| 2429/2429 [01:35<00:00, 25.45it/s]\n"
     ]
    },
    {
     "name": "stdout",
     "output_type": "stream",
     "text": [
      "正在處理 Environment 資料夾，共有 588 個檔案\n"
     ]
    },
    {
     "name": "stderr",
     "output_type": "stream",
     "text": [
      "100%|██████████| 588/588 [00:32<00:00, 18.13it/s]\n"
     ]
    },
    {
     "name": "stdout",
     "output_type": "stream",
     "text": [
      "正在處理 GAS 資料夾，共有 99 個檔案\n"
     ]
    },
    {
     "name": "stderr",
     "output_type": "stream",
     "text": [
      "100%|██████████| 99/99 [00:08<00:00, 11.40it/s]\n"
     ]
    },
    {
     "name": "stdout",
     "output_type": "stream",
     "text": [
      "正在處理 Leak 資料夾，共有 1151 個檔案\n"
     ]
    },
    {
     "name": "stderr",
     "output_type": "stream",
     "text": [
      "100%|██████████| 1151/1151 [00:57<00:00, 20.06it/s]\n"
     ]
    },
    {
     "name": "stdout",
     "output_type": "stream",
     "text": [
      "正在處理 TrafficSound 資料夾，共有 129 個檔案\n"
     ]
    },
    {
     "name": "stderr",
     "output_type": "stream",
     "text": [
      "100%|██████████| 129/129 [00:06<00:00, 18.77it/s]"
     ]
    },
    {
     "name": "stdout",
     "output_type": "stream",
     "text": [
      "共有 4396 個 wav 檔案，其中 1151 個有泄漏，3245 個沒有泄漏\n",
      "均衡後的樣本數: 1151\n"
     ]
    },
    {
     "name": "stderr",
     "output_type": "stream",
     "text": [
      "\n"
     ]
    }
   ],
   "execution_count": 7
  },
  {
   "metadata": {
    "ExecuteTime": {
     "end_time": "2024-11-11T07:38:20.859608Z",
     "start_time": "2024-11-11T07:38:08.617246Z"
    }
   },
   "cell_type": "code",
   "source": "X_train, X_test, y_train, y_test = create_training_data(X, y, desired_time=2.0, n_mels=120, n_fft=2048, hop_length=64)",
   "id": "bd7b7beb007bb659",
   "outputs": [
    {
     "name": "stdout",
     "output_type": "stream",
     "text": [
      "總樣本數: 2302\n",
      "標籤分佈: [1151 1151]\n"
     ]
    },
    {
     "name": "stderr",
     "output_type": "stream",
     "text": [
      "100%|██████████| 2302/2302 [00:11<00:00, 192.65it/s]\n"
     ]
    },
    {
     "name": "stdout",
     "output_type": "stream",
     "text": [
      "特徵形狀: (2302, 152, 120)\n",
      "訓練集形狀: (1841, 152, 120, 1)\n",
      "測試集形狀: (461, 152, 120, 1)\n"
     ]
    }
   ],
   "execution_count": 8
  },
  {
   "metadata": {},
   "cell_type": "markdown",
   "source": "# 3. 建立 CNN 模型",
   "id": "55e34253937c671f"
  },
  {
   "metadata": {
    "ExecuteTime": {
     "end_time": "2024-11-11T07:38:22.713427Z",
     "start_time": "2024-11-11T07:38:22.688933Z"
    }
   },
   "cell_type": "code",
   "source": [
    "from keras.layers import BatchNormalization\n",
    "import tensorflow as tf\n",
    "from tensorflow.keras.models import Sequential\n",
    "from tensorflow.keras.layers import Conv2D, MaxPooling2D, Flatten, Dense, Dropout\n",
    "\n",
    "def create_cnn_model(input_shape):\n",
    "    \n",
    "    optimizer = tf.keras.optimizers.Adam(learning_rate=0.001)\n",
    "    \n",
    "    input_img = tf.keras.layers.Input(shape=input_shape)\n",
    " \n",
    "    x = Conv2D(32, (3, 3), activation='relu', padding='same')(input_img)\n",
    "    x = MaxPooling2D((2, 2), padding='same')(x)\n",
    "    x = Dropout(0.2)(x)\n",
    "    \n",
    "    x = Conv2D(32, (3, 3), activation='relu', padding='same')(x)\n",
    "    x = MaxPooling2D((2, 2), padding='same')(x)\n",
    "    x = Dropout(0.2)(x)\n",
    "    \n",
    "    x = Conv2D(64, (3, 3), activation='relu', padding='same')(x)\n",
    "    x = MaxPooling2D((2, 2), padding='same')(x)\n",
    "    x = Dropout(0.2)(x)\n",
    "    \n",
    "    x = Conv2D(64, (3, 3), activation='relu', padding='same')(x)\n",
    "    x = MaxPooling2D((2, 2), padding='same')(x)\n",
    "    x = Dropout(0.2)(x)\n",
    "\n",
    "    x = Flatten()(x)\n",
    "    x = Dense(64, activation='relu')(x)\n",
    "    x = Dense(32, activation='relu')(x)\n",
    "    x = Dense(16, activation='relu')(x)\n",
    "    x = Dropout(0.1)(x)\n",
    "    x = Dense(1, activation='sigmoid')(x)\n",
    "    \n",
    "    model = tf.keras.Model(inputs=input_img, outputs=x)\n",
    "    model.compile(optimizer=optimizer, loss='binary_crossentropy', metrics=['accuracy'])\n",
    "\n",
    "    return model\n"
   ],
   "id": "e5d13120a6048b8e",
   "outputs": [],
   "execution_count": 9
  },
  {
   "metadata": {
    "ExecuteTime": {
     "end_time": "2024-11-11T07:38:23.104293Z",
     "start_time": "2024-11-11T07:38:23.094320Z"
    }
   },
   "cell_type": "code",
   "source": [
    "def create_model(mockup_input):    \n",
    "    # 建立模型\n",
    "    input_shape = (mockup_input.shape[1], mockup_input.shape[2], 1)\n",
    "    print(f\"模型輸入形狀: {input_shape}\")\n",
    "    model = create_cnn_model(input_shape)\n",
    "    model.summary()\n",
    "    return model"
   ],
   "id": "a4ffc4a61f8a1c24",
   "outputs": [],
   "execution_count": 10
  },
  {
   "metadata": {},
   "cell_type": "markdown",
   "source": "# 4. 訓練模型",
   "id": "48f4e3f68035b7dc"
  },
  {
   "metadata": {
    "ExecuteTime": {
     "end_time": "2024-11-11T07:38:23.917798Z",
     "start_time": "2024-11-11T07:38:23.912802Z"
    }
   },
   "cell_type": "code",
   "source": [
    "from keras.callbacks import EarlyStopping, ReduceLROnPlateau\n",
    "\n",
    "\n",
    "def train_model(model, X_train, X_test, y_train, y_test, epochs=30, batch_size=32):\n",
    "        # 訓練模型\n",
    "        \n",
    "    early_stopping = EarlyStopping(monitor='val_loss', patience=35, restore_best_weights=True, verbose=1)\n",
    "    reduce_lr = ReduceLROnPlateau(monitor='val_loss', factor=0.1, patience=10, verbose=1)\n",
    "        \n",
    "    history = model.fit(   \n",
    "        X_train, y_train,\n",
    "        epochs=epochs,\n",
    "        batch_size=batch_size,\n",
    "        validation_data=(X_test, y_test),\n",
    "        shuffle=True,\n",
    "        callbacks=[early_stopping, reduce_lr],\n",
    "        verbose=2\n",
    "    )\n",
    "    \n",
    "    # 評估模型\n",
    "    test_loss, test_accuracy = model.evaluate(X_test, y_test)\n",
    "    print(f\"Test loss: {test_loss:.4f}\")\n",
    "    print(f\"Test accuracy: {test_accuracy:.2f}\")\n",
    "    \n",
    "    return model, history"
   ],
   "id": "2658a06f4a9db7e7",
   "outputs": [],
   "execution_count": 11
  },
  {
   "metadata": {
    "ExecuteTime": {
     "end_time": "2024-11-11T07:38:24.512281Z",
     "start_time": "2024-11-11T07:38:24.503312Z"
    }
   },
   "cell_type": "code",
   "source": [
    "def evaluate_model(model, X_test, y_test):\n",
    "    test_loss, test_accuracy = model.evaluate(X_test, y_test)\n",
    "    print(f\"Test loss: {test_loss:.4f}\")\n",
    "    print(f\"Test accuracy: {test_accuracy:.2f}\")"
   ],
   "id": "eb722b82e90ac3d",
   "outputs": [],
   "execution_count": 12
  },
  {
   "metadata": {
    "ExecuteTime": {
     "end_time": "2024-11-11T07:38:26.028028Z",
     "start_time": "2024-11-11T07:38:25.067480Z"
    }
   },
   "cell_type": "code",
   "source": "cnn_model = create_model(X_train)",
   "id": "496ecf15e0c42ddf",
   "outputs": [
    {
     "name": "stdout",
     "output_type": "stream",
     "text": [
      "模型輸入形狀: (152, 120, 1)\n",
      "Model: \"model\"\n",
      "_________________________________________________________________\n",
      " Layer (type)                Output Shape              Param #   \n",
      "=================================================================\n",
      " input_1 (InputLayer)        [(None, 152, 120, 1)]     0         \n",
      "                                                                 \n",
      " conv2d (Conv2D)             (None, 152, 120, 32)      320       \n",
      "                                                                 \n",
      " max_pooling2d (MaxPooling2D  (None, 76, 60, 32)       0         \n",
      " )                                                               \n",
      "                                                                 \n",
      " dropout (Dropout)           (None, 76, 60, 32)        0         \n",
      "                                                                 \n",
      " conv2d_1 (Conv2D)           (None, 76, 60, 32)        9248      \n",
      "                                                                 \n",
      " max_pooling2d_1 (MaxPooling  (None, 38, 30, 32)       0         \n",
      " 2D)                                                             \n",
      "                                                                 \n",
      " dropout_1 (Dropout)         (None, 38, 30, 32)        0         \n",
      "                                                                 \n",
      " conv2d_2 (Conv2D)           (None, 38, 30, 64)        18496     \n",
      "                                                                 \n",
      " max_pooling2d_2 (MaxPooling  (None, 19, 15, 64)       0         \n",
      " 2D)                                                             \n",
      "                                                                 \n",
      " dropout_2 (Dropout)         (None, 19, 15, 64)        0         \n",
      "                                                                 \n",
      " conv2d_3 (Conv2D)           (None, 19, 15, 64)        36928     \n",
      "                                                                 \n",
      " max_pooling2d_3 (MaxPooling  (None, 10, 8, 64)        0         \n",
      " 2D)                                                             \n",
      "                                                                 \n",
      " dropout_3 (Dropout)         (None, 10, 8, 64)         0         \n",
      "                                                                 \n",
      " flatten (Flatten)           (None, 5120)              0         \n",
      "                                                                 \n",
      " dense (Dense)               (None, 64)                327744    \n",
      "                                                                 \n",
      " dense_1 (Dense)             (None, 32)                2080      \n",
      "                                                                 \n",
      " dense_2 (Dense)             (None, 16)                528       \n",
      "                                                                 \n",
      " dropout_4 (Dropout)         (None, 16)                0         \n",
      "                                                                 \n",
      " dense_3 (Dense)             (None, 1)                 17        \n",
      "                                                                 \n",
      "=================================================================\n",
      "Total params: 395,361\n",
      "Trainable params: 395,361\n",
      "Non-trainable params: 0\n",
      "_________________________________________________________________\n"
     ]
    }
   ],
   "execution_count": 13
  },
  {
   "metadata": {
    "ExecuteTime": {
     "end_time": "2024-11-11T07:39:15.271755Z",
     "start_time": "2024-11-11T07:38:27.000545Z"
    }
   },
   "cell_type": "code",
   "source": "model, history = train_model(cnn_model, X_train, X_test, y_train, y_test, epochs=120)",
   "id": "4c22f7b3db3499d5",
   "outputs": [
    {
     "name": "stdout",
     "output_type": "stream",
     "text": [
      "Epoch 1/120\n",
      "58/58 - 6s - loss: 0.6490 - accuracy: 0.6035 - val_loss: 0.5836 - val_accuracy: 0.7115 - lr: 0.0010 - 6s/epoch - 106ms/step\n",
      "Epoch 2/120\n",
      "58/58 - 1s - loss: 0.5681 - accuracy: 0.7067 - val_loss: 0.5600 - val_accuracy: 0.7289 - lr: 0.0010 - 751ms/epoch - 13ms/step\n",
      "Epoch 3/120\n",
      "58/58 - 1s - loss: 0.5216 - accuracy: 0.7420 - val_loss: 0.5316 - val_accuracy: 0.7289 - lr: 0.0010 - 766ms/epoch - 13ms/step\n",
      "Epoch 4/120\n",
      "58/58 - 1s - loss: 0.5035 - accuracy: 0.7556 - val_loss: 0.4783 - val_accuracy: 0.7939 - lr: 0.0010 - 767ms/epoch - 13ms/step\n",
      "Epoch 5/120\n",
      "58/58 - 1s - loss: 0.5202 - accuracy: 0.7501 - val_loss: 0.5049 - val_accuracy: 0.7744 - lr: 0.0010 - 760ms/epoch - 13ms/step\n",
      "Epoch 6/120\n",
      "58/58 - 1s - loss: 0.4796 - accuracy: 0.7713 - val_loss: 0.4560 - val_accuracy: 0.7874 - lr: 0.0010 - 765ms/epoch - 13ms/step\n",
      "Epoch 7/120\n",
      "58/58 - 1s - loss: 0.4648 - accuracy: 0.7708 - val_loss: 0.4865 - val_accuracy: 0.7766 - lr: 0.0010 - 763ms/epoch - 13ms/step\n",
      "Epoch 8/120\n",
      "58/58 - 1s - loss: 0.4519 - accuracy: 0.7806 - val_loss: 0.4500 - val_accuracy: 0.7852 - lr: 0.0010 - 769ms/epoch - 13ms/step\n",
      "Epoch 9/120\n",
      "58/58 - 1s - loss: 0.4314 - accuracy: 0.8023 - val_loss: 0.4701 - val_accuracy: 0.7657 - lr: 0.0010 - 763ms/epoch - 13ms/step\n",
      "Epoch 10/120\n",
      "58/58 - 1s - loss: 0.4234 - accuracy: 0.7925 - val_loss: 0.4199 - val_accuracy: 0.7961 - lr: 0.0010 - 754ms/epoch - 13ms/step\n",
      "Epoch 11/120\n",
      "58/58 - 1s - loss: 0.4051 - accuracy: 0.8083 - val_loss: 0.4825 - val_accuracy: 0.7614 - lr: 0.0010 - 765ms/epoch - 13ms/step\n",
      "Epoch 12/120\n",
      "58/58 - 1s - loss: 0.4164 - accuracy: 0.7958 - val_loss: 0.4411 - val_accuracy: 0.7983 - lr: 0.0010 - 760ms/epoch - 13ms/step\n",
      "Epoch 13/120\n",
      "58/58 - 1s - loss: 0.3953 - accuracy: 0.8099 - val_loss: 0.4089 - val_accuracy: 0.8026 - lr: 0.0010 - 767ms/epoch - 13ms/step\n",
      "Epoch 14/120\n",
      "58/58 - 1s - loss: 0.3799 - accuracy: 0.8180 - val_loss: 0.3977 - val_accuracy: 0.8351 - lr: 0.0010 - 768ms/epoch - 13ms/step\n",
      "Epoch 15/120\n",
      "58/58 - 1s - loss: 0.3486 - accuracy: 0.8457 - val_loss: 0.3903 - val_accuracy: 0.8156 - lr: 0.0010 - 767ms/epoch - 13ms/step\n",
      "Epoch 16/120\n",
      "58/58 - 1s - loss: 0.3345 - accuracy: 0.8457 - val_loss: 0.3868 - val_accuracy: 0.8156 - lr: 0.0010 - 768ms/epoch - 13ms/step\n",
      "Epoch 17/120\n",
      "58/58 - 1s - loss: 0.3220 - accuracy: 0.8441 - val_loss: 0.3898 - val_accuracy: 0.8178 - lr: 0.0010 - 761ms/epoch - 13ms/step\n",
      "Epoch 18/120\n",
      "58/58 - 1s - loss: 0.3253 - accuracy: 0.8463 - val_loss: 0.4927 - val_accuracy: 0.7549 - lr: 0.0010 - 773ms/epoch - 13ms/step\n",
      "Epoch 19/120\n",
      "58/58 - 1s - loss: 0.3138 - accuracy: 0.8626 - val_loss: 0.4483 - val_accuracy: 0.8113 - lr: 0.0010 - 765ms/epoch - 13ms/step\n",
      "Epoch 20/120\n",
      "58/58 - 1s - loss: 0.3723 - accuracy: 0.8278 - val_loss: 0.3839 - val_accuracy: 0.8243 - lr: 0.0010 - 764ms/epoch - 13ms/step\n",
      "Epoch 21/120\n",
      "58/58 - 1s - loss: 0.2812 - accuracy: 0.8800 - val_loss: 0.3772 - val_accuracy: 0.8373 - lr: 0.0010 - 766ms/epoch - 13ms/step\n",
      "Epoch 22/120\n",
      "58/58 - 1s - loss: 0.2383 - accuracy: 0.8979 - val_loss: 0.4781 - val_accuracy: 0.8134 - lr: 0.0010 - 763ms/epoch - 13ms/step\n",
      "Epoch 23/120\n",
      "58/58 - 1s - loss: 0.2675 - accuracy: 0.8832 - val_loss: 0.3977 - val_accuracy: 0.8308 - lr: 0.0010 - 764ms/epoch - 13ms/step\n",
      "Epoch 24/120\n",
      "58/58 - 1s - loss: 0.2374 - accuracy: 0.8930 - val_loss: 0.4635 - val_accuracy: 0.7961 - lr: 0.0010 - 757ms/epoch - 13ms/step\n",
      "Epoch 25/120\n",
      "58/58 - 1s - loss: 0.2261 - accuracy: 0.8984 - val_loss: 0.4533 - val_accuracy: 0.8178 - lr: 0.0010 - 757ms/epoch - 13ms/step\n",
      "Epoch 26/120\n",
      "58/58 - 1s - loss: 0.2193 - accuracy: 0.9028 - val_loss: 0.4322 - val_accuracy: 0.8221 - lr: 0.0010 - 761ms/epoch - 13ms/step\n",
      "Epoch 27/120\n",
      "58/58 - 1s - loss: 0.1811 - accuracy: 0.9191 - val_loss: 0.5123 - val_accuracy: 0.8156 - lr: 0.0010 - 758ms/epoch - 13ms/step\n",
      "Epoch 28/120\n",
      "58/58 - 1s - loss: 0.1942 - accuracy: 0.9202 - val_loss: 0.4569 - val_accuracy: 0.8547 - lr: 0.0010 - 754ms/epoch - 13ms/step\n",
      "Epoch 29/120\n",
      "58/58 - 1s - loss: 0.1995 - accuracy: 0.9163 - val_loss: 0.4645 - val_accuracy: 0.8156 - lr: 0.0010 - 753ms/epoch - 13ms/step\n",
      "Epoch 30/120\n",
      "58/58 - 1s - loss: 0.1670 - accuracy: 0.9326 - val_loss: 0.4606 - val_accuracy: 0.8178 - lr: 0.0010 - 756ms/epoch - 13ms/step\n",
      "Epoch 31/120\n",
      "\n",
      "Epoch 31: ReduceLROnPlateau reducing learning rate to 0.00010000000474974513.\n",
      "58/58 - 1s - loss: 0.1567 - accuracy: 0.9337 - val_loss: 0.4884 - val_accuracy: 0.8069 - lr: 0.0010 - 756ms/epoch - 13ms/step\n",
      "Epoch 32/120\n",
      "58/58 - 1s - loss: 0.1191 - accuracy: 0.9565 - val_loss: 0.5003 - val_accuracy: 0.8308 - lr: 1.0000e-04 - 767ms/epoch - 13ms/step\n",
      "Epoch 33/120\n",
      "58/58 - 1s - loss: 0.0960 - accuracy: 0.9631 - val_loss: 0.5305 - val_accuracy: 0.8416 - lr: 1.0000e-04 - 758ms/epoch - 13ms/step\n",
      "Epoch 34/120\n",
      "58/58 - 1s - loss: 0.0819 - accuracy: 0.9690 - val_loss: 0.5348 - val_accuracy: 0.8351 - lr: 1.0000e-04 - 752ms/epoch - 13ms/step\n",
      "Epoch 35/120\n",
      "58/58 - 1s - loss: 0.0784 - accuracy: 0.9728 - val_loss: 0.5392 - val_accuracy: 0.8373 - lr: 1.0000e-04 - 751ms/epoch - 13ms/step\n",
      "Epoch 36/120\n",
      "58/58 - 1s - loss: 0.0716 - accuracy: 0.9734 - val_loss: 0.5258 - val_accuracy: 0.8547 - lr: 1.0000e-04 - 767ms/epoch - 13ms/step\n",
      "Epoch 37/120\n",
      "58/58 - 1s - loss: 0.0696 - accuracy: 0.9756 - val_loss: 0.5559 - val_accuracy: 0.8416 - lr: 1.0000e-04 - 753ms/epoch - 13ms/step\n",
      "Epoch 38/120\n",
      "58/58 - 1s - loss: 0.0653 - accuracy: 0.9788 - val_loss: 0.5647 - val_accuracy: 0.8373 - lr: 1.0000e-04 - 758ms/epoch - 13ms/step\n",
      "Epoch 39/120\n",
      "58/58 - 1s - loss: 0.0636 - accuracy: 0.9772 - val_loss: 0.5678 - val_accuracy: 0.8460 - lr: 1.0000e-04 - 756ms/epoch - 13ms/step\n",
      "Epoch 40/120\n",
      "58/58 - 1s - loss: 0.0634 - accuracy: 0.9783 - val_loss: 0.5685 - val_accuracy: 0.8460 - lr: 1.0000e-04 - 757ms/epoch - 13ms/step\n",
      "Epoch 41/120\n",
      "\n",
      "Epoch 41: ReduceLROnPlateau reducing learning rate to 1.0000000474974514e-05.\n",
      "58/58 - 1s - loss: 0.0581 - accuracy: 0.9799 - val_loss: 0.5734 - val_accuracy: 0.8503 - lr: 1.0000e-04 - 752ms/epoch - 13ms/step\n",
      "Epoch 42/120\n",
      "58/58 - 1s - loss: 0.0619 - accuracy: 0.9783 - val_loss: 0.5742 - val_accuracy: 0.8547 - lr: 1.0000e-05 - 747ms/epoch - 13ms/step\n",
      "Epoch 43/120\n",
      "58/58 - 1s - loss: 0.0610 - accuracy: 0.9783 - val_loss: 0.5752 - val_accuracy: 0.8525 - lr: 1.0000e-05 - 755ms/epoch - 13ms/step\n",
      "Epoch 44/120\n",
      "58/58 - 1s - loss: 0.0542 - accuracy: 0.9810 - val_loss: 0.5783 - val_accuracy: 0.8568 - lr: 1.0000e-05 - 759ms/epoch - 13ms/step\n",
      "Epoch 45/120\n",
      "58/58 - 1s - loss: 0.0505 - accuracy: 0.9837 - val_loss: 0.5806 - val_accuracy: 0.8547 - lr: 1.0000e-05 - 767ms/epoch - 13ms/step\n",
      "Epoch 46/120\n",
      "58/58 - 1s - loss: 0.0514 - accuracy: 0.9821 - val_loss: 0.5818 - val_accuracy: 0.8525 - lr: 1.0000e-05 - 756ms/epoch - 13ms/step\n",
      "Epoch 47/120\n",
      "58/58 - 1s - loss: 0.0523 - accuracy: 0.9815 - val_loss: 0.5834 - val_accuracy: 0.8525 - lr: 1.0000e-05 - 758ms/epoch - 13ms/step\n",
      "Epoch 48/120\n",
      "58/58 - 1s - loss: 0.0551 - accuracy: 0.9821 - val_loss: 0.5847 - val_accuracy: 0.8525 - lr: 1.0000e-05 - 750ms/epoch - 13ms/step\n",
      "Epoch 49/120\n",
      "58/58 - 1s - loss: 0.0556 - accuracy: 0.9783 - val_loss: 0.5832 - val_accuracy: 0.8482 - lr: 1.0000e-05 - 757ms/epoch - 13ms/step\n",
      "Epoch 50/120\n",
      "58/58 - 1s - loss: 0.0566 - accuracy: 0.9772 - val_loss: 0.5835 - val_accuracy: 0.8525 - lr: 1.0000e-05 - 753ms/epoch - 13ms/step\n",
      "Epoch 51/120\n",
      "\n",
      "Epoch 51: ReduceLROnPlateau reducing learning rate to 1.0000000656873453e-06.\n",
      "58/58 - 1s - loss: 0.0504 - accuracy: 0.9826 - val_loss: 0.5866 - val_accuracy: 0.8503 - lr: 1.0000e-05 - 754ms/epoch - 13ms/step\n",
      "Epoch 52/120\n",
      "58/58 - 1s - loss: 0.0512 - accuracy: 0.9810 - val_loss: 0.5867 - val_accuracy: 0.8503 - lr: 1.0000e-06 - 749ms/epoch - 13ms/step\n",
      "Epoch 53/120\n",
      "58/58 - 1s - loss: 0.0528 - accuracy: 0.9788 - val_loss: 0.5867 - val_accuracy: 0.8503 - lr: 1.0000e-06 - 753ms/epoch - 13ms/step\n",
      "Epoch 54/120\n",
      "58/58 - 1s - loss: 0.0508 - accuracy: 0.9837 - val_loss: 0.5866 - val_accuracy: 0.8503 - lr: 1.0000e-06 - 754ms/epoch - 13ms/step\n",
      "Epoch 55/120\n",
      "58/58 - 1s - loss: 0.0470 - accuracy: 0.9832 - val_loss: 0.5871 - val_accuracy: 0.8503 - lr: 1.0000e-06 - 761ms/epoch - 13ms/step\n",
      "Epoch 56/120\n",
      "Restoring model weights from the end of the best epoch: 21.\n",
      "58/58 - 1s - loss: 0.0481 - accuracy: 0.9853 - val_loss: 0.5876 - val_accuracy: 0.8503 - lr: 1.0000e-06 - 803ms/epoch - 14ms/step\n",
      "Epoch 56: early stopping\n",
      "15/15 [==============================] - 0s 5ms/step - loss: 0.3772 - accuracy: 0.8373\n",
      "Test loss: 0.3772\n",
      "Test accuracy: 0.84\n"
     ]
    }
   ],
   "execution_count": 14
  },
  {
   "metadata": {
    "ExecuteTime": {
     "end_time": "2024-11-11T07:40:15.410401Z",
     "start_time": "2024-11-11T07:40:14.925725Z"
    }
   },
   "cell_type": "code",
   "source": "evaluate_model(cnn_model, X_test, y_test)",
   "id": "34386cec81d6a2d4",
   "outputs": [
    {
     "name": "stdout",
     "output_type": "stream",
     "text": [
      "15/15 [==============================] - 0s 26ms/step - loss: 0.3772 - accuracy: 0.8373\n",
      "Test loss: 0.3772\n",
      "Test accuracy: 0.84\n"
     ]
    }
   ],
   "execution_count": 15
  },
  {
   "metadata": {
    "ExecuteTime": {
     "end_time": "2024-11-11T07:40:16.298913Z",
     "start_time": "2024-11-11T07:40:16.252735Z"
    }
   },
   "cell_type": "code",
   "source": [
    "date = datetime.now().strftime('%Y%m%d%H%M')\n",
    "model.save(f'model_mel_{date}.h5')\n",
    "print(f\"Model saved as model_mel_{date}.h5\")"
   ],
   "id": "551ff463bcaf8093",
   "outputs": [
    {
     "name": "stdout",
     "output_type": "stream",
     "text": [
      "Model saved as model_mel_202411111540.h5\n"
     ]
    }
   ],
   "execution_count": 16
  },
  {
   "metadata": {
    "ExecuteTime": {
     "end_time": "2024-11-11T07:40:17.454147Z",
     "start_time": "2024-11-11T07:40:16.864741Z"
    }
   },
   "cell_type": "code",
   "source": [
    "import matplotlib.pyplot as plt\n",
    "plt.plot(history.history['loss'])\n",
    "plt.plot(history.history['val_loss'])\n",
    "plt.title('Model loss')\n",
    "plt.ylabel('Loss')\n",
    "plt.xlabel('Epoch')\n",
    "plt.legend(['Train', 'Test'], loc='upper right')\n",
    "plt.savefig(f'model_mel_loss_{date}.png')\n",
    "plt.show()"
   ],
   "id": "70c5f696df14eef",
   "outputs": [
    {
     "data": {
      "text/plain": [
       "<Figure size 640x480 with 1 Axes>"
      ],
      "image/png": "[encoded data removed]"
     },
     "metadata": {},
     "output_type": "display_data"
    }
   ],
   "execution_count": 17
  },
  {
   "metadata": {},
   "cell_type": "code",
   "source": "",
   "id": "77144cb141ef9e4a",
   "outputs": [],
   "execution_count": null
  }
 ],
 "metadata": {
  "kernelspec": {
   "display_name": "Python 3",
   "language": "python",
   "name": "python3"
  },
  "language_info": {
   "codemirror_mode": {
    "name": "ipython",
    "version": 2
   },
   "file_extension": ".py",
   "mimetype": "text/x-python",
   "name": "python",
   "nbconvert_exporter": "python",
   "pygments_lexer": "ipython2",
   "version": "2.7.6"
  }
 },
 "nbformat": 4,
 "nbformat_minor": 5
}
