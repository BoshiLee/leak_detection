{
 "cells": [
  {
   "metadata": {
    "ExecuteTime": {
     "end_time": "2024-10-30T03:02:14.413591Z",
     "start_time": "2024-10-30T03:02:14.401718Z"
    }
   },
   "cell_type": "code",
   "source": [
    "from datetime import datetime\n",
    "\n",
    "import librosa.display\n",
    "from dotenv import load_dotenv\n",
    "import os\n",
    "import librosa\n",
    "import numpy as np\n",
    "from sklearn.model_selection import train_test_split"
   ],
   "id": "c9272ced716478d7",
   "outputs": [],
   "execution_count": 14
  },
  {
   "metadata": {
    "ExecuteTime": {
     "end_time": "2024-10-30T03:02:14.443594Z",
     "start_time": "2024-10-30T03:02:14.431620Z"
    }
   },
   "cell_type": "code",
   "source": [
    "# 指定 STFT 參數\n",
    "load_dotenv()\n",
    "sample_rate = int(os.getenv('sample_rate'))\n",
    "n_mels = int(os.getenv('n_mels'))\n",
    "# n_fft = int(os.getenv('n_fft'))\n",
    "\n",
    "print(f'Sample rate: {sample_rate}, n_mels: {n_mels}')"
   ],
   "id": "383eb8331f64ea50",
   "outputs": [
    {
     "name": "stdout",
     "output_type": "stream",
     "text": [
      "Sample rate: 48000, n_mels: 128\n"
     ]
    }
   ],
   "execution_count": 15
  },
  {
   "metadata": {},
   "cell_type": "markdown",
   "source": "# 1. 資料加載與標記",
   "id": "a6fb182aae4eb89"
  },
  {
   "cell_type": "code",
   "id": "initial_id",
   "metadata": {
    "collapsed": true,
    "ExecuteTime": {
     "end_time": "2024-10-30T03:02:14.549694Z",
     "start_time": "2024-10-30T03:02:14.534691Z"
    }
   },
   "source": [
    "import os\n",
    "import librosa\n",
    "import numpy as np\n",
    "from sklearn.model_selection import train_test_split\n",
    "\n",
    "def load_segmented_files(directory):\n",
    "    wav_files = []\n",
    "    leak_wav_files = []\n",
    "    for dir in os.listdir(directory):\n",
    "        if not os.path.isdir(os.path.join(directory, dir)):\n",
    "            continue\n",
    "        for file in os.listdir(os.path.join(directory, dir)):\n",
    "            if not file.endswith(\".wav\"):\n",
    "                continue\n",
    "            file_path = os.path.join(directory, dir, file)\n",
    "            y, sr = librosa.load(file_path, sr=None)\n",
    "            filename = f'{dir}_{file}'\n",
    "            if 'no-leak' in dir:\n",
    "                wav_files.append((y, sr, filename))\n",
    "            else:\n",
    "                leak_wav_files.append((y, sr, filename))\n",
    "    return wav_files, leak_wav_files\n",
    "\n",
    "def create_dataset(directory, max_length=None):\n",
    "    wav_files, leak_wav_files = load_segmented_files(directory)\n",
    "    \n",
    "    # 將資料轉為 NumPy 格式\n",
    "    X = []\n",
    "    y = []\n",
    "    \n",
    "    for audio, sr, filename in wav_files:\n",
    "        X.append((audio, sr))\n",
    "        y.append(0)  # wav_files 標記為 0\n",
    "    \n",
    "    for audio, sr, filename in leak_wav_files:\n",
    "        X.append((audio, sr))\n",
    "        y.append(1)  # leak_wav_files 標記為 1\n",
    "    \n",
    "    return X, np.array(y)\n"
   ],
   "outputs": [],
   "execution_count": 16
  },
  {
   "metadata": {},
   "cell_type": "markdown",
   "source": "# 2. 特徵提取與資料預處理",
   "id": "b7788a5b8d4c0b5d"
  },
  {
   "metadata": {
    "ExecuteTime": {
     "end_time": "2024-10-30T03:05:07.199566Z",
     "start_time": "2024-10-30T03:05:07.187617Z"
    }
   },
   "cell_type": "code",
   "source": [
    "from data_preprocess import extract_features\n",
    "\n",
    "def preprocess_data(X, desired_time=2.0, n_mels=128, n_fft=2048, hop_length=512):\n",
    "    features = []\n",
    "    for audio, sr in X:\n",
    "        feature = extract_features(audio, sr, n_mels=n_mels, n_fft=n_fft, hop_length=hop_length, desired_time=desired_time)\n",
    "        features.append(feature)\n",
    "    return np.array(features)\n"
   ],
   "id": "5cb187713d43dd39",
   "outputs": [],
   "execution_count": 24
  },
  {
   "metadata": {},
   "cell_type": "markdown",
   "source": "# 3. 建立 CNN 模型",
   "id": "55e34253937c671f"
  },
  {
   "metadata": {
    "ExecuteTime": {
     "end_time": "2024-10-30T03:05:12.094394Z",
     "start_time": "2024-10-30T03:05:12.079394Z"
    }
   },
   "cell_type": "code",
   "source": [
    "import tensorflow as tf\n",
    "from tensorflow.keras.models import Sequential\n",
    "from tensorflow.keras.layers import Conv2D, MaxPooling2D, Flatten, Dense, Dropout\n",
    "\n",
    "def create_cnn_model(input_shape=(128, 128, 1)):\n",
    "    model = Sequential()\n",
    "    model.add(Conv2D(32, (3, 3), activation='relu', input_shape=input_shape))\n",
    "    model.add(MaxPooling2D((2, 2)))\n",
    "    model.add(Dropout(0.3))\n",
    "    \n",
    "    model.add(Conv2D(64, (3, 3), activation='relu'))\n",
    "    model.add(MaxPooling2D((2, 2)))\n",
    "    model.add(Dropout(0.3))\n",
    "    \n",
    "    model.add(Conv2D(128, (3, 3), activation='relu'))\n",
    "    model.add(MaxPooling2D((2, 2)))\n",
    "    model.add(Dropout(0.3))\n",
    "    \n",
    "    model.add(Flatten())\n",
    "    model.add(Dense(64, activation='relu'))\n",
    "    model.add(Dropout(0.4))\n",
    "    model.add(Dense(1, activation='sigmoid'))  # 二元分類使用 sigmoid 激活函數\n",
    "    \n",
    "    model.compile(optimizer='adam', loss='binary_crossentropy', metrics=['accuracy'])\n",
    "    return model\n"
   ],
   "id": "e5d13120a6048b8e",
   "outputs": [],
   "execution_count": 25
  },
  {
   "metadata": {
    "ExecuteTime": {
     "end_time": "2024-10-30T03:05:13.263572Z",
     "start_time": "2024-10-30T03:05:13.254592Z"
    }
   },
   "cell_type": "code",
   "source": [
    "def create_training_data(desired_time=2.0, directory='training_data'):\n",
    "    X, y = create_dataset(directory)\n",
    "    \n",
    "    print(f\"總樣本數: {len(X)}\")\n",
    "    print(f\"標籤分佈: {np.bincount(y)}\")\n",
    "    \n",
    "    \n",
    "    X_features = preprocess_data(X, desired_time=desired_time)\n",
    "    \n",
    "    print(f\"特徵形狀: {X_features.shape}\")  # 預期形狀: (樣本數, max_len, n_mels)\n",
    "    \n",
    "    # 正規化特徵\n",
    "    X_features = (X_features - np.mean(X_features)) / np.std(X_features)\n",
    "    \n",
    "    # 擴展維度以符合 CNN 輸入 (樣本數, 高, 寬, 通道)\n",
    "    X_features = np.expand_dims(X_features, -1)  # 新形狀: (樣本數, max_len, n_mels, 1)\n",
    "    \n",
    "    # 分割訓練集與測試集\n",
    "    X_train, X_test, y_train, y_test = train_test_split(X_features, y, test_size=0.2, random_state=42)\n",
    "    \n",
    "    print(f\"訓練集形狀: {X_train.shape}\")\n",
    "    print(f\"測試集形狀: {X_test.shape}\")\n",
    "    \n",
    "    return X_train, X_test, y_train, y_test"
   ],
   "id": "7d679ad2964aa401",
   "outputs": [],
   "execution_count": 26
  },
  {
   "metadata": {
    "ExecuteTime": {
     "end_time": "2024-10-30T03:05:14.398571Z",
     "start_time": "2024-10-30T03:05:14.382085Z"
    }
   },
   "cell_type": "code",
   "source": [
    "def create_model(mockup_input):\n",
    "    # 計算實際的 max_len\n",
    "    desired_time = 2.0  # 設定為 2 秒\n",
    "    sr_example = X[0][1]  # 取一個樣本的取樣率\n",
    "    max_len = int(np.ceil((desired_time * sr_example) / 512))\n",
    "    print(f\"設定的 max_len（時間幀數）: {max_len}\")\n",
    "    \n",
    "    # 建立模型\n",
    "    input_shape = (mockup_input.shape[1], mockup_input.shape[2], 1)\n",
    "    model = create_cnn_model(input_shape)\n",
    "    model.summary()\n",
    "    return model"
   ],
   "id": "a4ffc4a61f8a1c24",
   "outputs": [],
   "execution_count": 27
  },
  {
   "metadata": {},
   "cell_type": "markdown",
   "source": "# 4. 訓練模型",
   "id": "48f4e3f68035b7dc"
  },
  {
   "metadata": {
    "ExecuteTime": {
     "end_time": "2024-10-30T03:02:14.722182Z",
     "start_time": "2024-10-30T03:02:14.714181Z"
    }
   },
   "cell_type": "code",
   "source": [
    "def train_model(model, X_train, X_test, y_train, y_test, epochs=30, batch_size=32):\n",
    "        # 訓練模型\n",
    "    history = model.fit(\n",
    "        X_train, y_train,\n",
    "        epochs=epochs,\n",
    "        batch_size=batch_size,\n",
    "        validation_data=(X_test, y_test)\n",
    "    )\n",
    "    \n",
    "    # 評估模型\n",
    "    test_loss, test_accuracy = model.evaluate(X_test, y_test)\n",
    "    print(f\"Test loss: {test_loss:.4f}\")\n",
    "    print(f\"Test accuracy: {test_accuracy:.2f}\")\n",
    "    \n",
    "    return model, history"
   ],
   "id": "2658a06f4a9db7e7",
   "outputs": [],
   "execution_count": 21
  },
  {
   "metadata": {
    "ExecuteTime": {
     "end_time": "2024-10-30T03:02:14.753696Z",
     "start_time": "2024-10-30T03:02:14.740188Z"
    }
   },
   "cell_type": "code",
   "source": [
    "def evaluate_model(model, X_test, y_test):\n",
    "    test_loss, test_accuracy = model.evaluate(X_test, y_test)\n",
    "    print(f\"Test loss: {test_loss:.4f}\")\n",
    "    print(f\"Test accuracy: {test_accuracy:.2f}\")"
   ],
   "id": "eb722b82e90ac3d",
   "outputs": [],
   "execution_count": 22
  },
  {
   "metadata": {
    "ExecuteTime": {
     "end_time": "2024-10-30T03:07:42.617857Z",
     "start_time": "2024-10-30T03:05:23.781762Z"
    }
   },
   "cell_type": "code",
   "source": "X_train, X_test, y_train, y_test = create_training_data(directory='training_data')",
   "id": "b8fcf3795c7eca02",
   "outputs": [
    {
     "name": "stdout",
     "output_type": "stream",
     "text": [
      "總樣本數: 12717\n",
      "標籤分佈: [10641  2076]\n",
      "特徵形狀: (12717, 188, 128)\n",
      "訓練集形狀: (10173, 188, 128, 1)\n",
      "測試集形狀: (2544, 188, 128, 1)\n"
     ]
    }
   ],
   "execution_count": 28
  },
  {
   "metadata": {
    "ExecuteTime": {
     "end_time": "2024-10-30T03:08:59.666435Z",
     "start_time": "2024-10-30T03:08:56.380094Z"
    }
   },
   "cell_type": "code",
   "source": "cnn_model = create_model(X_train)",
   "id": "496ecf15e0c42ddf",
   "outputs": [
    {
     "name": "stdout",
     "output_type": "stream",
     "text": [
      "設定的 max_len（時間幀數）: 188\n",
      "Model: \"sequential\"\n",
      "_________________________________________________________________\n",
      " Layer (type)                Output Shape              Param #   \n",
      "=================================================================\n",
      " conv2d (Conv2D)             (None, 186, 126, 32)      320       \n",
      "                                                                 \n",
      " max_pooling2d (MaxPooling2D  (None, 93, 63, 32)       0         \n",
      " )                                                               \n",
      "                                                                 \n",
      " dropout (Dropout)           (None, 93, 63, 32)        0         \n",
      "                                                                 \n",
      " conv2d_1 (Conv2D)           (None, 91, 61, 64)        18496     \n",
      "                                                                 \n",
      " max_pooling2d_1 (MaxPooling  (None, 45, 30, 64)       0         \n",
      " 2D)                                                             \n",
      "                                                                 \n",
      " dropout_1 (Dropout)         (None, 45, 30, 64)        0         \n",
      "                                                                 \n",
      " conv2d_2 (Conv2D)           (None, 43, 28, 128)       73856     \n",
      "                                                                 \n",
      " max_pooling2d_2 (MaxPooling  (None, 21, 14, 128)      0         \n",
      " 2D)                                                             \n",
      "                                                                 \n",
      " dropout_2 (Dropout)         (None, 21, 14, 128)       0         \n",
      "                                                                 \n",
      " flatten (Flatten)           (None, 37632)             0         \n",
      "                                                                 \n",
      " dense (Dense)               (None, 64)                2408512   \n",
      "                                                                 \n",
      " dropout_3 (Dropout)         (None, 64)                0         \n",
      "                                                                 \n",
      " dense_1 (Dense)             (None, 1)                 65        \n",
      "                                                                 \n",
      "=================================================================\n",
      "Total params: 2,501,249\n",
      "Trainable params: 2,501,249\n",
      "Non-trainable params: 0\n",
      "_________________________________________________________________\n"
     ]
    }
   ],
   "execution_count": 29
  },
  {
   "metadata": {
    "ExecuteTime": {
     "end_time": "2024-10-30T03:13:12.555983Z",
     "start_time": "2024-10-30T03:09:19.378897Z"
    }
   },
   "cell_type": "code",
   "source": "model, history = train_model(cnn_model, X_train, X_test, y_train, y_test, epochs=30)",
   "id": "4c22f7b3db3499d5",
   "outputs": [
    {
     "name": "stdout",
     "output_type": "stream",
     "text": [
      "Epoch 1/30\n",
      "318/318 [==============================] - 15s 25ms/step - loss: 0.4552 - accuracy: 0.8305 - val_loss: 0.3536 - val_accuracy: 0.8785\n",
      "Epoch 2/30\n",
      "318/318 [==============================] - 7s 23ms/step - loss: 0.3262 - accuracy: 0.8560 - val_loss: 0.2788 - val_accuracy: 0.8856\n",
      "Epoch 3/30\n",
      "318/318 [==============================] - 7s 23ms/step - loss: 0.3126 - accuracy: 0.8592 - val_loss: 0.2728 - val_accuracy: 0.9006\n",
      "Epoch 4/30\n",
      "318/318 [==============================] - 7s 23ms/step - loss: 0.2977 - accuracy: 0.8703 - val_loss: 0.2660 - val_accuracy: 0.8931\n",
      "Epoch 5/30\n",
      "318/318 [==============================] - 7s 23ms/step - loss: 0.2909 - accuracy: 0.8835 - val_loss: 0.2983 - val_accuracy: 0.8695\n",
      "Epoch 6/30\n",
      "318/318 [==============================] - 7s 23ms/step - loss: 0.2838 - accuracy: 0.8841 - val_loss: 0.2563 - val_accuracy: 0.8935\n",
      "Epoch 7/30\n",
      "318/318 [==============================] - 7s 23ms/step - loss: 0.2791 - accuracy: 0.8877 - val_loss: 0.2518 - val_accuracy: 0.9006\n",
      "Epoch 8/30\n",
      "318/318 [==============================] - 7s 24ms/step - loss: 0.2652 - accuracy: 0.8954 - val_loss: 0.3314 - val_accuracy: 0.8711\n",
      "Epoch 9/30\n",
      "318/318 [==============================] - 7s 23ms/step - loss: 0.2657 - accuracy: 0.8947 - val_loss: 0.2476 - val_accuracy: 0.9033\n",
      "Epoch 10/30\n",
      "318/318 [==============================] - 7s 23ms/step - loss: 0.2548 - accuracy: 0.8990 - val_loss: 0.2394 - val_accuracy: 0.8990\n",
      "Epoch 11/30\n",
      "318/318 [==============================] - 7s 23ms/step - loss: 0.2496 - accuracy: 0.9004 - val_loss: 0.2496 - val_accuracy: 0.8880\n",
      "Epoch 12/30\n",
      "318/318 [==============================] - 7s 23ms/step - loss: 0.2389 - accuracy: 0.9063 - val_loss: 0.2464 - val_accuracy: 0.8986\n",
      "Epoch 13/30\n",
      "318/318 [==============================] - 7s 23ms/step - loss: 0.2414 - accuracy: 0.9004 - val_loss: 0.2392 - val_accuracy: 0.9006\n",
      "Epoch 14/30\n",
      "318/318 [==============================] - 7s 23ms/step - loss: 0.2299 - accuracy: 0.9069 - val_loss: 0.2482 - val_accuracy: 0.9076\n",
      "Epoch 15/30\n",
      "318/318 [==============================] - 7s 23ms/step - loss: 0.2268 - accuracy: 0.9087 - val_loss: 0.2675 - val_accuracy: 0.8892\n",
      "Epoch 16/30\n",
      "318/318 [==============================] - 7s 23ms/step - loss: 0.2216 - accuracy: 0.9102 - val_loss: 0.2255 - val_accuracy: 0.9139\n",
      "Epoch 17/30\n",
      "318/318 [==============================] - 7s 24ms/step - loss: 0.2162 - accuracy: 0.9132 - val_loss: 0.2296 - val_accuracy: 0.9108\n",
      "Epoch 18/30\n",
      "318/318 [==============================] - 8s 24ms/step - loss: 0.2113 - accuracy: 0.9146 - val_loss: 0.2449 - val_accuracy: 0.9025\n",
      "Epoch 19/30\n",
      "318/318 [==============================] - 7s 23ms/step - loss: 0.2092 - accuracy: 0.9162 - val_loss: 0.2654 - val_accuracy: 0.9025\n",
      "Epoch 20/30\n",
      "318/318 [==============================] - 7s 23ms/step - loss: 0.2094 - accuracy: 0.9194 - val_loss: 0.2411 - val_accuracy: 0.9045\n",
      "Epoch 21/30\n",
      "318/318 [==============================] - 7s 23ms/step - loss: 0.2098 - accuracy: 0.9155 - val_loss: 0.2472 - val_accuracy: 0.9155\n",
      "Epoch 22/30\n",
      "318/318 [==============================] - 7s 24ms/step - loss: 0.1962 - accuracy: 0.9223 - val_loss: 0.2543 - val_accuracy: 0.9068\n",
      "Epoch 23/30\n",
      "318/318 [==============================] - 7s 23ms/step - loss: 0.1923 - accuracy: 0.9256 - val_loss: 0.2506 - val_accuracy: 0.9119\n",
      "Epoch 24/30\n",
      "318/318 [==============================] - 7s 23ms/step - loss: 0.1941 - accuracy: 0.9237 - val_loss: 0.2510 - val_accuracy: 0.9100\n",
      "Epoch 25/30\n",
      "318/318 [==============================] - 8s 24ms/step - loss: 0.1881 - accuracy: 0.9264 - val_loss: 0.2534 - val_accuracy: 0.9139\n",
      "Epoch 26/30\n",
      "318/318 [==============================] - 8s 24ms/step - loss: 0.1796 - accuracy: 0.9313 - val_loss: 0.2970 - val_accuracy: 0.8947\n",
      "Epoch 27/30\n",
      "318/318 [==============================] - 8s 24ms/step - loss: 0.1865 - accuracy: 0.9274 - val_loss: 0.2668 - val_accuracy: 0.9116\n",
      "Epoch 28/30\n",
      "318/318 [==============================] - 8s 24ms/step - loss: 0.1765 - accuracy: 0.9315 - val_loss: 0.2667 - val_accuracy: 0.9100\n",
      "Epoch 29/30\n",
      "318/318 [==============================] - 8s 24ms/step - loss: 0.1760 - accuracy: 0.9300 - val_loss: 0.2807 - val_accuracy: 0.9135\n",
      "Epoch 30/30\n",
      "318/318 [==============================] - 8s 24ms/step - loss: 0.1771 - accuracy: 0.9294 - val_loss: 0.2531 - val_accuracy: 0.9127\n",
      "80/80 [==============================] - 1s 8ms/step - loss: 0.2531 - accuracy: 0.9127\n",
      "Test loss: 0.2531\n",
      "Test accuracy: 0.91\n"
     ]
    }
   ],
   "execution_count": 30
  },
  {
   "metadata": {
    "ExecuteTime": {
     "end_time": "2024-10-30T03:13:13.338175Z",
     "start_time": "2024-10-30T03:13:12.561354Z"
    }
   },
   "cell_type": "code",
   "source": "evaluate_model(cnn_model, X_test, y_test)",
   "id": "34386cec81d6a2d4",
   "outputs": [
    {
     "name": "stdout",
     "output_type": "stream",
     "text": [
      "80/80 [==============================] - 1s 8ms/step - loss: 0.2531 - accuracy: 0.9127\n",
      "Test loss: 0.2531\n",
      "Test accuracy: 0.91\n"
     ]
    }
   ],
   "execution_count": 31
  },
  {
   "metadata": {
    "ExecuteTime": {
     "end_time": "2024-10-30T03:13:13.478781Z",
     "start_time": "2024-10-30T03:13:13.356133Z"
    }
   },
   "cell_type": "code",
   "source": [
    "date = datetime.now().strftime('%Y%m%d%H%M')\n",
    "model.save(f'model_{date}.h5')\n",
    "print(f\"Model saved as model_{date}.h5\")"
   ],
   "id": "551ff463bcaf8093",
   "outputs": [],
   "execution_count": 32
  },
  {
   "metadata": {
    "ExecuteTime": {
     "end_time": "2024-10-30T03:13:14.226492Z",
     "start_time": "2024-10-30T03:13:14.025946Z"
    }
   },
   "cell_type": "code",
   "source": [
    "import matplotlib.pyplot as plt\n",
    "plt.plot(history.history['loss'])\n",
    "plt.plot(history.history['val_loss'])\n",
    "plt.title('Model loss')\n",
    "plt.ylabel('Loss')\n",
    "plt.xlabel('Epoch')\n",
    "plt.legend(['Train', 'Test'], loc='upper right')\n",
    "plt.savefig(f'model_loss_{date}.png')\n",
    "plt.show()"
   ],
   "id": "70c5f696df14eef",
   "outputs": [
    {
     "data": {
      "text/plain": [
       "<Figure size 640x480 with 1 Axes>"
      ],
      "image/png": "[encoded data removed]"
     },
     "metadata": {},
     "output_type": "display_data"
    }
   ],
   "execution_count": 34
  },
  {
   "metadata": {
    "ExecuteTime": {
     "end_time": "2024-10-30T03:02:49.421841700Z",
     "start_time": "2024-10-30T02:08:05.441870Z"
    }
   },
   "cell_type": "code",
   "source": "",
   "id": "77144cb141ef9e4a",
   "outputs": [],
   "execution_count": null
  }
 ],
 "metadata": {
  "kernelspec": {
   "display_name": "Python 3",
   "language": "python",
   "name": "python3"
  },
  "language_info": {
   "codemirror_mode": {
    "name": "ipython",
    "version": 2
   },
   "file_extension": ".py",
   "mimetype": "text/x-python",
   "name": "python",
   "nbconvert_exporter": "python",
   "pygments_lexer": "ipython2",
   "version": "2.7.6"
  }
 },
 "nbformat": 4,
 "nbformat_minor": 5
}
