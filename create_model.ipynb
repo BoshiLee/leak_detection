{
 "cells": [
  {
   "metadata": {
    "ExecuteTime": {
     "end_time": "2024-10-29T09:01:50.847927Z",
     "start_time": "2024-10-29T09:01:45.126940Z"
    }
   },
   "cell_type": "code",
   "source": [
    "import librosa.display\n",
    "from dotenv import load_dotenv\n",
    "import os\n",
    "import librosa\n",
    "import numpy as np\n",
    "from sklearn.model_selection import train_test_split"
   ],
   "id": "c9272ced716478d7",
   "outputs": [],
   "execution_count": 1
  },
  {
   "metadata": {
    "ExecuteTime": {
     "end_time": "2024-10-29T09:01:51.875400Z",
     "start_time": "2024-10-29T09:01:51.864216Z"
    }
   },
   "cell_type": "code",
   "source": [
    "# 指定 STFT 參數\n",
    "load_dotenv()\n",
    "sample_rate = int(os.getenv('sample_rate'))\n",
    "n_mels = int(os.getenv('n_mels'))\n",
    "# n_fft = int(os.getenv('n_fft'))\n",
    "\n",
    "print(f'Sample rate: {sample_rate}, n_mels: {n_mels}')"
   ],
   "id": "383eb8331f64ea50",
   "outputs": [
    {
     "name": "stdout",
     "output_type": "stream",
     "text": [
      "Sample rate: 48000, n_mels: 128\n"
     ]
    }
   ],
   "execution_count": 2
  },
  {
   "cell_type": "code",
   "id": "initial_id",
   "metadata": {
    "collapsed": true,
    "ExecuteTime": {
     "end_time": "2024-10-29T09:02:31.810127Z",
     "start_time": "2024-10-29T09:01:52.827864Z"
    }
   },
   "source": [
    "import os\n",
    "import librosa\n",
    "import numpy as np\n",
    "from sklearn.model_selection import train_test_split\n",
    "\n",
    "def load_segmented_files(directory):\n",
    "    wav_files = []\n",
    "    leak_wav_files = []\n",
    "    for dir in os.listdir(directory):\n",
    "        if not os.path.isdir(os.path.join(directory, dir)):\n",
    "            continue\n",
    "        for file in os.listdir(os.path.join(directory, dir)):\n",
    "            if not file.endswith(\".wav\"):\n",
    "                continue\n",
    "            file_path = os.path.join(directory, dir, file)\n",
    "            y, sr = librosa.load(file_path, sr=None)\n",
    "            filename = f'{dir}_{file}'\n",
    "            if 'no-leak' in dir:\n",
    "                wav_files.append((y, sr, filename))\n",
    "            else:\n",
    "                leak_wav_files.append((y, sr, filename))\n",
    "    return wav_files, leak_wav_files\n",
    "\n",
    "def create_dataset(directory, max_length=None):\n",
    "    wav_files, leak_wav_files = load_segmented_files(directory)\n",
    "    \n",
    "    # 將資料轉為 NumPy 格式\n",
    "    X = []\n",
    "    y = []\n",
    "    \n",
    "    for audio, sr, filename in wav_files:\n",
    "        X.append((audio, sr))\n",
    "        y.append(0)  # wav_files 標記為 0\n",
    "    \n",
    "    for audio, sr, filename in leak_wav_files:\n",
    "        X.append((audio, sr))\n",
    "        y.append(1)  # leak_wav_files 標記為 1\n",
    "    \n",
    "    return X, np.array(y)\n",
    "\n",
    "# 使用範例\n",
    "directory = 'training_data'\n",
    "X, y = create_dataset(directory)\n",
    "\n",
    "print(f\"總樣本數: {len(X)}\")\n",
    "print(f\"標籤分佈: {np.bincount(y)}\")\n"
   ],
   "outputs": [
    {
     "name": "stdout",
     "output_type": "stream",
     "text": [
      "總樣本數: 12717\n",
      "標籤分佈: [10641  2076]\n"
     ]
    }
   ],
   "execution_count": 3
  },
  {
   "metadata": {
    "ExecuteTime": {
     "end_time": "2024-10-29T09:03:49.344233Z",
     "start_time": "2024-10-29T09:02:39.626492Z"
    }
   },
   "cell_type": "code",
   "source": [
    "def extract_features(audio, sr, n_mels=128, n_fft=2048, hop_length=512, max_len=128):\n",
    "    mel_spectrogram = librosa.feature.melspectrogram(y=audio, sr=sr, n_mels=n_mels, n_fft=n_fft, hop_length=hop_length)\n",
    "    log_mel_spectrogram = librosa.power_to_db(mel_spectrogram, ref=np.max)\n",
    "    \n",
    "    # 轉置以符合 (時間, 頻率) 的形狀\n",
    "    log_mel_spectrogram = log_mel_spectrogram.T  # 形狀變為 (時間, n_mels)\n",
    "    \n",
    "    # 填充或截斷至 max_len\n",
    "    if log_mel_spectrogram.shape[0] < max_len:\n",
    "        pad_width = max_len - log_mel_spectrogram.shape[0]\n",
    "        log_mel_spectrogram = np.pad(log_mel_spectrogram, ((0, pad_width), (0, 0)), mode='constant')\n",
    "    else:\n",
    "        log_mel_spectrogram = log_mel_spectrogram[:max_len, :]\n",
    "    \n",
    "    return log_mel_spectrogram\n",
    "\n",
    "def preprocess_data(X, max_len=128):\n",
    "    features = []\n",
    "    for audio, sr in X:\n",
    "        feature = extract_features(audio, sr, max_len=max_len)\n",
    "        features.append(feature)\n",
    "    return np.array(features)\n",
    "\n",
    "# 預處理資料\n",
    "max_len = 128  # 您可以根據需求調整\n",
    "X_features = preprocess_data(X, max_len=max_len)\n",
    "\n",
    "print(f\"特徵形狀: {X_features.shape}\")  # 預期形狀: (樣本數, max_len, n_mels)\n"
   ],
   "id": "5cb187713d43dd39",
   "outputs": [
    {
     "name": "stdout",
     "output_type": "stream",
     "text": [
      "特徵形狀: (12717, 128, 128)\n"
     ]
    }
   ],
   "execution_count": 4
  },
  {
   "metadata": {
    "ExecuteTime": {
     "end_time": "2024-10-29T09:03:50.778110Z",
     "start_time": "2024-10-29T09:03:49.404049Z"
    }
   },
   "cell_type": "code",
   "source": [
    "# 正規化特徵\n",
    "X_features = (X_features - np.mean(X_features)) / np.std(X_features)\n",
    "\n",
    "# 擴展維度以符合 CNN 輸入 (樣本數, 高, 寬, 通道)\n",
    "X_features = np.expand_dims(X_features, -1)  # 新形狀: (樣本數, max_len, n_mels, 1)\n",
    "\n",
    "# 分割訓練集與測試集\n",
    "X_train, X_test, y_train, y_test = train_test_split(X_features, y, test_size=0.2, random_state=42)\n",
    "\n",
    "print(f\"訓練集形狀: {X_train.shape}\")\n",
    "print(f\"測試集形狀: {X_test.shape}\")\n"
   ],
   "id": "14970057696e42b0",
   "outputs": [
    {
     "name": "stdout",
     "output_type": "stream",
     "text": [
      "訓練集形狀: (10173, 128, 128, 1)\n",
      "測試集形狀: (2544, 128, 128, 1)\n"
     ]
    }
   ],
   "execution_count": 5
  },
  {
   "metadata": {
    "ExecuteTime": {
     "end_time": "2024-10-29T09:03:59.306182Z",
     "start_time": "2024-10-29T09:03:50.810640Z"
    }
   },
   "cell_type": "code",
   "source": [
    "import tensorflow as tf\n",
    "from tensorflow.keras.models import Sequential\n",
    "from tensorflow.keras.layers import Conv2D, MaxPooling2D, Flatten, Dense, Dropout\n",
    "\n",
    "def create_cnn_model(input_shape=(128, 128, 1)):\n",
    "    model = Sequential()\n",
    "    model.add(Conv2D(32, (3, 3), activation='relu', input_shape=input_shape))\n",
    "    model.add(MaxPooling2D((2, 2)))\n",
    "    model.add(Dropout(0.3))\n",
    "    \n",
    "    model.add(Conv2D(64, (3, 3), activation='relu'))\n",
    "    model.add(MaxPooling2D((2, 2)))\n",
    "    model.add(Dropout(0.3))\n",
    "    \n",
    "    model.add(Conv2D(128, (3, 3), activation='relu'))\n",
    "    model.add(MaxPooling2D((2, 2)))\n",
    "    model.add(Dropout(0.3))\n",
    "    \n",
    "    model.add(Flatten())\n",
    "    model.add(Dense(64, activation='relu'))\n",
    "    model.add(Dropout(0.4))\n",
    "    model.add(Dense(1, activation='sigmoid'))  # 二元分類使用 sigmoid 激活函數\n",
    "    \n",
    "    model.compile(optimizer='adam', loss='binary_crossentropy', metrics=['accuracy'])\n",
    "    return model\n",
    "\n",
    "# 建立模型\n",
    "input_shape = (128, 128, 1)  # 調整後的頻譜圖形狀\n",
    "model = create_cnn_model(input_shape)\n",
    "model.summary()\n"
   ],
   "id": "e5d13120a6048b8e",
   "outputs": [
    {
     "name": "stdout",
     "output_type": "stream",
     "text": [
      "Model: \"sequential\"\n",
      "_________________________________________________________________\n",
      " Layer (type)                Output Shape              Param #   \n",
      "=================================================================\n",
      " conv2d (Conv2D)             (None, 126, 126, 32)      320       \n",
      "                                                                 \n",
      " max_pooling2d (MaxPooling2D  (None, 63, 63, 32)       0         \n",
      " )                                                               \n",
      "                                                                 \n",
      " dropout (Dropout)           (None, 63, 63, 32)        0         \n",
      "                                                                 \n",
      " conv2d_1 (Conv2D)           (None, 61, 61, 64)        18496     \n",
      "                                                                 \n",
      " max_pooling2d_1 (MaxPooling  (None, 30, 30, 64)       0         \n",
      " 2D)                                                             \n",
      "                                                                 \n",
      " dropout_1 (Dropout)         (None, 30, 30, 64)        0         \n",
      "                                                                 \n",
      " conv2d_2 (Conv2D)           (None, 28, 28, 128)       73856     \n",
      "                                                                 \n",
      " max_pooling2d_2 (MaxPooling  (None, 14, 14, 128)      0         \n",
      " 2D)                                                             \n",
      "                                                                 \n",
      " dropout_2 (Dropout)         (None, 14, 14, 128)       0         \n",
      "                                                                 \n",
      " flatten (Flatten)           (None, 25088)             0         \n",
      "                                                                 \n",
      " dense (Dense)               (None, 64)                1605696   \n",
      "                                                                 \n",
      " dropout_3 (Dropout)         (None, 64)                0         \n",
      "                                                                 \n",
      " dense_1 (Dense)             (None, 1)                 65        \n",
      "                                                                 \n",
      "=================================================================\n",
      "Total params: 1,698,433\n",
      "Trainable params: 1,698,433\n",
      "Non-trainable params: 0\n",
      "_________________________________________________________________\n"
     ]
    }
   ],
   "execution_count": 6
  },
  {
   "metadata": {
    "ExecuteTime": {
     "end_time": "2024-10-29T09:06:31.085198Z",
     "start_time": "2024-10-29T09:03:59.323178Z"
    }
   },
   "cell_type": "code",
   "source": [
    "# 假設 X_train 和 X_test 經過特徵提取並已調整維度\n",
    "X_train_expanded = np.expand_dims(X_train, -1)\n",
    "X_test_expanded = np.expand_dims(X_test, -1)\n",
    "\n",
    "# 訓練模型\n",
    "history = model.fit(X_train_expanded, y_train, epochs=30, batch_size=32, validation_data=(X_test_expanded, y_test))\n"
   ],
   "id": "eb722b82e90ac3d",
   "outputs": [
    {
     "name": "stdout",
     "output_type": "stream",
     "text": [
      "Epoch 1/30\n",
      "318/318 [==============================] - 12s 16ms/step - loss: 0.4124 - accuracy: 0.8315 - val_loss: 0.3283 - val_accuracy: 0.8518\n",
      "Epoch 2/30\n",
      "318/318 [==============================] - 5s 15ms/step - loss: 0.3474 - accuracy: 0.8330 - val_loss: 0.3028 - val_accuracy: 0.8518\n",
      "Epoch 3/30\n",
      "318/318 [==============================] - 5s 15ms/step - loss: 0.3343 - accuracy: 0.8435 - val_loss: 0.2886 - val_accuracy: 0.8813\n",
      "Epoch 4/30\n",
      "318/318 [==============================] - 5s 15ms/step - loss: 0.3161 - accuracy: 0.8712 - val_loss: 0.2778 - val_accuracy: 0.8801\n",
      "Epoch 5/30\n",
      "318/318 [==============================] - 5s 15ms/step - loss: 0.3022 - accuracy: 0.8831 - val_loss: 0.2690 - val_accuracy: 0.8770\n",
      "Epoch 6/30\n",
      "318/318 [==============================] - 5s 15ms/step - loss: 0.2970 - accuracy: 0.8842 - val_loss: 0.2665 - val_accuracy: 0.8872\n",
      "Epoch 7/30\n",
      "318/318 [==============================] - 5s 15ms/step - loss: 0.2933 - accuracy: 0.8855 - val_loss: 0.2674 - val_accuracy: 0.8958\n",
      "Epoch 8/30\n",
      "318/318 [==============================] - 5s 15ms/step - loss: 0.2869 - accuracy: 0.8895 - val_loss: 0.2700 - val_accuracy: 0.8899\n",
      "Epoch 9/30\n",
      "318/318 [==============================] - 5s 15ms/step - loss: 0.2805 - accuracy: 0.8928 - val_loss: 0.2647 - val_accuracy: 0.8927\n",
      "Epoch 10/30\n",
      "318/318 [==============================] - 5s 15ms/step - loss: 0.2703 - accuracy: 0.8939 - val_loss: 0.2528 - val_accuracy: 0.8943\n",
      "Epoch 11/30\n",
      "318/318 [==============================] - 5s 15ms/step - loss: 0.2668 - accuracy: 0.8947 - val_loss: 0.2712 - val_accuracy: 0.8931\n",
      "Epoch 12/30\n",
      "318/318 [==============================] - 5s 15ms/step - loss: 0.2641 - accuracy: 0.8985 - val_loss: 0.2511 - val_accuracy: 0.8978\n",
      "Epoch 13/30\n",
      "318/318 [==============================] - 5s 15ms/step - loss: 0.2556 - accuracy: 0.9021 - val_loss: 0.2441 - val_accuracy: 0.9096\n",
      "Epoch 14/30\n",
      "318/318 [==============================] - 5s 15ms/step - loss: 0.2488 - accuracy: 0.9029 - val_loss: 0.2575 - val_accuracy: 0.8974\n",
      "Epoch 15/30\n",
      "318/318 [==============================] - 5s 15ms/step - loss: 0.2505 - accuracy: 0.9038 - val_loss: 0.2472 - val_accuracy: 0.9064\n",
      "Epoch 16/30\n",
      "318/318 [==============================] - 5s 15ms/step - loss: 0.2406 - accuracy: 0.9059 - val_loss: 0.2726 - val_accuracy: 0.8899\n",
      "Epoch 17/30\n",
      "318/318 [==============================] - 5s 15ms/step - loss: 0.2362 - accuracy: 0.9043 - val_loss: 0.2666 - val_accuracy: 0.8903\n",
      "Epoch 18/30\n",
      "318/318 [==============================] - 5s 15ms/step - loss: 0.2328 - accuracy: 0.9086 - val_loss: 0.2570 - val_accuracy: 0.9045\n",
      "Epoch 19/30\n",
      "318/318 [==============================] - 5s 15ms/step - loss: 0.2293 - accuracy: 0.9111 - val_loss: 0.2480 - val_accuracy: 0.9033\n",
      "Epoch 20/30\n",
      "318/318 [==============================] - 5s 15ms/step - loss: 0.2211 - accuracy: 0.9142 - val_loss: 0.2563 - val_accuracy: 0.9080\n",
      "Epoch 21/30\n",
      "318/318 [==============================] - 5s 15ms/step - loss: 0.2265 - accuracy: 0.9111 - val_loss: 0.2678 - val_accuracy: 0.8990\n",
      "Epoch 22/30\n",
      "318/318 [==============================] - 5s 16ms/step - loss: 0.2192 - accuracy: 0.9138 - val_loss: 0.3138 - val_accuracy: 0.8923\n",
      "Epoch 23/30\n",
      "318/318 [==============================] - 5s 16ms/step - loss: 0.2168 - accuracy: 0.9160 - val_loss: 0.2539 - val_accuracy: 0.9045\n",
      "Epoch 24/30\n",
      "318/318 [==============================] - 5s 16ms/step - loss: 0.2117 - accuracy: 0.9170 - val_loss: 0.2561 - val_accuracy: 0.9025\n",
      "Epoch 25/30\n",
      "318/318 [==============================] - 5s 16ms/step - loss: 0.2096 - accuracy: 0.9194 - val_loss: 0.2591 - val_accuracy: 0.9076\n",
      "Epoch 26/30\n",
      "318/318 [==============================] - 5s 16ms/step - loss: 0.2080 - accuracy: 0.9170 - val_loss: 0.2704 - val_accuracy: 0.9006\n",
      "Epoch 27/30\n",
      "318/318 [==============================] - 5s 16ms/step - loss: 0.2001 - accuracy: 0.9228 - val_loss: 0.2494 - val_accuracy: 0.8974\n",
      "Epoch 28/30\n",
      "318/318 [==============================] - 5s 16ms/step - loss: 0.1931 - accuracy: 0.9269 - val_loss: 0.2653 - val_accuracy: 0.8939\n",
      "Epoch 29/30\n",
      "318/318 [==============================] - 5s 16ms/step - loss: 0.1959 - accuracy: 0.9254 - val_loss: 0.2727 - val_accuracy: 0.8856\n",
      "Epoch 30/30\n",
      "318/318 [==============================] - 5s 16ms/step - loss: 0.1887 - accuracy: 0.9284 - val_loss: 0.2696 - val_accuracy: 0.9045\n"
     ]
    }
   ],
   "execution_count": 7
  },
  {
   "metadata": {
    "ExecuteTime": {
     "end_time": "2024-10-29T09:06:31.626732Z",
     "start_time": "2024-10-29T09:06:31.102103Z"
    }
   },
   "cell_type": "code",
   "source": [
    "# 評估模型\n",
    "test_loss, test_accuracy = model.evaluate(X_test_expanded, y_test)\n",
    "print(f\"Test accuracy: {test_accuracy:.2f}\")\n"
   ],
   "id": "bc424034a5d352d9",
   "outputs": [
    {
     "name": "stdout",
     "output_type": "stream",
     "text": [
      "80/80 [==============================] - 0s 5ms/step - loss: 0.2696 - accuracy: 0.9045\n",
      "Test accuracy: 0.90\n"
     ]
    }
   ],
   "execution_count": 8
  },
  {
   "metadata": {
    "ExecuteTime": {
     "end_time": "2024-10-29T09:07:22.856834Z",
     "start_time": "2024-10-29T09:07:22.259433Z"
    }
   },
   "cell_type": "code",
   "source": [
    "import matplotlib.pyplot as plt\n",
    "plt.plot(history.history['loss'])\n",
    "plt.plot(history.history['val_loss'])\n",
    "plt.title('Model loss')\n",
    "plt.ylabel('Loss')\n",
    "plt.xlabel('Epoch')\n",
    "plt.legend(['Train', 'Test'], loc='upper right')\n",
    "plt.savefig('model_loss.png')\n",
    "plt.show()"
   ],
   "id": "70c5f696df14eef",
   "outputs": [
    {
     "data": {
      "text/plain": [
       "<Figure size 640x480 with 1 Axes>"
      ],
      "image/png": "[encoded data removed]"
     },
     "metadata": {},
     "output_type": "display_data"
    }
   ],
   "execution_count": 9
  },
  {
   "metadata": {},
   "cell_type": "code",
   "outputs": [],
   "execution_count": null,
   "source": "",
   "id": "77144cb141ef9e4a"
  }
 ],
 "metadata": {
  "kernelspec": {
   "display_name": "Python 3",
   "language": "python",
   "name": "python3"
  },
  "language_info": {
   "codemirror_mode": {
    "name": "ipython",
    "version": 2
   },
   "file_extension": ".py",
   "mimetype": "text/x-python",
   "name": "python",
   "nbconvert_exporter": "python",
   "pygments_lexer": "ipython2",
   "version": "2.7.6"
  }
 },
 "nbformat": 4,
 "nbformat_minor": 5
}
