{
 "cells": [
  {
   "metadata": {
    "ExecuteTime": {
     "end_time": "2024-10-30T05:51:42.413652Z",
     "start_time": "2024-10-30T05:51:42.285211Z"
    }
   },
   "cell_type": "code",
   "source": [
    "from datetime import datetime\n",
    "\n",
    "import librosa.display\n",
    "from dotenv import load_dotenv\n",
    "import os\n",
    "import librosa\n",
    "import numpy as np\n",
    "from sklearn.model_selection import train_test_split"
   ],
   "id": "c9272ced716478d7",
   "outputs": [],
   "execution_count": 35
  },
  {
   "metadata": {
    "ExecuteTime": {
     "end_time": "2024-10-30T05:51:42.488397Z",
     "start_time": "2024-10-30T05:51:42.430328Z"
    }
   },
   "cell_type": "code",
   "source": [
    "# 指定 STFT 參數\n",
    "load_dotenv()\n",
    "sample_rate = int(os.getenv('sample_rate'))\n",
    "n_mels = int(os.getenv('n_mels'))\n",
    "# n_fft = int(os.getenv('n_fft'))\n",
    "\n",
    "print(f'Sample rate: {sample_rate}, n_mels: {n_mels}')"
   ],
   "id": "383eb8331f64ea50",
   "outputs": [
    {
     "name": "stdout",
     "output_type": "stream",
     "text": [
      "Sample rate: 48000, n_mels: 128\n"
     ]
    }
   ],
   "execution_count": 36
  },
  {
   "metadata": {},
   "cell_type": "markdown",
   "source": "# 1. 資料加載與標記",
   "id": "a6fb182aae4eb89"
  },
  {
   "cell_type": "code",
   "id": "initial_id",
   "metadata": {
    "collapsed": true,
    "ExecuteTime": {
     "end_time": "2024-10-30T05:51:42.628344Z",
     "start_time": "2024-10-30T05:51:42.600675Z"
    }
   },
   "source": [
    "import os\n",
    "import librosa\n",
    "import numpy as np\n",
    "from sklearn.model_selection import train_test_split\n",
    "\n",
    "def load_segmented_files(directory):\n",
    "    wav_files = []\n",
    "    leak_wav_files = []\n",
    "    for dir in os.listdir(directory):\n",
    "        if not os.path.isdir(os.path.join(directory, dir)):\n",
    "            continue\n",
    "        for file in os.listdir(os.path.join(directory, dir)):\n",
    "            if not file.endswith(\".wav\"):\n",
    "                continue\n",
    "            file_path = os.path.join(directory, dir, file)\n",
    "            y, sr = librosa.load(file_path, sr=None)\n",
    "            filename = f'{dir}_{file}'\n",
    "            if 'no-leak' in dir:\n",
    "                wav_files.append((y, sr, filename))\n",
    "            else:\n",
    "                leak_wav_files.append((y, sr, filename))\n",
    "    print(f\"共有 {len(wav_files)} 個 wav 檔案，其中 {len(leak_wav_files)} 個有泄漏，{len(wav_files) - len(leak_wav_files)} 個沒有泄漏\")\n",
    "    return wav_files, leak_wav_files\n",
    "\n",
    "def create_dataset(directory, max_length=None):\n",
    "    wav_files, leak_wav_files = load_segmented_files(directory)\n",
    "    \n",
    "    # 將資料轉為 NumPy 格式\n",
    "    X = []\n",
    "    y = []\n",
    "    \n",
    "    for audio, sr, filename in wav_files:\n",
    "        X.append((audio, sr))\n",
    "        y.append(0)  # wav_files 標記為 0\n",
    "    \n",
    "    for audio, sr, filename in leak_wav_files:\n",
    "        X.append((audio, sr))\n",
    "        y.append(1)  # leak_wav_files 標記為 1\n",
    "    \n",
    "    return X, np.array(y)\n"
   ],
   "outputs": [],
   "execution_count": 37
  },
  {
   "metadata": {},
   "cell_type": "markdown",
   "source": "# 2. 特徵提取與資料預處理",
   "id": "b7788a5b8d4c0b5d"
  },
  {
   "metadata": {
    "ExecuteTime": {
     "end_time": "2024-10-30T05:51:42.721719Z",
     "start_time": "2024-10-30T05:51:42.677902Z"
    }
   },
   "cell_type": "code",
   "source": [
    "from data_preprocess import extract_features\n",
    "\n",
    "def preprocess_data(X, desired_time=2.0, n_mels=128, n_fft=2048, hop_length=512):\n",
    "    features = []\n",
    "    for audio, sr in X:\n",
    "        feature = extract_features(audio, sr, n_mels=n_mels, n_fft=n_fft, hop_length=hop_length, desired_time=desired_time)\n",
    "        features.append(feature)\n",
    "    return np.array(features)\n"
   ],
   "id": "5cb187713d43dd39",
   "outputs": [],
   "execution_count": 38
  },
  {
   "metadata": {},
   "cell_type": "markdown",
   "source": "# 3. 建立 CNN 模型",
   "id": "55e34253937c671f"
  },
  {
   "metadata": {
    "ExecuteTime": {
     "end_time": "2024-10-30T05:51:42.767504Z",
     "start_time": "2024-10-30T05:51:42.739065Z"
    }
   },
   "cell_type": "code",
   "source": [
    "import tensorflow as tf\n",
    "from tensorflow.keras.models import Sequential\n",
    "from tensorflow.keras.layers import Conv2D, MaxPooling2D, Flatten, Dense, Dropout\n",
    "\n",
    "def create_cnn_model(input_shape=(128, 128, 1)):\n",
    "    model = Sequential()\n",
    "    model.add(Conv2D(32, (3, 3), activation='relu', input_shape=input_shape))\n",
    "    model.add(MaxPooling2D((2, 2)))\n",
    "    model.add(Dropout(0.3))\n",
    "    \n",
    "    model.add(Conv2D(64, (3, 3), activation='relu'))\n",
    "    model.add(MaxPooling2D((2, 2)))\n",
    "    model.add(Dropout(0.3))\n",
    "    \n",
    "    model.add(Conv2D(128, (3, 3), activation='relu'))\n",
    "    model.add(MaxPooling2D((2, 2)))\n",
    "    model.add(Dropout(0.3))\n",
    "    \n",
    "    model.add(Conv2D(64, (3, 3), activation='relu'))\n",
    "    model.add(MaxPooling2D((2, 2)))\n",
    "    model.add(Dropout(0.3))\n",
    "    \n",
    "    model.add(Flatten())\n",
    "    model.add(Dense(32, activation='relu'))\n",
    "    model.add(Dropout(0.3))\n",
    "    model.add(Dense(1, activation='sigmoid'))  # 二元分類使用 sigmoid 激活函數\n",
    "    \n",
    "    model.compile(optimizer='adam', loss='binary_crossentropy', metrics=['accuracy'])\n",
    "    return model\n"
   ],
   "id": "e5d13120a6048b8e",
   "outputs": [],
   "execution_count": 39
  },
  {
   "metadata": {
    "ExecuteTime": {
     "end_time": "2024-10-30T05:51:42.814541Z",
     "start_time": "2024-10-30T05:51:42.800531Z"
    }
   },
   "cell_type": "code",
   "source": [
    "def create_training_data(desired_time=2.0, directory='training_data'):\n",
    "    X, y = create_dataset(directory)\n",
    "    \n",
    "    print(f\"總樣本數: {len(X)}\")\n",
    "    print(f\"標籤分佈: {np.bincount(y)}\")\n",
    "    \n",
    "    \n",
    "    X_features = preprocess_data(X, desired_time=desired_time)\n",
    "    \n",
    "    print(f\"特徵形狀: {X_features.shape}\")  # 預期形狀: (樣本數, max_len, n_mels)\n",
    "    \n",
    "    # 正規化特徵\n",
    "    X_features = (X_features - np.mean(X_features)) / np.std(X_features)\n",
    "    \n",
    "    # 擴展維度以符合 CNN 輸入 (樣本數, 高, 寬, 通道)\n",
    "    X_features = np.expand_dims(X_features, -1)  # 新形狀: (樣本數, max_len, n_mels, 1)\n",
    "    \n",
    "    # 分割訓練集與測試集\n",
    "    X_train, X_test, y_train, y_test = train_test_split(X_features, y, test_size=0.2, random_state=42)\n",
    "    \n",
    "    print(f\"訓練集形狀: {X_train.shape}\")\n",
    "    print(f\"測試集形狀: {X_test.shape}\")\n",
    "    \n",
    "    return X_train, X_test, y_train, y_test"
   ],
   "id": "7d679ad2964aa401",
   "outputs": [],
   "execution_count": 40
  },
  {
   "metadata": {
    "ExecuteTime": {
     "end_time": "2024-10-30T05:51:42.861471Z",
     "start_time": "2024-10-30T05:51:42.847470Z"
    }
   },
   "cell_type": "code",
   "source": [
    "def create_model(mockup_input):\n",
    "    # 計算實際的 max_len\n",
    "    desired_time = 2.0  # 設定為 2 秒\n",
    "    sr_example = mockup_input[0][1]  # 取一個樣本的取樣率\n",
    "    max_len = int(np.ceil((desired_time * sr_example) / 512))\n",
    "    print(f\"設定的 max_len（時間幀數）: {max_len}\")\n",
    "    \n",
    "    # 建立模型\n",
    "    input_shape = (mockup_input.shape[1], mockup_input.shape[2], 1)\n",
    "    model = create_cnn_model(input_shape)\n",
    "    model.summary()\n",
    "    return model"
   ],
   "id": "a4ffc4a61f8a1c24",
   "outputs": [],
   "execution_count": 41
  },
  {
   "metadata": {},
   "cell_type": "markdown",
   "source": "# 4. 訓練模型",
   "id": "48f4e3f68035b7dc"
  },
  {
   "metadata": {
    "ExecuteTime": {
     "end_time": "2024-10-30T05:51:42.909040Z",
     "start_time": "2024-10-30T05:51:42.895471Z"
    }
   },
   "cell_type": "code",
   "source": [
    "def train_model(model, X_train, X_test, y_train, y_test, epochs=30, batch_size=32):\n",
    "        # 訓練模型\n",
    "    history = model.fit(\n",
    "        X_train, y_train,\n",
    "        epochs=epochs,\n",
    "        batch_size=batch_size,\n",
    "        validation_data=(X_test, y_test)\n",
    "    )\n",
    "    \n",
    "    # 評估模型\n",
    "    test_loss, test_accuracy = model.evaluate(X_test, y_test)\n",
    "    print(f\"Test loss: {test_loss:.4f}\")\n",
    "    print(f\"Test accuracy: {test_accuracy:.2f}\")\n",
    "    \n",
    "    return model, history"
   ],
   "id": "2658a06f4a9db7e7",
   "outputs": [],
   "execution_count": 42
  },
  {
   "metadata": {
    "ExecuteTime": {
     "end_time": "2024-10-30T05:51:42.954302Z",
     "start_time": "2024-10-30T05:51:42.941158Z"
    }
   },
   "cell_type": "code",
   "source": [
    "def evaluate_model(model, X_test, y_test):\n",
    "    test_loss, test_accuracy = model.evaluate(X_test, y_test)\n",
    "    print(f\"Test loss: {test_loss:.4f}\")\n",
    "    print(f\"Test accuracy: {test_accuracy:.2f}\")"
   ],
   "id": "eb722b82e90ac3d",
   "outputs": [],
   "execution_count": 43
  },
  {
   "metadata": {
    "ExecuteTime": {
     "end_time": "2024-10-30T05:54:11.382923Z",
     "start_time": "2024-10-30T05:51:42.986708Z"
    }
   },
   "cell_type": "code",
   "source": "X_train, X_test, y_train, y_test = create_training_data(directory='training_data', desired_time=1.0)",
   "id": "b8fcf3795c7eca02",
   "outputs": [
    {
     "name": "stdout",
     "output_type": "stream",
     "text": [
      "總樣本數: 12717\n",
      "標籤分佈: [10641  2076]\n",
      "特徵形狀: (12717, 94, 128)\n",
      "訓練集形狀: (10173, 94, 128, 1)\n",
      "測試集形狀: (2544, 94, 128, 1)\n"
     ]
    }
   ],
   "execution_count": 44
  },
  {
   "metadata": {
    "ExecuteTime": {
     "end_time": "2024-10-30T05:54:19.596144Z",
     "start_time": "2024-10-30T05:54:11.452386Z"
    }
   },
   "cell_type": "code",
   "source": "cnn_model = create_model(X_train)",
   "id": "496ecf15e0c42ddf",
   "outputs": [
    {
     "name": "stdout",
     "output_type": "stream",
     "text": [
      "設定的 max_len（時間幀數）: 188\n",
      "Model: \"sequential_1\"\n",
      "_________________________________________________________________\n",
      " Layer (type)                Output Shape              Param #   \n",
      "=================================================================\n",
      " conv2d_3 (Conv2D)           (None, 92, 126, 32)       320       \n",
      "                                                                 \n",
      " max_pooling2d_3 (MaxPooling  (None, 46, 63, 32)       0         \n",
      " 2D)                                                             \n",
      "                                                                 \n",
      " dropout_4 (Dropout)         (None, 46, 63, 32)        0         \n",
      "                                                                 \n",
      " conv2d_4 (Conv2D)           (None, 44, 61, 64)        18496     \n",
      "                                                                 \n",
      " max_pooling2d_4 (MaxPooling  (None, 22, 30, 64)       0         \n",
      " 2D)                                                             \n",
      "                                                                 \n",
      " dropout_5 (Dropout)         (None, 22, 30, 64)        0         \n",
      "                                                                 \n",
      " conv2d_5 (Conv2D)           (None, 20, 28, 128)       73856     \n",
      "                                                                 \n",
      " max_pooling2d_5 (MaxPooling  (None, 10, 14, 128)      0         \n",
      " 2D)                                                             \n",
      "                                                                 \n",
      " dropout_6 (Dropout)         (None, 10, 14, 128)       0         \n",
      "                                                                 \n",
      " conv2d_6 (Conv2D)           (None, 8, 12, 64)         73792     \n",
      "                                                                 \n",
      " max_pooling2d_6 (MaxPooling  (None, 4, 6, 64)         0         \n",
      " 2D)                                                             \n",
      "                                                                 \n",
      " dropout_7 (Dropout)         (None, 4, 6, 64)          0         \n",
      "                                                                 \n",
      " flatten_1 (Flatten)         (None, 1536)              0         \n",
      "                                                                 \n",
      " dense_2 (Dense)             (None, 32)                49184     \n",
      "                                                                 \n",
      " dropout_8 (Dropout)         (None, 32)                0         \n",
      "                                                                 \n",
      " dense_3 (Dense)             (None, 1)                 33        \n",
      "                                                                 \n",
      "=================================================================\n",
      "Total params: 215,681\n",
      "Trainable params: 215,681\n",
      "Non-trainable params: 0\n",
      "_________________________________________________________________\n"
     ]
    }
   ],
   "execution_count": 45
  },
  {
   "metadata": {
    "ExecuteTime": {
     "end_time": "2024-10-30T05:57:55.626285Z",
     "start_time": "2024-10-30T05:54:19.630700Z"
    }
   },
   "cell_type": "code",
   "source": "model, history = train_model(cnn_model, X_train, X_test, y_train, y_test, epochs=50)",
   "id": "4c22f7b3db3499d5",
   "outputs": [
    {
     "name": "stdout",
     "output_type": "stream",
     "text": [
      "Epoch 1/50\n",
      "318/318 [==============================] - 7s 16ms/step - loss: 0.4566 - accuracy: 0.8307 - val_loss: 0.3901 - val_accuracy: 0.8518\n",
      "Epoch 2/50\n",
      "318/318 [==============================] - 5s 15ms/step - loss: 0.3680 - accuracy: 0.8460 - val_loss: 0.3084 - val_accuracy: 0.8840\n",
      "Epoch 3/50\n",
      "318/318 [==============================] - 5s 14ms/step - loss: 0.3430 - accuracy: 0.8600 - val_loss: 0.3403 - val_accuracy: 0.8616\n",
      "Epoch 4/50\n",
      "318/318 [==============================] - 5s 15ms/step - loss: 0.3330 - accuracy: 0.8651 - val_loss: 0.3107 - val_accuracy: 0.8652\n",
      "Epoch 5/50\n",
      "318/318 [==============================] - 5s 14ms/step - loss: 0.3116 - accuracy: 0.8777 - val_loss: 0.3297 - val_accuracy: 0.8715\n",
      "Epoch 6/50\n",
      "318/318 [==============================] - 5s 15ms/step - loss: 0.3083 - accuracy: 0.8773 - val_loss: 0.2613 - val_accuracy: 0.8888\n",
      "Epoch 7/50\n",
      "318/318 [==============================] - 4s 14ms/step - loss: 0.2955 - accuracy: 0.8834 - val_loss: 0.2793 - val_accuracy: 0.8919\n",
      "Epoch 8/50\n",
      "318/318 [==============================] - 4s 13ms/step - loss: 0.2927 - accuracy: 0.8837 - val_loss: 0.2669 - val_accuracy: 0.8892\n",
      "Epoch 9/50\n",
      "318/318 [==============================] - 4s 14ms/step - loss: 0.2967 - accuracy: 0.8847 - val_loss: 0.2562 - val_accuracy: 0.8978\n",
      "Epoch 10/50\n",
      "318/318 [==============================] - 4s 13ms/step - loss: 0.2857 - accuracy: 0.8881 - val_loss: 0.2661 - val_accuracy: 0.8915\n",
      "Epoch 11/50\n",
      "318/318 [==============================] - 4s 13ms/step - loss: 0.2717 - accuracy: 0.8952 - val_loss: 0.2498 - val_accuracy: 0.9013\n",
      "Epoch 12/50\n",
      "318/318 [==============================] - 4s 14ms/step - loss: 0.2668 - accuracy: 0.8964 - val_loss: 0.2482 - val_accuracy: 0.8962\n",
      "Epoch 13/50\n",
      "318/318 [==============================] - 4s 13ms/step - loss: 0.2635 - accuracy: 0.8962 - val_loss: 0.2389 - val_accuracy: 0.9041\n",
      "Epoch 14/50\n",
      "318/318 [==============================] - 4s 13ms/step - loss: 0.2593 - accuracy: 0.8990 - val_loss: 0.2731 - val_accuracy: 0.8762\n",
      "Epoch 15/50\n",
      "318/318 [==============================] - 4s 13ms/step - loss: 0.2541 - accuracy: 0.8973 - val_loss: 0.2491 - val_accuracy: 0.8954\n",
      "Epoch 16/50\n",
      "318/318 [==============================] - 4s 13ms/step - loss: 0.2503 - accuracy: 0.9000 - val_loss: 0.2848 - val_accuracy: 0.8840\n",
      "Epoch 17/50\n",
      "318/318 [==============================] - 4s 13ms/step - loss: 0.2451 - accuracy: 0.9032 - val_loss: 0.2532 - val_accuracy: 0.8943\n",
      "Epoch 18/50\n",
      "318/318 [==============================] - 4s 13ms/step - loss: 0.2445 - accuracy: 0.9026 - val_loss: 0.2468 - val_accuracy: 0.9021\n",
      "Epoch 19/50\n",
      "318/318 [==============================] - 4s 13ms/step - loss: 0.2440 - accuracy: 0.9032 - val_loss: 0.2445 - val_accuracy: 0.8990\n",
      "Epoch 20/50\n",
      "318/318 [==============================] - 4s 13ms/step - loss: 0.2395 - accuracy: 0.9074 - val_loss: 0.2742 - val_accuracy: 0.8966\n",
      "Epoch 21/50\n",
      "318/318 [==============================] - 4s 13ms/step - loss: 0.2344 - accuracy: 0.9098 - val_loss: 0.2526 - val_accuracy: 0.8982\n",
      "Epoch 22/50\n",
      "318/318 [==============================] - 4s 13ms/step - loss: 0.2298 - accuracy: 0.9108 - val_loss: 0.2630 - val_accuracy: 0.8974\n",
      "Epoch 23/50\n",
      "318/318 [==============================] - 4s 14ms/step - loss: 0.2207 - accuracy: 0.9120 - val_loss: 0.2300 - val_accuracy: 0.9057\n",
      "Epoch 24/50\n",
      "318/318 [==============================] - 4s 13ms/step - loss: 0.2228 - accuracy: 0.9146 - val_loss: 0.2410 - val_accuracy: 0.9057\n",
      "Epoch 25/50\n",
      "318/318 [==============================] - 4s 13ms/step - loss: 0.2247 - accuracy: 0.9098 - val_loss: 0.2336 - val_accuracy: 0.9064\n",
      "Epoch 26/50\n",
      "318/318 [==============================] - 4s 13ms/step - loss: 0.2102 - accuracy: 0.9180 - val_loss: 0.2286 - val_accuracy: 0.9088\n",
      "Epoch 27/50\n",
      "318/318 [==============================] - 4s 14ms/step - loss: 0.2146 - accuracy: 0.9149 - val_loss: 0.2507 - val_accuracy: 0.8962\n",
      "Epoch 28/50\n",
      "318/318 [==============================] - 4s 14ms/step - loss: 0.2128 - accuracy: 0.9176 - val_loss: 0.2320 - val_accuracy: 0.9139\n",
      "Epoch 29/50\n",
      "318/318 [==============================] - 4s 13ms/step - loss: 0.2124 - accuracy: 0.9171 - val_loss: 0.2452 - val_accuracy: 0.9025\n",
      "Epoch 30/50\n",
      "318/318 [==============================] - 4s 14ms/step - loss: 0.2034 - accuracy: 0.9194 - val_loss: 0.2486 - val_accuracy: 0.9061\n",
      "Epoch 31/50\n",
      "318/318 [==============================] - 4s 14ms/step - loss: 0.2103 - accuracy: 0.9179 - val_loss: 0.2417 - val_accuracy: 0.9080\n",
      "Epoch 32/50\n",
      "318/318 [==============================] - 4s 13ms/step - loss: 0.2004 - accuracy: 0.9228 - val_loss: 0.2444 - val_accuracy: 0.9084\n",
      "Epoch 33/50\n",
      "318/318 [==============================] - 4s 13ms/step - loss: 0.1980 - accuracy: 0.9195 - val_loss: 0.2539 - val_accuracy: 0.9017\n",
      "Epoch 34/50\n",
      "318/318 [==============================] - 4s 13ms/step - loss: 0.1951 - accuracy: 0.9236 - val_loss: 0.2484 - val_accuracy: 0.9088\n",
      "Epoch 35/50\n",
      "318/318 [==============================] - 4s 13ms/step - loss: 0.2006 - accuracy: 0.9200 - val_loss: 0.2641 - val_accuracy: 0.8958\n",
      "Epoch 36/50\n",
      "318/318 [==============================] - 4s 13ms/step - loss: 0.1961 - accuracy: 0.9220 - val_loss: 0.2458 - val_accuracy: 0.9076\n",
      "Epoch 37/50\n",
      "318/318 [==============================] - 4s 13ms/step - loss: 0.1951 - accuracy: 0.9226 - val_loss: 0.2703 - val_accuracy: 0.9013\n",
      "Epoch 38/50\n",
      "318/318 [==============================] - 4s 13ms/step - loss: 0.1893 - accuracy: 0.9245 - val_loss: 0.2425 - val_accuracy: 0.9080\n",
      "Epoch 39/50\n",
      "318/318 [==============================] - 4s 13ms/step - loss: 0.1923 - accuracy: 0.9236 - val_loss: 0.2460 - val_accuracy: 0.9072\n",
      "Epoch 40/50\n",
      "318/318 [==============================] - 4s 13ms/step - loss: 0.1915 - accuracy: 0.9242 - val_loss: 0.2432 - val_accuracy: 0.9045\n",
      "Epoch 41/50\n",
      "318/318 [==============================] - 4s 13ms/step - loss: 0.1900 - accuracy: 0.9251 - val_loss: 0.2437 - val_accuracy: 0.9088\n",
      "Epoch 42/50\n",
      "318/318 [==============================] - 4s 13ms/step - loss: 0.1791 - accuracy: 0.9295 - val_loss: 0.2402 - val_accuracy: 0.9064\n",
      "Epoch 43/50\n",
      "318/318 [==============================] - 4s 13ms/step - loss: 0.1844 - accuracy: 0.9286 - val_loss: 0.2506 - val_accuracy: 0.9084\n",
      "Epoch 44/50\n",
      "318/318 [==============================] - 4s 13ms/step - loss: 0.1815 - accuracy: 0.9296 - val_loss: 0.2420 - val_accuracy: 0.9112\n",
      "Epoch 45/50\n",
      "318/318 [==============================] - 4s 13ms/step - loss: 0.1821 - accuracy: 0.9270 - val_loss: 0.2586 - val_accuracy: 0.9068\n",
      "Epoch 46/50\n",
      "318/318 [==============================] - 4s 13ms/step - loss: 0.1784 - accuracy: 0.9302 - val_loss: 0.2563 - val_accuracy: 0.9092\n",
      "Epoch 47/50\n",
      "318/318 [==============================] - 4s 13ms/step - loss: 0.1769 - accuracy: 0.9296 - val_loss: 0.2431 - val_accuracy: 0.9119\n",
      "Epoch 48/50\n",
      "318/318 [==============================] - 4s 13ms/step - loss: 0.1760 - accuracy: 0.9309 - val_loss: 0.2659 - val_accuracy: 0.9100\n",
      "Epoch 49/50\n",
      "318/318 [==============================] - 4s 13ms/step - loss: 0.1782 - accuracy: 0.9322 - val_loss: 0.2440 - val_accuracy: 0.9100\n",
      "Epoch 50/50\n",
      "318/318 [==============================] - 4s 13ms/step - loss: 0.1714 - accuracy: 0.9335 - val_loss: 0.2506 - val_accuracy: 0.9088\n",
      "80/80 [==============================] - 0s 5ms/step - loss: 0.2506 - accuracy: 0.9088\n",
      "Test loss: 0.2506\n",
      "Test accuracy: 0.91\n"
     ]
    }
   ],
   "execution_count": 46
  },
  {
   "metadata": {
    "ExecuteTime": {
     "end_time": "2024-10-30T05:57:56.228413Z",
     "start_time": "2024-10-30T05:57:55.674983Z"
    }
   },
   "cell_type": "code",
   "source": "evaluate_model(cnn_model, X_test, y_test)",
   "id": "34386cec81d6a2d4",
   "outputs": [
    {
     "name": "stdout",
     "output_type": "stream",
     "text": [
      "80/80 [==============================] - 0s 5ms/step - loss: 0.2506 - accuracy: 0.9088\n",
      "Test loss: 0.2506\n",
      "Test accuracy: 0.91\n"
     ]
    }
   ],
   "execution_count": 47
  },
  {
   "metadata": {
    "ExecuteTime": {
     "end_time": "2024-10-30T05:57:56.399906Z",
     "start_time": "2024-10-30T05:57:56.261445Z"
    }
   },
   "cell_type": "code",
   "source": [
    "date = datetime.now().strftime('%Y%m%d%H%M')\n",
    "model.save(f'model_{date}.h5')\n",
    "print(f\"Model saved as model_{date}.h5\")"
   ],
   "id": "551ff463bcaf8093",
   "outputs": [
    {
     "name": "stdout",
     "output_type": "stream",
     "text": [
      "Model saved as model_202410301357.h5\n"
     ]
    }
   ],
   "execution_count": 48
  },
  {
   "metadata": {
    "ExecuteTime": {
     "end_time": "2024-10-30T05:57:56.786579Z",
     "start_time": "2024-10-30T05:57:56.469509Z"
    }
   },
   "cell_type": "code",
   "source": [
    "import matplotlib.pyplot as plt\n",
    "plt.plot(history.history['loss'])\n",
    "plt.plot(history.history['val_loss'])\n",
    "plt.title('Model loss')\n",
    "plt.ylabel('Loss')\n",
    "plt.xlabel('Epoch')\n",
    "plt.legend(['Train', 'Test'], loc='upper right')\n",
    "plt.savefig(f'model_loss_{date}.png')\n",
    "plt.show()"
   ],
   "id": "70c5f696df14eef",
   "outputs": [
    {
     "data": {
      "text/plain": [
       "<Figure size 640x480 with 1 Axes>"
      ],
      "image/png": "[encoded data removed]"
     },
     "metadata": {},
     "output_type": "display_data"
    }
   ],
   "execution_count": 49
  },
  {
   "metadata": {
    "ExecuteTime": {
     "end_time": "2024-10-30T05:57:56.818206Z",
     "start_time": "2024-10-30T05:57:56.803655Z"
    }
   },
   "cell_type": "code",
   "source": "",
   "id": "77144cb141ef9e4a",
   "outputs": [],
   "execution_count": null
  }
 ],
 "metadata": {
  "kernelspec": {
   "display_name": "Python 3",
   "language": "python",
   "name": "python3"
  },
  "language_info": {
   "codemirror_mode": {
    "name": "ipython",
    "version": 2
   },
   "file_extension": ".py",
   "mimetype": "text/x-python",
   "name": "python",
   "nbconvert_exporter": "python",
   "pygments_lexer": "ipython2",
   "version": "2.7.6"
  }
 },
 "nbformat": 4,
 "nbformat_minor": 5
}
