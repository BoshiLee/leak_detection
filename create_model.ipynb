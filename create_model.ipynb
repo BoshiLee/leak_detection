{
 "cells": [
  {
   "metadata": {
    "ExecuteTime": {
     "end_time": "2024-11-01T06:20:13.438083Z",
     "start_time": "2024-11-01T06:20:07.630923Z"
    }
   },
   "cell_type": "code",
   "source": [
    "from datetime import datetime\n",
    "\n",
    "import librosa.display\n",
    "from dotenv import load_dotenv\n",
    "import os\n",
    "import librosa\n",
    "import numpy as np\n",
    "from sklearn.model_selection import train_test_split\n",
    "import random"
   ],
   "id": "c9272ced716478d7",
   "outputs": [],
   "execution_count": 1
  },
  {
   "metadata": {
    "ExecuteTime": {
     "end_time": "2024-11-01T06:20:13.470325Z",
     "start_time": "2024-11-01T06:20:13.455248Z"
    }
   },
   "cell_type": "code",
   "source": [
    "# 指定 STFT 參數\n",
    "load_dotenv()\n",
    "sample_rate = int(os.getenv('sample_rate'))\n",
    "n_mels = int(os.getenv('n_mels'))\n",
    "# n_fft = int(os.getenv('n_fft'))\n",
    "\n",
    "print(f'Sample rate: {sample_rate}, n_mels: {n_mels}')"
   ],
   "id": "383eb8331f64ea50",
   "outputs": [
    {
     "name": "stdout",
     "output_type": "stream",
     "text": [
      "Sample rate: 48000, n_mels: 128\n"
     ]
    }
   ],
   "execution_count": 2
  },
  {
   "metadata": {},
   "cell_type": "markdown",
   "source": "# 1. 資料加載與標記",
   "id": "a6fb182aae4eb89"
  },
  {
   "cell_type": "code",
   "id": "initial_id",
   "metadata": {
    "collapsed": true,
    "ExecuteTime": {
     "end_time": "2024-11-01T06:20:13.656537Z",
     "start_time": "2024-11-01T06:20:13.642440Z"
    }
   },
   "source": [
    "def load_segmented_files(directory):\n",
    "    wav_files = []\n",
    "    leak_wav_files = []\n",
    "    for dir in os.listdir(directory):\n",
    "        if not os.path.isdir(os.path.join(directory, dir)):\n",
    "            continue\n",
    "        for file in os.listdir(os.path.join(directory, dir)):\n",
    "            if not file.endswith(\".wav\"):\n",
    "                continue\n",
    "            file_path = os.path.join(directory, dir, file)\n",
    "            y, sr = librosa.load(file_path, sr=None)\n",
    "            filename = f'{dir}_{file}'\n",
    "            if 'no-leak' in dir:\n",
    "                wav_files.append((y, sr, filename))\n",
    "            else:\n",
    "                leak_wav_files.append((y, sr, filename))\n",
    "    print(f\"共有 {len(wav_files)} 個 wav 檔案，其中 {len(leak_wav_files)} 個有泄漏，{len(wav_files) - len(leak_wav_files)} 個沒有泄漏\")\n",
    "    return wav_files, leak_wav_files \n",
    "\n",
    "# 比較數量，均衡資料\n",
    "def balance_shuffle_data(wav_files, leak_wav_files):\n",
    "    min_count = min(len(wav_files), len(leak_wav_files))\n",
    "    wav_files = random.sample(wav_files, min_count)\n",
    "    leak_wav_files = random.sample(leak_wav_files, min_count)\n",
    "    \n",
    "    print(f\"均衡後的樣本數: {min_count}\")\n",
    "    return wav_files, leak_wav_files\n",
    "\n",
    "\n",
    "def create_dataset(directory, max_length=None):\n",
    "    wav_files, leak_wav_files = load_segmented_files(directory)\n",
    "    \n",
    "    wav_files, leak_wav_files = balance_shuffle_data(wav_files, leak_wav_files)\n",
    "    \n",
    "    # 將資料轉為 NumPy 格式\n",
    "    X = []\n",
    "    y = []\n",
    "    \n",
    "    for audio, sr, filename in wav_files:\n",
    "        X.append((audio, sr))\n",
    "        y.append(0)  # wav_files 標記為 0\n",
    "    \n",
    "    for audio, sr, filename in leak_wav_files:\n",
    "        X.append((audio, sr))\n",
    "        y.append(1)  # leak_wav_files 標記為 1\n",
    "    \n",
    "    return X, np.array(y)\n"
   ],
   "outputs": [],
   "execution_count": 3
  },
  {
   "metadata": {},
   "cell_type": "markdown",
   "source": "# 2. 特徵提取與資料預處理",
   "id": "b7788a5b8d4c0b5d"
  },
  {
   "metadata": {
    "ExecuteTime": {
     "end_time": "2024-11-01T06:20:21.061612Z",
     "start_time": "2024-11-01T06:20:13.672251Z"
    }
   },
   "cell_type": "code",
   "source": [
    "from data_preprocess import extract_features\n",
    "\n",
    "def preprocess_data(X, desired_time=2.0, n_mels=128, n_fft=2048, hop_length=512):\n",
    "    features = []\n",
    "    for audio, sr in X:\n",
    "        feature = extract_features(audio, sr, n_mels=n_mels, n_fft=n_fft, hop_length=hop_length, desired_time=desired_time)\n",
    "        features.append(feature)\n",
    "    return np.array(features)\n"
   ],
   "id": "5cb187713d43dd39",
   "outputs": [],
   "execution_count": 4
  },
  {
   "metadata": {},
   "cell_type": "markdown",
   "source": "# 3. 建立 CNN 模型",
   "id": "55e34253937c671f"
  },
  {
   "metadata": {
    "ExecuteTime": {
     "end_time": "2024-11-01T06:20:21.093823Z",
     "start_time": "2024-11-01T06:20:21.078708Z"
    }
   },
   "cell_type": "code",
   "source": [
    "import tensorflow as tf\n",
    "from tensorflow.keras.models import Sequential\n",
    "from tensorflow.keras.layers import Conv2D, MaxPooling2D, Flatten, Dense, Dropout\n",
    "\n",
    "def create_cnn_model(input_shape=(128, 128, 1)):\n",
    "    model = Sequential()\n",
    "    model.add(Conv2D(32, (3, 3), activation='relu', input_shape=input_shape))\n",
    "    model.add(MaxPooling2D((2, 2)))\n",
    "    model.add(Dropout(0.2))\n",
    "    \n",
    "    model.add(Conv2D(64, (3, 3), activation='relu'))\n",
    "    model.add(MaxPooling2D((2, 2)))\n",
    "    model.add(Dropout(0.2))\n",
    "    \n",
    "    model.add(Conv2D(64, (3, 3), activation='relu'))\n",
    "    model.add(MaxPooling2D((2, 2)))\n",
    "    model.add(Dropout(0.2))\n",
    "    \n",
    "    model.add(Conv2D(64, (3, 3), activation='relu'))\n",
    "    model.add(MaxPooling2D((2, 2)))\n",
    "    model.add(Dropout(0.2))\n",
    "    \n",
    "    model.add(Flatten())\n",
    "    model.add(Dense(32, activation='relu'))\n",
    "    model.add(Dropout(0.2))\n",
    "    model.add(Dense(1, activation='sigmoid'))  # 二元分類使用 sigmoid 激活函數\n",
    "    \n",
    "    model.compile(optimizer='adam', loss='binary_crossentropy', metrics=['accuracy'])\n",
    "    return model\n"
   ],
   "id": "e5d13120a6048b8e",
   "outputs": [],
   "execution_count": 5
  },
  {
   "metadata": {
    "ExecuteTime": {
     "end_time": "2024-11-01T06:20:21.124744Z",
     "start_time": "2024-11-01T06:20:21.111827Z"
    }
   },
   "cell_type": "code",
   "source": [
    "def create_training_data(desired_time=2.0, directory='training_data'):\n",
    "    X, y = create_dataset(directory)\n",
    "    \n",
    "    print(f\"總樣本數: {len(X)}\")\n",
    "    print(f\"標籤分佈: {np.bincount(y)}\")\n",
    "    \n",
    "    \n",
    "    X_features = preprocess_data(X, desired_time=desired_time)\n",
    "    \n",
    "    print(f\"特徵形狀: {X_features.shape}\")  # 預期形狀: (樣本數, max_len, n_mels)\n",
    "    \n",
    "    # 正規化特徵\n",
    "    X_features = (X_features - np.mean(X_features)) / np.std(X_features)\n",
    "    \n",
    "    # 擴展維度以符合 CNN 輸入 (樣本數, 高, 寬, 通道)\n",
    "    X_features = np.expand_dims(X_features, -1)  # 新形狀: (樣本數, max_len, n_mels, 1)\n",
    "    \n",
    "    # 分割訓練集與測試集\n",
    "    X_train, X_test, y_train, y_test = train_test_split(X_features, y, test_size=0.2, random_state=42)\n",
    "    \n",
    "    print(f\"訓練集形狀: {X_train.shape}\")\n",
    "    print(f\"測試集形狀: {X_test.shape}\")\n",
    "    \n",
    "    return X_train, X_test, y_train, y_test"
   ],
   "id": "7d679ad2964aa401",
   "outputs": [],
   "execution_count": 6
  },
  {
   "metadata": {
    "ExecuteTime": {
     "end_time": "2024-11-01T06:20:21.156276Z",
     "start_time": "2024-11-01T06:20:21.141215Z"
    }
   },
   "cell_type": "code",
   "source": [
    "def create_model(mockup_input):    \n",
    "    # 建立模型\n",
    "    input_shape = (mockup_input.shape[1], mockup_input.shape[2], 1)\n",
    "    model = create_cnn_model(input_shape)\n",
    "    model.summary()\n",
    "    return model"
   ],
   "id": "a4ffc4a61f8a1c24",
   "outputs": [],
   "execution_count": 7
  },
  {
   "metadata": {},
   "cell_type": "markdown",
   "source": "# 4. 訓練模型",
   "id": "48f4e3f68035b7dc"
  },
  {
   "metadata": {
    "ExecuteTime": {
     "end_time": "2024-11-01T06:27:41.670448Z",
     "start_time": "2024-11-01T06:27:41.656148Z"
    }
   },
   "cell_type": "code",
   "source": [
    "from keras.callbacks import EarlyStopping, ReduceLROnPlateau\n",
    "\n",
    "\n",
    "def train_model(model, X_train, X_test, y_train, y_test, epochs=30, batch_size=32):\n",
    "        # 訓練模型\n",
    "        \n",
    "    early_stopping = EarlyStopping(monitor='val_loss', patience=5, restore_best_weights=True)\n",
    "    reduce_lr = ReduceLROnPlateau(monitor='val_loss', factor=0.5, patience=4, min_lr=1e-6, verbose=1)\n",
    "        \n",
    "    history = model.fit(   \n",
    "        X_train, y_train,\n",
    "        epochs=epochs,\n",
    "        batch_size=batch_size,\n",
    "        validation_data=(X_test, y_test),\n",
    "        shuffle=True,\n",
    "        callbacks=[early_stopping, reduce_lr],\n",
    "        verbose=2\n",
    "    )\n",
    "    \n",
    "    # 評估模型\n",
    "    test_loss, test_accuracy = model.evaluate(X_test, y_test)\n",
    "    print(f\"Test loss: {test_loss:.4f}\")\n",
    "    print(f\"Test accuracy: {test_accuracy:.2f}\")\n",
    "    \n",
    "    return model, history"
   ],
   "id": "2658a06f4a9db7e7",
   "outputs": [],
   "execution_count": 16
  },
  {
   "metadata": {
    "ExecuteTime": {
     "end_time": "2024-11-01T06:27:47.717848Z",
     "start_time": "2024-11-01T06:27:47.712847Z"
    }
   },
   "cell_type": "code",
   "source": [
    "def evaluate_model(model, X_test, y_test):\n",
    "    test_loss, test_accuracy = model.evaluate(X_test, y_test)\n",
    "    print(f\"Test loss: {test_loss:.4f}\")\n",
    "    print(f\"Test accuracy: {test_accuracy:.2f}\")"
   ],
   "id": "eb722b82e90ac3d",
   "outputs": [],
   "execution_count": 17
  },
  {
   "metadata": {
    "ExecuteTime": {
     "end_time": "2024-11-01T06:28:57.013086Z",
     "start_time": "2024-11-01T06:27:48.314111Z"
    }
   },
   "cell_type": "code",
   "source": "X_train, X_test, y_train, y_test = create_training_data(directory='training_data', desired_time=2.0)",
   "id": "b8fcf3795c7eca02",
   "outputs": [
    {
     "name": "stdout",
     "output_type": "stream",
     "text": [
      "共有 10641 個 wav 檔案，其中 2581 個有泄漏，8060 個沒有泄漏\n",
      "均衡後的樣本數: 2581\n",
      "總樣本數: 5162\n",
      "標籤分佈: [2581 2581]\n",
      "特徵形狀: (5162, 192, 128)\n",
      "訓練集形狀: (4129, 192, 128, 1)\n",
      "測試集形狀: (1033, 192, 128, 1)\n"
     ]
    }
   ],
   "execution_count": 18
  },
  {
   "metadata": {
    "ExecuteTime": {
     "end_time": "2024-11-01T06:30:03.796917Z",
     "start_time": "2024-11-01T06:30:03.693580Z"
    }
   },
   "cell_type": "code",
   "source": "cnn_model = create_model(X_train)",
   "id": "496ecf15e0c42ddf",
   "outputs": [
    {
     "name": "stdout",
     "output_type": "stream",
     "text": [
      "Model: \"sequential_2\"\n",
      "_________________________________________________________________\n",
      " Layer (type)                Output Shape              Param #   \n",
      "=================================================================\n",
      " conv2d_8 (Conv2D)           (None, 190, 126, 32)      320       \n",
      "                                                                 \n",
      " max_pooling2d_8 (MaxPooling  (None, 95, 63, 32)       0         \n",
      " 2D)                                                             \n",
      "                                                                 \n",
      " dropout_10 (Dropout)        (None, 95, 63, 32)        0         \n",
      "                                                                 \n",
      " conv2d_9 (Conv2D)           (None, 93, 61, 64)        18496     \n",
      "                                                                 \n",
      " max_pooling2d_9 (MaxPooling  (None, 46, 30, 64)       0         \n",
      " 2D)                                                             \n",
      "                                                                 \n",
      " dropout_11 (Dropout)        (None, 46, 30, 64)        0         \n",
      "                                                                 \n",
      " conv2d_10 (Conv2D)          (None, 44, 28, 64)        36928     \n",
      "                                                                 \n",
      " max_pooling2d_10 (MaxPoolin  (None, 22, 14, 64)       0         \n",
      " g2D)                                                            \n",
      "                                                                 \n",
      " dropout_12 (Dropout)        (None, 22, 14, 64)        0         \n",
      "                                                                 \n",
      " conv2d_11 (Conv2D)          (None, 20, 12, 64)        36928     \n",
      "                                                                 \n",
      " max_pooling2d_11 (MaxPoolin  (None, 10, 6, 64)        0         \n",
      " g2D)                                                            \n",
      "                                                                 \n",
      " dropout_13 (Dropout)        (None, 10, 6, 64)         0         \n",
      "                                                                 \n",
      " flatten_2 (Flatten)         (None, 3840)              0         \n",
      "                                                                 \n",
      " dense_4 (Dense)             (None, 32)                122912    \n",
      "                                                                 \n",
      " dropout_14 (Dropout)        (None, 32)                0         \n",
      "                                                                 \n",
      " dense_5 (Dense)             (None, 1)                 33        \n",
      "                                                                 \n",
      "=================================================================\n",
      "Total params: 215,617\n",
      "Trainable params: 215,617\n",
      "Non-trainable params: 0\n",
      "_________________________________________________________________\n"
     ]
    }
   ],
   "execution_count": 22
  },
  {
   "metadata": {
    "ExecuteTime": {
     "end_time": "2024-11-01T06:31:08.278483Z",
     "start_time": "2024-11-01T06:30:04.745371Z"
    }
   },
   "cell_type": "code",
   "source": "model, history = train_model(cnn_model, X_train, X_test, y_train, y_test, epochs=60)",
   "id": "4c22f7b3db3499d5",
   "outputs": [
    {
     "name": "stdout",
     "output_type": "stream",
     "text": [
      "Epoch 1/60\n",
      "130/130 - 3s - loss: 0.6048 - accuracy: 0.6517 - val_loss: 0.6163 - val_accuracy: 0.6467 - lr: 0.0010 - 3s/epoch - 25ms/step\n",
      "Epoch 2/60\n",
      "130/130 - 3s - loss: 0.4828 - accuracy: 0.7731 - val_loss: 0.4921 - val_accuracy: 0.8103 - lr: 0.0010 - 3s/epoch - 20ms/step\n",
      "Epoch 3/60\n",
      "130/130 - 3s - loss: 0.4447 - accuracy: 0.7985 - val_loss: 0.4079 - val_accuracy: 0.8190 - lr: 0.0010 - 3s/epoch - 20ms/step\n",
      "Epoch 4/60\n",
      "130/130 - 3s - loss: 0.4391 - accuracy: 0.7980 - val_loss: 0.4156 - val_accuracy: 0.8238 - lr: 0.0010 - 3s/epoch - 20ms/step\n",
      "Epoch 5/60\n",
      "130/130 - 3s - loss: 0.4216 - accuracy: 0.8077 - val_loss: 0.4020 - val_accuracy: 0.8306 - lr: 0.0010 - 3s/epoch - 20ms/step\n",
      "Epoch 6/60\n",
      "130/130 - 3s - loss: 0.3930 - accuracy: 0.8310 - val_loss: 0.3683 - val_accuracy: 0.8548 - lr: 0.0010 - 3s/epoch - 20ms/step\n",
      "Epoch 7/60\n",
      "130/130 - 3s - loss: 0.3908 - accuracy: 0.8288 - val_loss: 0.4755 - val_accuracy: 0.7348 - lr: 0.0010 - 3s/epoch - 20ms/step\n",
      "Epoch 8/60\n",
      "130/130 - 3s - loss: 0.3965 - accuracy: 0.8201 - val_loss: 0.3814 - val_accuracy: 0.8306 - lr: 0.0010 - 3s/epoch - 20ms/step\n",
      "Epoch 9/60\n",
      "130/130 - 3s - loss: 0.3796 - accuracy: 0.8295 - val_loss: 0.3471 - val_accuracy: 0.8374 - lr: 0.0010 - 3s/epoch - 20ms/step\n",
      "Epoch 10/60\n",
      "130/130 - 3s - loss: 0.4030 - accuracy: 0.8186 - val_loss: 0.3790 - val_accuracy: 0.8500 - lr: 0.0010 - 3s/epoch - 20ms/step\n",
      "Epoch 11/60\n",
      "130/130 - 3s - loss: 0.3679 - accuracy: 0.8339 - val_loss: 0.3620 - val_accuracy: 0.8509 - lr: 0.0010 - 3s/epoch - 20ms/step\n",
      "Epoch 12/60\n",
      "130/130 - 3s - loss: 0.3528 - accuracy: 0.8472 - val_loss: 0.3442 - val_accuracy: 0.8432 - lr: 0.0010 - 3s/epoch - 20ms/step\n",
      "Epoch 13/60\n",
      "130/130 - 3s - loss: 0.3469 - accuracy: 0.8486 - val_loss: 0.3556 - val_accuracy: 0.8664 - lr: 0.0010 - 3s/epoch - 20ms/step\n",
      "Epoch 14/60\n",
      "130/130 - 3s - loss: 0.3358 - accuracy: 0.8503 - val_loss: 0.3420 - val_accuracy: 0.8635 - lr: 0.0010 - 3s/epoch - 20ms/step\n",
      "Epoch 15/60\n",
      "130/130 - 3s - loss: 0.3178 - accuracy: 0.8634 - val_loss: 0.3524 - val_accuracy: 0.8548 - lr: 0.0010 - 3s/epoch - 20ms/step\n",
      "Epoch 16/60\n",
      "130/130 - 3s - loss: 0.3100 - accuracy: 0.8653 - val_loss: 0.3413 - val_accuracy: 0.8519 - lr: 0.0010 - 3s/epoch - 20ms/step\n",
      "Epoch 17/60\n",
      "130/130 - 3s - loss: 0.3070 - accuracy: 0.8748 - val_loss: 0.3977 - val_accuracy: 0.8122 - lr: 0.0010 - 3s/epoch - 20ms/step\n",
      "Epoch 18/60\n",
      "130/130 - 3s - loss: 0.2870 - accuracy: 0.8828 - val_loss: 0.3463 - val_accuracy: 0.8432 - lr: 0.0010 - 3s/epoch - 20ms/step\n",
      "Epoch 19/60\n",
      "130/130 - 3s - loss: 0.2871 - accuracy: 0.8775 - val_loss: 0.3300 - val_accuracy: 0.8596 - lr: 0.0010 - 3s/epoch - 20ms/step\n",
      "Epoch 20/60\n",
      "130/130 - 3s - loss: 0.2875 - accuracy: 0.8828 - val_loss: 0.3547 - val_accuracy: 0.8616 - lr: 0.0010 - 3s/epoch - 20ms/step\n",
      "Epoch 21/60\n",
      "130/130 - 3s - loss: 0.2570 - accuracy: 0.8925 - val_loss: 0.3390 - val_accuracy: 0.8732 - lr: 0.0010 - 3s/epoch - 20ms/step\n",
      "Epoch 22/60\n",
      "130/130 - 3s - loss: 0.2639 - accuracy: 0.8854 - val_loss: 0.3615 - val_accuracy: 0.8606 - lr: 0.0010 - 3s/epoch - 20ms/step\n",
      "Epoch 23/60\n",
      "\n",
      "Epoch 23: ReduceLROnPlateau reducing learning rate to 0.0005000000237487257.\n",
      "130/130 - 3s - loss: 0.2705 - accuracy: 0.8874 - val_loss: 0.3415 - val_accuracy: 0.8771 - lr: 0.0010 - 3s/epoch - 20ms/step\n",
      "Epoch 24/60\n",
      "130/130 - 3s - loss: 0.2341 - accuracy: 0.9046 - val_loss: 0.3512 - val_accuracy: 0.8635 - lr: 5.0000e-04 - 3s/epoch - 20ms/step\n",
      "33/33 [==============================] - 0s 7ms/step - loss: 0.3300 - accuracy: 0.8596\n",
      "Test loss: 0.3300\n",
      "Test accuracy: 0.86\n"
     ]
    }
   ],
   "execution_count": 23
  },
  {
   "metadata": {
    "ExecuteTime": {
     "end_time": "2024-11-01T06:31:16.145516Z",
     "start_time": "2024-11-01T06:31:15.610488Z"
    }
   },
   "cell_type": "code",
   "source": "evaluate_model(cnn_model, X_test, y_test)",
   "id": "34386cec81d6a2d4",
   "outputs": [
    {
     "name": "stdout",
     "output_type": "stream",
     "text": [
      "33/33 [==============================] - 0s 10ms/step - loss: 0.3300 - accuracy: 0.8596\n",
      "Test loss: 0.3300\n",
      "Test accuracy: 0.86\n"
     ]
    }
   ],
   "execution_count": 24
  },
  {
   "metadata": {
    "ExecuteTime": {
     "end_time": "2024-11-01T06:31:18.528342Z",
     "start_time": "2024-11-01T06:31:18.483741Z"
    }
   },
   "cell_type": "code",
   "source": [
    "date = datetime.now().strftime('%Y%m%d%H%M')\n",
    "model.save(f'model_{date}.h5')\n",
    "print(f\"Model saved as model_{date}.h5\")"
   ],
   "id": "551ff463bcaf8093",
   "outputs": [
    {
     "name": "stdout",
     "output_type": "stream",
     "text": [
      "Model saved as model_202411011431.h5\n"
     ]
    }
   ],
   "execution_count": 25
  },
  {
   "metadata": {
    "ExecuteTime": {
     "end_time": "2024-11-01T06:31:19.476292Z",
     "start_time": "2024-11-01T06:31:19.310953Z"
    }
   },
   "cell_type": "code",
   "source": [
    "import matplotlib.pyplot as plt\n",
    "plt.plot(history.history['loss'])\n",
    "plt.plot(history.history['val_loss'])\n",
    "plt.title('Model loss')\n",
    "plt.ylabel('Loss')\n",
    "plt.xlabel('Epoch')\n",
    "plt.legend(['Train', 'Test'], loc='upper right')\n",
    "plt.savefig(f'model_loss_{date}.png')\n",
    "plt.show()"
   ],
   "id": "70c5f696df14eef",
   "outputs": [
    {
     "data": {
      "text/plain": [
       "<Figure size 640x480 with 1 Axes>"
      ],
      "image/png": "[encoded data removed]"
     },
     "metadata": {},
     "output_type": "display_data"
    }
   ],
   "execution_count": 26
  },
  {
   "metadata": {
    "ExecuteTime": {
     "end_time": "2024-11-01T06:24:13.310148Z",
     "start_time": "2024-11-01T06:24:13.295607Z"
    }
   },
   "cell_type": "code",
   "source": "",
   "id": "77144cb141ef9e4a",
   "outputs": [],
   "execution_count": null
  }
 ],
 "metadata": {
  "kernelspec": {
   "display_name": "Python 3",
   "language": "python",
   "name": "python3"
  },
  "language_info": {
   "codemirror_mode": {
    "name": "ipython",
    "version": 2
   },
   "file_extension": ".py",
   "mimetype": "text/x-python",
   "name": "python",
   "nbconvert_exporter": "python",
   "pygments_lexer": "ipython2",
   "version": "2.7.6"
  }
 },
 "nbformat": 4,
 "nbformat_minor": 5
}
