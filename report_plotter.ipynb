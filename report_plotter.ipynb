{
 "cells": [
  {
   "metadata": {
    "ExecuteTime": {
     "end_time": "2025-02-26T09:19:22.001918Z",
     "start_time": "2025-02-26T09:19:15.966343Z"
    }
   },
   "cell_type": "code",
   "source": [
    "import os\n",
    "import librosa.display\n",
    "from tqdm import tqdm\n",
    "import matplotlib.pyplot as plt"
   ],
   "id": "32370d7e87777f63",
   "outputs": [],
   "execution_count": 1
  },
  {
   "metadata": {
    "ExecuteTime": {
     "end_time": "2025-02-26T09:20:29.422033Z",
     "start_time": "2025-02-26T09:20:28.400157Z"
    }
   },
   "cell_type": "code",
   "source": [
    "from query_wav_data import export_query_results\n",
    "\n",
    "date_range = '2025-02-21'\n",
    "csv_path = export_query_results(\n",
    "    date_range=date_range,\n",
    "    serial_number='KST0000002',\n",
    ")\n",
    "\n",
    "print(f\"CSV 檔案已匯出至 {csv_path}\")\n"
   ],
   "id": "706e5add9b68484a",
   "outputs": [
    {
     "name": "stdout",
     "output_type": "stream",
     "text": [
      "資料已成功匯出至 query_results_KST0000002_2025-02-21_range_0.csv\n",
      "CSV 檔案已匯出至 query_results_KST0000002_2025-02-21_range_0.csv\n"
     ]
    }
   ],
   "execution_count": 2
  },
  {
   "metadata": {
    "ExecuteTime": {
     "end_time": "2025-02-26T09:20:30.540473Z",
     "start_time": "2025-02-26T09:20:30.527586Z"
    }
   },
   "cell_type": "code",
   "source": [
    "def load_wav_images(local_file_path, target_sr=32000):\n",
    "    y, sr = librosa.load(local_file_path, sr=None, mono=True)\n",
    "    if sr != target_sr:\n",
    "        y = librosa.resample(y, orig_sr=sr, target_sr=target_sr)\n",
    "    return y"
   ],
   "id": "fbf3a3d2599f7a7",
   "outputs": [],
   "execution_count": 3
  },
  {
   "cell_type": "code",
   "id": "initial_id",
   "metadata": {
    "collapsed": true,
    "ExecuteTime": {
     "end_time": "2025-02-26T09:20:31.612106Z",
     "start_time": "2025-02-26T09:20:31.586754Z"
    }
   },
   "source": [
    "from plotting import plot_mel_stft_fft_1d_3d\n",
    "\n",
    "def plot_wav_images(y, mel_img, stft_img, file_name):\n",
    "    plot_mel_stft_fft_1d_3d(y, file_name, mel_img, stft_img, '2025-02-25')"
   ],
   "outputs": [
    {
     "name": "stdout",
     "output_type": "stream",
     "text": [
      "n_mels: 128\n",
      "mels_n_fft: 1024\n",
      "mels_hop_length: 256\n"
     ]
    }
   ],
   "execution_count": 4
  },
  {
   "metadata": {
    "ExecuteTime": {
     "end_time": "2025-02-26T09:22:01.105355Z",
     "start_time": "2025-02-26T09:20:33.135588Z"
    }
   },
   "cell_type": "code",
   "source": [
    "from download_file_from_ftp import read_line, download_file, connect_sftp, close_sftp\n",
    "import pandas as pd\n",
    "df = pd.read_csv(csv_path)\n",
    "sftp = connect_sftp()\n",
    "for index, row in tqdm(df.iterrows(), total=len(df)):\n",
    "    uid, serial_number, date, wav_data, ai_result, dip, env, pvc, tfc = read_line(row)\n",
    "    local_file_path, local_image_1d_path, local_image_3d_path = download_file(sftp, row)\n",
    "    y = load_wav_images(local_file_path)\n",
    "    plot_mel_stft_fft_1d_3d(y,\n",
    "                            one_d_path=local_image_1d_path,\n",
    "                            three_d_path=local_image_3d_path,\n",
    "                            class_type=date_range,\n",
    "                            uid=uid,\n",
    "                            serial_number=serial_number,\n",
    "                            leak_rate=ai_result,\n",
    "                            env_noise=env,\n",
    "                            dip_noise=dip, pvc_pipe=pvc, tfc_noise=tfc, file_name=wav_data, dev=False)"
   ],
   "id": "fb72afb998b0042b",
   "outputs": [
    {
     "name": "stdout",
     "output_type": "stream",
     "text": [
      "SFTP 連線成功\n"
     ]
    },
    {
     "name": "stderr",
     "output_type": "stream",
     "text": [
      "  0%|          | 0/45 [00:00<?, ?it/s]"
     ]
    },
    {
     "name": "stdout",
     "output_type": "stream",
     "text": [
      "serial_number: KST0000002\n",
      "wav_data: 2025-02-21T130646\n",
      "下載 /itri/Taiwan Water Local/Hsinchu City/KST0000002/WAV/2025-02-21/2025-02-21T130646.wav 至 dataset\\2025-02-21\\10\\KST0000002\\2025-02-21T130646.wav\n"
     ]
    },
    {
     "name": "stderr",
     "output_type": "stream",
     "text": [
      "  0%|          | 0/45 [00:00<?, ?it/s]"
     ]
    },
    {
     "name": "stdout",
     "output_type": "stream",
     "text": [
      "下載 /itri/Taiwan Water Local/Hsinchu City/KST0000002/IMG/2025-02-21/2025-02-21T130646_1d.png 至 dataset\\2025-02-21\\10\\KST0000002\\2025-02-21T130646_1d.png\n"
     ]
    },
    {
     "name": "stderr",
     "output_type": "stream",
     "text": [
      "  0%|          | 0/45 [00:00<?, ?it/s]"
     ]
    },
    {
     "name": "stdout",
     "output_type": "stream",
     "text": [
      "下載 /itri/Taiwan Water Local/Hsinchu City/KST0000002/IMG/2025-02-21/2025-02-21T130646_3d.png 至 dataset\\2025-02-21\\10\\KST0000002\\2025-02-21T130646_3d.png\n"
     ]
    },
    {
     "name": "stderr",
     "output_type": "stream",
     "text": [
      "  2%|▏         | 1/45 [00:02<01:59,  2.72s/it]"
     ]
    },
    {
     "name": "stdout",
     "output_type": "stream",
     "text": [
      "serial_number: KST0000002\n",
      "wav_data: 2025-02-21T130655\n",
      "下載 /itri/Taiwan Water Local/Hsinchu City/KST0000002/WAV/2025-02-21/2025-02-21T130655.wav 至 dataset\\2025-02-21\\10\\KST0000002\\2025-02-21T130655.wav\n"
     ]
    },
    {
     "name": "stderr",
     "output_type": "stream",
     "text": [
      "  2%|▏         | 1/45 [00:03<01:59,  2.72s/it]"
     ]
    },
    {
     "name": "stdout",
     "output_type": "stream",
     "text": [
      "下載 /itri/Taiwan Water Local/Hsinchu City/KST0000002/IMG/2025-02-21/2025-02-21T130655_1d.png 至 dataset\\2025-02-21\\10\\KST0000002\\2025-02-21T130655_1d.png\n"
     ]
    },
    {
     "name": "stderr",
     "output_type": "stream",
     "text": [
      "  2%|▏         | 1/45 [00:03<01:59,  2.72s/it]"
     ]
    },
    {
     "name": "stdout",
     "output_type": "stream",
     "text": [
      "下載 /itri/Taiwan Water Local/Hsinchu City/KST0000002/IMG/2025-02-21/2025-02-21T130655_3d.png 至 dataset\\2025-02-21\\10\\KST0000002\\2025-02-21T130655_3d.png\n"
     ]
    },
    {
     "name": "stderr",
     "output_type": "stream",
     "text": [
      "  4%|▍         | 2/45 [00:04<01:29,  2.09s/it]"
     ]
    },
    {
     "name": "stdout",
     "output_type": "stream",
     "text": [
      "serial_number: KST0000002\n",
      "wav_data: 2025-02-21T130659\n",
      "下載 /itri/Taiwan Water Local/Hsinchu City/KST0000002/WAV/2025-02-21/2025-02-21T130659.wav 至 dataset\\2025-02-21\\10\\KST0000002\\2025-02-21T130659.wav\n"
     ]
    },
    {
     "name": "stderr",
     "output_type": "stream",
     "text": [
      "  4%|▍         | 2/45 [00:04<01:29,  2.09s/it]"
     ]
    },
    {
     "name": "stdout",
     "output_type": "stream",
     "text": [
      "下載 /itri/Taiwan Water Local/Hsinchu City/KST0000002/IMG/2025-02-21/2025-02-21T130659_1d.png 至 dataset\\2025-02-21\\10\\KST0000002\\2025-02-21T130659_1d.png\n"
     ]
    },
    {
     "name": "stderr",
     "output_type": "stream",
     "text": [
      "  4%|▍         | 2/45 [00:04<01:29,  2.09s/it]"
     ]
    },
    {
     "name": "stdout",
     "output_type": "stream",
     "text": [
      "下載 /itri/Taiwan Water Local/Hsinchu City/KST0000002/IMG/2025-02-21/2025-02-21T130659_3d.png 至 dataset\\2025-02-21\\10\\KST0000002\\2025-02-21T130659_3d.png\n"
     ]
    },
    {
     "name": "stderr",
     "output_type": "stream",
     "text": [
      "  7%|▋         | 3/45 [00:06<01:19,  1.90s/it]"
     ]
    },
    {
     "name": "stdout",
     "output_type": "stream",
     "text": [
      "serial_number: KST0000002\n",
      "wav_data: 2025-02-21T130709\n",
      "下載 /itri/Taiwan Water Local/Hsinchu City/KST0000002/WAV/2025-02-21/2025-02-21T130709.wav 至 dataset\\2025-02-21\\10\\KST0000002\\2025-02-21T130709.wav\n"
     ]
    },
    {
     "name": "stderr",
     "output_type": "stream",
     "text": [
      "  7%|▋         | 3/45 [00:06<01:19,  1.90s/it]"
     ]
    },
    {
     "name": "stdout",
     "output_type": "stream",
     "text": [
      "下載 /itri/Taiwan Water Local/Hsinchu City/KST0000002/IMG/2025-02-21/2025-02-21T130709_1d.png 至 dataset\\2025-02-21\\10\\KST0000002\\2025-02-21T130709_1d.png\n"
     ]
    },
    {
     "name": "stderr",
     "output_type": "stream",
     "text": [
      "  7%|▋         | 3/45 [00:07<01:19,  1.90s/it]"
     ]
    },
    {
     "name": "stdout",
     "output_type": "stream",
     "text": [
      "下載 /itri/Taiwan Water Local/Hsinchu City/KST0000002/IMG/2025-02-21/2025-02-21T130709_3d.png 至 dataset\\2025-02-21\\10\\KST0000002\\2025-02-21T130709_3d.png\n"
     ]
    },
    {
     "name": "stderr",
     "output_type": "stream",
     "text": [
      "  9%|▉         | 4/45 [00:08<01:29,  2.19s/it]"
     ]
    },
    {
     "name": "stdout",
     "output_type": "stream",
     "text": [
      "serial_number: KST0000002\n",
      "wav_data: 2025-02-21T130726\n",
      "下載 /itri/Taiwan Water Local/Hsinchu City/KST0000002/WAV/2025-02-21/2025-02-21T130726.wav 至 dataset\\2025-02-21\\10\\KST0000002\\2025-02-21T130726.wav\n"
     ]
    },
    {
     "name": "stderr",
     "output_type": "stream",
     "text": [
      "  9%|▉         | 4/45 [00:09<01:29,  2.19s/it]"
     ]
    },
    {
     "name": "stdout",
     "output_type": "stream",
     "text": [
      "下載 /itri/Taiwan Water Local/Hsinchu City/KST0000002/IMG/2025-02-21/2025-02-21T130726_1d.png 至 dataset\\2025-02-21\\10\\KST0000002\\2025-02-21T130726_1d.png\n"
     ]
    },
    {
     "name": "stderr",
     "output_type": "stream",
     "text": [
      "  9%|▉         | 4/45 [00:09<01:29,  2.19s/it]"
     ]
    },
    {
     "name": "stdout",
     "output_type": "stream",
     "text": [
      "下載 /itri/Taiwan Water Local/Hsinchu City/KST0000002/IMG/2025-02-21/2025-02-21T130726_3d.png 至 dataset\\2025-02-21\\10\\KST0000002\\2025-02-21T130726_3d.png\n"
     ]
    },
    {
     "name": "stderr",
     "output_type": "stream",
     "text": [
      " 11%|█         | 5/45 [00:10<01:19,  1.98s/it]"
     ]
    },
    {
     "name": "stdout",
     "output_type": "stream",
     "text": [
      "serial_number: KST0000002\n",
      "wav_data: 2025-02-21T130734\n",
      "下載 /itri/Taiwan Water Local/Hsinchu City/KST0000002/WAV/2025-02-21/2025-02-21T130734.wav 至 dataset\\2025-02-21\\30\\KST0000002\\2025-02-21T130734.wav\n"
     ]
    },
    {
     "name": "stderr",
     "output_type": "stream",
     "text": [
      " 11%|█         | 5/45 [00:10<01:19,  1.98s/it]"
     ]
    },
    {
     "name": "stdout",
     "output_type": "stream",
     "text": [
      "下載 /itri/Taiwan Water Local/Hsinchu City/KST0000002/IMG/2025-02-21/2025-02-21T130734_1d.png 至 dataset\\2025-02-21\\30\\KST0000002\\2025-02-21T130734_1d.png\n"
     ]
    },
    {
     "name": "stderr",
     "output_type": "stream",
     "text": [
      " 11%|█         | 5/45 [00:10<01:19,  1.98s/it]"
     ]
    },
    {
     "name": "stdout",
     "output_type": "stream",
     "text": [
      "下載 /itri/Taiwan Water Local/Hsinchu City/KST0000002/IMG/2025-02-21/2025-02-21T130734_3d.png 至 dataset\\2025-02-21\\30\\KST0000002\\2025-02-21T130734_3d.png\n"
     ]
    },
    {
     "name": "stderr",
     "output_type": "stream",
     "text": [
      " 13%|█▎        | 6/45 [00:11<01:12,  1.85s/it]"
     ]
    },
    {
     "name": "stdout",
     "output_type": "stream",
     "text": [
      "serial_number: KST0000002\n",
      "wav_data: 2025-02-21T130743\n",
      "下載 /itri/Taiwan Water Local/Hsinchu City/KST0000002/WAV/2025-02-21/2025-02-21T130743.wav 至 dataset\\2025-02-21\\0\\KST0000002\\2025-02-21T130743.wav\n"
     ]
    },
    {
     "name": "stderr",
     "output_type": "stream",
     "text": [
      " 13%|█▎        | 6/45 [00:12<01:12,  1.85s/it]"
     ]
    },
    {
     "name": "stdout",
     "output_type": "stream",
     "text": [
      "下載 /itri/Taiwan Water Local/Hsinchu City/KST0000002/IMG/2025-02-21/2025-02-21T130743_1d.png 至 dataset\\2025-02-21\\0\\KST0000002\\2025-02-21T130743_1d.png\n"
     ]
    },
    {
     "name": "stderr",
     "output_type": "stream",
     "text": [
      " 13%|█▎        | 6/45 [00:12<01:12,  1.85s/it]"
     ]
    },
    {
     "name": "stdout",
     "output_type": "stream",
     "text": [
      "下載 /itri/Taiwan Water Local/Hsinchu City/KST0000002/IMG/2025-02-21/2025-02-21T130743_3d.png 至 dataset\\2025-02-21\\0\\KST0000002\\2025-02-21T130743_3d.png\n"
     ]
    },
    {
     "name": "stderr",
     "output_type": "stream",
     "text": [
      " 16%|█▌        | 7/45 [00:13<01:08,  1.80s/it]"
     ]
    },
    {
     "name": "stdout",
     "output_type": "stream",
     "text": [
      "serial_number: KST0000002\n",
      "wav_data: 2025-02-21T130751\n",
      "下載 /itri/Taiwan Water Local/Hsinchu City/KST0000002/WAV/2025-02-21/2025-02-21T130751.wav 至 dataset\\2025-02-21\\0\\KST0000002\\2025-02-21T130751.wav\n"
     ]
    },
    {
     "name": "stderr",
     "output_type": "stream",
     "text": [
      " 16%|█▌        | 7/45 [00:13<01:08,  1.80s/it]"
     ]
    },
    {
     "name": "stdout",
     "output_type": "stream",
     "text": [
      "下載 /itri/Taiwan Water Local/Hsinchu City/KST0000002/IMG/2025-02-21/2025-02-21T130751_1d.png 至 dataset\\2025-02-21\\0\\KST0000002\\2025-02-21T130751_1d.png\n"
     ]
    },
    {
     "name": "stderr",
     "output_type": "stream",
     "text": [
      " 16%|█▌        | 7/45 [00:14<01:08,  1.80s/it]"
     ]
    },
    {
     "name": "stdout",
     "output_type": "stream",
     "text": [
      "下載 /itri/Taiwan Water Local/Hsinchu City/KST0000002/IMG/2025-02-21/2025-02-21T130751_3d.png 至 dataset\\2025-02-21\\0\\KST0000002\\2025-02-21T130751_3d.png\n"
     ]
    },
    {
     "name": "stderr",
     "output_type": "stream",
     "text": [
      " 18%|█▊        | 8/45 [00:15<01:04,  1.75s/it]"
     ]
    },
    {
     "name": "stdout",
     "output_type": "stream",
     "text": [
      "serial_number: KST0000002\n",
      "wav_data: 2025-02-21T130756\n",
      "下載 /itri/Taiwan Water Local/Hsinchu City/KST0000002/WAV/2025-02-21/2025-02-21T130756.wav 至 dataset\\2025-02-21\\0\\KST0000002\\2025-02-21T130756.wav\n"
     ]
    },
    {
     "name": "stderr",
     "output_type": "stream",
     "text": [
      " 18%|█▊        | 8/45 [00:15<01:04,  1.75s/it]"
     ]
    },
    {
     "name": "stdout",
     "output_type": "stream",
     "text": [
      "下載 /itri/Taiwan Water Local/Hsinchu City/KST0000002/IMG/2025-02-21/2025-02-21T130756_1d.png 至 dataset\\2025-02-21\\0\\KST0000002\\2025-02-21T130756_1d.png\n"
     ]
    },
    {
     "name": "stderr",
     "output_type": "stream",
     "text": [
      " 18%|█▊        | 8/45 [00:15<01:04,  1.75s/it]"
     ]
    },
    {
     "name": "stdout",
     "output_type": "stream",
     "text": [
      "下載 /itri/Taiwan Water Local/Hsinchu City/KST0000002/IMG/2025-02-21/2025-02-21T130756_3d.png 至 dataset\\2025-02-21\\0\\KST0000002\\2025-02-21T130756_3d.png\n"
     ]
    },
    {
     "name": "stderr",
     "output_type": "stream",
     "text": [
      " 20%|██        | 9/45 [00:16<01:01,  1.71s/it]"
     ]
    },
    {
     "name": "stdout",
     "output_type": "stream",
     "text": [
      "serial_number: KST0000002\n",
      "wav_data: 2025-02-21T130800\n",
      "下載 /itri/Taiwan Water Local/Hsinchu City/KST0000002/WAV/2025-02-21/2025-02-21T130800.wav 至 dataset\\2025-02-21\\0\\KST0000002\\2025-02-21T130800.wav\n"
     ]
    },
    {
     "name": "stderr",
     "output_type": "stream",
     "text": [
      " 20%|██        | 9/45 [00:17<01:01,  1.71s/it]"
     ]
    },
    {
     "name": "stdout",
     "output_type": "stream",
     "text": [
      "下載 /itri/Taiwan Water Local/Hsinchu City/KST0000002/IMG/2025-02-21/2025-02-21T130800_1d.png 至 dataset\\2025-02-21\\0\\KST0000002\\2025-02-21T130800_1d.png\n"
     ]
    },
    {
     "name": "stderr",
     "output_type": "stream",
     "text": [
      " 20%|██        | 9/45 [00:17<01:01,  1.71s/it]"
     ]
    },
    {
     "name": "stdout",
     "output_type": "stream",
     "text": [
      "下載 /itri/Taiwan Water Local/Hsinchu City/KST0000002/IMG/2025-02-21/2025-02-21T130800_3d.png 至 dataset\\2025-02-21\\0\\KST0000002\\2025-02-21T130800_3d.png\n"
     ]
    },
    {
     "name": "stderr",
     "output_type": "stream",
     "text": [
      " 22%|██▏       | 10/45 [00:18<00:58,  1.67s/it]"
     ]
    },
    {
     "name": "stdout",
     "output_type": "stream",
     "text": [
      "serial_number: KST0000002\n",
      "wav_data: 2025-02-21T130804\n",
      "下載 /itri/Taiwan Water Local/Hsinchu City/KST0000002/WAV/2025-02-21/2025-02-21T130804.wav 至 dataset\\2025-02-21\\10\\KST0000002\\2025-02-21T130804.wav\n"
     ]
    },
    {
     "name": "stderr",
     "output_type": "stream",
     "text": [
      " 22%|██▏       | 10/45 [00:18<00:58,  1.67s/it]"
     ]
    },
    {
     "name": "stdout",
     "output_type": "stream",
     "text": [
      "下載 /itri/Taiwan Water Local/Hsinchu City/KST0000002/IMG/2025-02-21/2025-02-21T130804_1d.png 至 dataset\\2025-02-21\\10\\KST0000002\\2025-02-21T130804_1d.png\n"
     ]
    },
    {
     "name": "stderr",
     "output_type": "stream",
     "text": [
      " 22%|██▏       | 10/45 [00:19<00:58,  1.67s/it]"
     ]
    },
    {
     "name": "stdout",
     "output_type": "stream",
     "text": [
      "下載 /itri/Taiwan Water Local/Hsinchu City/KST0000002/IMG/2025-02-21/2025-02-21T130804_3d.png 至 dataset\\2025-02-21\\10\\KST0000002\\2025-02-21T130804_3d.png\n"
     ]
    },
    {
     "name": "stderr",
     "output_type": "stream",
     "text": [
      " 24%|██▍       | 11/45 [00:20<00:56,  1.66s/it]"
     ]
    },
    {
     "name": "stdout",
     "output_type": "stream",
     "text": [
      "serial_number: KST0000002\n",
      "wav_data: 2025-02-21T130822\n",
      "下載 /itri/Taiwan Water Local/Hsinchu City/KST0000002/WAV/2025-02-21/2025-02-21T130822.wav 至 dataset\\2025-02-21\\40\\KST0000002\\2025-02-21T130822.wav\n"
     ]
    },
    {
     "name": "stderr",
     "output_type": "stream",
     "text": [
      " 24%|██▍       | 11/45 [00:20<00:56,  1.66s/it]"
     ]
    },
    {
     "name": "stdout",
     "output_type": "stream",
     "text": [
      "下載 /itri/Taiwan Water Local/Hsinchu City/KST0000002/IMG/2025-02-21/2025-02-21T130822_1d.png 至 dataset\\2025-02-21\\40\\KST0000002\\2025-02-21T130822_1d.png\n"
     ]
    },
    {
     "name": "stderr",
     "output_type": "stream",
     "text": [
      " 24%|██▍       | 11/45 [00:20<00:56,  1.66s/it]"
     ]
    },
    {
     "name": "stdout",
     "output_type": "stream",
     "text": [
      "下載 /itri/Taiwan Water Local/Hsinchu City/KST0000002/IMG/2025-02-21/2025-02-21T130822_3d.png 至 dataset\\2025-02-21\\40\\KST0000002\\2025-02-21T130822_3d.png\n"
     ]
    },
    {
     "name": "stderr",
     "output_type": "stream",
     "text": [
      " 27%|██▋       | 12/45 [00:21<00:55,  1.68s/it]"
     ]
    },
    {
     "name": "stdout",
     "output_type": "stream",
     "text": [
      "serial_number: KST0000002\n",
      "wav_data: 2025-02-21T130829\n",
      "下載 /itri/Taiwan Water Local/Hsinchu City/KST0000002/WAV/2025-02-21/2025-02-21T130829.wav 至 dataset\\2025-02-21\\10\\KST0000002\\2025-02-21T130829.wav\n"
     ]
    },
    {
     "name": "stderr",
     "output_type": "stream",
     "text": [
      " 27%|██▋       | 12/45 [00:22<00:55,  1.68s/it]"
     ]
    },
    {
     "name": "stdout",
     "output_type": "stream",
     "text": [
      "下載 /itri/Taiwan Water Local/Hsinchu City/KST0000002/IMG/2025-02-21/2025-02-21T130829_1d.png 至 dataset\\2025-02-21\\10\\KST0000002\\2025-02-21T130829_1d.png\n"
     ]
    },
    {
     "name": "stderr",
     "output_type": "stream",
     "text": [
      " 27%|██▋       | 12/45 [00:22<00:55,  1.68s/it]"
     ]
    },
    {
     "name": "stdout",
     "output_type": "stream",
     "text": [
      "下載 /itri/Taiwan Water Local/Hsinchu City/KST0000002/IMG/2025-02-21/2025-02-21T130829_3d.png 至 dataset\\2025-02-21\\10\\KST0000002\\2025-02-21T130829_3d.png\n"
     ]
    },
    {
     "name": "stderr",
     "output_type": "stream",
     "text": [
      " 29%|██▉       | 13/45 [00:23<00:53,  1.67s/it]"
     ]
    },
    {
     "name": "stdout",
     "output_type": "stream",
     "text": [
      "serial_number: KST0000002\n",
      "wav_data: 2025-02-21T130833\n",
      "下載 /itri/Taiwan Water Local/Hsinchu City/KST0000002/WAV/2025-02-21/2025-02-21T130833.wav 至 dataset\\2025-02-21\\0\\KST0000002\\2025-02-21T130833.wav\n"
     ]
    },
    {
     "name": "stderr",
     "output_type": "stream",
     "text": [
      " 29%|██▉       | 13/45 [00:23<00:53,  1.67s/it]"
     ]
    },
    {
     "name": "stdout",
     "output_type": "stream",
     "text": [
      "下載 /itri/Taiwan Water Local/Hsinchu City/KST0000002/IMG/2025-02-21/2025-02-21T130833_1d.png 至 dataset\\2025-02-21\\0\\KST0000002\\2025-02-21T130833_1d.png\n"
     ]
    },
    {
     "name": "stderr",
     "output_type": "stream",
     "text": [
      " 29%|██▉       | 13/45 [00:23<00:53,  1.67s/it]"
     ]
    },
    {
     "name": "stdout",
     "output_type": "stream",
     "text": [
      "下載 /itri/Taiwan Water Local/Hsinchu City/KST0000002/IMG/2025-02-21/2025-02-21T130833_3d.png 至 dataset\\2025-02-21\\0\\KST0000002\\2025-02-21T130833_3d.png\n"
     ]
    },
    {
     "name": "stderr",
     "output_type": "stream",
     "text": [
      " 31%|███       | 14/45 [00:25<00:50,  1.64s/it]"
     ]
    },
    {
     "name": "stdout",
     "output_type": "stream",
     "text": [
      "serial_number: KST0000002\n",
      "wav_data: 2025-02-21T130842\n",
      "下載 /itri/Taiwan Water Local/Hsinchu City/KST0000002/WAV/2025-02-21/2025-02-21T130842.wav 至 dataset\\2025-02-21\\0\\KST0000002\\2025-02-21T130842.wav\n"
     ]
    },
    {
     "name": "stderr",
     "output_type": "stream",
     "text": [
      " 31%|███       | 14/45 [00:25<00:50,  1.64s/it]"
     ]
    },
    {
     "name": "stdout",
     "output_type": "stream",
     "text": [
      "下載 /itri/Taiwan Water Local/Hsinchu City/KST0000002/IMG/2025-02-21/2025-02-21T130842_1d.png 至 dataset\\2025-02-21\\0\\KST0000002\\2025-02-21T130842_1d.png\n"
     ]
    },
    {
     "name": "stderr",
     "output_type": "stream",
     "text": [
      " 31%|███       | 14/45 [00:25<00:50,  1.64s/it]"
     ]
    },
    {
     "name": "stdout",
     "output_type": "stream",
     "text": [
      "下載 /itri/Taiwan Water Local/Hsinchu City/KST0000002/IMG/2025-02-21/2025-02-21T130842_3d.png 至 dataset\\2025-02-21\\0\\KST0000002\\2025-02-21T130842_3d.png\n"
     ]
    },
    {
     "name": "stderr",
     "output_type": "stream",
     "text": [
      " 33%|███▎      | 15/45 [00:26<00:49,  1.65s/it]"
     ]
    },
    {
     "name": "stdout",
     "output_type": "stream",
     "text": [
      "serial_number: KST0000002\n",
      "wav_data: 2025-02-21T130849\n",
      "下載 /itri/Taiwan Water Local/Hsinchu City/KST0000002/WAV/2025-02-21/2025-02-21T130849.wav 至 dataset\\2025-02-21\\0\\KST0000002\\2025-02-21T130849.wav\n"
     ]
    },
    {
     "name": "stderr",
     "output_type": "stream",
     "text": [
      " 33%|███▎      | 15/45 [00:27<00:49,  1.65s/it]"
     ]
    },
    {
     "name": "stdout",
     "output_type": "stream",
     "text": [
      "下載 /itri/Taiwan Water Local/Hsinchu City/KST0000002/IMG/2025-02-21/2025-02-21T130849_1d.png 至 dataset\\2025-02-21\\0\\KST0000002\\2025-02-21T130849_1d.png\n"
     ]
    },
    {
     "name": "stderr",
     "output_type": "stream",
     "text": [
      " 33%|███▎      | 15/45 [00:27<00:49,  1.65s/it]"
     ]
    },
    {
     "name": "stdout",
     "output_type": "stream",
     "text": [
      "下載 /itri/Taiwan Water Local/Hsinchu City/KST0000002/IMG/2025-02-21/2025-02-21T130849_3d.png 至 dataset\\2025-02-21\\0\\KST0000002\\2025-02-21T130849_3d.png\n"
     ]
    },
    {
     "name": "stderr",
     "output_type": "stream",
     "text": [
      " 36%|███▌      | 16/45 [00:28<00:47,  1.63s/it]"
     ]
    },
    {
     "name": "stdout",
     "output_type": "stream",
     "text": [
      "serial_number: KST0000002\n",
      "wav_data: 2025-02-21T130854\n",
      "下載 /itri/Taiwan Water Local/Hsinchu City/KST0000002/WAV/2025-02-21/2025-02-21T130854.wav 至 dataset\\2025-02-21\\0\\KST0000002\\2025-02-21T130854.wav\n"
     ]
    },
    {
     "name": "stderr",
     "output_type": "stream",
     "text": [
      " 36%|███▌      | 16/45 [00:28<00:47,  1.63s/it]"
     ]
    },
    {
     "name": "stdout",
     "output_type": "stream",
     "text": [
      "下載 /itri/Taiwan Water Local/Hsinchu City/KST0000002/IMG/2025-02-21/2025-02-21T130854_1d.png 至 dataset\\2025-02-21\\0\\KST0000002\\2025-02-21T130854_1d.png\n"
     ]
    },
    {
     "name": "stderr",
     "output_type": "stream",
     "text": [
      " 36%|███▌      | 16/45 [00:28<00:47,  1.63s/it]"
     ]
    },
    {
     "name": "stdout",
     "output_type": "stream",
     "text": [
      "下載 /itri/Taiwan Water Local/Hsinchu City/KST0000002/IMG/2025-02-21/2025-02-21T130854_3d.png 至 dataset\\2025-02-21\\0\\KST0000002\\2025-02-21T130854_3d.png\n"
     ]
    },
    {
     "name": "stderr",
     "output_type": "stream",
     "text": [
      " 38%|███▊      | 17/45 [00:29<00:45,  1.62s/it]"
     ]
    },
    {
     "name": "stdout",
     "output_type": "stream",
     "text": [
      "serial_number: KST0000002\n",
      "wav_data: 2025-02-21T130858\n",
      "下載 /itri/Taiwan Water Local/Hsinchu City/KST0000002/WAV/2025-02-21/2025-02-21T130858.wav 至 dataset\\2025-02-21\\0\\KST0000002\\2025-02-21T130858.wav\n"
     ]
    },
    {
     "name": "stderr",
     "output_type": "stream",
     "text": [
      " 38%|███▊      | 17/45 [00:30<00:45,  1.62s/it]"
     ]
    },
    {
     "name": "stdout",
     "output_type": "stream",
     "text": [
      "下載 /itri/Taiwan Water Local/Hsinchu City/KST0000002/IMG/2025-02-21/2025-02-21T130858_1d.png 至 dataset\\2025-02-21\\0\\KST0000002\\2025-02-21T130858_1d.png\n"
     ]
    },
    {
     "name": "stderr",
     "output_type": "stream",
     "text": [
      " 38%|███▊      | 17/45 [00:30<00:45,  1.62s/it]"
     ]
    },
    {
     "name": "stdout",
     "output_type": "stream",
     "text": [
      "下載 /itri/Taiwan Water Local/Hsinchu City/KST0000002/IMG/2025-02-21/2025-02-21T130858_3d.png 至 dataset\\2025-02-21\\0\\KST0000002\\2025-02-21T130858_3d.png\n"
     ]
    },
    {
     "name": "stderr",
     "output_type": "stream",
     "text": [
      " 40%|████      | 18/45 [00:31<00:44,  1.66s/it]"
     ]
    },
    {
     "name": "stdout",
     "output_type": "stream",
     "text": [
      "serial_number: KST0000002\n",
      "wav_data: 2025-02-21T130904\n",
      "下載 /itri/Taiwan Water Local/Hsinchu City/KST0000002/WAV/2025-02-21/2025-02-21T130904.wav 至 dataset\\2025-02-21\\0\\KST0000002\\2025-02-21T130904.wav\n"
     ]
    },
    {
     "name": "stderr",
     "output_type": "stream",
     "text": [
      " 40%|████      | 18/45 [00:31<00:44,  1.66s/it]"
     ]
    },
    {
     "name": "stdout",
     "output_type": "stream",
     "text": [
      "下載 /itri/Taiwan Water Local/Hsinchu City/KST0000002/IMG/2025-02-21/2025-02-21T130904_1d.png 至 dataset\\2025-02-21\\0\\KST0000002\\2025-02-21T130904_1d.png\n"
     ]
    },
    {
     "name": "stderr",
     "output_type": "stream",
     "text": [
      " 40%|████      | 18/45 [00:32<00:44,  1.66s/it]"
     ]
    },
    {
     "name": "stdout",
     "output_type": "stream",
     "text": [
      "下載 /itri/Taiwan Water Local/Hsinchu City/KST0000002/IMG/2025-02-21/2025-02-21T130904_3d.png 至 dataset\\2025-02-21\\0\\KST0000002\\2025-02-21T130904_3d.png\n"
     ]
    },
    {
     "name": "stderr",
     "output_type": "stream",
     "text": [
      " 42%|████▏     | 19/45 [00:33<00:44,  1.71s/it]"
     ]
    },
    {
     "name": "stdout",
     "output_type": "stream",
     "text": [
      "serial_number: KST0000002\n",
      "wav_data: 2025-02-21T130909\n",
      "下載 /itri/Taiwan Water Local/Hsinchu City/KST0000002/WAV/2025-02-21/2025-02-21T130909.wav 至 dataset\\2025-02-21\\0\\KST0000002\\2025-02-21T130909.wav\n"
     ]
    },
    {
     "name": "stderr",
     "output_type": "stream",
     "text": [
      " 42%|████▏     | 19/45 [00:33<00:44,  1.71s/it]"
     ]
    },
    {
     "name": "stdout",
     "output_type": "stream",
     "text": [
      "下載 /itri/Taiwan Water Local/Hsinchu City/KST0000002/IMG/2025-02-21/2025-02-21T130909_1d.png 至 dataset\\2025-02-21\\0\\KST0000002\\2025-02-21T130909_1d.png\n"
     ]
    },
    {
     "name": "stderr",
     "output_type": "stream",
     "text": [
      " 42%|████▏     | 19/45 [00:34<00:44,  1.71s/it]"
     ]
    },
    {
     "name": "stdout",
     "output_type": "stream",
     "text": [
      "下載 /itri/Taiwan Water Local/Hsinchu City/KST0000002/IMG/2025-02-21/2025-02-21T130909_3d.png 至 dataset\\2025-02-21\\0\\KST0000002\\2025-02-21T130909_3d.png\n"
     ]
    },
    {
     "name": "stderr",
     "output_type": "stream",
     "text": [
      " 44%|████▍     | 20/45 [00:35<00:42,  1.68s/it]"
     ]
    },
    {
     "name": "stdout",
     "output_type": "stream",
     "text": [
      "serial_number: KST0000002\n",
      "wav_data: 2025-02-21T130913\n",
      "下載 /itri/Taiwan Water Local/Hsinchu City/KST0000002/WAV/2025-02-21/2025-02-21T130913.wav 至 dataset\\2025-02-21\\0\\KST0000002\\2025-02-21T130913.wav\n"
     ]
    },
    {
     "name": "stderr",
     "output_type": "stream",
     "text": [
      " 44%|████▍     | 20/45 [00:35<00:42,  1.68s/it]"
     ]
    },
    {
     "name": "stdout",
     "output_type": "stream",
     "text": [
      "下載 /itri/Taiwan Water Local/Hsinchu City/KST0000002/IMG/2025-02-21/2025-02-21T130913_1d.png 至 dataset\\2025-02-21\\0\\KST0000002\\2025-02-21T130913_1d.png\n"
     ]
    },
    {
     "name": "stderr",
     "output_type": "stream",
     "text": [
      " 44%|████▍     | 20/45 [00:35<00:42,  1.68s/it]"
     ]
    },
    {
     "name": "stdout",
     "output_type": "stream",
     "text": [
      "下載 /itri/Taiwan Water Local/Hsinchu City/KST0000002/IMG/2025-02-21/2025-02-21T130913_3d.png 至 dataset\\2025-02-21\\0\\KST0000002\\2025-02-21T130913_3d.png\n"
     ]
    },
    {
     "name": "stderr",
     "output_type": "stream",
     "text": [
      " 47%|████▋     | 21/45 [00:36<00:39,  1.67s/it]"
     ]
    },
    {
     "name": "stdout",
     "output_type": "stream",
     "text": [
      "serial_number: KST0000002\n",
      "wav_data: 2025-02-21T130917\n",
      "下載 /itri/Taiwan Water Local/Hsinchu City/KST0000002/WAV/2025-02-21/2025-02-21T130917.wav 至 dataset\\2025-02-21\\0\\KST0000002\\2025-02-21T130917.wav\n"
     ]
    },
    {
     "name": "stderr",
     "output_type": "stream",
     "text": [
      " 47%|████▋     | 21/45 [00:36<00:39,  1.67s/it]"
     ]
    },
    {
     "name": "stdout",
     "output_type": "stream",
     "text": [
      "下載 /itri/Taiwan Water Local/Hsinchu City/KST0000002/IMG/2025-02-21/2025-02-21T130917_1d.png 至 dataset\\2025-02-21\\0\\KST0000002\\2025-02-21T130917_1d.png\n"
     ]
    },
    {
     "name": "stderr",
     "output_type": "stream",
     "text": [
      " 47%|████▋     | 21/45 [00:37<00:39,  1.67s/it]"
     ]
    },
    {
     "name": "stdout",
     "output_type": "stream",
     "text": [
      "下載 /itri/Taiwan Water Local/Hsinchu City/KST0000002/IMG/2025-02-21/2025-02-21T130917_3d.png 至 dataset\\2025-02-21\\0\\KST0000002\\2025-02-21T130917_3d.png\n"
     ]
    },
    {
     "name": "stderr",
     "output_type": "stream",
     "text": [
      " 49%|████▉     | 22/45 [00:38<00:39,  1.73s/it]"
     ]
    },
    {
     "name": "stdout",
     "output_type": "stream",
     "text": [
      "serial_number: KST0000002\n",
      "wav_data: 2025-02-21T130922\n",
      "下載 /itri/Taiwan Water Local/Hsinchu City/KST0000002/WAV/2025-02-21/2025-02-21T130922.wav 至 dataset\\2025-02-21\\0\\KST0000002\\2025-02-21T130922.wav\n"
     ]
    },
    {
     "name": "stderr",
     "output_type": "stream",
     "text": [
      " 49%|████▉     | 22/45 [00:38<00:39,  1.73s/it]"
     ]
    },
    {
     "name": "stdout",
     "output_type": "stream",
     "text": [
      "下載 /itri/Taiwan Water Local/Hsinchu City/KST0000002/IMG/2025-02-21/2025-02-21T130922_1d.png 至 dataset\\2025-02-21\\0\\KST0000002\\2025-02-21T130922_1d.png\n"
     ]
    },
    {
     "name": "stderr",
     "output_type": "stream",
     "text": [
      " 49%|████▉     | 22/45 [00:39<00:39,  1.73s/it]"
     ]
    },
    {
     "name": "stdout",
     "output_type": "stream",
     "text": [
      "下載 /itri/Taiwan Water Local/Hsinchu City/KST0000002/IMG/2025-02-21/2025-02-21T130922_3d.png 至 dataset\\2025-02-21\\0\\KST0000002\\2025-02-21T130922_3d.png\n"
     ]
    },
    {
     "name": "stderr",
     "output_type": "stream",
     "text": [
      " 51%|█████     | 23/45 [00:40<00:38,  1.75s/it]"
     ]
    },
    {
     "name": "stdout",
     "output_type": "stream",
     "text": [
      "serial_number: KST0000002\n",
      "wav_data: 2025-02-21T130926\n",
      "下載 /itri/Taiwan Water Local/Hsinchu City/KST0000002/WAV/2025-02-21/2025-02-21T130926.wav 至 dataset\\2025-02-21\\0\\KST0000002\\2025-02-21T130926.wav\n"
     ]
    },
    {
     "name": "stderr",
     "output_type": "stream",
     "text": [
      " 51%|█████     | 23/45 [00:40<00:38,  1.75s/it]"
     ]
    },
    {
     "name": "stdout",
     "output_type": "stream",
     "text": [
      "下載 /itri/Taiwan Water Local/Hsinchu City/KST0000002/IMG/2025-02-21/2025-02-21T130926_1d.png 至 dataset\\2025-02-21\\0\\KST0000002\\2025-02-21T130926_1d.png\n"
     ]
    },
    {
     "name": "stderr",
     "output_type": "stream",
     "text": [
      " 51%|█████     | 23/45 [00:40<00:38,  1.75s/it]"
     ]
    },
    {
     "name": "stdout",
     "output_type": "stream",
     "text": [
      "下載 /itri/Taiwan Water Local/Hsinchu City/KST0000002/IMG/2025-02-21/2025-02-21T130926_3d.png 至 dataset\\2025-02-21\\0\\KST0000002\\2025-02-21T130926_3d.png\n"
     ]
    },
    {
     "name": "stderr",
     "output_type": "stream",
     "text": [
      " 53%|█████▎    | 24/45 [00:42<00:37,  1.77s/it]"
     ]
    },
    {
     "name": "stdout",
     "output_type": "stream",
     "text": [
      "serial_number: KST0000002\n",
      "wav_data: 2025-02-21T130937\n",
      "下載 /itri/Taiwan Water Local/Hsinchu City/KST0000002/WAV/2025-02-21/2025-02-21T130937.wav 至 dataset\\2025-02-21\\0\\KST0000002\\2025-02-21T130937.wav\n"
     ]
    },
    {
     "name": "stderr",
     "output_type": "stream",
     "text": [
      " 53%|█████▎    | 24/45 [00:42<00:37,  1.77s/it]"
     ]
    },
    {
     "name": "stdout",
     "output_type": "stream",
     "text": [
      "下載 /itri/Taiwan Water Local/Hsinchu City/KST0000002/IMG/2025-02-21/2025-02-21T130937_1d.png 至 dataset\\2025-02-21\\0\\KST0000002\\2025-02-21T130937_1d.png\n"
     ]
    },
    {
     "name": "stderr",
     "output_type": "stream",
     "text": [
      " 53%|█████▎    | 24/45 [00:42<00:37,  1.77s/it]"
     ]
    },
    {
     "name": "stdout",
     "output_type": "stream",
     "text": [
      "下載 /itri/Taiwan Water Local/Hsinchu City/KST0000002/IMG/2025-02-21/2025-02-21T130937_3d.png 至 dataset\\2025-02-21\\0\\KST0000002\\2025-02-21T130937_3d.png\n"
     ]
    },
    {
     "name": "stderr",
     "output_type": "stream",
     "text": [
      " 56%|█████▌    | 25/45 [00:44<00:35,  1.79s/it]"
     ]
    },
    {
     "name": "stdout",
     "output_type": "stream",
     "text": [
      "serial_number: KST0000002\n",
      "wav_data: 2025-02-21T130959\n",
      "下載 /itri/Taiwan Water Local/Hsinchu City/KST0000002/WAV/2025-02-21/2025-02-21T130959.wav 至 dataset\\2025-02-21\\0\\KST0000002\\2025-02-21T130959.wav\n"
     ]
    },
    {
     "name": "stderr",
     "output_type": "stream",
     "text": [
      " 56%|█████▌    | 25/45 [00:44<00:35,  1.79s/it]"
     ]
    },
    {
     "name": "stdout",
     "output_type": "stream",
     "text": [
      "下載 /itri/Taiwan Water Local/Hsinchu City/KST0000002/IMG/2025-02-21/2025-02-21T130959_1d.png 至 dataset\\2025-02-21\\0\\KST0000002\\2025-02-21T130959_1d.png\n"
     ]
    },
    {
     "name": "stderr",
     "output_type": "stream",
     "text": [
      " 56%|█████▌    | 25/45 [00:44<00:35,  1.79s/it]"
     ]
    },
    {
     "name": "stdout",
     "output_type": "stream",
     "text": [
      "下載 /itri/Taiwan Water Local/Hsinchu City/KST0000002/IMG/2025-02-21/2025-02-21T130959_3d.png 至 dataset\\2025-02-21\\0\\KST0000002\\2025-02-21T130959_3d.png\n"
     ]
    },
    {
     "name": "stderr",
     "output_type": "stream",
     "text": [
      " 58%|█████▊    | 26/45 [00:46<00:35,  1.86s/it]"
     ]
    },
    {
     "name": "stdout",
     "output_type": "stream",
     "text": [
      "serial_number: KST0000002\n",
      "wav_data: 2025-02-21T131037\n",
      "下載 /itri/Taiwan Water Local/Hsinchu City/KST0000002/WAV/2025-02-21/2025-02-21T131037.wav 至 dataset\\2025-02-21\\0\\KST0000002\\2025-02-21T131037.wav\n"
     ]
    },
    {
     "name": "stderr",
     "output_type": "stream",
     "text": [
      " 58%|█████▊    | 26/45 [00:46<00:35,  1.86s/it]"
     ]
    },
    {
     "name": "stdout",
     "output_type": "stream",
     "text": [
      "下載 /itri/Taiwan Water Local/Hsinchu City/KST0000002/IMG/2025-02-21/2025-02-21T131037_1d.png 至 dataset\\2025-02-21\\0\\KST0000002\\2025-02-21T131037_1d.png\n"
     ]
    },
    {
     "name": "stderr",
     "output_type": "stream",
     "text": [
      " 58%|█████▊    | 26/45 [00:46<00:35,  1.86s/it]"
     ]
    },
    {
     "name": "stdout",
     "output_type": "stream",
     "text": [
      "下載 /itri/Taiwan Water Local/Hsinchu City/KST0000002/IMG/2025-02-21/2025-02-21T131037_3d.png 至 dataset\\2025-02-21\\0\\KST0000002\\2025-02-21T131037_3d.png\n"
     ]
    },
    {
     "name": "stderr",
     "output_type": "stream",
     "text": [
      " 60%|██████    | 27/45 [00:48<00:35,  1.95s/it]"
     ]
    },
    {
     "name": "stdout",
     "output_type": "stream",
     "text": [
      "serial_number: KST0000002\n",
      "wav_data: 2025-02-21T131041\n",
      "下載 /itri/Taiwan Water Local/Hsinchu City/KST0000002/WAV/2025-02-21/2025-02-21T131041.wav 至 dataset\\2025-02-21\\0\\KST0000002\\2025-02-21T131041.wav\n"
     ]
    },
    {
     "name": "stderr",
     "output_type": "stream",
     "text": [
      " 60%|██████    | 27/45 [00:48<00:35,  1.95s/it]"
     ]
    },
    {
     "name": "stdout",
     "output_type": "stream",
     "text": [
      "下載 /itri/Taiwan Water Local/Hsinchu City/KST0000002/IMG/2025-02-21/2025-02-21T131041_1d.png 至 dataset\\2025-02-21\\0\\KST0000002\\2025-02-21T131041_1d.png\n"
     ]
    },
    {
     "name": "stderr",
     "output_type": "stream",
     "text": [
      " 60%|██████    | 27/45 [00:48<00:35,  1.95s/it]"
     ]
    },
    {
     "name": "stdout",
     "output_type": "stream",
     "text": [
      "下載 /itri/Taiwan Water Local/Hsinchu City/KST0000002/IMG/2025-02-21/2025-02-21T131041_3d.png 至 dataset\\2025-02-21\\0\\KST0000002\\2025-02-21T131041_3d.png\n"
     ]
    },
    {
     "name": "stderr",
     "output_type": "stream",
     "text": [
      " 62%|██████▏   | 28/45 [00:50<00:32,  1.92s/it]"
     ]
    },
    {
     "name": "stdout",
     "output_type": "stream",
     "text": [
      "serial_number: KST0000002\n",
      "wav_data: 2025-02-21T131057\n",
      "下載 /itri/Taiwan Water Local/Hsinchu City/KST0000002/WAV/2025-02-21/2025-02-21T131057.wav 至 dataset\\2025-02-21\\0\\KST0000002\\2025-02-21T131057.wav\n"
     ]
    },
    {
     "name": "stderr",
     "output_type": "stream",
     "text": [
      " 62%|██████▏   | 28/45 [00:50<00:32,  1.92s/it]"
     ]
    },
    {
     "name": "stdout",
     "output_type": "stream",
     "text": [
      "下載 /itri/Taiwan Water Local/Hsinchu City/KST0000002/IMG/2025-02-21/2025-02-21T131057_1d.png 至 dataset\\2025-02-21\\0\\KST0000002\\2025-02-21T131057_1d.png\n"
     ]
    },
    {
     "name": "stderr",
     "output_type": "stream",
     "text": [
      " 62%|██████▏   | 28/45 [00:50<00:32,  1.92s/it]"
     ]
    },
    {
     "name": "stdout",
     "output_type": "stream",
     "text": [
      "下載 /itri/Taiwan Water Local/Hsinchu City/KST0000002/IMG/2025-02-21/2025-02-21T131057_3d.png 至 dataset\\2025-02-21\\0\\KST0000002\\2025-02-21T131057_3d.png\n"
     ]
    },
    {
     "name": "stderr",
     "output_type": "stream",
     "text": [
      " 64%|██████▍   | 29/45 [00:52<00:30,  1.93s/it]"
     ]
    },
    {
     "name": "stdout",
     "output_type": "stream",
     "text": [
      "serial_number: KST0000002\n",
      "wav_data: 2025-02-21T131101\n",
      "下載 /itri/Taiwan Water Local/Hsinchu City/KST0000002/WAV/2025-02-21/2025-02-21T131101.wav 至 dataset\\2025-02-21\\0\\KST0000002\\2025-02-21T131101.wav\n"
     ]
    },
    {
     "name": "stderr",
     "output_type": "stream",
     "text": [
      " 64%|██████▍   | 29/45 [00:52<00:30,  1.93s/it]"
     ]
    },
    {
     "name": "stdout",
     "output_type": "stream",
     "text": [
      "下載 /itri/Taiwan Water Local/Hsinchu City/KST0000002/IMG/2025-02-21/2025-02-21T131101_1d.png 至 dataset\\2025-02-21\\0\\KST0000002\\2025-02-21T131101_1d.png\n"
     ]
    },
    {
     "name": "stderr",
     "output_type": "stream",
     "text": [
      " 64%|██████▍   | 29/45 [00:52<00:30,  1.93s/it]"
     ]
    },
    {
     "name": "stdout",
     "output_type": "stream",
     "text": [
      "下載 /itri/Taiwan Water Local/Hsinchu City/KST0000002/IMG/2025-02-21/2025-02-21T131101_3d.png 至 dataset\\2025-02-21\\0\\KST0000002\\2025-02-21T131101_3d.png\n"
     ]
    },
    {
     "name": "stderr",
     "output_type": "stream",
     "text": [
      " 67%|██████▋   | 30/45 [00:53<00:28,  1.90s/it]"
     ]
    },
    {
     "name": "stdout",
     "output_type": "stream",
     "text": [
      "serial_number: KST0000002\n",
      "wav_data: 2025-02-21T131111\n",
      "下載 /itri/Taiwan Water Local/Hsinchu City/KST0000002/WAV/2025-02-21/2025-02-21T131111.wav 至 dataset\\2025-02-21\\0\\KST0000002\\2025-02-21T131111.wav\n"
     ]
    },
    {
     "name": "stderr",
     "output_type": "stream",
     "text": [
      " 67%|██████▋   | 30/45 [00:54<00:28,  1.90s/it]"
     ]
    },
    {
     "name": "stdout",
     "output_type": "stream",
     "text": [
      "下載 /itri/Taiwan Water Local/Hsinchu City/KST0000002/IMG/2025-02-21/2025-02-21T131111_1d.png 至 dataset\\2025-02-21\\0\\KST0000002\\2025-02-21T131111_1d.png\n"
     ]
    },
    {
     "name": "stderr",
     "output_type": "stream",
     "text": [
      " 67%|██████▋   | 30/45 [00:54<00:28,  1.90s/it]"
     ]
    },
    {
     "name": "stdout",
     "output_type": "stream",
     "text": [
      "下載 /itri/Taiwan Water Local/Hsinchu City/KST0000002/IMG/2025-02-21/2025-02-21T131111_3d.png 至 dataset\\2025-02-21\\0\\KST0000002\\2025-02-21T131111_3d.png\n"
     ]
    },
    {
     "name": "stderr",
     "output_type": "stream",
     "text": [
      " 69%|██████▉   | 31/45 [00:55<00:26,  1.90s/it]"
     ]
    },
    {
     "name": "stdout",
     "output_type": "stream",
     "text": [
      "serial_number: KST0000002\n",
      "wav_data: 2025-02-21T131115\n",
      "下載 /itri/Taiwan Water Local/Hsinchu City/KST0000002/WAV/2025-02-21/2025-02-21T131115.wav 至 dataset\\2025-02-21\\0\\KST0000002\\2025-02-21T131115.wav\n"
     ]
    },
    {
     "name": "stderr",
     "output_type": "stream",
     "text": [
      " 69%|██████▉   | 31/45 [00:56<00:26,  1.90s/it]"
     ]
    },
    {
     "name": "stdout",
     "output_type": "stream",
     "text": [
      "下載 /itri/Taiwan Water Local/Hsinchu City/KST0000002/IMG/2025-02-21/2025-02-21T131115_1d.png 至 dataset\\2025-02-21\\0\\KST0000002\\2025-02-21T131115_1d.png\n"
     ]
    },
    {
     "name": "stderr",
     "output_type": "stream",
     "text": [
      " 69%|██████▉   | 31/45 [00:56<00:26,  1.90s/it]"
     ]
    },
    {
     "name": "stdout",
     "output_type": "stream",
     "text": [
      "下載 /itri/Taiwan Water Local/Hsinchu City/KST0000002/IMG/2025-02-21/2025-02-21T131115_3d.png 至 dataset\\2025-02-21\\0\\KST0000002\\2025-02-21T131115_3d.png\n"
     ]
    },
    {
     "name": "stderr",
     "output_type": "stream",
     "text": [
      " 71%|███████   | 32/45 [00:57<00:23,  1.80s/it]"
     ]
    },
    {
     "name": "stdout",
     "output_type": "stream",
     "text": [
      "serial_number: KST0000002\n",
      "wav_data: 2025-02-21T131119\n",
      "下載 /itri/Taiwan Water Local/Hsinchu City/KST0000002/WAV/2025-02-21/2025-02-21T131119.wav 至 dataset\\2025-02-21\\0\\KST0000002\\2025-02-21T131119.wav\n"
     ]
    },
    {
     "name": "stderr",
     "output_type": "stream",
     "text": [
      " 71%|███████   | 32/45 [00:57<00:23,  1.80s/it]"
     ]
    },
    {
     "name": "stdout",
     "output_type": "stream",
     "text": [
      "下載 /itri/Taiwan Water Local/Hsinchu City/KST0000002/IMG/2025-02-21/2025-02-21T131119_1d.png 至 dataset\\2025-02-21\\0\\KST0000002\\2025-02-21T131119_1d.png\n"
     ]
    },
    {
     "name": "stderr",
     "output_type": "stream",
     "text": [
      " 71%|███████   | 32/45 [00:57<00:23,  1.80s/it]"
     ]
    },
    {
     "name": "stdout",
     "output_type": "stream",
     "text": [
      "下載 /itri/Taiwan Water Local/Hsinchu City/KST0000002/IMG/2025-02-21/2025-02-21T131119_3d.png 至 dataset\\2025-02-21\\0\\KST0000002\\2025-02-21T131119_3d.png\n"
     ]
    },
    {
     "name": "stderr",
     "output_type": "stream",
     "text": [
      " 73%|███████▎  | 33/45 [00:58<00:20,  1.71s/it]"
     ]
    },
    {
     "name": "stdout",
     "output_type": "stream",
     "text": [
      "serial_number: KST0000002\n",
      "wav_data: 2025-02-21T131123\n",
      "下載 /itri/Taiwan Water Local/Hsinchu City/KST0000002/WAV/2025-02-21/2025-02-21T131123.wav 至 dataset\\2025-02-21\\0\\KST0000002\\2025-02-21T131123.wav\n"
     ]
    },
    {
     "name": "stderr",
     "output_type": "stream",
     "text": [
      " 73%|███████▎  | 33/45 [00:59<00:20,  1.71s/it]"
     ]
    },
    {
     "name": "stdout",
     "output_type": "stream",
     "text": [
      "下載 /itri/Taiwan Water Local/Hsinchu City/KST0000002/IMG/2025-02-21/2025-02-21T131123_1d.png 至 dataset\\2025-02-21\\0\\KST0000002\\2025-02-21T131123_1d.png\n"
     ]
    },
    {
     "name": "stderr",
     "output_type": "stream",
     "text": [
      " 73%|███████▎  | 33/45 [00:59<00:20,  1.71s/it]"
     ]
    },
    {
     "name": "stdout",
     "output_type": "stream",
     "text": [
      "下載 /itri/Taiwan Water Local/Hsinchu City/KST0000002/IMG/2025-02-21/2025-02-21T131123_3d.png 至 dataset\\2025-02-21\\0\\KST0000002\\2025-02-21T131123_3d.png\n"
     ]
    },
    {
     "name": "stderr",
     "output_type": "stream",
     "text": [
      " 76%|███████▌  | 34/45 [01:00<00:18,  1.67s/it]"
     ]
    },
    {
     "name": "stdout",
     "output_type": "stream",
     "text": [
      "serial_number: KST0000002\n",
      "wav_data: 2025-02-21T131127\n",
      "下載 /itri/Taiwan Water Local/Hsinchu City/KST0000002/WAV/2025-02-21/2025-02-21T131127.wav 至 dataset\\2025-02-21\\0\\KST0000002\\2025-02-21T131127.wav\n"
     ]
    },
    {
     "name": "stderr",
     "output_type": "stream",
     "text": [
      " 76%|███████▌  | 34/45 [01:00<00:18,  1.67s/it]"
     ]
    },
    {
     "name": "stdout",
     "output_type": "stream",
     "text": [
      "下載 /itri/Taiwan Water Local/Hsinchu City/KST0000002/IMG/2025-02-21/2025-02-21T131127_1d.png 至 dataset\\2025-02-21\\0\\KST0000002\\2025-02-21T131127_1d.png\n"
     ]
    },
    {
     "name": "stderr",
     "output_type": "stream",
     "text": [
      " 76%|███████▌  | 34/45 [01:00<00:18,  1.67s/it]"
     ]
    },
    {
     "name": "stdout",
     "output_type": "stream",
     "text": [
      "下載 /itri/Taiwan Water Local/Hsinchu City/KST0000002/IMG/2025-02-21/2025-02-21T131127_3d.png 至 dataset\\2025-02-21\\0\\KST0000002\\2025-02-21T131127_3d.png\n"
     ]
    },
    {
     "name": "stderr",
     "output_type": "stream",
     "text": [
      " 78%|███████▊  | 35/45 [01:02<00:17,  1.78s/it]"
     ]
    },
    {
     "name": "stdout",
     "output_type": "stream",
     "text": [
      "serial_number: KST0000002\n",
      "wav_data: 2025-02-21T131143\n",
      "下載 /itri/Taiwan Water Local/Hsinchu City/KST0000002/WAV/2025-02-21/2025-02-21T131143.wav 至 dataset\\2025-02-21\\0\\KST0000002\\2025-02-21T131143.wav\n"
     ]
    },
    {
     "name": "stderr",
     "output_type": "stream",
     "text": [
      " 78%|███████▊  | 35/45 [01:02<00:17,  1.78s/it]"
     ]
    },
    {
     "name": "stdout",
     "output_type": "stream",
     "text": [
      "下載 /itri/Taiwan Water Local/Hsinchu City/KST0000002/IMG/2025-02-21/2025-02-21T131143_1d.png 至 dataset\\2025-02-21\\0\\KST0000002\\2025-02-21T131143_1d.png\n"
     ]
    },
    {
     "name": "stderr",
     "output_type": "stream",
     "text": [
      " 78%|███████▊  | 35/45 [01:02<00:17,  1.78s/it]"
     ]
    },
    {
     "name": "stdout",
     "output_type": "stream",
     "text": [
      "下載 /itri/Taiwan Water Local/Hsinchu City/KST0000002/IMG/2025-02-21/2025-02-21T131143_3d.png 至 dataset\\2025-02-21\\0\\KST0000002\\2025-02-21T131143_3d.png\n"
     ]
    },
    {
     "name": "stderr",
     "output_type": "stream",
     "text": [
      " 80%|████████  | 36/45 [01:04<00:17,  1.94s/it]"
     ]
    },
    {
     "name": "stdout",
     "output_type": "stream",
     "text": [
      "serial_number: KST0000002\n",
      "wav_data: 2025-02-21T131209\n",
      "下載 /itri/Taiwan Water Local/Hsinchu City/KST0000002/WAV/2025-02-21/2025-02-21T131209.wav 至 dataset\\2025-02-21\\0\\KST0000002\\2025-02-21T131209.wav\n"
     ]
    },
    {
     "name": "stderr",
     "output_type": "stream",
     "text": [
      " 80%|████████  | 36/45 [01:05<00:17,  1.94s/it]"
     ]
    },
    {
     "name": "stdout",
     "output_type": "stream",
     "text": [
      "下載 /itri/Taiwan Water Local/Hsinchu City/KST0000002/IMG/2025-02-21/2025-02-21T131209_1d.png 至 dataset\\2025-02-21\\0\\KST0000002\\2025-02-21T131209_1d.png\n"
     ]
    },
    {
     "name": "stderr",
     "output_type": "stream",
     "text": [
      " 80%|████████  | 36/45 [01:05<00:17,  1.94s/it]"
     ]
    },
    {
     "name": "stdout",
     "output_type": "stream",
     "text": [
      "下載 /itri/Taiwan Water Local/Hsinchu City/KST0000002/IMG/2025-02-21/2025-02-21T131209_3d.png 至 dataset\\2025-02-21\\0\\KST0000002\\2025-02-21T131209_3d.png\n"
     ]
    },
    {
     "name": "stderr",
     "output_type": "stream",
     "text": [
      " 82%|████████▏ | 37/45 [01:07<00:16,  2.09s/it]"
     ]
    },
    {
     "name": "stdout",
     "output_type": "stream",
     "text": [
      "serial_number: KST0000002\n",
      "wav_data: 2025-02-21T131217\n",
      "下載 /itri/Taiwan Water Local/Hsinchu City/KST0000002/WAV/2025-02-21/2025-02-21T131217.wav 至 dataset\\2025-02-21\\0\\KST0000002\\2025-02-21T131217.wav\n"
     ]
    },
    {
     "name": "stderr",
     "output_type": "stream",
     "text": [
      " 82%|████████▏ | 37/45 [01:07<00:16,  2.09s/it]"
     ]
    },
    {
     "name": "stdout",
     "output_type": "stream",
     "text": [
      "下載 /itri/Taiwan Water Local/Hsinchu City/KST0000002/IMG/2025-02-21/2025-02-21T131217_1d.png 至 dataset\\2025-02-21\\0\\KST0000002\\2025-02-21T131217_1d.png\n"
     ]
    },
    {
     "name": "stderr",
     "output_type": "stream",
     "text": [
      " 82%|████████▏ | 37/45 [01:07<00:16,  2.09s/it]"
     ]
    },
    {
     "name": "stdout",
     "output_type": "stream",
     "text": [
      "下載 /itri/Taiwan Water Local/Hsinchu City/KST0000002/IMG/2025-02-21/2025-02-21T131217_3d.png 至 dataset\\2025-02-21\\0\\KST0000002\\2025-02-21T131217_3d.png\n"
     ]
    },
    {
     "name": "stderr",
     "output_type": "stream",
     "text": [
      " 84%|████████▍ | 38/45 [01:09<00:15,  2.17s/it]"
     ]
    },
    {
     "name": "stdout",
     "output_type": "stream",
     "text": [
      "serial_number: KST0000002\n",
      "wav_data: 2025-02-21T131237\n",
      "下載 /itri/Taiwan Water Local/Hsinchu City/KST0000002/WAV/2025-02-21/2025-02-21T131237.wav 至 dataset\\2025-02-21\\0\\KST0000002\\2025-02-21T131237.wav\n"
     ]
    },
    {
     "name": "stderr",
     "output_type": "stream",
     "text": [
      " 84%|████████▍ | 38/45 [01:09<00:15,  2.17s/it]"
     ]
    },
    {
     "name": "stdout",
     "output_type": "stream",
     "text": [
      "下載 /itri/Taiwan Water Local/Hsinchu City/KST0000002/IMG/2025-02-21/2025-02-21T131237_1d.png 至 dataset\\2025-02-21\\0\\KST0000002\\2025-02-21T131237_1d.png\n"
     ]
    },
    {
     "name": "stderr",
     "output_type": "stream",
     "text": [
      " 84%|████████▍ | 38/45 [01:10<00:15,  2.17s/it]"
     ]
    },
    {
     "name": "stdout",
     "output_type": "stream",
     "text": [
      "下載 /itri/Taiwan Water Local/Hsinchu City/KST0000002/IMG/2025-02-21/2025-02-21T131237_3d.png 至 dataset\\2025-02-21\\0\\KST0000002\\2025-02-21T131237_3d.png\n"
     ]
    },
    {
     "name": "stderr",
     "output_type": "stream",
     "text": [
      " 87%|████████▋ | 39/45 [01:11<00:12,  2.08s/it]"
     ]
    },
    {
     "name": "stdout",
     "output_type": "stream",
     "text": [
      "serial_number: KST0000002\n",
      "wav_data: 2025-02-21T131332\n",
      "下載 /itri/Taiwan Water Local/Hsinchu City/KST0000002/WAV/2025-02-21/2025-02-21T131332.wav 至 dataset\\2025-02-21\\0\\KST0000002\\2025-02-21T131332.wav\n"
     ]
    },
    {
     "name": "stderr",
     "output_type": "stream",
     "text": [
      " 87%|████████▋ | 39/45 [01:11<00:12,  2.08s/it]"
     ]
    },
    {
     "name": "stdout",
     "output_type": "stream",
     "text": [
      "下載 /itri/Taiwan Water Local/Hsinchu City/KST0000002/IMG/2025-02-21/2025-02-21T131332_1d.png 至 dataset\\2025-02-21\\0\\KST0000002\\2025-02-21T131332_1d.png\n"
     ]
    },
    {
     "name": "stderr",
     "output_type": "stream",
     "text": [
      " 87%|████████▋ | 39/45 [01:11<00:12,  2.08s/it]"
     ]
    },
    {
     "name": "stdout",
     "output_type": "stream",
     "text": [
      "下載 /itri/Taiwan Water Local/Hsinchu City/KST0000002/IMG/2025-02-21/2025-02-21T131332_3d.png 至 dataset\\2025-02-21\\0\\KST0000002\\2025-02-21T131332_3d.png\n"
     ]
    },
    {
     "name": "stderr",
     "output_type": "stream",
     "text": [
      " 89%|████████▉ | 40/45 [01:13<00:10,  2.04s/it]"
     ]
    },
    {
     "name": "stdout",
     "output_type": "stream",
     "text": [
      "serial_number: KST0000002\n",
      "wav_data: 2025-02-21T131423\n",
      "下載 /itri/Taiwan Water Local/Hsinchu City/KST0000002/WAV/2025-02-21/2025-02-21T131423.wav 至 dataset\\2025-02-21\\0\\KST0000002\\2025-02-21T131423.wav\n"
     ]
    },
    {
     "name": "stderr",
     "output_type": "stream",
     "text": [
      " 89%|████████▉ | 40/45 [01:13<00:10,  2.04s/it]"
     ]
    },
    {
     "name": "stdout",
     "output_type": "stream",
     "text": [
      "下載 /itri/Taiwan Water Local/Hsinchu City/KST0000002/IMG/2025-02-21/2025-02-21T131423_1d.png 至 dataset\\2025-02-21\\0\\KST0000002\\2025-02-21T131423_1d.png\n"
     ]
    },
    {
     "name": "stderr",
     "output_type": "stream",
     "text": [
      " 89%|████████▉ | 40/45 [01:13<00:10,  2.04s/it]"
     ]
    },
    {
     "name": "stdout",
     "output_type": "stream",
     "text": [
      "下載 /itri/Taiwan Water Local/Hsinchu City/KST0000002/IMG/2025-02-21/2025-02-21T131423_3d.png 至 dataset\\2025-02-21\\0\\KST0000002\\2025-02-21T131423_3d.png\n"
     ]
    },
    {
     "name": "stderr",
     "output_type": "stream",
     "text": [
      " 91%|█████████ | 41/45 [01:15<00:08,  2.08s/it]"
     ]
    },
    {
     "name": "stdout",
     "output_type": "stream",
     "text": [
      "serial_number: KST0000002\n",
      "wav_data: 2025-02-21T131440\n",
      "下載 /itri/Taiwan Water Local/Hsinchu City/KST0000002/WAV/2025-02-21/2025-02-21T131440.wav 至 dataset\\2025-02-21\\0\\KST0000002\\2025-02-21T131440.wav\n"
     ]
    },
    {
     "name": "stderr",
     "output_type": "stream",
     "text": [
      " 91%|█████████ | 41/45 [01:15<00:08,  2.08s/it]"
     ]
    },
    {
     "name": "stdout",
     "output_type": "stream",
     "text": [
      "下載 /itri/Taiwan Water Local/Hsinchu City/KST0000002/IMG/2025-02-21/2025-02-21T131440_1d.png 至 dataset\\2025-02-21\\0\\KST0000002\\2025-02-21T131440_1d.png\n"
     ]
    },
    {
     "name": "stderr",
     "output_type": "stream",
     "text": [
      " 91%|█████████ | 41/45 [01:16<00:08,  2.08s/it]"
     ]
    },
    {
     "name": "stdout",
     "output_type": "stream",
     "text": [
      "下載 /itri/Taiwan Water Local/Hsinchu City/KST0000002/IMG/2025-02-21/2025-02-21T131440_3d.png 至 dataset\\2025-02-21\\0\\KST0000002\\2025-02-21T131440_3d.png\n"
     ]
    },
    {
     "name": "stderr",
     "output_type": "stream",
     "text": [
      " 93%|█████████▎| 42/45 [01:18<00:07,  2.34s/it]"
     ]
    },
    {
     "name": "stdout",
     "output_type": "stream",
     "text": [
      "serial_number: KST0000002\n",
      "wav_data: 2025-02-21T131443\n",
      "下載 /itri/Taiwan Water Local/Hsinchu City/KST0000002/WAV/2025-02-21/2025-02-21T131443.wav 至 dataset\\2025-02-21\\0\\KST0000002\\2025-02-21T131443.wav\n"
     ]
    },
    {
     "name": "stderr",
     "output_type": "stream",
     "text": [
      " 93%|█████████▎| 42/45 [01:18<00:07,  2.34s/it]"
     ]
    },
    {
     "name": "stdout",
     "output_type": "stream",
     "text": [
      "下載 /itri/Taiwan Water Local/Hsinchu City/KST0000002/IMG/2025-02-21/2025-02-21T131443_1d.png 至 dataset\\2025-02-21\\0\\KST0000002\\2025-02-21T131443_1d.png\n"
     ]
    },
    {
     "name": "stderr",
     "output_type": "stream",
     "text": [
      " 93%|█████████▎| 42/45 [01:19<00:07,  2.34s/it]"
     ]
    },
    {
     "name": "stdout",
     "output_type": "stream",
     "text": [
      "下載 /itri/Taiwan Water Local/Hsinchu City/KST0000002/IMG/2025-02-21/2025-02-21T131443_3d.png 至 dataset\\2025-02-21\\0\\KST0000002\\2025-02-21T131443_3d.png\n"
     ]
    },
    {
     "name": "stderr",
     "output_type": "stream",
     "text": [
      " 96%|█████████▌| 43/45 [01:22<00:05,  2.72s/it]"
     ]
    },
    {
     "name": "stdout",
     "output_type": "stream",
     "text": [
      "serial_number: KST0000002\n",
      "wav_data: 2025-02-21T131456\n",
      "下載 /itri/Taiwan Water Local/Hsinchu City/KST0000002/WAV/2025-02-21/2025-02-21T131456.wav 至 dataset\\2025-02-21\\0\\KST0000002\\2025-02-21T131456.wav\n"
     ]
    },
    {
     "name": "stderr",
     "output_type": "stream",
     "text": [
      " 96%|█████████▌| 43/45 [01:22<00:05,  2.72s/it]"
     ]
    },
    {
     "name": "stdout",
     "output_type": "stream",
     "text": [
      "下載 /itri/Taiwan Water Local/Hsinchu City/KST0000002/IMG/2025-02-21/2025-02-21T131456_1d.png 至 dataset\\2025-02-21\\0\\KST0000002\\2025-02-21T131456_1d.png\n"
     ]
    },
    {
     "name": "stderr",
     "output_type": "stream",
     "text": [
      " 96%|█████████▌| 43/45 [01:22<00:05,  2.72s/it]"
     ]
    },
    {
     "name": "stdout",
     "output_type": "stream",
     "text": [
      "下載 /itri/Taiwan Water Local/Hsinchu City/KST0000002/IMG/2025-02-21/2025-02-21T131456_3d.png 至 dataset\\2025-02-21\\0\\KST0000002\\2025-02-21T131456_3d.png\n"
     ]
    },
    {
     "name": "stderr",
     "output_type": "stream",
     "text": [
      " 98%|█████████▊| 44/45 [01:24<00:02,  2.75s/it]"
     ]
    },
    {
     "name": "stdout",
     "output_type": "stream",
     "text": [
      "serial_number: KST0000002\n",
      "wav_data: 2025-02-21T131503\n",
      "下載 /itri/Taiwan Water Local/Hsinchu City/KST0000002/WAV/2025-02-21/2025-02-21T131503.wav 至 dataset\\2025-02-21\\0\\KST0000002\\2025-02-21T131503.wav\n"
     ]
    },
    {
     "name": "stderr",
     "output_type": "stream",
     "text": [
      " 98%|█████████▊| 44/45 [01:25<00:02,  2.75s/it]"
     ]
    },
    {
     "name": "stdout",
     "output_type": "stream",
     "text": [
      "下載 /itri/Taiwan Water Local/Hsinchu City/KST0000002/IMG/2025-02-21/2025-02-21T131503_1d.png 至 dataset\\2025-02-21\\0\\KST0000002\\2025-02-21T131503_1d.png\n"
     ]
    },
    {
     "name": "stderr",
     "output_type": "stream",
     "text": [
      " 98%|█████████▊| 44/45 [01:25<00:02,  2.75s/it]"
     ]
    },
    {
     "name": "stdout",
     "output_type": "stream",
     "text": [
      "下載 /itri/Taiwan Water Local/Hsinchu City/KST0000002/IMG/2025-02-21/2025-02-21T131503_3d.png 至 dataset\\2025-02-21\\0\\KST0000002\\2025-02-21T131503_3d.png\n"
     ]
    },
    {
     "name": "stderr",
     "output_type": "stream",
     "text": [
      "100%|██████████| 45/45 [01:27<00:00,  1.94s/it]\n"
     ]
    }
   ],
   "execution_count": 5
  },
  {
   "metadata": {
    "ExecuteTime": {
     "end_time": "2025-02-26T09:16:16.175626Z",
     "start_time": "2025-02-26T09:16:16.162623Z"
    }
   },
   "cell_type": "code",
   "source": "",
   "id": "aae5d1bb21d73cb0",
   "outputs": [],
   "execution_count": null
  }
 ],
 "metadata": {
  "kernelspec": {
   "display_name": "Python 3",
   "language": "python",
   "name": "python3"
  },
  "language_info": {
   "codemirror_mode": {
    "name": "ipython",
    "version": 2
   },
   "file_extension": ".py",
   "mimetype": "text/x-python",
   "name": "python",
   "nbconvert_exporter": "python",
   "pygments_lexer": "ipython2",
   "version": "2.7.6"
  }
 },
 "nbformat": 4,
 "nbformat_minor": 5
}
