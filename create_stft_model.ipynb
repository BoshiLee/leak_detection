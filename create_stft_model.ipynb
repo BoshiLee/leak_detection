{
 "cells": [
  {
   "metadata": {
    "ExecuteTime": {
     "end_time": "2024-11-12T08:13:11.958793Z",
     "start_time": "2024-11-12T08:13:09.260166Z"
    }
   },
   "cell_type": "code",
   "source": [
    "from datetime import datetime\n",
    "\n",
    "import librosa.display\n",
    "import os\n",
    "import librosa\n",
    "import numpy as np\n",
    "from sklearn.model_selection import train_test_split\n",
    "import random\n"
   ],
   "id": "c9272ced716478d7",
   "outputs": [],
   "execution_count": 1
  },
  {
   "metadata": {},
   "cell_type": "markdown",
   "source": "# 1. 資料加載與標記",
   "id": "a6fb182aae4eb89"
  },
  {
   "cell_type": "code",
   "id": "initial_id",
   "metadata": {
    "collapsed": true,
    "ExecuteTime": {
     "end_time": "2024-11-12T08:13:11.974290Z",
     "start_time": "2024-11-12T08:13:11.961813Z"
    }
   },
   "source": [
    "def load_segmented_files(directory, target_sr=4800):\n",
    "    wav_files = []\n",
    "    leak_wav_files = []\n",
    "    print(f\"共有 {len(os.listdir(directory))} 個資料夾\")\n",
    "    for dir in os.listdir(directory):\n",
    "        if not os.path.isdir(os.path.join(directory, dir)):\n",
    "            continue\n",
    "        print(f\"正在處理 {dir} 資料夾，共有 {len(os.listdir(os.path.join(directory, dir)))} 個檔案\")\n",
    "        for file in tqdm(os.listdir(os.path.join(directory, dir))):\n",
    "            if not file.endswith(\".wav\"):\n",
    "                continue\n",
    "            file_path = os.path.join(directory, dir, file)\n",
    "            y, sr = librosa.load(file_path, sr=None, mono=True)\n",
    "            if sr != target_sr:\n",
    "                    y = librosa.resample(y, orig_sr=sr, target_sr=target_sr)\n",
    "            filename = f'{dir}_{file}'\n",
    "            # y_filt = bandpass_filter(y, sr=target_sr, lowcut=10, highcut=1500)\n",
    "            if 'Leak' in dir:\n",
    "                leak_wav_files.append((y, target_sr, filename))\n",
    "            else:\n",
    "                wav_files.append((y, target_sr, filename))\n",
    "    print(f\"共有 {len(wav_files) + len(leak_wav_files)} 個 wav 檔案，其中 {len(leak_wav_files)} 個有泄漏，{len(wav_files)} 個沒有泄漏\")\n",
    "    return wav_files, leak_wav_files \n",
    "\n",
    "\n",
    "\n",
    "# 比較數量，均衡資料\n",
    "def balance_shuffle_data(wav_files, leak_wav_files):\n",
    "    min_count = min(len(wav_files), len(leak_wav_files))\n",
    "    wav_files = random.sample(wav_files, min_count)\n",
    "    leak_wav_files = random.sample(leak_wav_files, min_count)\n",
    "    \n",
    "    print(f\"均衡後的樣本數: {min_count}\")\n",
    "    return wav_files, leak_wav_files\n",
    "\n",
    "\n",
    "def create_dataset(directory):\n",
    "    wav_files, leak_wav_files = load_segmented_files(directory)\n",
    "    wav_files, leak_wav_files = balance_shuffle_data(wav_files, leak_wav_files)\n",
    "    \n",
    "    # 將資料轉為 NumPy 格式\n",
    "    X = []\n",
    "    y = []\n",
    "    \n",
    "    for audio, sr, filename in wav_files:\n",
    "        X.append((audio, sr))\n",
    "        y.append(0)  # wav_files 標記為 0\n",
    "    \n",
    "    for audio, sr, filename in leak_wav_files:\n",
    "        X.append((audio, sr))\n",
    "        y.append(1)  # leak_wav_files 標記為 1\n",
    "    \n",
    "    return np.array(X, dtype=object), np.array(y)\n"
   ],
   "outputs": [],
   "execution_count": 2
  },
  {
   "metadata": {},
   "cell_type": "markdown",
   "source": "# 2. 特徵提取與資料預處理",
   "id": "b7788a5b8d4c0b5d"
  },
  {
   "metadata": {
    "ExecuteTime": {
     "end_time": "2024-11-12T08:13:18.636424Z",
     "start_time": "2024-11-12T08:13:12.055009Z"
    }
   },
   "cell_type": "code",
   "source": [
    "from tqdm import tqdm\n",
    "from data_preprocess import extract_features, extract_stft_features\n",
    "\n",
    "def preprocess_data(X, desired_time=2.0, n_fft=2048, hop_length=512):\n",
    "    features = []\n",
    "    for audio, sr in tqdm(X):\n",
    "        feature = extract_stft_features(audio, sr, desired_time=desired_time, n_fft=n_fft, hop_length=hop_length)\n",
    "        # feature = extract_features(audio, sr, desired_time=desired_time, n_mels=n_mels, n_fft=n_fft, hop_length=hop_length)\n",
    "        features.append(feature)\n",
    "    return np.array(features)\n"
   ],
   "id": "5cb187713d43dd39",
   "outputs": [],
   "execution_count": 3
  },
  {
   "metadata": {
    "ExecuteTime": {
     "end_time": "2024-11-12T08:13:18.667650Z",
     "start_time": "2024-11-12T08:13:18.653072Z"
    }
   },
   "cell_type": "code",
   "source": [
    "def create_training_data(X,y, desired_time=2.0, n_fft=2048, hop_length=512):\n",
    "    \n",
    "    print(f\"總樣本數: {len(X)}\")\n",
    "    print(f\"標籤分佈: {np.bincount(y)}\")\n",
    "    \n",
    "    \n",
    "    X_features = preprocess_data(X, desired_time=desired_time, n_fft=n_fft, hop_length=hop_length)\n",
    "    \n",
    "    print(f\"特徵形狀: {X_features.shape}\")  # 預期形狀: (樣本數, max_len, n_mels)\n",
    "    \n",
    "    # 正規化特徵\n",
    "    X_features = (X_features - np.mean(X_features)) / np.std(X_features)\n",
    "    \n",
    "    # 擴展維度以符合 CNN 輸入 (樣本數, 高, 寬, 通道)\n",
    "    X_features = np.expand_dims(X_features, -1)  # 新形狀: (樣本數, max_len, n_mels, 1)\n",
    "    \n",
    "    # 分割訓練集與測試集\n",
    "    X_train, X_test, y_train, y_test = train_test_split(X_features, y, test_size=0.2)\n",
    "    \n",
    "    print(f\"訓練集形狀: {X_train.shape}\")\n",
    "    print(f\"測試集形狀: {X_test.shape}\")\n",
    "    \n",
    "    return X_train, X_test, y_train, y_test"
   ],
   "id": "52f0af5743941c11",
   "outputs": [],
   "execution_count": 4
  },
  {
   "metadata": {
    "ExecuteTime": {
     "end_time": "2024-11-12T08:18:40.650393Z",
     "start_time": "2024-11-12T08:13:30.332599Z"
    }
   },
   "cell_type": "code",
   "source": "X, y = create_dataset('raw_train')",
   "id": "825424b5a3c3bd79",
   "outputs": [
    {
     "name": "stdout",
     "output_type": "stream",
     "text": [
      "共有 5 個資料夾\n",
      "正在處理 CurrentSound 資料夾，共有 2429 個檔案\n"
     ]
    },
    {
     "name": "stderr",
     "output_type": "stream",
     "text": [
      "100%|██████████| 2429/2429 [01:37<00:00, 24.94it/s]\n"
     ]
    },
    {
     "name": "stdout",
     "output_type": "stream",
     "text": [
      "正在處理 Environment 資料夾，共有 588 個檔案\n"
     ]
    },
    {
     "name": "stderr",
     "output_type": "stream",
     "text": [
      "100%|██████████| 588/588 [00:31<00:00, 18.43it/s]\n"
     ]
    },
    {
     "name": "stdout",
     "output_type": "stream",
     "text": [
      "正在處理 GAS 資料夾，共有 99 個檔案\n"
     ]
    },
    {
     "name": "stderr",
     "output_type": "stream",
     "text": [
      "100%|██████████| 99/99 [00:08<00:00, 11.89it/s]\n"
     ]
    },
    {
     "name": "stdout",
     "output_type": "stream",
     "text": [
      "正在處理 Leak 資料夾，共有 3629 個檔案\n"
     ]
    },
    {
     "name": "stderr",
     "output_type": "stream",
     "text": [
      "100%|██████████| 3629/3629 [02:45<00:00, 21.88it/s]\n"
     ]
    },
    {
     "name": "stdout",
     "output_type": "stream",
     "text": [
      "正在處理 TrafficSound 資料夾，共有 129 個檔案\n"
     ]
    },
    {
     "name": "stderr",
     "output_type": "stream",
     "text": [
      "100%|██████████| 129/129 [00:06<00:00, 18.96it/s]"
     ]
    },
    {
     "name": "stdout",
     "output_type": "stream",
     "text": [
      "共有 6874 個 wav 檔案，其中 3629 個有泄漏，3245 個沒有泄漏\n",
      "均衡後的樣本數: 3245\n"
     ]
    },
    {
     "name": "stderr",
     "output_type": "stream",
     "text": [
      "\n"
     ]
    }
   ],
   "execution_count": 6
  },
  {
   "metadata": {
    "ExecuteTime": {
     "end_time": "2024-11-12T08:22:31.344429Z",
     "start_time": "2024-11-12T08:22:18.953374Z"
    }
   },
   "cell_type": "code",
   "source": "X_train, X_test, y_train, y_test = create_training_data(X, y, desired_time=2.0, n_fft=512, hop_length=64)",
   "id": "bd7b7beb007bb659",
   "outputs": [
    {
     "name": "stdout",
     "output_type": "stream",
     "text": [
      "總樣本數: 6490\n",
      "標籤分佈: [3245 3245]\n"
     ]
    },
    {
     "name": "stderr",
     "output_type": "stream",
     "text": [
      "100%|██████████| 6490/6490 [00:08<00:00, 730.55it/s] \n"
     ]
    },
    {
     "name": "stdout",
     "output_type": "stream",
     "text": [
      "特徵形狀: (6490, 152, 257)\n",
      "訓練集形狀: (5192, 152, 257, 1)\n",
      "測試集形狀: (1298, 152, 257, 1)\n"
     ]
    }
   ],
   "execution_count": 12
  },
  {
   "metadata": {},
   "cell_type": "markdown",
   "source": "# 3. 建立 CNN 模型",
   "id": "55e34253937c671f"
  },
  {
   "metadata": {
    "ExecuteTime": {
     "end_time": "2024-11-12T08:22:04.987001Z",
     "start_time": "2024-11-12T08:22:04.965627Z"
    }
   },
   "cell_type": "code",
   "source": [
    "from keras.layers import BatchNormalization\n",
    "import tensorflow as tf\n",
    "from tensorflow.keras.models import Sequential\n",
    "from tensorflow.keras.layers import Conv2D, MaxPooling2D, Flatten, Dense, Dropout\n",
    "\n",
    "def create_cnn_model(input_shape):\n",
    "    \n",
    "    optimizer = tf.keras.optimizers.Adam(learning_rate=0.001)\n",
    "    \n",
    "    input_img = tf.keras.layers.Input(shape=input_shape)\n",
    " \n",
    "    x = Conv2D(32, (3, 3), activation='relu', padding='same')(input_img)\n",
    "    x = MaxPooling2D((2, 2), padding='same')(x)\n",
    "    x = Dropout(0.2)(x)\n",
    "    \n",
    "    x = Conv2D(32, (3, 3), activation='relu', padding='same')(x)\n",
    "    x = MaxPooling2D((2, 2), padding='same')(x)\n",
    "    x = Dropout(0.2)(x)\n",
    "    \n",
    "    x = Conv2D(64, (3, 3), activation='relu', padding='same')(x)\n",
    "    x = MaxPooling2D((2, 2), padding='same')(x)\n",
    "    x = Dropout(0.2)(x)\n",
    "    \n",
    "    x = Conv2D(128, (3, 3), activation='relu', padding='same')(x)\n",
    "    x = MaxPooling2D((2, 2), padding='same')(x)\n",
    "    x = Dropout(0.2)(x)\n",
    "    \n",
    "    x = Conv2D(256, (3, 3), activation='relu', padding='same')(x)\n",
    "    x = MaxPooling2D((2, 2), padding='same')(x)\n",
    "    x = Dropout(0.2)(x)\n",
    "\n",
    "    x = Flatten()(x)\n",
    "    x = Dense(128, activation='relu')(x)\n",
    "    x = Dense(64, activation='relu')(x)\n",
    "    x = Dense(32, activation='relu')(x)\n",
    "    x = Dense(16, activation='relu')(x)\n",
    "    x = Dropout(0.1)(x)\n",
    "    x = Dense(1, activation='sigmoid')(x)\n",
    "    \n",
    "    model = tf.keras.Model(inputs=input_img, outputs=x)\n",
    "    model.compile(optimizer=optimizer, loss='binary_crossentropy', metrics=['accuracy'])\n",
    "\n",
    "    return model\n"
   ],
   "id": "e5d13120a6048b8e",
   "outputs": [],
   "execution_count": 7
  },
  {
   "metadata": {
    "ExecuteTime": {
     "end_time": "2024-11-12T08:22:05.896631Z",
     "start_time": "2024-11-12T08:22:05.880185Z"
    }
   },
   "cell_type": "code",
   "source": [
    "def create_model(mockup_input):    \n",
    "    # 建立模型\n",
    "    input_shape = (mockup_input.shape[1], mockup_input.shape[2], 1)\n",
    "    print(f\"模型輸入形狀: {input_shape}\")\n",
    "    model = create_cnn_model(input_shape)\n",
    "    model.summary()\n",
    "    return model"
   ],
   "id": "a4ffc4a61f8a1c24",
   "outputs": [],
   "execution_count": 8
  },
  {
   "metadata": {},
   "cell_type": "markdown",
   "source": "# 4. 訓練模型",
   "id": "48f4e3f68035b7dc"
  },
  {
   "metadata": {
    "ExecuteTime": {
     "end_time": "2024-11-12T08:22:08.132851Z",
     "start_time": "2024-11-12T08:22:08.114835Z"
    }
   },
   "cell_type": "code",
   "source": [
    "from keras.callbacks import EarlyStopping, ReduceLROnPlateau\n",
    "\n",
    "\n",
    "def train_model(model, X_train, X_test, y_train, y_test, epochs=30, batch_size=32):\n",
    "        # 訓練模型\n",
    "        \n",
    "    early_stopping = EarlyStopping(monitor='val_loss', patience=15, restore_best_weights=True)\n",
    "    reduce_lr = ReduceLROnPlateau(monitor='val_loss', factor=0.1, patience=10, verbose=1)\n",
    "        \n",
    "    history = model.fit(   \n",
    "        X_train, y_train,\n",
    "        epochs=epochs,\n",
    "        batch_size=batch_size,\n",
    "        validation_data=(X_test, y_test),\n",
    "        shuffle=True,\n",
    "        callbacks=[early_stopping, reduce_lr],\n",
    "        verbose=2\n",
    "    )\n",
    "    \n",
    "    # 評估模型\n",
    "    test_loss, test_accuracy = model.evaluate(X_test, y_test)\n",
    "    print(f\"Test loss: {test_loss:.4f}\")\n",
    "    print(f\"Test accuracy: {test_accuracy:.2f}\")\n",
    "    \n",
    "    return model, history"
   ],
   "id": "2658a06f4a9db7e7",
   "outputs": [],
   "execution_count": 9
  },
  {
   "metadata": {
    "ExecuteTime": {
     "end_time": "2024-11-12T08:22:09.019779Z",
     "start_time": "2024-11-12T08:22:09.014795Z"
    }
   },
   "cell_type": "code",
   "source": [
    "def evaluate_model(model, X_test, y_test):\n",
    "    test_loss, test_accuracy = model.evaluate(X_test, y_test)\n",
    "    print(f\"Test loss: {test_loss:.4f}\")\n",
    "    print(f\"Test accuracy: {test_accuracy:.2f}\")"
   ],
   "id": "eb722b82e90ac3d",
   "outputs": [],
   "execution_count": 10
  },
  {
   "metadata": {
    "ExecuteTime": {
     "end_time": "2024-11-12T08:22:55.736669Z",
     "start_time": "2024-11-12T08:22:53.937829Z"
    }
   },
   "cell_type": "code",
   "source": "cnn_model = create_model(X_train)",
   "id": "496ecf15e0c42ddf",
   "outputs": [
    {
     "name": "stdout",
     "output_type": "stream",
     "text": [
      "模型輸入形狀: (152, 257, 1)\n",
      "Model: \"model\"\n",
      "_________________________________________________________________\n",
      " Layer (type)                Output Shape              Param #   \n",
      "=================================================================\n",
      " input_1 (InputLayer)        [(None, 152, 257, 1)]     0         \n",
      "                                                                 \n",
      " conv2d (Conv2D)             (None, 152, 257, 32)      320       \n",
      "                                                                 \n",
      " max_pooling2d (MaxPooling2D  (None, 76, 129, 32)      0         \n",
      " )                                                               \n",
      "                                                                 \n",
      " dropout (Dropout)           (None, 76, 129, 32)       0         \n",
      "                                                                 \n",
      " conv2d_1 (Conv2D)           (None, 76, 129, 32)       9248      \n",
      "                                                                 \n",
      " max_pooling2d_1 (MaxPooling  (None, 38, 65, 32)       0         \n",
      " 2D)                                                             \n",
      "                                                                 \n",
      " dropout_1 (Dropout)         (None, 38, 65, 32)        0         \n",
      "                                                                 \n",
      " conv2d_2 (Conv2D)           (None, 38, 65, 64)        18496     \n",
      "                                                                 \n",
      " max_pooling2d_2 (MaxPooling  (None, 19, 33, 64)       0         \n",
      " 2D)                                                             \n",
      "                                                                 \n",
      " dropout_2 (Dropout)         (None, 19, 33, 64)        0         \n",
      "                                                                 \n",
      " conv2d_3 (Conv2D)           (None, 19, 33, 128)       73856     \n",
      "                                                                 \n",
      " max_pooling2d_3 (MaxPooling  (None, 10, 17, 128)      0         \n",
      " 2D)                                                             \n",
      "                                                                 \n",
      " dropout_3 (Dropout)         (None, 10, 17, 128)       0         \n",
      "                                                                 \n",
      " conv2d_4 (Conv2D)           (None, 10, 17, 256)       295168    \n",
      "                                                                 \n",
      " max_pooling2d_4 (MaxPooling  (None, 5, 9, 256)        0         \n",
      " 2D)                                                             \n",
      "                                                                 \n",
      " dropout_4 (Dropout)         (None, 5, 9, 256)         0         \n",
      "                                                                 \n",
      " flatten (Flatten)           (None, 11520)             0         \n",
      "                                                                 \n",
      " dense (Dense)               (None, 128)               1474688   \n",
      "                                                                 \n",
      " dense_1 (Dense)             (None, 64)                8256      \n",
      "                                                                 \n",
      " dense_2 (Dense)             (None, 32)                2080      \n",
      "                                                                 \n",
      " dense_3 (Dense)             (None, 16)                528       \n",
      "                                                                 \n",
      " dropout_5 (Dropout)         (None, 16)                0         \n",
      "                                                                 \n",
      " dense_4 (Dense)             (None, 1)                 17        \n",
      "                                                                 \n",
      "=================================================================\n",
      "Total params: 1,882,657\n",
      "Trainable params: 1,882,657\n",
      "Non-trainable params: 0\n",
      "_________________________________________________________________\n"
     ]
    }
   ],
   "execution_count": 13
  },
  {
   "metadata": {
    "ExecuteTime": {
     "end_time": "2024-11-12T08:25:37.784182Z",
     "start_time": "2024-11-12T08:22:57.352600Z"
    }
   },
   "cell_type": "code",
   "source": "model, history = train_model(cnn_model, X_train, X_test, y_train, y_test, epochs=120)",
   "id": "4c22f7b3db3499d5",
   "outputs": [
    {
     "name": "stdout",
     "output_type": "stream",
     "text": [
      "Epoch 1/120\n",
      "163/163 - 10s - loss: 0.5322 - accuracy: 0.7477 - val_loss: 0.4626 - val_accuracy: 0.8089 - lr: 0.0010 - 10s/epoch - 64ms/step\n",
      "Epoch 2/120\n",
      "163/163 - 5s - loss: 0.4361 - accuracy: 0.8055 - val_loss: 0.4613 - val_accuracy: 0.8290 - lr: 0.0010 - 5s/epoch - 29ms/step\n",
      "Epoch 3/120\n",
      "163/163 - 5s - loss: 0.3934 - accuracy: 0.8205 - val_loss: 0.3650 - val_accuracy: 0.8490 - lr: 0.0010 - 5s/epoch - 29ms/step\n",
      "Epoch 4/120\n",
      "163/163 - 5s - loss: 0.3700 - accuracy: 0.8399 - val_loss: 0.3801 - val_accuracy: 0.8413 - lr: 0.0010 - 5s/epoch - 29ms/step\n",
      "Epoch 5/120\n",
      "163/163 - 5s - loss: 0.3390 - accuracy: 0.8453 - val_loss: 0.2969 - val_accuracy: 0.8821 - lr: 0.0010 - 5s/epoch - 30ms/step\n",
      "Epoch 6/120\n",
      "163/163 - 5s - loss: 0.3169 - accuracy: 0.8582 - val_loss: 0.3422 - val_accuracy: 0.8690 - lr: 0.0010 - 5s/epoch - 31ms/step\n",
      "Epoch 7/120\n",
      "163/163 - 5s - loss: 0.3042 - accuracy: 0.8679 - val_loss: 0.2712 - val_accuracy: 0.8906 - lr: 0.0010 - 5s/epoch - 29ms/step\n",
      "Epoch 8/120\n",
      "163/163 - 5s - loss: 0.3003 - accuracy: 0.8706 - val_loss: 0.3377 - val_accuracy: 0.8659 - lr: 0.0010 - 5s/epoch - 30ms/step\n",
      "Epoch 9/120\n",
      "163/163 - 5s - loss: 0.2748 - accuracy: 0.8854 - val_loss: 0.2811 - val_accuracy: 0.8883 - lr: 0.0010 - 5s/epoch - 30ms/step\n",
      "Epoch 10/120\n",
      "163/163 - 5s - loss: 0.2613 - accuracy: 0.8844 - val_loss: 0.2930 - val_accuracy: 0.8729 - lr: 0.0010 - 5s/epoch - 29ms/step\n",
      "Epoch 11/120\n",
      "163/163 - 5s - loss: 0.2463 - accuracy: 0.8931 - val_loss: 0.2715 - val_accuracy: 0.8906 - lr: 0.0010 - 5s/epoch - 29ms/step\n",
      "Epoch 12/120\n",
      "163/163 - 5s - loss: 0.2467 - accuracy: 0.8933 - val_loss: 0.2678 - val_accuracy: 0.8860 - lr: 0.0010 - 5s/epoch - 30ms/step\n",
      "Epoch 13/120\n",
      "163/163 - 5s - loss: 0.2359 - accuracy: 0.8933 - val_loss: 0.2709 - val_accuracy: 0.8975 - lr: 0.0010 - 5s/epoch - 29ms/step\n",
      "Epoch 14/120\n",
      "163/163 - 5s - loss: 0.2101 - accuracy: 0.9108 - val_loss: 0.2593 - val_accuracy: 0.8921 - lr: 0.0010 - 5s/epoch - 29ms/step\n",
      "Epoch 15/120\n",
      "163/163 - 5s - loss: 0.2072 - accuracy: 0.9112 - val_loss: 0.2461 - val_accuracy: 0.8975 - lr: 0.0010 - 5s/epoch - 29ms/step\n",
      "Epoch 16/120\n",
      "163/163 - 5s - loss: 0.1850 - accuracy: 0.9220 - val_loss: 0.3289 - val_accuracy: 0.8706 - lr: 0.0010 - 5s/epoch - 30ms/step\n",
      "Epoch 17/120\n",
      "163/163 - 5s - loss: 0.1981 - accuracy: 0.9193 - val_loss: 0.2343 - val_accuracy: 0.9060 - lr: 0.0010 - 5s/epoch - 29ms/step\n",
      "Epoch 18/120\n",
      "163/163 - 5s - loss: 0.1658 - accuracy: 0.9349 - val_loss: 0.2499 - val_accuracy: 0.9091 - lr: 0.0010 - 5s/epoch - 29ms/step\n",
      "Epoch 19/120\n",
      "163/163 - 5s - loss: 0.1633 - accuracy: 0.9309 - val_loss: 0.2445 - val_accuracy: 0.9137 - lr: 0.0010 - 5s/epoch - 29ms/step\n",
      "Epoch 20/120\n",
      "163/163 - 5s - loss: 0.1480 - accuracy: 0.9389 - val_loss: 0.2945 - val_accuracy: 0.8921 - lr: 0.0010 - 5s/epoch - 29ms/step\n",
      "Epoch 21/120\n",
      "163/163 - 5s - loss: 0.1477 - accuracy: 0.9391 - val_loss: 0.2610 - val_accuracy: 0.8952 - lr: 0.0010 - 5s/epoch - 29ms/step\n",
      "Epoch 22/120\n",
      "163/163 - 5s - loss: 0.1317 - accuracy: 0.9490 - val_loss: 0.2724 - val_accuracy: 0.9068 - lr: 0.0010 - 5s/epoch - 29ms/step\n",
      "Epoch 23/120\n",
      "163/163 - 5s - loss: 0.1347 - accuracy: 0.9461 - val_loss: 0.2856 - val_accuracy: 0.8898 - lr: 0.0010 - 5s/epoch - 29ms/step\n",
      "Epoch 24/120\n",
      "163/163 - 5s - loss: 0.1083 - accuracy: 0.9574 - val_loss: 0.2652 - val_accuracy: 0.9068 - lr: 0.0010 - 5s/epoch - 29ms/step\n",
      "Epoch 25/120\n",
      "163/163 - 5s - loss: 0.1269 - accuracy: 0.9482 - val_loss: 0.2431 - val_accuracy: 0.9214 - lr: 0.0010 - 5s/epoch - 29ms/step\n",
      "Epoch 26/120\n",
      "163/163 - 5s - loss: 0.1077 - accuracy: 0.9563 - val_loss: 0.3163 - val_accuracy: 0.8821 - lr: 0.0010 - 5s/epoch - 29ms/step\n",
      "Epoch 27/120\n",
      "\n",
      "Epoch 27: ReduceLROnPlateau reducing learning rate to 0.00010000000474974513.\n",
      "163/163 - 5s - loss: 0.1078 - accuracy: 0.9559 - val_loss: 0.2659 - val_accuracy: 0.9052 - lr: 0.0010 - 5s/epoch - 29ms/step\n",
      "Epoch 28/120\n",
      "163/163 - 5s - loss: 0.0734 - accuracy: 0.9707 - val_loss: 0.2579 - val_accuracy: 0.9230 - lr: 1.0000e-04 - 5s/epoch - 29ms/step\n",
      "Epoch 29/120\n",
      "163/163 - 5s - loss: 0.0554 - accuracy: 0.9777 - val_loss: 0.2739 - val_accuracy: 0.9291 - lr: 1.0000e-04 - 5s/epoch - 31ms/step\n",
      "Epoch 30/120\n",
      "163/163 - 5s - loss: 0.0496 - accuracy: 0.9782 - val_loss: 0.2969 - val_accuracy: 0.9183 - lr: 1.0000e-04 - 5s/epoch - 31ms/step\n",
      "Epoch 31/120\n",
      "163/163 - 5s - loss: 0.0463 - accuracy: 0.9815 - val_loss: 0.3039 - val_accuracy: 0.9222 - lr: 1.0000e-04 - 5s/epoch - 30ms/step\n",
      "Epoch 32/120\n",
      "163/163 - 5s - loss: 0.0417 - accuracy: 0.9834 - val_loss: 0.3124 - val_accuracy: 0.9230 - lr: 1.0000e-04 - 5s/epoch - 31ms/step\n",
      "41/41 [==============================] - 0s 10ms/step - loss: 0.2343 - accuracy: 0.9060\n",
      "Test loss: 0.2343\n",
      "Test accuracy: 0.91\n"
     ]
    }
   ],
   "execution_count": 14
  },
  {
   "metadata": {
    "ExecuteTime": {
     "end_time": "2024-11-12T08:25:46.996592Z",
     "start_time": "2024-11-12T08:25:46.119175Z"
    }
   },
   "cell_type": "code",
   "source": "evaluate_model(cnn_model, X_test, y_test)",
   "id": "34386cec81d6a2d4",
   "outputs": [
    {
     "name": "stdout",
     "output_type": "stream",
     "text": [
      "41/41 [==============================] - 1s 14ms/step - loss: 0.2343 - accuracy: 0.9060\n",
      "Test loss: 0.2343\n",
      "Test accuracy: 0.91\n"
     ]
    }
   ],
   "execution_count": 15
  },
  {
   "metadata": {
    "ExecuteTime": {
     "end_time": "2024-11-12T08:25:48.303440Z",
     "start_time": "2024-11-12T08:25:48.230087Z"
    }
   },
   "cell_type": "code",
   "source": [
    "date = datetime.now().strftime('%Y%m%d%H%M')\n",
    "val_acc = history.history['val_accuracy'][-1]\n",
    "model.save(f'model_mel_{date}_stft_acc_{val_acc:.2f}.h5')\n",
    "print(f\"Model saved as model_stft_{date}_acc_{val_acc:.2f}.h5\")"
   ],
   "id": "551ff463bcaf8093",
   "outputs": [
    {
     "name": "stdout",
     "output_type": "stream",
     "text": [
      "Model saved as model_stft_202411121625_acc_0.92.h5\n"
     ]
    }
   ],
   "execution_count": 16
  },
  {
   "metadata": {
    "ExecuteTime": {
     "end_time": "2024-11-12T08:25:53.371189Z",
     "start_time": "2024-11-12T08:25:52.961503Z"
    }
   },
   "cell_type": "code",
   "source": [
    "import matplotlib.pyplot as plt\n",
    "plt.plot(history.history['loss'])\n",
    "plt.plot(history.history['val_loss'])\n",
    "plt.title('Model loss')\n",
    "plt.ylabel('Loss')\n",
    "plt.xlabel('Epoch')\n",
    "plt.legend(['Train', 'Test'], loc='upper right')\n",
    "plt.savefig(f'model_stft_loss_{date}_acc_{val_acc:.2f}.png')\n",
    "plt.show()"
   ],
   "id": "70c5f696df14eef",
   "outputs": [
    {
     "data": {
      "text/plain": [
       "<Figure size 640x480 with 1 Axes>"
      ],
      "image/png": "[encoded data removed]"
     },
     "metadata": {},
     "output_type": "display_data"
    }
   ],
   "execution_count": 17
  },
  {
   "metadata": {
    "ExecuteTime": {
     "end_time": "2024-11-12T08:13:19.749486500Z",
     "start_time": "2024-11-07T05:31:28.208421Z"
    }
   },
   "cell_type": "code",
   "source": "",
   "id": "77144cb141ef9e4a",
   "outputs": [],
   "execution_count": null
  }
 ],
 "metadata": {
  "kernelspec": {
   "display_name": "Python 3",
   "language": "python",
   "name": "python3"
  },
  "language_info": {
   "codemirror_mode": {
    "name": "ipython",
    "version": 2
   },
   "file_extension": ".py",
   "mimetype": "text/x-python",
   "name": "python",
   "nbconvert_exporter": "python",
   "pygments_lexer": "ipython2",
   "version": "2.7.6"
  }
 },
 "nbformat": 4,
 "nbformat_minor": 5
}
