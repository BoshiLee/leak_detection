{
 "cells": [
  {
   "metadata": {
    "ExecuteTime": {
     "end_time": "2024-11-07T05:24:45.560543Z",
     "start_time": "2024-11-07T05:24:42.717052Z"
    }
   },
   "cell_type": "code",
   "source": [
    "from datetime import datetime\n",
    "\n",
    "import librosa.display\n",
    "import os\n",
    "import librosa\n",
    "import numpy as np\n",
    "from sklearn.model_selection import train_test_split\n",
    "import random\n"
   ],
   "id": "c9272ced716478d7",
   "outputs": [],
   "execution_count": 1
  },
  {
   "metadata": {},
   "cell_type": "markdown",
   "source": "# 1. 資料加載與標記",
   "id": "a6fb182aae4eb89"
  },
  {
   "cell_type": "code",
   "id": "initial_id",
   "metadata": {
    "collapsed": true,
    "ExecuteTime": {
     "end_time": "2024-11-07T05:24:45.575521Z",
     "start_time": "2024-11-07T05:24:45.564526Z"
    }
   },
   "source": [
    "def load_segmented_files(directory, target_sr=48000):\n",
    "    wav_files = []\n",
    "    leak_wav_files = []\n",
    "    for dir in os.listdir(directory):\n",
    "        if not os.path.isdir(os.path.join(directory, dir)):\n",
    "            continue\n",
    "        for file in os.listdir(os.path.join(directory, dir)):\n",
    "            if not file.endswith(\".wav\"):\n",
    "                continue\n",
    "            file_path = os.path.join(directory, dir, file)\n",
    "            y, sr = librosa.load(file_path, sr=None)\n",
    "            if sr != target_sr:\n",
    "                    y = librosa.resample(y, orig_sr=sr, target_sr=target_sr)\n",
    "            filename = f'{dir}_{file}'\n",
    "            if 'no-leak' in dir:\n",
    "                wav_files.append((y, target_sr, filename))\n",
    "            else:\n",
    "                leak_wav_files.append((y, target_sr, filename))\n",
    "    print(f\"共有 {len(wav_files) + len(leak_wav_files)} 個 wav 檔案，其中 {len(leak_wav_files)} 個有泄漏，{len(wav_files)} 個沒有泄漏\")\n",
    "    return wav_files, leak_wav_files \n",
    "\n",
    "\n",
    "# 比較數量，均衡資料\n",
    "def balance_shuffle_data(wav_files, leak_wav_files):\n",
    "    min_count = min(len(wav_files), len(leak_wav_files))\n",
    "    wav_files = random.sample(wav_files, min_count)\n",
    "    leak_wav_files = random.sample(leak_wav_files, min_count)\n",
    "    \n",
    "    print(f\"均衡後的樣本數: {min_count}\")\n",
    "    return wav_files, leak_wav_files\n",
    "\n",
    "\n",
    "def create_dataset(directory):\n",
    "    wav_files, leak_wav_files = load_segmented_files(directory)\n",
    "    wav_files, leak_wav_files = balance_shuffle_data(wav_files, leak_wav_files)\n",
    "    \n",
    "    # 將資料轉為 NumPy 格式\n",
    "    X = []\n",
    "    y = []\n",
    "    \n",
    "    for audio, sr, filename in wav_files:\n",
    "        X.append((audio, sr))\n",
    "        y.append(0)  # wav_files 標記為 0\n",
    "    \n",
    "    for audio, sr, filename in leak_wav_files:\n",
    "        X.append((audio, sr))\n",
    "        y.append(1)  # leak_wav_files 標記為 1\n",
    "    \n",
    "    return np.array(X, dtype=object), np.array(y)\n"
   ],
   "outputs": [],
   "execution_count": 2
  },
  {
   "metadata": {},
   "cell_type": "markdown",
   "source": "# 2. 特徵提取與資料預處理",
   "id": "b7788a5b8d4c0b5d"
  },
  {
   "metadata": {
    "ExecuteTime": {
     "end_time": "2024-11-07T05:24:53.046683Z",
     "start_time": "2024-11-07T05:24:45.776353Z"
    }
   },
   "cell_type": "code",
   "source": [
    "from tqdm import tqdm\n",
    "from data_preprocess import extract_features, extract_stft_features\n",
    "\n",
    "def preprocess_data(X, desired_time=2.0, n_mels=128, n_fft=2048, hop_length=512):\n",
    "    features = []\n",
    "    for audio, sr in tqdm(X):\n",
    "        feature = extract_stft_features(audio, sr, desired_time=desired_time, n_fft=n_fft, hop_length=hop_length)\n",
    "        # feature = extract_features(audio, sr, desired_time=desired_time, n_mels=n_mels, n_fft=n_fft, hop_length=hop_length)\n",
    "        features.append(feature)\n",
    "    return np.array(features)\n"
   ],
   "id": "5cb187713d43dd39",
   "outputs": [],
   "execution_count": 3
  },
  {
   "metadata": {
    "ExecuteTime": {
     "end_time": "2024-11-07T05:24:53.076671Z",
     "start_time": "2024-11-07T05:24:53.062697Z"
    }
   },
   "cell_type": "code",
   "source": [
    "def create_training_data(X,y, desired_time=2.0,  n_mels=128, n_fft=2048, hop_length=512):\n",
    "    \n",
    "    print(f\"總樣本數: {len(X)}\")\n",
    "    print(f\"標籤分佈: {np.bincount(y)}\")\n",
    "    \n",
    "    \n",
    "    X_features = preprocess_data(X, desired_time=desired_time, n_mels= n_mels, n_fft=n_fft, hop_length=hop_length)\n",
    "    \n",
    "    print(f\"特徵形狀: {X_features.shape}\")  # 預期形狀: (樣本數, max_len, n_mels)\n",
    "    \n",
    "    # 正規化特徵\n",
    "    X_features = (X_features - np.mean(X_features)) / np.std(X_features)\n",
    "    \n",
    "    # 擴展維度以符合 CNN 輸入 (樣本數, 高, 寬, 通道)\n",
    "    X_features = np.expand_dims(X_features, -1)  # 新形狀: (樣本數, max_len, n_mels, 1)\n",
    "    \n",
    "    # 分割訓練集與測試集\n",
    "    X_train, X_test, y_train, y_test = train_test_split(X_features, y, test_size=0.2)\n",
    "    \n",
    "    print(f\"訓練集形狀: {X_train.shape}\")\n",
    "    print(f\"測試集形狀: {X_test.shape}\")\n",
    "    \n",
    "    return X_train, X_test, y_train, y_test"
   ],
   "id": "52f0af5743941c11",
   "outputs": [],
   "execution_count": 4
  },
  {
   "metadata": {
    "ExecuteTime": {
     "end_time": "2024-11-07T05:25:41.456556Z",
     "start_time": "2024-11-07T05:24:53.093011Z"
    }
   },
   "cell_type": "code",
   "source": "X, y = create_dataset('training_data')",
   "id": "825424b5a3c3bd79",
   "outputs": [
    {
     "name": "stdout",
     "output_type": "stream",
     "text": [
      "共有 13222 個 wav 檔案，其中 912 個有泄漏，12310 個沒有泄漏\n",
      "均衡後的樣本數: 912\n"
     ]
    }
   ],
   "execution_count": 5
  },
  {
   "metadata": {
    "ExecuteTime": {
     "end_time": "2024-11-07T05:25:47.864884Z",
     "start_time": "2024-11-07T05:25:41.534227Z"
    }
   },
   "cell_type": "code",
   "source": "X_train, X_test, y_train, y_test = create_training_data(X, y, desired_time=2.0, n_fft=1024, hop_length=512)",
   "id": "bd7b7beb007bb659",
   "outputs": [
    {
     "name": "stdout",
     "output_type": "stream",
     "text": [
      "總樣本數: 1824\n",
      "標籤分佈: [912 912]\n"
     ]
    },
    {
     "name": "stderr",
     "output_type": "stream",
     "text": [
      "100%|██████████| 1824/1824 [00:04<00:00, 370.71it/s]\n"
     ]
    },
    {
     "name": "stdout",
     "output_type": "stream",
     "text": [
      "特徵形狀: (1824, 192, 513)\n",
      "訓練集形狀: (1459, 192, 513, 1)\n",
      "測試集形狀: (365, 192, 513, 1)\n"
     ]
    }
   ],
   "execution_count": 6
  },
  {
   "metadata": {},
   "cell_type": "markdown",
   "source": "# 3. 建立 CNN 模型",
   "id": "55e34253937c671f"
  },
  {
   "metadata": {
    "ExecuteTime": {
     "end_time": "2024-11-07T05:25:47.911396Z",
     "start_time": "2024-11-07T05:25:47.897426Z"
    }
   },
   "cell_type": "code",
   "source": [
    "from keras.layers import BatchNormalization\n",
    "import tensorflow as tf\n",
    "from tensorflow.keras.models import Sequential\n",
    "from tensorflow.keras.layers import Conv2D, MaxPooling2D, Flatten, Dense, Dropout\n",
    "\n",
    "def create_cnn_model(input_shape):\n",
    "    \n",
    "    optimizer = tf.keras.optimizers.Adam(learning_rate=0.0001)\n",
    "    \n",
    "    input_img = tf.keras.layers.Input(shape=input_shape)\n",
    " \n",
    "    x = Conv2D(32, (3, 3), activation='relu', padding='same')(input_img)\n",
    "    x = MaxPooling2D((2, 2), padding='same')(x)\n",
    "    x = BatchNormalization()(x)\n",
    "    x = Dropout(0.3)(x)\n",
    "    \n",
    "    x = Conv2D(64, (3, 3), activation='relu', padding='same')(x)\n",
    "    x = MaxPooling2D((2, 2), padding='same')(x)\n",
    "    x = BatchNormalization()(x)\n",
    "    x = Dropout(0.3)(x)\n",
    "    \n",
    "    x = Conv2D(64, (3, 3), activation='relu', padding='same')(x)\n",
    "    x = MaxPooling2D((2, 2), padding='same')(x)\n",
    "    x = BatchNormalization()(x)\n",
    "    x = Dropout(0.3)(x)\n",
    "    \n",
    "    x = Conv2D(64, (3, 3), activation='relu', padding='same')(x)\n",
    "    x = MaxPooling2D((2, 2), padding='same')(x)\n",
    "    x = BatchNormalization()(x)\n",
    "    x = Dropout(0.3)(x)\n",
    "\n",
    "    x = Flatten()(x)\n",
    "    x = Dense(64, activation='relu')(x)\n",
    "    x = Dense(32, activation='relu')(x)\n",
    "    x = Dense(16, activation='relu')(x)\n",
    "    x = Dropout(0.1)(x)\n",
    "    x = Dense(1, activation='sigmoid')(x)\n",
    "    \n",
    "    model = tf.keras.Model(inputs=input_img, outputs=x)\n",
    "    model.compile(optimizer=optimizer, loss='binary_crossentropy', metrics=['accuracy'])\n",
    "\n",
    "    return model\n"
   ],
   "id": "e5d13120a6048b8e",
   "outputs": [],
   "execution_count": 7
  },
  {
   "metadata": {
    "ExecuteTime": {
     "end_time": "2024-11-07T05:25:47.958572Z",
     "start_time": "2024-11-07T05:25:47.943516Z"
    }
   },
   "cell_type": "code",
   "source": [
    "def create_model(mockup_input):    \n",
    "    # 建立模型\n",
    "    input_shape = (mockup_input.shape[1], mockup_input.shape[2], 1)\n",
    "    print(f\"模型輸入形狀: {input_shape}\")\n",
    "    model = create_cnn_model(input_shape)\n",
    "    model.summary()\n",
    "    return model"
   ],
   "id": "a4ffc4a61f8a1c24",
   "outputs": [],
   "execution_count": 8
  },
  {
   "metadata": {},
   "cell_type": "markdown",
   "source": "# 4. 訓練模型",
   "id": "48f4e3f68035b7dc"
  },
  {
   "metadata": {
    "ExecuteTime": {
     "end_time": "2024-11-07T05:25:48.005684Z",
     "start_time": "2024-11-07T05:25:47.991376Z"
    }
   },
   "cell_type": "code",
   "source": [
    "from keras.callbacks import EarlyStopping, ReduceLROnPlateau\n",
    "\n",
    "\n",
    "def train_model(model, X_train, X_test, y_train, y_test, epochs=30, batch_size=32):\n",
    "        # 訓練模型\n",
    "        \n",
    "    early_stopping = EarlyStopping(monitor='val_loss', patience=15, restore_best_weights=True)\n",
    "    reduce_lr = ReduceLROnPlateau(monitor='val_loss', factor=0.1, patience=10, verbose=1)\n",
    "        \n",
    "    history = model.fit(   \n",
    "        X_train, y_train,\n",
    "        epochs=epochs,\n",
    "        batch_size=batch_size,\n",
    "        validation_data=(X_test, y_test),\n",
    "        shuffle=True,\n",
    "        callbacks=[early_stopping, reduce_lr],\n",
    "        verbose=2\n",
    "    )\n",
    "    \n",
    "    # 評估模型\n",
    "    test_loss, test_accuracy = model.evaluate(X_test, y_test)\n",
    "    print(f\"Test loss: {test_loss:.4f}\")\n",
    "    print(f\"Test accuracy: {test_accuracy:.2f}\")\n",
    "    \n",
    "    return model, history"
   ],
   "id": "2658a06f4a9db7e7",
   "outputs": [],
   "execution_count": 9
  },
  {
   "metadata": {
    "ExecuteTime": {
     "end_time": "2024-11-07T05:25:48.053228Z",
     "start_time": "2024-11-07T05:25:48.038684Z"
    }
   },
   "cell_type": "code",
   "source": [
    "def evaluate_model(model, X_test, y_test):\n",
    "    test_loss, test_accuracy = model.evaluate(X_test, y_test)\n",
    "    print(f\"Test loss: {test_loss:.4f}\")\n",
    "    print(f\"Test accuracy: {test_accuracy:.2f}\")"
   ],
   "id": "eb722b82e90ac3d",
   "outputs": [],
   "execution_count": 10
  },
  {
   "metadata": {
    "ExecuteTime": {
     "end_time": "2024-11-07T05:25:49.002563Z",
     "start_time": "2024-11-07T05:25:48.100975Z"
    }
   },
   "cell_type": "code",
   "source": "cnn_model = create_model(X_train)",
   "id": "496ecf15e0c42ddf",
   "outputs": [
    {
     "name": "stdout",
     "output_type": "stream",
     "text": [
      "模型輸入形狀: (192, 513, 1)\n",
      "Model: \"model\"\n",
      "_________________________________________________________________\n",
      " Layer (type)                Output Shape              Param #   \n",
      "=================================================================\n",
      " input_1 (InputLayer)        [(None, 192, 513, 1)]     0         \n",
      "                                                                 \n",
      " conv2d (Conv2D)             (None, 192, 513, 32)      320       \n",
      "                                                                 \n",
      " max_pooling2d (MaxPooling2D  (None, 96, 257, 32)      0         \n",
      " )                                                               \n",
      "                                                                 \n",
      " batch_normalization (BatchN  (None, 96, 257, 32)      128       \n",
      " ormalization)                                                   \n",
      "                                                                 \n",
      " dropout (Dropout)           (None, 96, 257, 32)       0         \n",
      "                                                                 \n",
      " conv2d_1 (Conv2D)           (None, 96, 257, 64)       18496     \n",
      "                                                                 \n",
      " max_pooling2d_1 (MaxPooling  (None, 48, 129, 64)      0         \n",
      " 2D)                                                             \n",
      "                                                                 \n",
      " batch_normalization_1 (Batc  (None, 48, 129, 64)      256       \n",
      " hNormalization)                                                 \n",
      "                                                                 \n",
      " dropout_1 (Dropout)         (None, 48, 129, 64)       0         \n",
      "                                                                 \n",
      " conv2d_2 (Conv2D)           (None, 48, 129, 64)       36928     \n",
      "                                                                 \n",
      " max_pooling2d_2 (MaxPooling  (None, 24, 65, 64)       0         \n",
      " 2D)                                                             \n",
      "                                                                 \n",
      " batch_normalization_2 (Batc  (None, 24, 65, 64)       256       \n",
      " hNormalization)                                                 \n",
      "                                                                 \n",
      " dropout_2 (Dropout)         (None, 24, 65, 64)        0         \n",
      "                                                                 \n",
      " conv2d_3 (Conv2D)           (None, 24, 65, 64)        36928     \n",
      "                                                                 \n",
      " max_pooling2d_3 (MaxPooling  (None, 12, 33, 64)       0         \n",
      " 2D)                                                             \n",
      "                                                                 \n",
      " batch_normalization_3 (Batc  (None, 12, 33, 64)       256       \n",
      " hNormalization)                                                 \n",
      "                                                                 \n",
      " dropout_3 (Dropout)         (None, 12, 33, 64)        0         \n",
      "                                                                 \n",
      " flatten (Flatten)           (None, 25344)             0         \n",
      "                                                                 \n",
      " dense (Dense)               (None, 64)                1622080   \n",
      "                                                                 \n",
      " dense_1 (Dense)             (None, 32)                2080      \n",
      "                                                                 \n",
      " dense_2 (Dense)             (None, 16)                528       \n",
      "                                                                 \n",
      " dropout_4 (Dropout)         (None, 16)                0         \n",
      "                                                                 \n",
      " dense_3 (Dense)             (None, 1)                 17        \n",
      "                                                                 \n",
      "=================================================================\n",
      "Total params: 1,718,273\n",
      "Trainable params: 1,717,825\n",
      "Non-trainable params: 448\n",
      "_________________________________________________________________\n"
     ]
    }
   ],
   "execution_count": 11
  },
  {
   "metadata": {
    "ExecuteTime": {
     "end_time": "2024-11-07T05:31:27.059634Z",
     "start_time": "2024-11-07T05:25:49.034797Z"
    }
   },
   "cell_type": "code",
   "source": "model, history = train_model(cnn_model, X_train, X_test, y_train, y_test, epochs=120)",
   "id": "4c22f7b3db3499d5",
   "outputs": [
    {
     "name": "stdout",
     "output_type": "stream",
     "text": [
      "Epoch 1/120\n",
      "46/46 - 11s - loss: 0.4591 - accuracy: 0.7896 - val_loss: 0.9227 - val_accuracy: 0.4493 - lr: 1.0000e-04 - 11s/epoch - 248ms/step\n",
      "Epoch 2/120\n",
      "46/46 - 5s - loss: 0.3483 - accuracy: 0.8561 - val_loss: 1.3458 - val_accuracy: 0.4493 - lr: 1.0000e-04 - 5s/epoch - 109ms/step\n",
      "Epoch 3/120\n",
      "46/46 - 5s - loss: 0.2959 - accuracy: 0.8753 - val_loss: 1.4318 - val_accuracy: 0.4493 - lr: 1.0000e-04 - 5s/epoch - 110ms/step\n",
      "Epoch 4/120\n",
      "46/46 - 5s - loss: 0.2908 - accuracy: 0.8801 - val_loss: 1.2012 - val_accuracy: 0.4904 - lr: 1.0000e-04 - 5s/epoch - 110ms/step\n",
      "Epoch 5/120\n",
      "46/46 - 5s - loss: 0.2886 - accuracy: 0.8746 - val_loss: 1.6565 - val_accuracy: 0.4904 - lr: 1.0000e-04 - 5s/epoch - 110ms/step\n",
      "Epoch 6/120\n",
      "46/46 - 5s - loss: 0.2570 - accuracy: 0.8917 - val_loss: 2.0467 - val_accuracy: 0.4904 - lr: 1.0000e-04 - 5s/epoch - 110ms/step\n",
      "Epoch 7/120\n",
      "46/46 - 5s - loss: 0.2744 - accuracy: 0.8759 - val_loss: 1.6535 - val_accuracy: 0.4904 - lr: 1.0000e-04 - 5s/epoch - 110ms/step\n",
      "Epoch 8/120\n",
      "46/46 - 5s - loss: 0.2541 - accuracy: 0.8972 - val_loss: 1.4857 - val_accuracy: 0.4904 - lr: 1.0000e-04 - 5s/epoch - 111ms/step\n",
      "Epoch 9/120\n",
      "46/46 - 5s - loss: 0.2746 - accuracy: 0.8842 - val_loss: 1.1303 - val_accuracy: 0.4904 - lr: 1.0000e-04 - 5s/epoch - 115ms/step\n",
      "Epoch 10/120\n",
      "46/46 - 5s - loss: 0.2248 - accuracy: 0.9040 - val_loss: 1.0264 - val_accuracy: 0.4959 - lr: 1.0000e-04 - 5s/epoch - 111ms/step\n",
      "Epoch 11/120\n",
      "\n",
      "Epoch 11: ReduceLROnPlateau reducing learning rate to 9.999999747378752e-06.\n",
      "46/46 - 5s - loss: 0.2385 - accuracy: 0.8979 - val_loss: 0.9606 - val_accuracy: 0.5397 - lr: 1.0000e-04 - 5s/epoch - 110ms/step\n",
      "Epoch 12/120\n",
      "46/46 - 5s - loss: 0.1983 - accuracy: 0.9225 - val_loss: 1.0399 - val_accuracy: 0.5479 - lr: 1.0000e-05 - 5s/epoch - 111ms/step\n",
      "Epoch 13/120\n",
      "46/46 - 5s - loss: 0.1978 - accuracy: 0.9157 - val_loss: 0.9164 - val_accuracy: 0.5890 - lr: 1.0000e-05 - 5s/epoch - 110ms/step\n",
      "Epoch 14/120\n",
      "46/46 - 5s - loss: 0.1855 - accuracy: 0.9205 - val_loss: 0.7291 - val_accuracy: 0.6959 - lr: 1.0000e-05 - 5s/epoch - 115ms/step\n",
      "Epoch 15/120\n",
      "46/46 - 5s - loss: 0.1893 - accuracy: 0.9232 - val_loss: 0.7588 - val_accuracy: 0.7041 - lr: 1.0000e-05 - 5s/epoch - 112ms/step\n",
      "Epoch 16/120\n",
      "46/46 - 5s - loss: 0.1901 - accuracy: 0.9171 - val_loss: 0.6822 - val_accuracy: 0.7151 - lr: 1.0000e-05 - 5s/epoch - 111ms/step\n",
      "Epoch 17/120\n",
      "46/46 - 5s - loss: 0.1889 - accuracy: 0.9253 - val_loss: 0.6079 - val_accuracy: 0.7425 - lr: 1.0000e-05 - 5s/epoch - 110ms/step\n",
      "Epoch 18/120\n",
      "46/46 - 5s - loss: 0.1859 - accuracy: 0.9225 - val_loss: 0.5468 - val_accuracy: 0.7616 - lr: 1.0000e-05 - 5s/epoch - 110ms/step\n",
      "Epoch 19/120\n",
      "46/46 - 5s - loss: 0.1770 - accuracy: 0.9225 - val_loss: 0.5061 - val_accuracy: 0.7699 - lr: 1.0000e-05 - 5s/epoch - 109ms/step\n",
      "Epoch 20/120\n",
      "46/46 - 5s - loss: 0.1788 - accuracy: 0.9301 - val_loss: 0.5849 - val_accuracy: 0.7534 - lr: 1.0000e-05 - 5s/epoch - 110ms/step\n",
      "Epoch 21/120\n",
      "46/46 - 5s - loss: 0.1794 - accuracy: 0.9260 - val_loss: 0.5467 - val_accuracy: 0.7699 - lr: 1.0000e-05 - 5s/epoch - 112ms/step\n",
      "Epoch 22/120\n",
      "46/46 - 5s - loss: 0.1865 - accuracy: 0.9246 - val_loss: 0.5137 - val_accuracy: 0.7753 - lr: 1.0000e-05 - 5s/epoch - 113ms/step\n",
      "Epoch 23/120\n",
      "46/46 - 5s - loss: 0.1692 - accuracy: 0.9301 - val_loss: 0.5381 - val_accuracy: 0.7699 - lr: 1.0000e-05 - 5s/epoch - 110ms/step\n",
      "Epoch 24/120\n",
      "46/46 - 5s - loss: 0.1800 - accuracy: 0.9260 - val_loss: 0.4276 - val_accuracy: 0.8082 - lr: 1.0000e-05 - 5s/epoch - 110ms/step\n",
      "Epoch 25/120\n",
      "46/46 - 5s - loss: 0.1839 - accuracy: 0.9232 - val_loss: 0.4153 - val_accuracy: 0.8055 - lr: 1.0000e-05 - 5s/epoch - 110ms/step\n",
      "Epoch 26/120\n",
      "46/46 - 5s - loss: 0.1692 - accuracy: 0.9342 - val_loss: 0.5052 - val_accuracy: 0.7753 - lr: 1.0000e-05 - 5s/epoch - 110ms/step\n",
      "Epoch 27/120\n",
      "46/46 - 5s - loss: 0.1840 - accuracy: 0.9198 - val_loss: 0.4297 - val_accuracy: 0.7973 - lr: 1.0000e-05 - 5s/epoch - 110ms/step\n",
      "Epoch 28/120\n",
      "46/46 - 5s - loss: 0.1716 - accuracy: 0.9280 - val_loss: 0.4281 - val_accuracy: 0.8027 - lr: 1.0000e-05 - 5s/epoch - 109ms/step\n",
      "Epoch 29/120\n",
      "46/46 - 5s - loss: 0.1661 - accuracy: 0.9287 - val_loss: 0.4487 - val_accuracy: 0.7945 - lr: 1.0000e-05 - 5s/epoch - 110ms/step\n",
      "Epoch 30/120\n",
      "46/46 - 5s - loss: 0.1661 - accuracy: 0.9294 - val_loss: 0.4238 - val_accuracy: 0.8082 - lr: 1.0000e-05 - 5s/epoch - 109ms/step\n",
      "Epoch 31/120\n",
      "46/46 - 5s - loss: 0.1865 - accuracy: 0.9232 - val_loss: 0.3729 - val_accuracy: 0.8384 - lr: 1.0000e-05 - 5s/epoch - 110ms/step\n",
      "Epoch 32/120\n",
      "46/46 - 5s - loss: 0.1729 - accuracy: 0.9267 - val_loss: 0.4392 - val_accuracy: 0.8027 - lr: 1.0000e-05 - 5s/epoch - 110ms/step\n",
      "Epoch 33/120\n",
      "46/46 - 5s - loss: 0.1736 - accuracy: 0.9328 - val_loss: 0.4176 - val_accuracy: 0.8082 - lr: 1.0000e-05 - 5s/epoch - 110ms/step\n",
      "Epoch 34/120\n",
      "46/46 - 5s - loss: 0.1617 - accuracy: 0.9349 - val_loss: 0.3634 - val_accuracy: 0.8466 - lr: 1.0000e-05 - 5s/epoch - 110ms/step\n",
      "Epoch 35/120\n",
      "46/46 - 5s - loss: 0.1548 - accuracy: 0.9328 - val_loss: 0.3958 - val_accuracy: 0.8329 - lr: 1.0000e-05 - 5s/epoch - 108ms/step\n",
      "Epoch 36/120\n",
      "46/46 - 5s - loss: 0.1656 - accuracy: 0.9328 - val_loss: 0.3740 - val_accuracy: 0.8438 - lr: 1.0000e-05 - 5s/epoch - 110ms/step\n",
      "Epoch 37/120\n",
      "46/46 - 5s - loss: 0.1717 - accuracy: 0.9301 - val_loss: 0.3772 - val_accuracy: 0.8329 - lr: 1.0000e-05 - 5s/epoch - 110ms/step\n",
      "Epoch 38/120\n",
      "46/46 - 5s - loss: 0.1667 - accuracy: 0.9253 - val_loss: 0.3350 - val_accuracy: 0.8740 - lr: 1.0000e-05 - 5s/epoch - 110ms/step\n",
      "Epoch 39/120\n",
      "46/46 - 5s - loss: 0.1531 - accuracy: 0.9390 - val_loss: 0.3517 - val_accuracy: 0.8575 - lr: 1.0000e-05 - 5s/epoch - 110ms/step\n",
      "Epoch 40/120\n",
      "46/46 - 5s - loss: 0.1559 - accuracy: 0.9445 - val_loss: 0.3440 - val_accuracy: 0.8630 - lr: 1.0000e-05 - 5s/epoch - 110ms/step\n",
      "Epoch 41/120\n",
      "46/46 - 5s - loss: 0.1585 - accuracy: 0.9363 - val_loss: 0.3652 - val_accuracy: 0.8548 - lr: 1.0000e-05 - 5s/epoch - 110ms/step\n",
      "Epoch 42/120\n",
      "46/46 - 5s - loss: 0.1640 - accuracy: 0.9404 - val_loss: 0.4252 - val_accuracy: 0.8164 - lr: 1.0000e-05 - 5s/epoch - 110ms/step\n",
      "Epoch 43/120\n",
      "46/46 - 5s - loss: 0.1538 - accuracy: 0.9424 - val_loss: 0.3514 - val_accuracy: 0.8548 - lr: 1.0000e-05 - 5s/epoch - 110ms/step\n",
      "Epoch 44/120\n",
      "46/46 - 5s - loss: 0.1456 - accuracy: 0.9411 - val_loss: 0.3341 - val_accuracy: 0.8740 - lr: 1.0000e-05 - 5s/epoch - 110ms/step\n",
      "Epoch 45/120\n",
      "46/46 - 5s - loss: 0.1559 - accuracy: 0.9397 - val_loss: 0.2940 - val_accuracy: 0.8959 - lr: 1.0000e-05 - 5s/epoch - 110ms/step\n",
      "Epoch 46/120\n",
      "46/46 - 5s - loss: 0.1515 - accuracy: 0.9404 - val_loss: 0.2791 - val_accuracy: 0.9014 - lr: 1.0000e-05 - 5s/epoch - 110ms/step\n",
      "Epoch 47/120\n",
      "46/46 - 5s - loss: 0.1572 - accuracy: 0.9321 - val_loss: 0.3002 - val_accuracy: 0.8822 - lr: 1.0000e-05 - 5s/epoch - 110ms/step\n",
      "Epoch 48/120\n",
      "46/46 - 5s - loss: 0.1414 - accuracy: 0.9486 - val_loss: 0.3161 - val_accuracy: 0.8849 - lr: 1.0000e-05 - 5s/epoch - 110ms/step\n",
      "Epoch 49/120\n",
      "46/46 - 5s - loss: 0.1434 - accuracy: 0.9452 - val_loss: 0.3154 - val_accuracy: 0.8877 - lr: 1.0000e-05 - 5s/epoch - 109ms/step\n",
      "Epoch 50/120\n",
      "46/46 - 5s - loss: 0.1424 - accuracy: 0.9404 - val_loss: 0.2678 - val_accuracy: 0.9041 - lr: 1.0000e-05 - 5s/epoch - 110ms/step\n",
      "Epoch 51/120\n",
      "46/46 - 5s - loss: 0.1510 - accuracy: 0.9383 - val_loss: 0.2687 - val_accuracy: 0.9041 - lr: 1.0000e-05 - 5s/epoch - 110ms/step\n",
      "Epoch 52/120\n",
      "46/46 - 5s - loss: 0.1458 - accuracy: 0.9431 - val_loss: 0.2915 - val_accuracy: 0.8959 - lr: 1.0000e-05 - 5s/epoch - 111ms/step\n",
      "Epoch 53/120\n",
      "46/46 - 5s - loss: 0.1449 - accuracy: 0.9472 - val_loss: 0.3112 - val_accuracy: 0.8849 - lr: 1.0000e-05 - 5s/epoch - 112ms/step\n",
      "Epoch 54/120\n",
      "46/46 - 5s - loss: 0.1447 - accuracy: 0.9445 - val_loss: 0.3031 - val_accuracy: 0.8904 - lr: 1.0000e-05 - 5s/epoch - 111ms/step\n",
      "Epoch 55/120\n",
      "46/46 - 5s - loss: 0.1464 - accuracy: 0.9424 - val_loss: 0.3395 - val_accuracy: 0.8767 - lr: 1.0000e-05 - 5s/epoch - 111ms/step\n",
      "Epoch 56/120\n",
      "46/46 - 5s - loss: 0.1451 - accuracy: 0.9417 - val_loss: 0.3132 - val_accuracy: 0.8877 - lr: 1.0000e-05 - 5s/epoch - 110ms/step\n",
      "Epoch 57/120\n",
      "46/46 - 5s - loss: 0.1298 - accuracy: 0.9534 - val_loss: 0.2844 - val_accuracy: 0.8986 - lr: 1.0000e-05 - 5s/epoch - 109ms/step\n",
      "Epoch 58/120\n",
      "46/46 - 5s - loss: 0.1421 - accuracy: 0.9431 - val_loss: 0.3275 - val_accuracy: 0.8795 - lr: 1.0000e-05 - 5s/epoch - 110ms/step\n",
      "Epoch 59/120\n",
      "46/46 - 5s - loss: 0.1448 - accuracy: 0.9417 - val_loss: 0.2909 - val_accuracy: 0.8877 - lr: 1.0000e-05 - 5s/epoch - 110ms/step\n",
      "Epoch 60/120\n",
      "\n",
      "Epoch 60: ReduceLROnPlateau reducing learning rate to 9.999999747378752e-07.\n",
      "46/46 - 5s - loss: 0.1370 - accuracy: 0.9445 - val_loss: 0.3237 - val_accuracy: 0.8767 - lr: 1.0000e-05 - 5s/epoch - 112ms/step\n",
      "Epoch 61/120\n",
      "46/46 - 5s - loss: 0.1450 - accuracy: 0.9390 - val_loss: 0.3133 - val_accuracy: 0.8822 - lr: 1.0000e-06 - 5s/epoch - 117ms/step\n",
      "Epoch 62/120\n",
      "46/46 - 5s - loss: 0.1392 - accuracy: 0.9452 - val_loss: 0.3045 - val_accuracy: 0.8877 - lr: 1.0000e-06 - 5s/epoch - 113ms/step\n",
      "Epoch 63/120\n",
      "46/46 - 5s - loss: 0.1312 - accuracy: 0.9520 - val_loss: 0.3005 - val_accuracy: 0.8877 - lr: 1.0000e-06 - 5s/epoch - 117ms/step\n",
      "Epoch 64/120\n",
      "46/46 - 5s - loss: 0.1254 - accuracy: 0.9527 - val_loss: 0.2987 - val_accuracy: 0.8877 - lr: 1.0000e-06 - 5s/epoch - 114ms/step\n",
      "Epoch 65/120\n",
      "46/46 - 5s - loss: 0.1257 - accuracy: 0.9500 - val_loss: 0.2970 - val_accuracy: 0.8877 - lr: 1.0000e-06 - 5s/epoch - 112ms/step\n",
      "12/12 [==============================] - 0s 28ms/step - loss: 0.2678 - accuracy: 0.9041\n",
      "Test loss: 0.2678\n",
      "Test accuracy: 0.90\n"
     ]
    }
   ],
   "execution_count": 12
  },
  {
   "metadata": {
    "ExecuteTime": {
     "end_time": "2024-11-07T05:31:27.552741Z",
     "start_time": "2024-11-07T05:31:27.108316Z"
    }
   },
   "cell_type": "code",
   "source": "evaluate_model(cnn_model, X_test, y_test)",
   "id": "34386cec81d6a2d4",
   "outputs": [
    {
     "name": "stdout",
     "output_type": "stream",
     "text": [
      "12/12 [==============================] - 0s 27ms/step - loss: 0.2678 - accuracy: 0.9041\n",
      "Test loss: 0.2678\n",
      "Test accuracy: 0.90\n"
     ]
    }
   ],
   "execution_count": 13
  },
  {
   "metadata": {
    "ExecuteTime": {
     "end_time": "2024-11-07T05:31:27.692582Z",
     "start_time": "2024-11-07T05:31:27.586118Z"
    }
   },
   "cell_type": "code",
   "source": [
    "date = datetime.now().strftime('%Y%m%d%H%M')\n",
    "model.save(f'model_stft_{date}.h5')\n",
    "print(f\"Model saved as model_stft_{date}.h5\")"
   ],
   "id": "551ff463bcaf8093",
   "outputs": [
    {
     "name": "stdout",
     "output_type": "stream",
     "text": [
      "Model saved as model_stft_202411071331.h5\n"
     ]
    }
   ],
   "execution_count": 14
  },
  {
   "metadata": {
    "ExecuteTime": {
     "end_time": "2024-11-07T05:32:31.252219Z",
     "start_time": "2024-11-07T05:32:31.061446Z"
    }
   },
   "cell_type": "code",
   "source": [
    "import matplotlib.pyplot as plt\n",
    "plt.plot(history.history['loss'])\n",
    "plt.plot(history.history['val_loss'])\n",
    "plt.title('Model loss')\n",
    "plt.ylabel('Loss')\n",
    "plt.xlabel('Epoch')\n",
    "plt.legend(['Train', 'Test'], loc='upper right')\n",
    "plt.savefig(f'model_stft_loss_{date}.png')\n",
    "plt.show()"
   ],
   "id": "70c5f696df14eef",
   "outputs": [
    {
     "data": {
      "text/plain": [
       "<Figure size 640x480 with 1 Axes>"
      ],
      "image/png": "[encoded data removed]"
     },
     "metadata": {},
     "output_type": "display_data"
    }
   ],
   "execution_count": 16
  },
  {
   "metadata": {
    "ExecuteTime": {
     "end_time": "2024-11-07T05:31:28.221477Z",
     "start_time": "2024-11-07T05:31:28.208421Z"
    }
   },
   "cell_type": "code",
   "source": "",
   "id": "77144cb141ef9e4a",
   "outputs": [],
   "execution_count": null
  }
 ],
 "metadata": {
  "kernelspec": {
   "display_name": "Python 3",
   "language": "python",
   "name": "python3"
  },
  "language_info": {
   "codemirror_mode": {
    "name": "ipython",
    "version": 2
   },
   "file_extension": ".py",
   "mimetype": "text/x-python",
   "name": "python",
   "nbconvert_exporter": "python",
   "pygments_lexer": "ipython2",
   "version": "2.7.6"
  }
 },
 "nbformat": 4,
 "nbformat_minor": 5
}
