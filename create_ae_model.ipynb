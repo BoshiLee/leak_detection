{
 "cells": [
  {
   "metadata": {
    "ExecuteTime": {
     "end_time": "2024-11-05T07:44:24.149853Z",
     "start_time": "2024-11-05T07:44:08.241282Z"
    }
   },
   "cell_type": "code",
   "source": [
    "import os\n",
    "import librosa\n",
    "import numpy as np\n",
    "from tensorflow.keras.models import Model, load_model\n",
    "from sklearn.metrics import classification_report, confusion_matrix\n",
    "import matplotlib.pyplot as plt"
   ],
   "id": "c9272ced716478d7",
   "outputs": [],
   "execution_count": 1
  },
  {
   "metadata": {},
   "cell_type": "markdown",
   "source": "# 1. 資料加載與標記",
   "id": "a6fb182aae4eb89"
  },
  {
   "cell_type": "code",
   "id": "initial_id",
   "metadata": {
    "collapsed": true,
    "ExecuteTime": {
     "end_time": "2024-11-05T07:44:24.181087Z",
     "start_time": "2024-11-05T07:44:24.153854Z"
    }
   },
   "source": [
    "import random\n",
    "from tqdm import tqdm\n",
    "from data_preprocess import extract_features\n",
    "\n",
    "def augment_audio(audio, sr):\n",
    "    # 隨機添加背景噪聲\n",
    "    noise = np.random.randn(len(audio))\n",
    "    audio_noisy = audio + 0.005 * noise\n",
    "\n",
    "    # 隨機裁剪\n",
    "    if len(audio_noisy) > int(sr * 2):\n",
    "        start = random.randint(0, len(audio_noisy) - int(sr * 2))\n",
    "        audio_cropped = audio_noisy[start:start + int(sr * 2)]\n",
    "    else:\n",
    "        audio_cropped = audio_noisy\n",
    "\n",
    "    return audio_cropped\n",
    "\n",
    "def load_normal_files(directory):\n",
    "    \"\"\"\n",
    "    載入目錄中所有正常（no-leak）音訊檔案。\n",
    "\n",
    "    Args:\n",
    "        directory (str): 音訊檔案所在的目錄。\n",
    "\n",
    "    Returns:\n",
    "        list: 正常音訊資料的列表，每個元素為 (音訊資料, 取樣率, 檔案名稱)。\n",
    "    \"\"\"\n",
    "    normal_files = []\n",
    "    for dir in os.listdir(directory):\n",
    "        if 'no-leak' not in dir:\n",
    "            continue  # 只處理包含 'no-leak' 的目錄\n",
    "        \n",
    "        dir_path = os.path.join(directory, dir)\n",
    "        if not os.path.isdir(dir_path):\n",
    "            continue  # 確保是目錄\n",
    "        \n",
    "        for file in os.listdir(dir_path):\n",
    "            if not file.endswith(\".wav\"):\n",
    "                continue  # 只處理 .wav 檔案\n",
    "            file_path = os.path.join(dir_path, file)\n",
    "            y, sr = librosa.load(file_path, sr=None)\n",
    "            y = augment_audio(y, sr)  # 應用資料增強\n",
    "            filename = f'{dir}_{file}'\n",
    "            normal_files.append((y, sr, filename))\n",
    "    \n",
    "    return normal_files\n",
    "\n",
    "def create_normal_dataset(directory, desired_time=2.0, n_mels=128, n_fft=2048, hop_length=512):\n",
    "    \"\"\"\n",
    "    載入並預處理正常（no-leak）音訊資料。\n",
    "\n",
    "    Args:\n",
    "        directory (str): 音訊檔案所在的目錄。\n",
    "        desired_time (float): 每個樣本的目標時間長度（秒）。\n",
    "        n_mels (int): Mel 頻帶數。\n",
    "        n_fft (int): FFT 大小。\n",
    "        hop_length (int): hop length。\n",
    "\n",
    "    Returns:\n",
    "        np.ndarray: 預處理後的特徵資料，形狀為 (樣本數, max_len, n_mels, 1)。\n",
    "    \"\"\"\n",
    "    normal_files = load_normal_files(directory)\n",
    "    \n",
    "    print(f\"總正常樣本數: {len(normal_files)}\")\n",
    "    \n",
    "    features = []\n",
    "    for audio, sr, filename in normal_files:\n",
    "        feature = extract_features(audio, sr, n_mels=n_mels, n_fft=n_fft, hop_length=hop_length, desired_time=desired_time)\n",
    "        features.append(feature)\n",
    "    \n",
    "    X = np.array(features)\n",
    "    print(f\"特徵形狀（未正規化）: {X.shape}\")  # 預期形狀: (樣本數, max_len, n_mels)\n",
    "    \n",
    "    # 正規化特徵\n",
    "    X = (X - np.mean(X)) / np.std(X)\n",
    "    \n",
    "    # 擴展維度以符合 Autoencoder 輸入 (樣本數, max_len, n_mels, 1)\n",
    "    X = np.expand_dims(X, -1)\n",
    "    print(f\"特徵形狀（擴展後）: {X.shape}\")  # 預期形狀: (樣本數, max_len, n_mels, 1)\n",
    "    \n",
    "    return X\n",
    "\n"
   ],
   "outputs": [],
   "execution_count": 2
  },
  {
   "metadata": {},
   "cell_type": "markdown",
   "source": "# 3. 建立 Autoencoder 模型\n",
   "id": "55e34253937c671f"
  },
  {
   "metadata": {
    "ExecuteTime": {
     "end_time": "2024-11-05T07:44:24.383581Z",
     "start_time": "2024-11-05T07:44:24.369110Z"
    }
   },
   "cell_type": "code",
   "source": [
    "from keras.layers import Flatten, Dense, Reshape\n",
    "import tensorflow as tf\n",
    "from tensorflow.keras.models import Model\n",
    "from tensorflow.keras.layers import Input, Conv2D, MaxPooling2D, UpSampling2D, Dropout\n",
    "from tensorflow.keras.optimizers import Adam \n",
    "\n",
    "def combined_loss(y_true, y_pred):\n",
    "    mse_loss = tf.keras.losses.mean_squared_error(y_true, y_pred)\n",
    "    mae_loss = tf.keras.losses.mean_absolute_error(y_true, y_pred)\n",
    "    return mse_loss + mae_loss\n",
    "\n",
    "from tensorflow.keras.layers import BatchNormalization\n",
    "\n",
    "def create_autoencoder(input_shape):\n",
    "    input_img = Input(shape=input_shape)\n",
    "\n",
    "    # 編碼器\n",
    "    x = Conv2D(16, (3, 3), activation='relu', padding='same')(input_img)\n",
    "    x = BatchNormalization()(x)\n",
    "    x = MaxPooling2D((2, 2), padding='same')(x)\n",
    "    x = Dropout(0.3)(x)\n",
    "\n",
    "    x = Conv2D(32, (3, 3), activation='relu', padding='same')(x)\n",
    "    x = BatchNormalization()(x)\n",
    "    x = MaxPooling2D((2, 2), padding='same')(x)\n",
    "    x = Dropout(0.3)(x)\n",
    "\n",
    "    x = Conv2D(64, (3, 3), activation='relu', padding='same')(x)\n",
    "    x = BatchNormalization()(x)\n",
    "    encoded = MaxPooling2D((2, 2), padding='same')(x)\n",
    "    x = Dropout(0.3)(encoded)\n",
    "    \n",
    "    # Flatten and Dense layers at bottleneck\n",
    "    x = Flatten()(x)\n",
    "    x = Dense(128, activation='relu')(x)\n",
    "    x = Dense(64, activation='relu')(x)\n",
    "    x = Dense(128, activation='relu')(x)\n",
    "    x = BatchNormalization()(x)\n",
    "    x = Dense(encoded.shape[1] * encoded.shape[2] * encoded.shape[3], activation='relu')(x)\n",
    "    x = Reshape((encoded.shape[1], encoded.shape[2], encoded.shape[3]))(x)\n",
    "\n",
    "    # 解碼器\n",
    "    x = Conv2D(64, (3, 3), activation='relu', padding='same')(x)\n",
    "    x = BatchNormalization()(x)\n",
    "    x = UpSampling2D((2, 2))(x)\n",
    "    x = Dropout(0.3)(x)\n",
    "\n",
    "    x = Conv2D(32, (3, 3), activation='relu', padding='same')(x)\n",
    "    x = BatchNormalization()(x)\n",
    "    x = UpSampling2D((2, 2))(x)\n",
    "    x = Dropout(0.3)(x)\n",
    "\n",
    "    x = Conv2D(16, (3, 3), activation='relu', padding='same')(x)\n",
    "    x = BatchNormalization()(x)\n",
    "    x = UpSampling2D((2, 2))(x)\n",
    "    decoded = Conv2D(1, (3, 3), activation='linear', padding='same')(x)\n",
    "\n",
    "    autoencoder = Model(input_img, decoded)\n",
    "    autoencoder.compile(optimizer=tf.keras.optimizers.Adam(learning_rate=1e-4), loss='mse')\n",
    "\n",
    "    return autoencoder\n",
    "\n",
    "\n",
    "\n"
   ],
   "id": "e5d13120a6048b8e",
   "outputs": [],
   "execution_count": 3
  },
  {
   "metadata": {},
   "cell_type": "markdown",
   "source": "# 4. 訓練模型",
   "id": "d1041d396f002ca5"
  },
  {
   "metadata": {
    "ExecuteTime": {
     "end_time": "2024-11-05T07:44:24.415042Z",
     "start_time": "2024-11-05T07:44:24.400996Z"
    }
   },
   "cell_type": "code",
   "source": [
    "from keras.callbacks import EarlyStopping, ReduceLROnPlateau\n",
    "\n",
    "\n",
    "def train_autoencoder(autoencoder, X_train, epochs=50, batch_size=32, validation_split=0.1):\n",
    "    \"\"\"\n",
    "    訓練 Autoencoder 模型。\n",
    "\n",
    "    Args:\n",
    "        autoencoder (tensorflow.keras.Model): 已建立的 Autoencoder 模型。\n",
    "        X_train (np.ndarray): 訓練資料，形狀為 (樣本數, max_len, n_mels, 1)。\n",
    "        epochs (int): 訓練輪數。\n",
    "        batch_size (int): 批次大小。\n",
    "        validation_split (float): 驗證集比例。\n",
    "\n",
    "    Returns:\n",
    "        tensorflow.keras.callbacks.History: 訓練歷史紀錄。\n",
    "    \"\"\"\n",
    "    early_stopping = EarlyStopping(monitor='val_loss', patience=20, restore_best_weights=True)\n",
    "    reduce_lr = ReduceLROnPlateau(monitor='val_loss', factor=0.5, patience=10, min_lr=1e-6, verbose=1)\n",
    "    history = autoencoder.fit(\n",
    "        X_train, X_train,\n",
    "        epochs=epochs,\n",
    "        batch_size=batch_size,\n",
    "        shuffle=True,\n",
    "        validation_split=validation_split,\n",
    "        verbose=2,\n",
    "        callbacks=[early_stopping, reduce_lr]\n",
    "    )\n",
    "    return history"
   ],
   "id": "caa60b879d21434a",
   "outputs": [],
   "execution_count": 4
  },
  {
   "metadata": {},
   "cell_type": "markdown",
   "source": "# 5. 繪製訓練過程",
   "id": "528f1603853e0013"
  },
  {
   "metadata": {
    "ExecuteTime": {
     "end_time": "2024-11-05T07:44:24.445796Z",
     "start_time": "2024-11-05T07:44:24.431614Z"
    }
   },
   "cell_type": "code",
   "source": [
    "def plot_training_history(history, date):\n",
    "    \"\"\"\n",
    "    繪製訓練過程中的損失曲線。\n",
    "\n",
    "    Args:\n",
    "        history (tensorflow.keras.callbacks.History): 訓練歷史紀錄。\n",
    "        date (str): 日期時間字串。\n",
    "    \"\"\"\n",
    "    plt.figure(figsize=(10, 4))\n",
    "    plt.plot(history.history['loss'], label='Training Loss')\n",
    "    plt.plot(history.history['val_loss'], label='Validation Loss')\n",
    "    plt.legend()\n",
    "    plt.xlabel('Epochs')\n",
    "    plt.ylabel('Loss')\n",
    "    plt.title('Autoencoder Training History')\n",
    "    plt.show()\n",
    "    \n",
    "    plt.savefig(f'autoencoder_training_history_{date}.png')\n"
   ],
   "id": "7af6ef0fe55302cb",
   "outputs": [],
   "execution_count": 5
  },
  {
   "metadata": {},
   "cell_type": "markdown",
   "source": "# 6. 使用 Autoencoder 進行異常檢測\n",
   "id": "48f4e3f68035b7dc"
  },
  {
   "metadata": {
    "ExecuteTime": {
     "end_time": "2024-11-05T07:44:24.476902Z",
     "start_time": "2024-11-05T07:44:24.461964Z"
    }
   },
   "cell_type": "code",
   "source": [
    "def calculate_reconstruction_error(autoencoder, X):\n",
    "    \"\"\"\n",
    "    計算每個樣本的重建誤差（MSE）。\n",
    "\n",
    "    Args:\n",
    "        autoencoder (tensorflow.keras.Model): 已訓練的 Autoencoder 模型。\n",
    "        X (np.ndarray): 資料，形狀為 (樣本數, max_len, n_mels, 1)。\n",
    "\n",
    "    Returns:\n",
    "        np.ndarray: 每個樣本的 MSE，形狀為 (樣本數,)。\n",
    "    \"\"\"\n",
    "    reconstructions = autoencoder.predict(X)\n",
    "    mse = np.mean(np.power(X - reconstructions, 2), axis=(1,2,3))\n",
    "    return mse\n",
    "\n",
    "def determine_threshold(mse, percentile=95):\n",
    "    \"\"\"\n",
    "    根據重建誤差的百分位數設定閾值。\n",
    "\n",
    "    Args:\n",
    "        mse (np.ndarray): 重建誤差，形狀為 (樣本數,)。\n",
    "        percentile (float): 百分位數，用於設定閾值。\n",
    "\n",
    "    Returns:\n",
    "        float: 設定的閾值。\n",
    "    \"\"\"\n",
    "    threshold = np.percentile(mse, percentile)\n",
    "    return threshold\n",
    "\n",
    "def predict_anomaly(mse, threshold):\n",
    "    \"\"\"\n",
    "    根據重建誤差和閾值預測是否為異常。\n",
    "\n",
    "    Args:\n",
    "        mse (np.ndarray): 重建誤差，形狀為 (樣本數,)。\n",
    "        threshold (float): 重建誤差閾值。\n",
    "\n",
    "    Returns:\n",
    "        np.ndarray: 預測標籤，1 表示異常，0 表示正常。\n",
    "    \"\"\"\n",
    "    return (mse > threshold).astype(int)\n",
    "\n",
    "def evaluate_model(y_true, y_pred):\n",
    "    \"\"\"\n",
    "    評估模型的預測結果。\n",
    "\n",
    "    Args:\n",
    "        y_true (np.ndarray): 真實標籤，形狀為 (樣本數,)。\n",
    "        y_pred (np.ndarray): 預測標籤，形狀為 (樣本數,)。\n",
    "\n",
    "    \"\"\"\n",
    "    print(\"Confusion Matrix:\")\n",
    "    print(confusion_matrix(y_true, y_pred))\n",
    "    print(\"\\nClassification Report:\")\n",
    "    print(classification_report(y_true, y_pred))"
   ],
   "id": "2658a06f4a9db7e7",
   "outputs": [],
   "execution_count": 6
  },
  {
   "metadata": {
    "ExecuteTime": {
     "end_time": "2024-11-05T07:46:30.464693Z",
     "start_time": "2024-11-05T07:44:24.493660Z"
    }
   },
   "cell_type": "code",
   "source": [
    " # 訓練資料預處理（僅使用正常資料）\n",
    "X_train = create_normal_dataset('training_data')\n",
    "input_shape = (X_train.shape[1], X_train.shape[2], X_train.shape[3])\n",
    "print(input_shape)"
   ],
   "id": "77144cb141ef9e4a",
   "outputs": [
    {
     "name": "stdout",
     "output_type": "stream",
     "text": [
      "總正常樣本數: 10641\n",
      "特徵形狀（未正規化）: (10641, 192, 128)\n",
      "特徵形狀（擴展後）: (10641, 192, 128, 1)\n",
      "(192, 128, 1)\n"
     ]
    }
   ],
   "execution_count": 7
  },
  {
   "metadata": {
    "ExecuteTime": {
     "end_time": "2024-11-05T07:46:32.909377Z",
     "start_time": "2024-11-05T07:46:30.514436Z"
    }
   },
   "cell_type": "code",
   "source": [
    "# 建立 Autoencoder 模型\n",
    "autoencoder = create_autoencoder(input_shape)\n",
    "autoencoder.summary()"
   ],
   "id": "439f404e79a5e3c8",
   "outputs": [
    {
     "name": "stdout",
     "output_type": "stream",
     "text": [
      "Model: \"model\"\n",
      "_________________________________________________________________\n",
      " Layer (type)                Output Shape              Param #   \n",
      "=================================================================\n",
      " input_1 (InputLayer)        [(None, 192, 128, 1)]     0         \n",
      "                                                                 \n",
      " conv2d (Conv2D)             (None, 192, 128, 16)      160       \n",
      "                                                                 \n",
      " batch_normalization (BatchN  (None, 192, 128, 16)     64        \n",
      " ormalization)                                                   \n",
      "                                                                 \n",
      " max_pooling2d (MaxPooling2D  (None, 96, 64, 16)       0         \n",
      " )                                                               \n",
      "                                                                 \n",
      " dropout (Dropout)           (None, 96, 64, 16)        0         \n",
      "                                                                 \n",
      " conv2d_1 (Conv2D)           (None, 96, 64, 32)        4640      \n",
      "                                                                 \n",
      " batch_normalization_1 (Batc  (None, 96, 64, 32)       128       \n",
      " hNormalization)                                                 \n",
      "                                                                 \n",
      " max_pooling2d_1 (MaxPooling  (None, 48, 32, 32)       0         \n",
      " 2D)                                                             \n",
      "                                                                 \n",
      " dropout_1 (Dropout)         (None, 48, 32, 32)        0         \n",
      "                                                                 \n",
      " conv2d_2 (Conv2D)           (None, 48, 32, 64)        18496     \n",
      "                                                                 \n",
      " batch_normalization_2 (Batc  (None, 48, 32, 64)       256       \n",
      " hNormalization)                                                 \n",
      "                                                                 \n",
      " max_pooling2d_2 (MaxPooling  (None, 24, 16, 64)       0         \n",
      " 2D)                                                             \n",
      "                                                                 \n",
      " dropout_2 (Dropout)         (None, 24, 16, 64)        0         \n",
      "                                                                 \n",
      " flatten (Flatten)           (None, 24576)             0         \n",
      "                                                                 \n",
      " dense (Dense)               (None, 128)               3145856   \n",
      "                                                                 \n",
      " dense_1 (Dense)             (None, 64)                8256      \n",
      "                                                                 \n",
      " dense_2 (Dense)             (None, 128)               8320      \n",
      "                                                                 \n",
      " batch_normalization_3 (Batc  (None, 128)              512       \n",
      " hNormalization)                                                 \n",
      "                                                                 \n",
      " dense_3 (Dense)             (None, 24576)             3170304   \n",
      "                                                                 \n",
      " reshape (Reshape)           (None, 24, 16, 64)        0         \n",
      "                                                                 \n",
      " conv2d_3 (Conv2D)           (None, 24, 16, 64)        36928     \n",
      "                                                                 \n",
      " batch_normalization_4 (Batc  (None, 24, 16, 64)       256       \n",
      " hNormalization)                                                 \n",
      "                                                                 \n",
      " up_sampling2d (UpSampling2D  (None, 48, 32, 64)       0         \n",
      " )                                                               \n",
      "                                                                 \n",
      " dropout_3 (Dropout)         (None, 48, 32, 64)        0         \n",
      "                                                                 \n",
      " conv2d_4 (Conv2D)           (None, 48, 32, 32)        18464     \n",
      "                                                                 \n",
      " batch_normalization_5 (Batc  (None, 48, 32, 32)       128       \n",
      " hNormalization)                                                 \n",
      "                                                                 \n",
      " up_sampling2d_1 (UpSampling  (None, 96, 64, 32)       0         \n",
      " 2D)                                                             \n",
      "                                                                 \n",
      " dropout_4 (Dropout)         (None, 96, 64, 32)        0         \n",
      "                                                                 \n",
      " conv2d_5 (Conv2D)           (None, 96, 64, 16)        4624      \n",
      "                                                                 \n",
      " batch_normalization_6 (Batc  (None, 96, 64, 16)       64        \n",
      " hNormalization)                                                 \n",
      "                                                                 \n",
      " up_sampling2d_2 (UpSampling  (None, 192, 128, 16)     0         \n",
      " 2D)                                                             \n",
      "                                                                 \n",
      " conv2d_6 (Conv2D)           (None, 192, 128, 1)       145       \n",
      "                                                                 \n",
      "=================================================================\n",
      "Total params: 6,417,601\n",
      "Trainable params: 6,416,897\n",
      "Non-trainable params: 704\n",
      "_________________________________________________________________\n"
     ]
    }
   ],
   "execution_count": 8
  },
  {
   "metadata": {
    "ExecuteTime": {
     "end_time": "2024-11-05T08:04:59.420994Z",
     "start_time": "2024-11-05T07:46:32.927209Z"
    }
   },
   "cell_type": "code",
   "source": [
    "# 訓練 Autoencoder\n",
    "history = train_autoencoder(autoencoder, X_train, epochs=150, batch_size=32, validation_split=0.1)"
   ],
   "id": "48796801c346f82",
   "outputs": [
    {
     "name": "stdout",
     "output_type": "stream",
     "text": [
      "Epoch 1/150\n",
      "300/300 - 19s - loss: 0.6056 - val_loss: 0.6627 - lr: 1.0000e-04 - 19s/epoch - 62ms/step\n",
      "Epoch 2/150\n",
      "300/300 - 11s - loss: 0.2074 - val_loss: 0.4173 - lr: 1.0000e-04 - 11s/epoch - 38ms/step\n",
      "Epoch 3/150\n",
      "300/300 - 11s - loss: 0.1584 - val_loss: 0.3031 - lr: 1.0000e-04 - 11s/epoch - 36ms/step\n",
      "Epoch 4/150\n",
      "300/300 - 11s - loss: 0.1382 - val_loss: 0.3278 - lr: 1.0000e-04 - 11s/epoch - 36ms/step\n",
      "Epoch 5/150\n",
      "300/300 - 11s - loss: 0.1226 - val_loss: 0.2987 - lr: 1.0000e-04 - 11s/epoch - 36ms/step\n",
      "Epoch 6/150\n",
      "300/300 - 11s - loss: 0.1107 - val_loss: 0.3072 - lr: 1.0000e-04 - 11s/epoch - 36ms/step\n",
      "Epoch 7/150\n",
      "300/300 - 11s - loss: 0.1048 - val_loss: 0.2919 - lr: 1.0000e-04 - 11s/epoch - 36ms/step\n",
      "Epoch 8/150\n",
      "300/300 - 11s - loss: 0.0992 - val_loss: 0.2865 - lr: 1.0000e-04 - 11s/epoch - 36ms/step\n",
      "Epoch 9/150\n",
      "300/300 - 11s - loss: 0.0951 - val_loss: 0.2732 - lr: 1.0000e-04 - 11s/epoch - 36ms/step\n",
      "Epoch 10/150\n",
      "300/300 - 11s - loss: 0.0894 - val_loss: 0.2807 - lr: 1.0000e-04 - 11s/epoch - 36ms/step\n",
      "Epoch 11/150\n",
      "300/300 - 11s - loss: 0.0890 - val_loss: 0.2679 - lr: 1.0000e-04 - 11s/epoch - 36ms/step\n",
      "Epoch 12/150\n",
      "300/300 - 11s - loss: 0.0852 - val_loss: 0.2734 - lr: 1.0000e-04 - 11s/epoch - 36ms/step\n",
      "Epoch 13/150\n",
      "300/300 - 11s - loss: 0.0842 - val_loss: 0.2523 - lr: 1.0000e-04 - 11s/epoch - 36ms/step\n",
      "Epoch 14/150\n",
      "300/300 - 11s - loss: 0.0811 - val_loss: 0.2465 - lr: 1.0000e-04 - 11s/epoch - 36ms/step\n",
      "Epoch 15/150\n",
      "300/300 - 11s - loss: 0.0815 - val_loss: 0.2554 - lr: 1.0000e-04 - 11s/epoch - 36ms/step\n",
      "Epoch 16/150\n",
      "300/300 - 11s - loss: 0.0794 - val_loss: 0.2586 - lr: 1.0000e-04 - 11s/epoch - 36ms/step\n",
      "Epoch 17/150\n",
      "300/300 - 11s - loss: 0.0772 - val_loss: 0.2363 - lr: 1.0000e-04 - 11s/epoch - 36ms/step\n",
      "Epoch 18/150\n",
      "300/300 - 11s - loss: 0.0759 - val_loss: 0.2516 - lr: 1.0000e-04 - 11s/epoch - 36ms/step\n",
      "Epoch 19/150\n",
      "300/300 - 11s - loss: 0.0752 - val_loss: 0.2267 - lr: 1.0000e-04 - 11s/epoch - 36ms/step\n",
      "Epoch 20/150\n",
      "300/300 - 11s - loss: 0.0741 - val_loss: 0.2483 - lr: 1.0000e-04 - 11s/epoch - 36ms/step\n",
      "Epoch 21/150\n",
      "300/300 - 11s - loss: 0.0752 - val_loss: 0.2450 - lr: 1.0000e-04 - 11s/epoch - 36ms/step\n",
      "Epoch 22/150\n",
      "300/300 - 11s - loss: 0.0735 - val_loss: 0.2409 - lr: 1.0000e-04 - 11s/epoch - 36ms/step\n",
      "Epoch 23/150\n",
      "300/300 - 11s - loss: 0.0693 - val_loss: 0.2474 - lr: 1.0000e-04 - 11s/epoch - 36ms/step\n",
      "Epoch 24/150\n",
      "300/300 - 11s - loss: 0.0701 - val_loss: 0.2376 - lr: 1.0000e-04 - 11s/epoch - 36ms/step\n",
      "Epoch 25/150\n",
      "300/300 - 11s - loss: 0.0706 - val_loss: 0.2202 - lr: 1.0000e-04 - 11s/epoch - 36ms/step\n",
      "Epoch 26/150\n",
      "300/300 - 11s - loss: 0.0705 - val_loss: 0.2345 - lr: 1.0000e-04 - 11s/epoch - 36ms/step\n",
      "Epoch 27/150\n",
      "300/300 - 11s - loss: 0.0684 - val_loss: 0.2323 - lr: 1.0000e-04 - 11s/epoch - 36ms/step\n",
      "Epoch 28/150\n",
      "300/300 - 11s - loss: 0.0679 - val_loss: 0.2275 - lr: 1.0000e-04 - 11s/epoch - 36ms/step\n",
      "Epoch 29/150\n",
      "300/300 - 11s - loss: 0.0668 - val_loss: 0.2121 - lr: 1.0000e-04 - 11s/epoch - 36ms/step\n",
      "Epoch 30/150\n",
      "300/300 - 11s - loss: 0.0654 - val_loss: 0.2210 - lr: 1.0000e-04 - 11s/epoch - 36ms/step\n",
      "Epoch 31/150\n",
      "300/300 - 11s - loss: 0.0665 - val_loss: 0.2166 - lr: 1.0000e-04 - 11s/epoch - 36ms/step\n",
      "Epoch 32/150\n",
      "300/300 - 11s - loss: 0.0627 - val_loss: 0.2229 - lr: 1.0000e-04 - 11s/epoch - 36ms/step\n",
      "Epoch 33/150\n",
      "300/300 - 11s - loss: 0.0664 - val_loss: 0.2080 - lr: 1.0000e-04 - 11s/epoch - 36ms/step\n",
      "Epoch 34/150\n",
      "300/300 - 11s - loss: 0.0658 - val_loss: 0.2332 - lr: 1.0000e-04 - 11s/epoch - 36ms/step\n",
      "Epoch 35/150\n",
      "300/300 - 11s - loss: 0.0645 - val_loss: 0.2364 - lr: 1.0000e-04 - 11s/epoch - 36ms/step\n",
      "Epoch 36/150\n",
      "300/300 - 11s - loss: 0.0608 - val_loss: 0.2374 - lr: 1.0000e-04 - 11s/epoch - 36ms/step\n",
      "Epoch 37/150\n",
      "300/300 - 11s - loss: 0.0619 - val_loss: 0.2291 - lr: 1.0000e-04 - 11s/epoch - 36ms/step\n",
      "Epoch 38/150\n",
      "300/300 - 11s - loss: 0.0614 - val_loss: 0.2189 - lr: 1.0000e-04 - 11s/epoch - 36ms/step\n",
      "Epoch 39/150\n",
      "300/300 - 11s - loss: 0.0622 - val_loss: 0.1983 - lr: 1.0000e-04 - 11s/epoch - 36ms/step\n",
      "Epoch 40/150\n",
      "300/300 - 11s - loss: 0.0616 - val_loss: 0.1975 - lr: 1.0000e-04 - 11s/epoch - 36ms/step\n",
      "Epoch 41/150\n",
      "300/300 - 11s - loss: 0.0588 - val_loss: 0.2108 - lr: 1.0000e-04 - 11s/epoch - 36ms/step\n",
      "Epoch 42/150\n",
      "300/300 - 11s - loss: 0.0618 - val_loss: 0.2053 - lr: 1.0000e-04 - 11s/epoch - 36ms/step\n",
      "Epoch 43/150\n",
      "300/300 - 11s - loss: 0.0593 - val_loss: 0.2164 - lr: 1.0000e-04 - 11s/epoch - 36ms/step\n",
      "Epoch 44/150\n",
      "300/300 - 11s - loss: 0.0602 - val_loss: 0.2101 - lr: 1.0000e-04 - 11s/epoch - 36ms/step\n",
      "Epoch 45/150\n",
      "300/300 - 11s - loss: 0.0610 - val_loss: 0.1944 - lr: 1.0000e-04 - 11s/epoch - 36ms/step\n",
      "Epoch 46/150\n",
      "300/300 - 11s - loss: 0.0607 - val_loss: 0.2040 - lr: 1.0000e-04 - 11s/epoch - 36ms/step\n",
      "Epoch 47/150\n",
      "300/300 - 11s - loss: 0.0613 - val_loss: 0.2102 - lr: 1.0000e-04 - 11s/epoch - 36ms/step\n",
      "Epoch 48/150\n",
      "300/300 - 11s - loss: 0.0609 - val_loss: 0.1957 - lr: 1.0000e-04 - 11s/epoch - 36ms/step\n",
      "Epoch 49/150\n",
      "300/300 - 11s - loss: 0.0571 - val_loss: 0.2235 - lr: 1.0000e-04 - 11s/epoch - 36ms/step\n",
      "Epoch 50/150\n",
      "300/300 - 11s - loss: 0.0574 - val_loss: 0.2083 - lr: 1.0000e-04 - 11s/epoch - 36ms/step\n",
      "Epoch 51/150\n",
      "300/300 - 11s - loss: 0.0582 - val_loss: 0.2088 - lr: 1.0000e-04 - 11s/epoch - 36ms/step\n",
      "Epoch 52/150\n",
      "300/300 - 11s - loss: 0.0598 - val_loss: 0.1943 - lr: 1.0000e-04 - 11s/epoch - 36ms/step\n",
      "Epoch 53/150\n",
      "300/300 - 12s - loss: 0.0611 - val_loss: 0.2032 - lr: 1.0000e-04 - 12s/epoch - 38ms/step\n",
      "Epoch 54/150\n",
      "300/300 - 11s - loss: 0.0612 - val_loss: 0.2154 - lr: 1.0000e-04 - 11s/epoch - 37ms/step\n",
      "Epoch 55/150\n",
      "300/300 - 11s - loss: 0.0608 - val_loss: 0.1952 - lr: 1.0000e-04 - 11s/epoch - 36ms/step\n",
      "Epoch 56/150\n",
      "300/300 - 11s - loss: 0.0595 - val_loss: 0.1951 - lr: 1.0000e-04 - 11s/epoch - 37ms/step\n",
      "Epoch 57/150\n",
      "300/300 - 11s - loss: 0.0567 - val_loss: 0.2048 - lr: 1.0000e-04 - 11s/epoch - 36ms/step\n",
      "Epoch 58/150\n",
      "300/300 - 11s - loss: 0.0591 - val_loss: 0.1914 - lr: 1.0000e-04 - 11s/epoch - 37ms/step\n",
      "Epoch 59/150\n",
      "300/300 - 11s - loss: 0.0593 - val_loss: 0.2016 - lr: 1.0000e-04 - 11s/epoch - 37ms/step\n",
      "Epoch 60/150\n",
      "300/300 - 11s - loss: 0.0588 - val_loss: 0.2009 - lr: 1.0000e-04 - 11s/epoch - 37ms/step\n",
      "Epoch 61/150\n",
      "300/300 - 11s - loss: 0.0561 - val_loss: 0.2127 - lr: 1.0000e-04 - 11s/epoch - 37ms/step\n",
      "Epoch 62/150\n",
      "300/300 - 11s - loss: 0.0579 - val_loss: 0.1956 - lr: 1.0000e-04 - 11s/epoch - 37ms/step\n",
      "Epoch 63/150\n",
      "300/300 - 11s - loss: 0.0568 - val_loss: 0.2032 - lr: 1.0000e-04 - 11s/epoch - 36ms/step\n",
      "Epoch 64/150\n",
      "300/300 - 11s - loss: 0.0593 - val_loss: 0.1839 - lr: 1.0000e-04 - 11s/epoch - 36ms/step\n",
      "Epoch 65/150\n",
      "300/300 - 11s - loss: 0.0570 - val_loss: 0.2072 - lr: 1.0000e-04 - 11s/epoch - 37ms/step\n",
      "Epoch 66/150\n",
      "300/300 - 11s - loss: 0.0552 - val_loss: 0.2131 - lr: 1.0000e-04 - 11s/epoch - 37ms/step\n",
      "Epoch 67/150\n",
      "300/300 - 11s - loss: 0.0587 - val_loss: 0.2138 - lr: 1.0000e-04 - 11s/epoch - 37ms/step\n",
      "Epoch 68/150\n",
      "300/300 - 11s - loss: 0.0576 - val_loss: 0.2054 - lr: 1.0000e-04 - 11s/epoch - 38ms/step\n",
      "Epoch 69/150\n",
      "300/300 - 11s - loss: 0.0532 - val_loss: 0.2135 - lr: 1.0000e-04 - 11s/epoch - 38ms/step\n",
      "Epoch 70/150\n",
      "300/300 - 11s - loss: 0.0547 - val_loss: 0.2110 - lr: 1.0000e-04 - 11s/epoch - 38ms/step\n",
      "Epoch 71/150\n",
      "300/300 - 11s - loss: 0.0554 - val_loss: 0.1692 - lr: 1.0000e-04 - 11s/epoch - 38ms/step\n",
      "Epoch 72/150\n",
      "300/300 - 11s - loss: 0.0568 - val_loss: 0.1998 - lr: 1.0000e-04 - 11s/epoch - 38ms/step\n",
      "Epoch 73/150\n",
      "300/300 - 11s - loss: 0.0555 - val_loss: 0.1832 - lr: 1.0000e-04 - 11s/epoch - 38ms/step\n",
      "Epoch 74/150\n",
      "300/300 - 11s - loss: 0.0546 - val_loss: 0.1858 - lr: 1.0000e-04 - 11s/epoch - 38ms/step\n",
      "Epoch 75/150\n",
      "300/300 - 11s - loss: 0.0566 - val_loss: 0.1893 - lr: 1.0000e-04 - 11s/epoch - 38ms/step\n",
      "Epoch 76/150\n",
      "300/300 - 11s - loss: 0.0566 - val_loss: 0.1710 - lr: 1.0000e-04 - 11s/epoch - 38ms/step\n",
      "Epoch 77/150\n",
      "300/300 - 11s - loss: 0.0565 - val_loss: 0.1847 - lr: 1.0000e-04 - 11s/epoch - 38ms/step\n",
      "Epoch 78/150\n",
      "300/300 - 11s - loss: 0.0560 - val_loss: 0.1773 - lr: 1.0000e-04 - 11s/epoch - 38ms/step\n",
      "Epoch 79/150\n",
      "300/300 - 11s - loss: 0.0557 - val_loss: 0.1752 - lr: 1.0000e-04 - 11s/epoch - 38ms/step\n",
      "Epoch 80/150\n",
      "300/300 - 11s - loss: 0.0557 - val_loss: 0.1615 - lr: 1.0000e-04 - 11s/epoch - 38ms/step\n",
      "Epoch 81/150\n",
      "300/300 - 11s - loss: 0.0572 - val_loss: 0.1741 - lr: 1.0000e-04 - 11s/epoch - 38ms/step\n",
      "Epoch 82/150\n",
      "300/300 - 11s - loss: 0.0558 - val_loss: 0.1800 - lr: 1.0000e-04 - 11s/epoch - 38ms/step\n",
      "Epoch 83/150\n",
      "300/300 - 11s - loss: 0.0560 - val_loss: 0.1689 - lr: 1.0000e-04 - 11s/epoch - 38ms/step\n",
      "Epoch 84/150\n",
      "300/300 - 12s - loss: 0.0551 - val_loss: 0.1770 - lr: 1.0000e-04 - 12s/epoch - 39ms/step\n",
      "Epoch 85/150\n",
      "300/300 - 12s - loss: 0.0555 - val_loss: 0.1742 - lr: 1.0000e-04 - 12s/epoch - 39ms/step\n",
      "Epoch 86/150\n",
      "300/300 - 12s - loss: 0.0526 - val_loss: 0.1689 - lr: 1.0000e-04 - 12s/epoch - 39ms/step\n",
      "Epoch 87/150\n",
      "300/300 - 11s - loss: 0.0571 - val_loss: 0.1690 - lr: 1.0000e-04 - 11s/epoch - 37ms/step\n",
      "Epoch 88/150\n",
      "300/300 - 11s - loss: 0.0555 - val_loss: 0.1732 - lr: 1.0000e-04 - 11s/epoch - 37ms/step\n",
      "Epoch 89/150\n",
      "300/300 - 11s - loss: 0.0555 - val_loss: 0.1769 - lr: 1.0000e-04 - 11s/epoch - 36ms/step\n",
      "Epoch 90/150\n",
      "\n",
      "Epoch 90: ReduceLROnPlateau reducing learning rate to 4.999999873689376e-05.\n",
      "300/300 - 11s - loss: 0.0539 - val_loss: 0.1715 - lr: 1.0000e-04 - 11s/epoch - 37ms/step\n",
      "Epoch 91/150\n",
      "300/300 - 11s - loss: 0.0538 - val_loss: 0.1725 - lr: 5.0000e-05 - 11s/epoch - 38ms/step\n",
      "Epoch 92/150\n",
      "300/300 - 11s - loss: 0.0515 - val_loss: 0.1751 - lr: 5.0000e-05 - 11s/epoch - 37ms/step\n",
      "Epoch 93/150\n",
      "300/300 - 11s - loss: 0.0536 - val_loss: 0.1737 - lr: 5.0000e-05 - 11s/epoch - 37ms/step\n",
      "Epoch 94/150\n",
      "300/300 - 11s - loss: 0.0535 - val_loss: 0.1721 - lr: 5.0000e-05 - 11s/epoch - 36ms/step\n",
      "Epoch 95/150\n",
      "300/300 - 11s - loss: 0.0536 - val_loss: 0.1763 - lr: 5.0000e-05 - 11s/epoch - 36ms/step\n",
      "Epoch 96/150\n",
      "300/300 - 11s - loss: 0.0536 - val_loss: 0.1734 - lr: 5.0000e-05 - 11s/epoch - 36ms/step\n",
      "Epoch 97/150\n",
      "300/300 - 11s - loss: 0.0529 - val_loss: 0.1747 - lr: 5.0000e-05 - 11s/epoch - 36ms/step\n",
      "Epoch 98/150\n",
      "300/300 - 11s - loss: 0.0528 - val_loss: 0.1716 - lr: 5.0000e-05 - 11s/epoch - 36ms/step\n",
      "Epoch 99/150\n",
      "300/300 - 11s - loss: 0.0516 - val_loss: 0.1748 - lr: 5.0000e-05 - 11s/epoch - 36ms/step\n",
      "Epoch 100/150\n",
      "\n",
      "Epoch 100: ReduceLROnPlateau reducing learning rate to 2.499999936844688e-05.\n",
      "300/300 - 11s - loss: 0.0528 - val_loss: 0.1736 - lr: 5.0000e-05 - 11s/epoch - 37ms/step\n"
     ]
    }
   ],
   "execution_count": 9
  },
  {
   "metadata": {
    "ExecuteTime": {
     "end_time": "2024-11-05T08:04:59.670986Z",
     "start_time": "2024-11-05T08:04:59.438108Z"
    }
   },
   "cell_type": "code",
   "source": [
    "# 繪製訓練過程\n",
    "from datetime import datetime\n",
    "date = datetime.now().strftime('%Y%m%d%H%M')\n",
    "plot_training_history(history, date)"
   ],
   "id": "15923d742da62d7e",
   "outputs": [
    {
     "data": {
      "text/plain": [
       "<Figure size 1000x400 with 1 Axes>"
      ],
      "image/png": "[encoded data removed]"
     },
     "metadata": {},
     "output_type": "display_data"
    },
    {
     "data": {
      "text/plain": [
       "<Figure size 640x480 with 0 Axes>"
      ]
     },
     "metadata": {},
     "output_type": "display_data"
    }
   ],
   "execution_count": 10
  },
  {
   "metadata": {
    "ExecuteTime": {
     "end_time": "2024-11-05T08:05:10.005136Z",
     "start_time": "2024-11-05T08:04:59.767894Z"
    }
   },
   "cell_type": "code",
   "source": [
    "\n",
    "\n",
    "# 保存 Autoencoder 模型\n",
    "autoencoder.save(f'model_autoencoder_{date}.h5')\n",
    "print(f\"Autoencoder 模型已保存為 f'model_autoencoder_{date}.h5\")\n",
    "\n",
    "# 計算並設定閾值\n",
    "mse_train = calculate_reconstruction_error(autoencoder, X_train)\n",
    "threshold = determine_threshold(mse_train, percentile=95)\n",
    "print(f\"Autoencoder 重建誤差閾值設定為: {threshold}\")\n",
    "\n",
    "# 保存閾值\n",
    "with open(f'autoencoder_threshold_{date}.txt', 'w') as f:\n",
    "    f.write(str(threshold))\n",
    "print(f\"Autoencoder 閾值已保存為 'autoencoder_threshold_{date}.txt'\")"
   ],
   "id": "f12c8631094d89a2",
   "outputs": [
    {
     "name": "stdout",
     "output_type": "stream",
     "text": [
      "Autoencoder 模型已保存為 f'model_autoencoder_202411051604.h5\n",
      "333/333 [==============================] - 3s 8ms/step\n",
      "Autoencoder 重建誤差閾值設定為: 0.5204641046759123\n",
      "Autoencoder 閾值已保存為 'autoencoder_threshold_202411051604.txt'\n"
     ]
    }
   ],
   "execution_count": 11
  },
  {
   "metadata": {
    "ExecuteTime": {
     "end_time": "2024-11-05T08:05:10.036514Z",
     "start_time": "2024-11-05T08:05:10.021570Z"
    }
   },
   "cell_type": "code",
   "source": [
    "def load_test_files(directory, desired_time=2.0, n_mels=128, n_fft=2048, hop_length=512):\n",
    "    \"\"\"\n",
    "    載入測試資料，包括正常和異常資料。\n",
    "    \"\"\"\n",
    "    test_files = []\n",
    "    y_test = []\n",
    "    for dir in os.listdir(directory):\n",
    "        if 'no-leak' in dir:\n",
    "            label = 0\n",
    "        else:\n",
    "            label = 1\n",
    "        dir_path = os.path.join(directory, dir)\n",
    "        if not os.path.isdir(dir_path):\n",
    "            continue\n",
    "        for file in os.listdir(dir_path):\n",
    "            if not file.endswith(\".wav\"):\n",
    "                continue\n",
    "            file_path = os.path.join(dir_path, file)\n",
    "            y, sr = librosa.load(file_path, sr=None)\n",
    "            y = augment_audio(y, sr)  # 應用資料增強\n",
    "            feature = extract_features(\n",
    "                y, sr, desired_time=desired_time, n_mels=n_mels, n_fft=n_fft, hop_length=hop_length\n",
    "            )\n",
    "            feature = (feature - np.mean(feature)) / np.std(feature)\n",
    "            feature = np.expand_dims(feature, -1)  # (target_len, n_mels, 1)\n",
    "            test_files.append(feature)\n",
    "            y_test.append(label)\n",
    "    \n",
    "    X_test = np.array(test_files)\n",
    "    print(f\"測試資料形狀: {X_test.shape}\")\n",
    "    y_test = np.array(y_test)\n",
    "    return X_test, y_test"
   ],
   "id": "f7cf2444d9034a96",
   "outputs": [],
   "execution_count": 12
  },
  {
   "metadata": {
    "ExecuteTime": {
     "end_time": "2024-11-05T08:05:10.129081Z",
     "start_time": "2024-11-05T08:05:10.053437Z"
    }
   },
   "cell_type": "code",
   "source": [
    "# 載入測試資料\n",
    "X_test, y_test = load_test_files(\n",
    "    'validate_data/2024-10-29', desired_time=2.0, n_mels=128, n_fft=2048, hop_length=512\n",
    ")\n"
   ],
   "id": "2d495c9f41f4db0e",
   "outputs": [
    {
     "name": "stdout",
     "output_type": "stream",
     "text": [
      "測試資料形狀: (7, 192, 128, 1)\n"
     ]
    }
   ],
   "execution_count": 13
  },
  {
   "metadata": {
    "ExecuteTime": {
     "end_time": "2024-11-05T08:05:10.547344Z",
     "start_time": "2024-11-05T08:05:10.146110Z"
    }
   },
   "cell_type": "code",
   "source": [
    "import matplotlib\n",
    "y_test\n",
    "# 計算重建誤差\n",
    "mse_test = calculate_reconstruction_error(autoencoder, X_test)\n",
    "print(f\"測試資料重建誤差: {mse_test}\")"
   ],
   "id": "160bb4023c26e393",
   "outputs": [
    {
     "name": "stdout",
     "output_type": "stream",
     "text": [
      "1/1 [==============================] - 0s 283ms/step\n",
      "測試資料重建誤差: [0.12047607 0.10618949 0.09661053 0.09440707 0.14453075 0.09874918\n",
      " 0.28294648]\n"
     ]
    }
   ],
   "execution_count": 14
  },
  {
   "metadata": {
    "ExecuteTime": {
     "end_time": "2024-11-05T08:05:10.794672Z",
     "start_time": "2024-11-05T08:05:10.563984Z"
    }
   },
   "cell_type": "code",
   "source": [
    "# 預測異常\n",
    "y_pred = predict_anomaly(mse_test, threshold)\n",
    "\n",
    "print(\"預測結果:\")\n",
    "print(f'正常: {np.sum(y_pred == 0)}')\n",
    "print(f'異常: {np.sum(y_pred == 1)}')\n",
    "\n",
    "# 評估模型\n",
    "evaluate_model(y_test, y_pred)\n",
    "matplotlib.rc('font', family='Microsoft JhengHei')\n",
    "# 繪製重建誤差分佈\n",
    "plt.figure(figsize=(10,6))\n",
    "plt.hist(mse_test[y_test == 0], bins=50, alpha=0.6, label='正常')\n",
    "plt.hist(mse_test[y_test == 1], bins=50, alpha=0.6, label='異常')\n",
    "plt.axvline(threshold, color='red', linestyle='dashed', linewidth=2, label='閾值')\n",
    "plt.xlabel('重建誤差 (MSE)')\n",
    "plt.ylabel('頻率')\n",
    "plt.legend()\n",
    "plt.title('重建誤差分佈')\n",
    "plt.show()"
   ],
   "id": "cea81589f24f2fc6",
   "outputs": [
    {
     "name": "stdout",
     "output_type": "stream",
     "text": [
      "預測結果:\n",
      "正常: 7\n",
      "異常: 0\n",
      "Confusion Matrix:\n",
      "[[3 0]\n",
      " [4 0]]\n",
      "\n",
      "Classification Report:\n",
      "              precision    recall  f1-score   support\n",
      "\n",
      "           0       0.43      1.00      0.60         3\n",
      "           1       0.00      0.00      0.00         4\n",
      "\n",
      "    accuracy                           0.43         7\n",
      "   macro avg       0.21      0.50      0.30         7\n",
      "weighted avg       0.18      0.43      0.26         7\n",
      "\n"
     ]
    },
    {
     "name": "stderr",
     "output_type": "stream",
     "text": [
      "C:\\Users\\User\\miniconda3\\envs\\leak_detection\\lib\\site-packages\\sklearn\\metrics\\_classification.py:1531: UndefinedMetricWarning: Precision is ill-defined and being set to 0.0 in labels with no predicted samples. Use `zero_division` parameter to control this behavior.\n",
      "  _warn_prf(average, modifier, f\"{metric.capitalize()} is\", len(result))\n",
      "C:\\Users\\User\\miniconda3\\envs\\leak_detection\\lib\\site-packages\\sklearn\\metrics\\_classification.py:1531: UndefinedMetricWarning: Precision is ill-defined and being set to 0.0 in labels with no predicted samples. Use `zero_division` parameter to control this behavior.\n",
      "  _warn_prf(average, modifier, f\"{metric.capitalize()} is\", len(result))\n",
      "C:\\Users\\User\\miniconda3\\envs\\leak_detection\\lib\\site-packages\\sklearn\\metrics\\_classification.py:1531: UndefinedMetricWarning: Precision is ill-defined and being set to 0.0 in labels with no predicted samples. Use `zero_division` parameter to control this behavior.\n",
      "  _warn_prf(average, modifier, f\"{metric.capitalize()} is\", len(result))\n"
     ]
    },
    {
     "data": {
      "text/plain": [
       "<Figure size 1000x600 with 1 Axes>"
      ],
      "image/png": "[encoded data removed]"
     },
     "metadata": {},
     "output_type": "display_data"
    }
   ],
   "execution_count": 15
  }
 ],
 "metadata": {
  "kernelspec": {
   "display_name": "Python 3",
   "language": "python",
   "name": "python3"
  },
  "language_info": {
   "codemirror_mode": {
    "name": "ipython",
    "version": 2
   },
   "file_extension": ".py",
   "mimetype": "text/x-python",
   "name": "python",
   "nbconvert_exporter": "python",
   "pygments_lexer": "ipython2",
   "version": "2.7.6"
  }
 },
 "nbformat": 4,
 "nbformat_minor": 5
}
