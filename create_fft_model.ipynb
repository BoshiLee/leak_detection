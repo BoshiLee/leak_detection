{
 "cells": [
  {
   "metadata": {
    "ExecuteTime": {
     "end_time": "2024-11-13T14:58:45.696727Z",
     "start_time": "2024-11-13T14:58:41.817526Z"
    }
   },
   "cell_type": "code",
   "source": [
    "from datetime import datetime\n",
    "import librosa.display\n",
    "import os\n",
    "import librosa\n",
    "import numpy as np\n",
    "from sklearn.model_selection import train_test_split\n",
    "import random\n",
    "\n",
    "from tensorflow.python.keras.layers import Conv1D\n"
   ],
   "id": "c9272ced716478d7",
   "outputs": [],
   "execution_count": 1
  },
  {
   "metadata": {},
   "cell_type": "markdown",
   "source": "# 1. 資料加載與標記",
   "id": "a6fb182aae4eb89"
  },
  {
   "cell_type": "code",
   "id": "initial_id",
   "metadata": {
    "collapsed": true,
    "ExecuteTime": {
     "end_time": "2024-11-13T14:58:45.711975Z",
     "start_time": "2024-11-13T14:58:45.700728Z"
    }
   },
   "source": [
    "def load_segmented_files(directory, target_sr=32000):\n",
    "    wav_files = []\n",
    "    leak_wav_files = []\n",
    "    print(f\"共有 {len(os.listdir(directory))} 個資料夾\")\n",
    "    for dir in os.listdir(directory):\n",
    "        if not os.path.isdir(os.path.join(directory, dir)):\n",
    "            continue\n",
    "        print(f\"正在處理 {dir} 資料夾，共有 {len(os.listdir(os.path.join(directory, dir)))} 個檔案\")\n",
    "        for file in tqdm(os.listdir(os.path.join(directory, dir))):\n",
    "            if not file.endswith(\".wav\"):\n",
    "                continue\n",
    "            file_path = os.path.join(directory, dir, file)\n",
    "            y, sr = librosa.load(file_path, sr=None, mono=True)\n",
    "            if sr != target_sr:\n",
    "                    y = librosa.resample(y, orig_sr=sr, target_sr=target_sr)\n",
    "            filename = f'{dir}_{file}'\n",
    "            # y_filt = bandpass_filter(y, sr=target_sr, lowcut=10, highcut=1500)\n",
    "            if 'Leak' in dir:\n",
    "                leak_wav_files.append((y, target_sr, filename))\n",
    "            else:\n",
    "                wav_files.append((y, target_sr, filename))\n",
    "    print(f\"共有 {len(wav_files) + len(leak_wav_files)} 個 wav 檔案，其中 {len(leak_wav_files)} 個有泄漏，{len(wav_files)} 個沒有泄漏\")\n",
    "    return wav_files, leak_wav_files \n",
    "\n",
    "\n",
    "# 比較數量，均衡資料\n",
    "def balance_shuffle_data(wav_files, leak_wav_files):\n",
    "    min_count = min(len(wav_files), len(leak_wav_files))\n",
    "    wav_files = random.sample(wav_files, min_count)\n",
    "    leak_wav_files = random.sample(leak_wav_files, min_count)\n",
    "    \n",
    "    print(f\"均衡後的樣本數: {min_count}\")\n",
    "    return wav_files, leak_wav_files\n",
    "\n",
    "\n",
    "def create_dataset(directory):\n",
    "    wav_files, leak_wav_files = load_segmented_files(directory)\n",
    "    wav_files, leak_wav_files = balance_shuffle_data(wav_files, leak_wav_files)\n",
    "    \n",
    "    # 將資料轉為 NumPy 格式\n",
    "    X = []\n",
    "    y = []\n",
    "    \n",
    "    for audio, sr, filename in wav_files:\n",
    "        X.append((audio, sr))\n",
    "        y.append(0)  # wav_files 標記為 0\n",
    "    \n",
    "    for audio, sr, filename in leak_wav_files:\n",
    "        X.append((audio, sr))\n",
    "        y.append(1)  # leak_wav_files 標記為 1\n",
    "    \n",
    "    np.bincount(y)\n",
    "    return np.array(X, dtype=object), np.array(y)\n"
   ],
   "outputs": [],
   "execution_count": 2
  },
  {
   "metadata": {},
   "cell_type": "markdown",
   "source": "# 2. 特徵提取與資料預處理",
   "id": "b7788a5b8d4c0b5d"
  },
  {
   "metadata": {
    "ExecuteTime": {
     "end_time": "2024-11-13T14:58:45.944884Z",
     "start_time": "2024-11-13T14:58:45.931782Z"
    }
   },
   "cell_type": "code",
   "source": [
    "from tqdm import tqdm\n",
    "from data_preprocess import compute_fft\n",
    "\n",
    "def preprocess_data(X, desired_time=2.0, n_fft=2048):\n",
    "    features = []\n",
    "    for audio, sr in tqdm(X):\n",
    "        _, feature = compute_fft(audio, sr, desired_time=desired_time, n_fft=n_fft)\n",
    "        features.append(feature)\n",
    "    return np.array(features)\n"
   ],
   "id": "5cb187713d43dd39",
   "outputs": [],
   "execution_count": 3
  },
  {
   "metadata": {
    "ExecuteTime": {
     "end_time": "2024-11-13T14:58:45.975886Z",
     "start_time": "2024-11-13T14:58:45.960885Z"
    }
   },
   "cell_type": "code",
   "source": [
    "def create_training_data(X,y, desired_time=2.0, n_fft=2048):\n",
    "    \n",
    "    print(f\"總樣本數: {len(X)}\")\n",
    "    print(f\"標籤分佈: {np.bincount(y)}\")\n",
    "    \n",
    "    \n",
    "    X_features = preprocess_data(X, desired_time=desired_time, n_fft=n_fft)\n",
    "    \n",
    "    print(f\"特徵形狀: {X_features.shape}\")  # 預期形狀: (樣本數, max_len, n_mels)\n",
    "    \n",
    "    # 正規化特徵\n",
    "    X_features = (X_features - np.mean(X_features)) / np.std(X_features)\n",
    "    \n",
    "    # 擴展維度以符合 CNN 輸入 (樣本數, 高, 寬, 通道)\n",
    "    X_features = np.expand_dims(X_features, -1) # (樣本數, max_len, n_mels, 1)\n",
    "    \n",
    "    # 分割訓練集與測試集\n",
    "    X_train, X_test, y_train, y_test = train_test_split(X_features, y, test_size=0.2)\n",
    "    \n",
    "    print(f\"訓練集形狀: {X_train.shape}\")\n",
    "    print(f\"測試集形狀: {X_test.shape}\")\n",
    "    \n",
    "    return X_train, X_test, y_train, y_test"
   ],
   "id": "52f0af5743941c11",
   "outputs": [],
   "execution_count": 4
  },
  {
   "metadata": {
    "ExecuteTime": {
     "end_time": "2024-11-13T15:04:19.663658Z",
     "start_time": "2024-11-13T14:58:45.993900Z"
    }
   },
   "cell_type": "code",
   "source": "X, y = create_dataset('training_data')",
   "id": "825424b5a3c3bd79",
   "outputs": [
    {
     "name": "stdout",
     "output_type": "stream",
     "text": [
      "共有 2 個資料夾\n",
      "正在處理 Leak 資料夾，共有 4031 個檔案\n"
     ]
    },
    {
     "name": "stderr",
     "output_type": "stream",
     "text": [
      "100%|██████████| 4031/4031 [02:38<00:00, 25.38it/s]\n"
     ]
    },
    {
     "name": "stdout",
     "output_type": "stream",
     "text": [
      "正在處理 no-leak 資料夾，共有 4409 個檔案\n"
     ]
    },
    {
     "name": "stderr",
     "output_type": "stream",
     "text": [
      "100%|██████████| 4409/4409 [02:54<00:00, 25.23it/s]"
     ]
    },
    {
     "name": "stdout",
     "output_type": "stream",
     "text": [
      "共有 8440 個 wav 檔案，其中 4031 個有泄漏，4409 個沒有泄漏\n",
      "均衡後的樣本數: 4031\n"
     ]
    },
    {
     "name": "stderr",
     "output_type": "stream",
     "text": [
      "\n"
     ]
    }
   ],
   "execution_count": 5
  },
  {
   "metadata": {
    "ExecuteTime": {
     "end_time": "2024-11-13T15:04:20.098205Z",
     "start_time": "2024-11-13T15:04:19.838604Z"
    }
   },
   "cell_type": "code",
   "source": [
    "from dotenv import load_dotenv\n",
    "load_dotenv()\n",
    "desired_time = float(os.getenv('DESIRED_TIME'))\n",
    "n_fft = int(os.getenv('N_FFT'))\n",
    "\n",
    "X_train, X_test, y_train, y_test = create_training_data(X, y, desired_time=desired_time, n_fft=n_fft)"
   ],
   "id": "bd7b7beb007bb659",
   "outputs": [
    {
     "name": "stdout",
     "output_type": "stream",
     "text": [
      "總樣本數: 8062\n",
      "標籤分佈: [4031 4031]\n"
     ]
    },
    {
     "name": "stderr",
     "output_type": "stream",
     "text": [
      "100%|██████████| 8062/8062 [00:00<00:00, 43412.06it/s]\n"
     ]
    },
    {
     "name": "stdout",
     "output_type": "stream",
     "text": [
      "特徵形狀: (8062, 1024)\n",
      "訓練集形狀: (6449, 1024, 1)\n",
      "測試集形狀: (1613, 1024, 1)\n"
     ]
    }
   ],
   "execution_count": 6
  },
  {
   "metadata": {},
   "cell_type": "markdown",
   "source": "# 3. 建立 CNN 模型",
   "id": "55e34253937c671f"
  },
  {
   "metadata": {
    "ExecuteTime": {
     "end_time": "2024-11-13T15:22:30.467413Z",
     "start_time": "2024-11-13T15:22:30.454983Z"
    }
   },
   "cell_type": "code",
   "source": [
    "from keras.layers import BatchNormalization, MaxPooling1D\n",
    "import tensorflow as tf\n",
    "from tensorflow.keras.models import Sequential\n",
    "from tensorflow.keras.layers import Dense, Flatten, Dropout, Conv1D\n",
    "\n",
    "def create_cnn_model(input_shape):\n",
    "    \n",
    "    optimizer = tf.keras.optimizers.Adam(learning_rate=0.0006)\n",
    "    \n",
    "    input_img = tf.keras.layers.Input(shape=input_shape)\n",
    "    x = Conv1D(filters=16, kernel_size=3, activation='relu')(input_img)\n",
    "    x = MaxPooling1D(pool_size=2)(x)\n",
    "    x = Dropout(0.2)(x)\n",
    "    \n",
    "    x = Conv1D(filters=64, kernel_size=3, activation='relu')(x)\n",
    "    x = MaxPooling1D(pool_size=2)(x)\n",
    "    x = Dropout(0.2)(x)\n",
    "    \n",
    "    x = Conv1D(filters=64, kernel_size=3, activation='relu')(x)\n",
    "    x = MaxPooling1D(pool_size=2)(x)\n",
    "    x = Dropout(0.2)(x)\n",
    "\n",
    "    x = Flatten()(x)\n",
    "    x = Dense(64, activation='relu')(x)\n",
    "    x = Dense(32, activation='relu')(x)\n",
    "    x = Dense(16, activation='relu')(x)\n",
    "    x = Dropout(0.1)(x)\n",
    "    x = Dense(1, activation='sigmoid')(x)\n",
    "    \n",
    "    model = tf.keras.Model(inputs=input_img, outputs=x)\n",
    "    model.compile(optimizer=optimizer, loss='binary_crossentropy', metrics=['accuracy'])\n",
    "\n",
    "    return model\n"
   ],
   "id": "e5d13120a6048b8e",
   "outputs": [],
   "execution_count": 55
  },
  {
   "metadata": {
    "ExecuteTime": {
     "end_time": "2024-11-13T15:04:20.191879Z",
     "start_time": "2024-11-13T15:04:20.176863Z"
    }
   },
   "cell_type": "code",
   "source": [
    "def create_model(mockup_input):    \n",
    "    # 建立模型\n",
    "    print(f\"模型輸入形狀: {mockup_input.shape}\")\n",
    "    model = create_cnn_model(mockup_input.shape[1:])\n",
    "    model.summary()\n",
    "    return model"
   ],
   "id": "a4ffc4a61f8a1c24",
   "outputs": [],
   "execution_count": 8
  },
  {
   "metadata": {},
   "cell_type": "markdown",
   "source": "# 4. 訓練模型",
   "id": "48f4e3f68035b7dc"
  },
  {
   "metadata": {
    "ExecuteTime": {
     "end_time": "2024-11-13T15:04:20.239229Z",
     "start_time": "2024-11-13T15:04:20.224945Z"
    }
   },
   "cell_type": "code",
   "source": [
    "from keras.callbacks import EarlyStopping, ReduceLROnPlateau\n",
    "\n",
    "\n",
    "def train_model(model, X_train, X_test, y_train, y_test, epochs=30, batch_size=32):\n",
    "        # 訓練模型\n",
    "        \n",
    "    early_stopping = EarlyStopping(monitor='val_loss', patience=35, restore_best_weights=True, verbose=1)\n",
    "    reduce_lr = ReduceLROnPlateau(monitor='val_loss', factor=0.1, patience=10, verbose=1)\n",
    "        \n",
    "    history = model.fit(   \n",
    "        X_train, y_train,\n",
    "        epochs=epochs,\n",
    "        batch_size=batch_size,\n",
    "        validation_data=(X_test, y_test),\n",
    "        shuffle=True,\n",
    "        callbacks=[early_stopping, reduce_lr],\n",
    "        verbose=2\n",
    "    )\n",
    "    \n",
    "    # 評估模型\n",
    "    test_loss, test_accuracy = model.evaluate(X_test, y_test)\n",
    "    print(f\"Test loss: {test_loss:.4f}\")\n",
    "    print(f\"Test accuracy: {test_accuracy:.2f}\")\n",
    "    \n",
    "    return model, history"
   ],
   "id": "2658a06f4a9db7e7",
   "outputs": [],
   "execution_count": 9
  },
  {
   "metadata": {
    "ExecuteTime": {
     "end_time": "2024-11-13T15:18:10.402502Z",
     "start_time": "2024-11-13T15:18:10.389740Z"
    }
   },
   "cell_type": "code",
   "source": [
    "def evaluate_model(model, X_test, y_test):\n",
    "    test_loss, test_accuracy = model.evaluate(X_test, y_test)\n",
    "    print(f\"Test loss: {test_loss:.4f}\")\n",
    "    print(f\"Test accuracy: {test_accuracy:.2f}\")\n",
    "    return test_loss, test_accuracy"
   ],
   "id": "eb722b82e90ac3d",
   "outputs": [],
   "execution_count": 46
  },
  {
   "metadata": {
    "ExecuteTime": {
     "end_time": "2024-11-13T15:22:34.596894Z",
     "start_time": "2024-11-13T15:22:34.511434Z"
    }
   },
   "cell_type": "code",
   "source": "cnn_model = create_model(X_train)",
   "id": "496ecf15e0c42ddf",
   "outputs": [
    {
     "name": "stdout",
     "output_type": "stream",
     "text": [
      "模型輸入形狀: (6449, 1024, 1)\n",
      "Model: \"model_7\"\n",
      "_________________________________________________________________\n",
      " Layer (type)                Output Shape              Param #   \n",
      "=================================================================\n",
      " input_8 (InputLayer)        [(None, 1024, 1)]         0         \n",
      "                                                                 \n",
      " conv1d_23 (Conv1D)          (None, 1022, 16)          64        \n",
      "                                                                 \n",
      " max_pooling1d_23 (MaxPoolin  (None, 511, 16)          0         \n",
      " g1D)                                                            \n",
      "                                                                 \n",
      " dropout_30 (Dropout)        (None, 511, 16)           0         \n",
      "                                                                 \n",
      " conv1d_24 (Conv1D)          (None, 509, 64)           3136      \n",
      "                                                                 \n",
      " max_pooling1d_24 (MaxPoolin  (None, 254, 64)          0         \n",
      " g1D)                                                            \n",
      "                                                                 \n",
      " dropout_31 (Dropout)        (None, 254, 64)           0         \n",
      "                                                                 \n",
      " conv1d_25 (Conv1D)          (None, 252, 64)           12352     \n",
      "                                                                 \n",
      " max_pooling1d_25 (MaxPoolin  (None, 126, 64)          0         \n",
      " g1D)                                                            \n",
      "                                                                 \n",
      " dropout_32 (Dropout)        (None, 126, 64)           0         \n",
      "                                                                 \n",
      " flatten_7 (Flatten)         (None, 8064)              0         \n",
      "                                                                 \n",
      " dense_30 (Dense)            (None, 64)                516160    \n",
      "                                                                 \n",
      " dense_31 (Dense)            (None, 32)                2080      \n",
      "                                                                 \n",
      " dense_32 (Dense)            (None, 16)                528       \n",
      "                                                                 \n",
      " dropout_33 (Dropout)        (None, 16)                0         \n",
      "                                                                 \n",
      " dense_33 (Dense)            (None, 1)                 17        \n",
      "                                                                 \n",
      "=================================================================\n",
      "Total params: 534,337\n",
      "Trainable params: 534,337\n",
      "Non-trainable params: 0\n",
      "_________________________________________________________________\n"
     ]
    }
   ],
   "execution_count": 56
  },
  {
   "metadata": {
    "ExecuteTime": {
     "end_time": "2024-11-13T15:22:54.432357Z",
     "start_time": "2024-11-13T15:22:35.283497Z"
    }
   },
   "cell_type": "code",
   "source": "model, history = train_model(cnn_model, X_train, X_test, y_train, y_test, epochs=300, batch_size=512)",
   "id": "4c22f7b3db3499d5",
   "outputs": [
    {
     "name": "stdout",
     "output_type": "stream",
     "text": [
      "Epoch 1/300\n",
      "13/13 - 1s - loss: 0.5722 - accuracy: 0.7657 - val_loss: 0.4982 - val_accuracy: 0.8295 - lr: 6.0000e-04 - 1s/epoch - 101ms/step\n",
      "Epoch 2/300\n",
      "13/13 - 0s - loss: 0.4304 - accuracy: 0.8333 - val_loss: 0.4243 - val_accuracy: 0.8338 - lr: 6.0000e-04 - 281ms/epoch - 22ms/step\n",
      "Epoch 3/300\n",
      "13/13 - 0s - loss: 0.3808 - accuracy: 0.8487 - val_loss: 0.3974 - val_accuracy: 0.8388 - lr: 6.0000e-04 - 284ms/epoch - 22ms/step\n",
      "Epoch 4/300\n",
      "13/13 - 0s - loss: 0.3655 - accuracy: 0.8577 - val_loss: 0.4177 - val_accuracy: 0.8264 - lr: 6.0000e-04 - 283ms/epoch - 22ms/step\n",
      "Epoch 5/300\n",
      "13/13 - 0s - loss: 0.3539 - accuracy: 0.8609 - val_loss: 0.3760 - val_accuracy: 0.8487 - lr: 6.0000e-04 - 283ms/epoch - 22ms/step\n",
      "Epoch 6/300\n",
      "13/13 - 0s - loss: 0.3423 - accuracy: 0.8656 - val_loss: 0.3813 - val_accuracy: 0.8388 - lr: 6.0000e-04 - 281ms/epoch - 22ms/step\n",
      "Epoch 7/300\n",
      "13/13 - 0s - loss: 0.3432 - accuracy: 0.8649 - val_loss: 0.3694 - val_accuracy: 0.8475 - lr: 6.0000e-04 - 281ms/epoch - 22ms/step\n",
      "Epoch 8/300\n",
      "13/13 - 0s - loss: 0.3411 - accuracy: 0.8657 - val_loss: 0.3660 - val_accuracy: 0.8568 - lr: 6.0000e-04 - 282ms/epoch - 22ms/step\n",
      "Epoch 9/300\n",
      "13/13 - 0s - loss: 0.3311 - accuracy: 0.8710 - val_loss: 0.3576 - val_accuracy: 0.8586 - lr: 6.0000e-04 - 288ms/epoch - 22ms/step\n",
      "Epoch 10/300\n",
      "13/13 - 0s - loss: 0.3290 - accuracy: 0.8696 - val_loss: 0.3607 - val_accuracy: 0.8524 - lr: 6.0000e-04 - 282ms/epoch - 22ms/step\n",
      "Epoch 11/300\n",
      "13/13 - 0s - loss: 0.3306 - accuracy: 0.8699 - val_loss: 0.3707 - val_accuracy: 0.8506 - lr: 6.0000e-04 - 280ms/epoch - 22ms/step\n",
      "Epoch 12/300\n",
      "13/13 - 0s - loss: 0.3243 - accuracy: 0.8716 - val_loss: 0.3599 - val_accuracy: 0.8580 - lr: 6.0000e-04 - 286ms/epoch - 22ms/step\n",
      "Epoch 13/300\n",
      "13/13 - 0s - loss: 0.3267 - accuracy: 0.8710 - val_loss: 0.3461 - val_accuracy: 0.8617 - lr: 6.0000e-04 - 287ms/epoch - 22ms/step\n",
      "Epoch 14/300\n",
      "13/13 - 0s - loss: 0.3213 - accuracy: 0.8721 - val_loss: 0.3529 - val_accuracy: 0.8549 - lr: 6.0000e-04 - 280ms/epoch - 22ms/step\n",
      "Epoch 15/300\n",
      "13/13 - 0s - loss: 0.3189 - accuracy: 0.8718 - val_loss: 0.3523 - val_accuracy: 0.8568 - lr: 6.0000e-04 - 288ms/epoch - 22ms/step\n",
      "Epoch 16/300\n",
      "13/13 - 0s - loss: 0.3222 - accuracy: 0.8733 - val_loss: 0.3620 - val_accuracy: 0.8599 - lr: 6.0000e-04 - 283ms/epoch - 22ms/step\n",
      "Epoch 17/300\n",
      "13/13 - 0s - loss: 0.3171 - accuracy: 0.8753 - val_loss: 0.3628 - val_accuracy: 0.8555 - lr: 6.0000e-04 - 282ms/epoch - 22ms/step\n",
      "Epoch 18/300\n",
      "13/13 - 0s - loss: 0.3153 - accuracy: 0.8735 - val_loss: 0.3477 - val_accuracy: 0.8624 - lr: 6.0000e-04 - 285ms/epoch - 22ms/step\n",
      "Epoch 19/300\n",
      "13/13 - 0s - loss: 0.3103 - accuracy: 0.8772 - val_loss: 0.3500 - val_accuracy: 0.8617 - lr: 6.0000e-04 - 279ms/epoch - 21ms/step\n",
      "Epoch 20/300\n",
      "13/13 - 0s - loss: 0.3186 - accuracy: 0.8744 - val_loss: 0.3393 - val_accuracy: 0.8661 - lr: 6.0000e-04 - 288ms/epoch - 22ms/step\n",
      "Epoch 21/300\n",
      "13/13 - 0s - loss: 0.3098 - accuracy: 0.8761 - val_loss: 0.3446 - val_accuracy: 0.8642 - lr: 6.0000e-04 - 281ms/epoch - 22ms/step\n",
      "Epoch 22/300\n",
      "13/13 - 0s - loss: 0.3074 - accuracy: 0.8766 - val_loss: 0.3445 - val_accuracy: 0.8599 - lr: 6.0000e-04 - 281ms/epoch - 22ms/step\n",
      "Epoch 23/300\n",
      "13/13 - 0s - loss: 0.3054 - accuracy: 0.8815 - val_loss: 0.3542 - val_accuracy: 0.8580 - lr: 6.0000e-04 - 278ms/epoch - 21ms/step\n",
      "Epoch 24/300\n",
      "13/13 - 0s - loss: 0.3072 - accuracy: 0.8786 - val_loss: 0.3523 - val_accuracy: 0.8586 - lr: 6.0000e-04 - 283ms/epoch - 22ms/step\n",
      "Epoch 25/300\n",
      "13/13 - 0s - loss: 0.3034 - accuracy: 0.8786 - val_loss: 0.3512 - val_accuracy: 0.8630 - lr: 6.0000e-04 - 284ms/epoch - 22ms/step\n",
      "Epoch 26/300\n",
      "13/13 - 0s - loss: 0.2993 - accuracy: 0.8786 - val_loss: 0.3498 - val_accuracy: 0.8642 - lr: 6.0000e-04 - 280ms/epoch - 22ms/step\n",
      "Epoch 27/300\n",
      "13/13 - 0s - loss: 0.3003 - accuracy: 0.8839 - val_loss: 0.3406 - val_accuracy: 0.8661 - lr: 6.0000e-04 - 281ms/epoch - 22ms/step\n",
      "Epoch 28/300\n",
      "13/13 - 0s - loss: 0.3033 - accuracy: 0.8800 - val_loss: 0.3317 - val_accuracy: 0.8655 - lr: 6.0000e-04 - 284ms/epoch - 22ms/step\n",
      "Epoch 29/300\n",
      "13/13 - 0s - loss: 0.2988 - accuracy: 0.8837 - val_loss: 0.3455 - val_accuracy: 0.8648 - lr: 6.0000e-04 - 282ms/epoch - 22ms/step\n",
      "Epoch 30/300\n",
      "13/13 - 0s - loss: 0.2994 - accuracy: 0.8812 - val_loss: 0.3384 - val_accuracy: 0.8642 - lr: 6.0000e-04 - 278ms/epoch - 21ms/step\n",
      "Epoch 31/300\n",
      "13/13 - 0s - loss: 0.3041 - accuracy: 0.8809 - val_loss: 0.3489 - val_accuracy: 0.8648 - lr: 6.0000e-04 - 281ms/epoch - 22ms/step\n",
      "Epoch 32/300\n",
      "13/13 - 0s - loss: 0.2987 - accuracy: 0.8820 - val_loss: 0.3643 - val_accuracy: 0.8512 - lr: 6.0000e-04 - 286ms/epoch - 22ms/step\n",
      "Epoch 33/300\n",
      "13/13 - 0s - loss: 0.2998 - accuracy: 0.8772 - val_loss: 0.3388 - val_accuracy: 0.8642 - lr: 6.0000e-04 - 281ms/epoch - 22ms/step\n",
      "Epoch 34/300\n",
      "13/13 - 0s - loss: 0.2954 - accuracy: 0.8845 - val_loss: 0.3473 - val_accuracy: 0.8611 - lr: 6.0000e-04 - 280ms/epoch - 22ms/step\n",
      "Epoch 35/300\n",
      "13/13 - 0s - loss: 0.2969 - accuracy: 0.8839 - val_loss: 0.3458 - val_accuracy: 0.8605 - lr: 6.0000e-04 - 281ms/epoch - 22ms/step\n",
      "Epoch 36/300\n",
      "13/13 - 0s - loss: 0.2900 - accuracy: 0.8849 - val_loss: 0.3391 - val_accuracy: 0.8673 - lr: 6.0000e-04 - 283ms/epoch - 22ms/step\n",
      "Epoch 37/300\n",
      "13/13 - 0s - loss: 0.2912 - accuracy: 0.8814 - val_loss: 0.3456 - val_accuracy: 0.8630 - lr: 6.0000e-04 - 280ms/epoch - 22ms/step\n",
      "Epoch 38/300\n",
      "\n",
      "Epoch 38: ReduceLROnPlateau reducing learning rate to 6.000000284984708e-05.\n",
      "13/13 - 0s - loss: 0.2920 - accuracy: 0.8837 - val_loss: 0.3355 - val_accuracy: 0.8667 - lr: 6.0000e-04 - 282ms/epoch - 22ms/step\n",
      "Epoch 39/300\n",
      "13/13 - 0s - loss: 0.2841 - accuracy: 0.8901 - val_loss: 0.3427 - val_accuracy: 0.8648 - lr: 6.0000e-05 - 280ms/epoch - 22ms/step\n",
      "Epoch 40/300\n",
      "13/13 - 0s - loss: 0.2880 - accuracy: 0.8890 - val_loss: 0.3383 - val_accuracy: 0.8636 - lr: 6.0000e-05 - 280ms/epoch - 22ms/step\n",
      "Epoch 41/300\n",
      "13/13 - 0s - loss: 0.2829 - accuracy: 0.8882 - val_loss: 0.3367 - val_accuracy: 0.8655 - lr: 6.0000e-05 - 278ms/epoch - 21ms/step\n",
      "Epoch 42/300\n",
      "13/13 - 0s - loss: 0.2837 - accuracy: 0.8851 - val_loss: 0.3410 - val_accuracy: 0.8630 - lr: 6.0000e-05 - 281ms/epoch - 22ms/step\n",
      "Epoch 43/300\n",
      "13/13 - 0s - loss: 0.2854 - accuracy: 0.8891 - val_loss: 0.3388 - val_accuracy: 0.8655 - lr: 6.0000e-05 - 281ms/epoch - 22ms/step\n",
      "Epoch 44/300\n",
      "13/13 - 0s - loss: 0.2834 - accuracy: 0.8862 - val_loss: 0.3371 - val_accuracy: 0.8655 - lr: 6.0000e-05 - 283ms/epoch - 22ms/step\n",
      "Epoch 45/300\n",
      "13/13 - 0s - loss: 0.2842 - accuracy: 0.8899 - val_loss: 0.3406 - val_accuracy: 0.8648 - lr: 6.0000e-05 - 282ms/epoch - 22ms/step\n",
      "Epoch 46/300\n",
      "13/13 - 0s - loss: 0.2820 - accuracy: 0.8899 - val_loss: 0.3400 - val_accuracy: 0.8648 - lr: 6.0000e-05 - 280ms/epoch - 22ms/step\n",
      "Epoch 47/300\n",
      "13/13 - 0s - loss: 0.2846 - accuracy: 0.8865 - val_loss: 0.3398 - val_accuracy: 0.8636 - lr: 6.0000e-05 - 280ms/epoch - 22ms/step\n",
      "Epoch 48/300\n",
      "\n",
      "Epoch 48: ReduceLROnPlateau reducing learning rate to 6.000000212225132e-06.\n",
      "13/13 - 0s - loss: 0.2834 - accuracy: 0.8888 - val_loss: 0.3384 - val_accuracy: 0.8648 - lr: 6.0000e-05 - 282ms/epoch - 22ms/step\n",
      "Epoch 49/300\n",
      "13/13 - 0s - loss: 0.2862 - accuracy: 0.8873 - val_loss: 0.3398 - val_accuracy: 0.8648 - lr: 6.0000e-06 - 284ms/epoch - 22ms/step\n",
      "Epoch 50/300\n",
      "13/13 - 0s - loss: 0.2824 - accuracy: 0.8898 - val_loss: 0.3393 - val_accuracy: 0.8661 - lr: 6.0000e-06 - 281ms/epoch - 22ms/step\n",
      "Epoch 51/300\n",
      "13/13 - 0s - loss: 0.2832 - accuracy: 0.8880 - val_loss: 0.3394 - val_accuracy: 0.8655 - lr: 6.0000e-06 - 282ms/epoch - 22ms/step\n",
      "Epoch 52/300\n",
      "13/13 - 0s - loss: 0.2822 - accuracy: 0.8893 - val_loss: 0.3390 - val_accuracy: 0.8655 - lr: 6.0000e-06 - 280ms/epoch - 22ms/step\n",
      "Epoch 53/300\n",
      "13/13 - 0s - loss: 0.2811 - accuracy: 0.8862 - val_loss: 0.3390 - val_accuracy: 0.8648 - lr: 6.0000e-06 - 280ms/epoch - 22ms/step\n",
      "Epoch 54/300\n",
      "13/13 - 0s - loss: 0.2822 - accuracy: 0.8904 - val_loss: 0.3391 - val_accuracy: 0.8648 - lr: 6.0000e-06 - 282ms/epoch - 22ms/step\n",
      "Epoch 55/300\n",
      "13/13 - 0s - loss: 0.2800 - accuracy: 0.8885 - val_loss: 0.3392 - val_accuracy: 0.8655 - lr: 6.0000e-06 - 282ms/epoch - 22ms/step\n",
      "Epoch 56/300\n",
      "13/13 - 0s - loss: 0.2814 - accuracy: 0.8888 - val_loss: 0.3390 - val_accuracy: 0.8648 - lr: 6.0000e-06 - 287ms/epoch - 22ms/step\n",
      "Epoch 57/300\n",
      "13/13 - 0s - loss: 0.2813 - accuracy: 0.8905 - val_loss: 0.3393 - val_accuracy: 0.8661 - lr: 6.0000e-06 - 281ms/epoch - 22ms/step\n",
      "Epoch 58/300\n",
      "\n",
      "Epoch 58: ReduceLROnPlateau reducing learning rate to 6.000000212225132e-07.\n",
      "13/13 - 0s - loss: 0.2886 - accuracy: 0.8873 - val_loss: 0.3396 - val_accuracy: 0.8667 - lr: 6.0000e-06 - 285ms/epoch - 22ms/step\n",
      "Epoch 59/300\n",
      "13/13 - 0s - loss: 0.2809 - accuracy: 0.8902 - val_loss: 0.3396 - val_accuracy: 0.8667 - lr: 6.0000e-07 - 279ms/epoch - 21ms/step\n",
      "Epoch 60/300\n",
      "13/13 - 0s - loss: 0.2813 - accuracy: 0.8884 - val_loss: 0.3395 - val_accuracy: 0.8667 - lr: 6.0000e-07 - 291ms/epoch - 22ms/step\n",
      "Epoch 61/300\n",
      "13/13 - 0s - loss: 0.2831 - accuracy: 0.8874 - val_loss: 0.3395 - val_accuracy: 0.8667 - lr: 6.0000e-07 - 282ms/epoch - 22ms/step\n",
      "Epoch 62/300\n",
      "13/13 - 0s - loss: 0.2821 - accuracy: 0.8905 - val_loss: 0.3395 - val_accuracy: 0.8667 - lr: 6.0000e-07 - 282ms/epoch - 22ms/step\n",
      "Epoch 63/300\n",
      "Restoring model weights from the end of the best epoch: 28.\n",
      "13/13 - 0s - loss: 0.2842 - accuracy: 0.8902 - val_loss: 0.3394 - val_accuracy: 0.8661 - lr: 6.0000e-07 - 286ms/epoch - 22ms/step\n",
      "Epoch 63: early stopping\n",
      "51/51 [==============================] - 0s 2ms/step - loss: 0.3317 - accuracy: 0.8655\n",
      "Test loss: 0.3317\n",
      "Test accuracy: 0.87\n"
     ]
    }
   ],
   "execution_count": 57
  },
  {
   "metadata": {
    "ExecuteTime": {
     "end_time": "2024-11-13T15:22:58.603929Z",
     "start_time": "2024-11-13T15:22:58.408929Z"
    }
   },
   "cell_type": "code",
   "source": "loss, accuracy = evaluate_model(model, X_test, y_test)",
   "id": "34386cec81d6a2d4",
   "outputs": [
    {
     "name": "stdout",
     "output_type": "stream",
     "text": [
      "51/51 [==============================] - 0s 3ms/step - loss: 0.3317 - accuracy: 0.8655\n",
      "Test loss: 0.3317\n",
      "Test accuracy: 0.87\n"
     ]
    }
   ],
   "execution_count": 58
  },
  {
   "metadata": {
    "ExecuteTime": {
     "end_time": "2024-11-13T15:22:59.602078Z",
     "start_time": "2024-11-13T15:22:59.559096Z"
    }
   },
   "cell_type": "code",
   "source": [
    "date = datetime.now().strftime('%Y%m%d%H%M')\n",
    "os.makedirs('models', exist_ok=True)\n",
    "model_name = f'model_fft_{date}_acc_{accuracy:.2f}_loss_{loss:.4f}'\n",
    "model.save(f'{model_name}.h5')\n",
    "print(f\"Model saved as {model_name}.h5\")"
   ],
   "id": "551ff463bcaf8093",
   "outputs": [
    {
     "name": "stdout",
     "output_type": "stream",
     "text": [
      "Model saved as model_fft_202411132322_acc_0.87_loss_0.3317.h5\n"
     ]
    }
   ],
   "execution_count": 59
  },
  {
   "metadata": {
    "ExecuteTime": {
     "end_time": "2024-11-13T15:23:00.475314Z",
     "start_time": "2024-11-13T15:23:00.264861Z"
    }
   },
   "cell_type": "code",
   "source": [
    "import matplotlib.pyplot as plt\n",
    "# accuracy and loss in one plot\n",
    "def plot_history(history, date, model_name):\n",
    "    fig, axs = plt.subplots(2)\n",
    "    \n",
    "    axs[0].plot(history.history['accuracy'], label='train accuracy')\n",
    "    axs[0].plot(history.history['val_accuracy'], label='val accuracy')\n",
    "    axs[0].set_xlabel('Epoch')\n",
    "    axs[0].set_ylabel('Accuracy')\n",
    "    axs[0].legend(loc='lower right')\n",
    "    \n",
    "    axs[1].plot(history.history['loss'], label='train loss')\n",
    "    axs[1].plot(history.history['val_loss'], label='val loss')\n",
    "    axs[1].set_xlabel('Epoch')\n",
    "    axs[1].set_ylabel('Loss')\n",
    "    axs[1].legend(loc='upper right')\n",
    "    \n",
    "    os.makedirs('images/model_loss', exist_ok=True)\n",
    "    plt.savefig(f'images/model_loss/{model_name}.png')\n",
    "    \n",
    "    plt.show()\n",
    "\n",
    "plot_history(history, date, model_name)"
   ],
   "id": "70c5f696df14eef",
   "outputs": [
    {
     "data": {
      "text/plain": [
       "<Figure size 640x480 with 2 Axes>"
      ],
      "image/png": "[encoded data removed]"
     },
     "metadata": {},
     "output_type": "display_data"
    }
   ],
   "execution_count": 60
  },
  {
   "metadata": {
    "ExecuteTime": {
     "end_time": "2024-11-13T15:04:48.447431Z",
     "start_time": "2024-11-13T15:04:48.432339Z"
    }
   },
   "cell_type": "code",
   "source": "",
   "id": "77144cb141ef9e4a",
   "outputs": [],
   "execution_count": null
  }
 ],
 "metadata": {
  "kernelspec": {
   "display_name": "Python 3",
   "language": "python",
   "name": "python3"
  },
  "language_info": {
   "codemirror_mode": {
    "name": "ipython",
    "version": 2
   },
   "file_extension": ".py",
   "mimetype": "text/x-python",
   "name": "python",
   "nbconvert_exporter": "python",
   "pygments_lexer": "ipython2",
   "version": "2.7.6"
  }
 },
 "nbformat": 4,
 "nbformat_minor": 5
}
