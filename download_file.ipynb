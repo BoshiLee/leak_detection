{
 "cells": [
  {
   "cell_type": "code",
   "id": "initial_id",
   "metadata": {
    "collapsed": true,
    "ExecuteTime": {
     "end_time": "2024-11-11T08:54:20.856089Z",
     "start_time": "2024-11-11T08:54:20.358682Z"
    }
   },
   "source": [
    "import paramiko\n",
    "import pandas as pd\n",
    "from pathlib import Path\n",
    "import paramiko\n",
    "from paramiko import SSHException\n",
    "import json\n",
    "def connect_sftp(host, port, username, password):\n",
    "    try:\n",
    "        # 建立 SSH 客戶端\n",
    "        ssh = paramiko.SSHClient()\n",
    "        ssh.set_missing_host_key_policy(paramiko.AutoAddPolicy())\n",
    "        \n",
    "        # 連接到伺服器\n",
    "        ssh.connect(hostname=host, port=port, username=username, password=password)\n",
    "        \n",
    "        # 開啟 SFTP session\n",
    "        sftp = ssh.open_sftp()\n",
    "        \n",
    "        print(\"SFTP 連線成功\")\n",
    "        return sftp\n",
    "    except Exception as e:\n",
    "        print(f\"連接 SFTP 時發生錯誤: {e}\")\n",
    "        return None\n",
    "\n",
    "SFTP_HOST = '60.250.194.37'    # 替換為您的 SFTP 伺服器地址\n",
    "SFTP_PORT = 5022                         # 一般 SFTP 使用 22 埠\n",
    "SFTP_USERNAME = 'itri'        # 替換為您的使用者名稱\n",
    "SFTP_PASSWORD = 'nctu503'        # 替換為您的密碼\n"
   ],
   "outputs": [],
   "execution_count": 3
  },
  {
   "metadata": {
    "ExecuteTime": {
     "end_time": "2024-11-11T08:54:56.424112Z",
     "start_time": "2024-11-11T08:54:56.411571Z"
    }
   },
   "cell_type": "code",
   "source": [
    "# 設定遠端基礎目錄\n",
    "REMOTE_BASE_DIR = '/itri/Taiwan Water Local/Hsinchu City'\n",
    "LOCAL_BASE_DIR = Path('dataset/ftp')\n",
    "\n",
    "# 讀取 CSV 檔案\n",
    "CSV_FILE_PATH = 'map_location_web_ai_result70.csv'  # 替換為您的 CSV 檔案路徑\n",
    "\n",
    "def get_ai_result_dir(ai_result):\n",
    "    \"\"\"\n",
    "    根據 ai_result 計算 ai_result_dir。\n",
    "    ai_result 在 50~59 為 50，60~69 為 60，以此類推。\n",
    "    \"\"\"\n",
    "    try:\n",
    "        ai_result_int = int(float(ai_result))\n",
    "        ai_result_dir = (ai_result_int // 10) * 10\n",
    "        return str(ai_result_dir)\n",
    "    except ValueError:\n",
    "        return 'unknown'"
   ],
   "id": "37d76d290bc4961f",
   "outputs": [],
   "execution_count": 5
  },
  {
   "metadata": {
    "ExecuteTime": {
     "end_time": "2024-11-11T09:02:01.708587Z",
     "start_time": "2024-11-11T09:02:01.697517Z"
    }
   },
   "cell_type": "code",
   "source": [
    "def download_wav_files(csv_path):\n",
    "    # 讀取 CSV\n",
    "    df = pd.read_csv(csv_path)\n",
    "\n",
    "    # 初始化 SFTP 連線\n",
    "    transport = paramiko.Transport((SFTP_HOST, SFTP_PORT))\n",
    "    try:\n",
    "        transport.connect(username=SFTP_USERNAME, password=SFTP_PASSWORD)\n",
    "        sftp = paramiko.SFTPClient.from_transport(transport)\n",
    "        print(\"SFTP 連線成功\")\n",
    "\n",
    "        for index, row in df.iterrows():\n",
    "            try:\n",
    "                serial_number = row['serial_number']\n",
    "                date = row['date']  # 假設 date 格式為 'YYYY-MM-DD'\n",
    "                wav_data = row['wav_data']\n",
    "                ai_result = row['ai_result']\n",
    "\n",
    "                # 計算 ai_result_dir\n",
    "                ai_result_dir = get_ai_result_dir(ai_result)\n",
    "\n",
    "                # 設定本地儲存路徑\n",
    "                local_dir = LOCAL_BASE_DIR / ai_result_dir\n",
    "                local_dir.mkdir(parents=True, exist_ok=True)\n",
    "\n",
    "                # 解析 wav_data（假設 wav_data 包含檔案名稱或路徑）\n",
    "                # 根據您的 CSV 範例，wav_data 似乎是 JSON 格式的字串\n",
    "                # 您需要根據實際情況調整解析方式\n",
    "\n",
    "                wav_file_name = wav_data.strip()\n",
    "\n",
    "                # 構建遠端檔案路徑\n",
    "                remote_path = f\"{REMOTE_BASE_DIR}/{serial_number}/WAV/{date}/{wav_file_name}.wav\"\n",
    "\n",
    "                # 設定本地檔案路徑\n",
    "                local_file_path = local_dir / f\"{serial_number}_{wav_file_name}.wav\"\n",
    "\n",
    "                # 下載檔案\n",
    "                print(f\"下載第 {index + 1} 行：{remote_path} 到 {local_file_path}\")\n",
    "                sftp.get(remote_path, str(local_file_path))\n",
    "                print(f\"下載成功：{local_file_path}\")\n",
    "\n",
    "            except Exception as e:\n",
    "                print(f\"第 {index + 1} 行下載失敗：{e}\")\n",
    "\n",
    "    except SSHException as ssh_e:\n",
    "        print(f\"SFTP 連線失敗：{ssh_e}\")\n",
    "    finally:\n",
    "        transport.close()\n",
    "        print(\"SFTP 連線已關閉\")"
   ],
   "id": "8eb385e7267408d3",
   "outputs": [],
   "execution_count": 12
  },
  {
   "metadata": {
    "jupyter": {
     "is_executing": true
    },
    "ExecuteTime": {
     "start_time": "2024-11-11T09:03:38.546409Z"
    }
   },
   "cell_type": "code",
   "source": "download_wav_files(CSV_FILE_PATH)",
   "id": "ba2dea6a0a9ff50b",
   "outputs": [
    {
     "name": "stdout",
     "output_type": "stream",
     "text": [
      "SFTP 連線成功\n",
      "下載第 1 行：/itri/Taiwan Water Local/Hsinchu City/ITRI0004003/WAV/2024-07-01/2024-07-01T094426.wav 到 dataset\\ftp\\70\\ITRI0004003_2024-07-01T094426.wav\n",
      "下載成功：dataset\\ftp\\70\\ITRI0004003_2024-07-01T094426.wav\n",
      "下載第 2 行：/itri/Taiwan Water Local/Hsinchu City/ITRI0004003/WAV/2024-07-01/2024-07-01T094502.wav 到 dataset\\ftp\\80\\ITRI0004003_2024-07-01T094502.wav\n",
      "下載成功：dataset\\ftp\\80\\ITRI0004003_2024-07-01T094502.wav\n",
      "下載第 3 行：/itri/Taiwan Water Local/Hsinchu City/ITRI0004003/WAV/2024-07-01/2024-07-01T094525.wav 到 dataset\\ftp\\80\\ITRI0004003_2024-07-01T094525.wav\n",
      "下載成功：dataset\\ftp\\80\\ITRI0004003_2024-07-01T094525.wav\n",
      "下載第 4 行：/itri/Taiwan Water Local/Hsinchu City/ITRI0004003/WAV/2024-07-01/2024-07-01T094530.wav 到 dataset\\ftp\\70\\ITRI0004003_2024-07-01T094530.wav\n",
      "下載成功：dataset\\ftp\\70\\ITRI0004003_2024-07-01T094530.wav\n",
      "下載第 5 行：/itri/Taiwan Water Local/Hsinchu City/ITRI0003003/WAV/2024-07-01/2024-07-01T101859.wav 到 dataset\\ftp\\70\\ITRI0003003_2024-07-01T101859.wav\n",
      "下載成功：dataset\\ftp\\70\\ITRI0003003_2024-07-01T101859.wav\n",
      "下載第 6 行：/itri/Taiwan Water Local/Hsinchu City/ITRI0003003/WAV/2024-07-01/2024-07-01T102124.wav 到 dataset\\ftp\\70\\ITRI0003003_2024-07-01T102124.wav\n",
      "下載成功：dataset\\ftp\\70\\ITRI0003003_2024-07-01T102124.wav\n",
      "下載第 7 行：/itri/Taiwan Water Local/Hsinchu City/ITRI0003003/WAV/2024-07-01/2024-07-01T102128.wav 到 dataset\\ftp\\70\\ITRI0003003_2024-07-01T102128.wav\n",
      "下載成功：dataset\\ftp\\70\\ITRI0003003_2024-07-01T102128.wav\n",
      "下載第 8 行：/itri/Taiwan Water Local/Hsinchu City/ITRI0003003/WAV/2024-07-01/2024-07-01T102253.wav 到 dataset\\ftp\\70\\ITRI0003003_2024-07-01T102253.wav\n",
      "下載成功：dataset\\ftp\\70\\ITRI0003003_2024-07-01T102253.wav\n",
      "下載第 9 行：/itri/Taiwan Water Local/Hsinchu City/ITRI0003003/WAV/2024-07-01/2024-07-01T102258.wav 到 dataset\\ftp\\70\\ITRI0003003_2024-07-01T102258.wav\n"
     ]
    }
   ],
   "execution_count": null
  },
  {
   "metadata": {},
   "cell_type": "code",
   "outputs": [],
   "execution_count": null,
   "source": "",
   "id": "7799bdc62156ae51"
  }
 ],
 "metadata": {
  "kernelspec": {
   "display_name": "Python 3",
   "language": "python",
   "name": "python3"
  },
  "language_info": {
   "codemirror_mode": {
    "name": "ipython",
    "version": 2
   },
   "file_extension": ".py",
   "mimetype": "text/x-python",
   "name": "python",
   "nbconvert_exporter": "python",
   "pygments_lexer": "ipython2",
   "version": "2.7.6"
  }
 },
 "nbformat": 4,
 "nbformat_minor": 5
}
